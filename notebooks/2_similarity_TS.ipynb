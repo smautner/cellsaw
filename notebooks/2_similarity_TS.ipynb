{
 "cells": [
  {
   "cell_type": "code",
   "execution_count": null,
   "id": "4dbeefd9-ac74-4b6e-80ad-3d809e9cb1e1",
   "metadata": {},
   "outputs": [],
   "source": [
    "%load_ext autoreload\n",
    "%autoreload 2\n",
    "%config Completer.use_jedi = True"
   ]
  },
  {
   "cell_type": "markdown",
   "id": "afc39be0-4b98-4a78-beed-259c51c4ca72",
   "metadata": {},
   "source": [
    "- we compare the distance measure for the same time series "
   ]
  },
  {
   "cell_type": "code",
   "execution_count": null,
   "id": "d7f770d2-650d-4226-b5bd-a58e6f8388f7",
   "metadata": {},
   "outputs": [],
   "source": [
    "import matplotlib as mpl\n",
    "from matplotlib import pyplot as plt\n",
    "mpl.rc(\"figure\", dpi=100)\n",
    "import numpy as np\n",
    "import jack\n",
    "from lmz import *\n"
   ]
  },
  {
   "cell_type": "code",
   "execution_count": null,
   "id": "b1efb479-1280-4ab9-818b-92e8fcac99c6",
   "metadata": {},
   "outputs": [],
   "source": [
    "# Data preparation\n",
    "import cellsaw\n",
    "import cellsaw.io_utils\n",
    "import notebookhelper\n",
    "\n",
    "loaders = [jack.loads5 , jack.load509, jack.load1290]\n",
    "loaders += [jack.getmousecortex, jack.loadwater, jack.pancreatic, jack.loadcereb]\n",
    "\n",
    "\n",
    "# loading data-> [[[anndata]]] \n",
    "datasets = [ [load(subsample=1000, seed = seed) for load in loaders] for seed in [31337,42,69,420,1312]]"
   ]
  },
  {
   "cell_type": "code",
   "execution_count": null,
   "id": "78007b37-5944-4b65-a85c-0cf50b3025ef",
   "metadata": {
    "jupyter": {
     "outputs_hidden": true
    },
    "tags": []
   },
   "outputs": [],
   "source": [
    "if False: # calculates an affinity matrix with correct diagonals:\n",
    "    [cellsaw.preprocess.annotate_genescore(ts, selector = 'cell_ranger') for ts in datasets[1]] \n",
    "    [cellsaw.preprocess.annotate_genescore(ts, selector = 'cell_ranger') for ts in datasets[0]] \n",
    "    import cellsaw.similarity.measures as measures\n",
    "    lol = [measures.matrixmap(ts,td,'jaccard', 'cell_ranger', 2450) for ts,td in zip(datasets[0],datasets[1])]"
   ]
  },
  {
   "cell_type": "code",
   "execution_count": null,
   "id": "a7c7f350-f158-4c65-81dc-8c8e6f4bffea",
   "metadata": {
    "jupyter": {
     "outputs_hidden": true
    },
    "tags": []
   },
   "outputs": [],
   "source": [
    "preprocessingmethods = ['seurat_v3','meanexpression','cell_ranger','seurat', 'natto','meanexpressionnolog']\n",
    "_ = [[[cellsaw.preprocess.annotate_genescore(ts, selector = preprocessingmethod) for ts in ts_list] \n",
    "      for ts_list in datasets] for preprocessingmethod in preprocessingmethods]\n",
    "\n"
   ]
  },
  {
   "cell_type": "code",
   "execution_count": null,
   "id": "d762f80d-2257-4ee1-9b6b-5c80a10f6f77",
   "metadata": {
    "tags": []
   },
   "outputs": [],
   "source": [
    "%%time\n",
    "import cellsaw.similarity.measures as measures\n",
    "\n",
    "generange = list(range(200,4000,100))\n",
    "\n",
    "    \n",
    "def mklist(rep_id,ds_id,datasets,preprocessing):\n",
    "    res = [ (rep_id,ds_id,'cosine',genecount,preprocessing,\n",
    "             jack.scorematrix_holo2(measures.matrixmap(datasets,datasets,'cosine', preprocessing, genecount))) \n",
    "                  for genecount in generange ]\n",
    "    res += [ (rep_id,ds_id,'jaccard',genecount,preprocessing,\n",
    "              jack.scorematrix_holo2(measures.matrixmap(datasets,datasets,'jaccard', preprocessing, genecount))) \n",
    "                  for genecount in generange ]\n",
    "    return res\n",
    "\n",
    "result = [line for i,adatll in enumerate(datasets)\n",
    "               for j,adatastack in enumerate(adatll)\n",
    "               for pp in preprocessingmethods \n",
    "               for line in mklist(i,j,adatastack,pp)]"
   ]
  },
  {
   "cell_type": "code",
   "execution_count": null,
   "id": "8170e3ac-6702-4adb-a980-3138eeac65e2",
   "metadata": {},
   "outputs": [],
   "source": [
    "indexlabels = 'repeat ts_name similarity genecount preprocessing score'.split()\n",
    "import seaborn as sns\n",
    "from matplotlib import pyplot as plt\n",
    "import pandas as pd\n",
    "dfall = pd.DataFrame(result,columns=indexlabels)\n",
    "dfall.score *=-1\n",
    "\n",
    "\n",
    "for ts_name in [0,1,2]:\n",
    "    \n",
    "    df = dfall[dfall.ts_name == ts_name]\n",
    "    \n",
    "    dff = df[df.similarity == 'jaccard']\n",
    "    # y axis 1.. .75 (maybe try meanexpression withouy log!)\n",
    "    sns.set_context(\"notebook\")\n",
    "    sns.set_style('darkgrid')\n",
    "\n",
    "    niceprocessingmethods = ['Seurat v3','Mean expression','Cell Ranger','Seurat', 'Natto', 'Mean no log']\n",
    "    dff = dff.replace(preprocessingmethods, niceprocessingmethods)\n",
    "    sns.lineplot(data=dff, x='genecount', y='score', hue = 'preprocessing')\n",
    "    plt.title(f'timeseries {ts_name} jaccard', fontsize = 24)\n",
    "    plt.xlabel('number of genes')\n",
    "    plt.ylabel('Score')\n",
    "    plt.legend(bbox_to_anchor=(0, -.22), loc='upper left', borderaxespad=0, ncol=3)\n",
    "    plt.show()\n",
    "    dff = df[df.similarity == 'cosine']\n",
    "    sns.lineplot(data=dff, x='genecount', y='score', hue = 'preprocessing')\n",
    "    plt.title(f'timeseries {ts_name} cosine', fontsize = 24)\n",
    "    plt.legend(bbox_to_anchor=(0, -.22), loc='upper left', borderaxespad=0, ncol=3)\n",
    "    plt.show()\n",
    "\n"
   ]
  },
  {
   "cell_type": "code",
   "execution_count": null,
   "id": "44a4ec3f-4314-4609-ad91-67b696f679af",
   "metadata": {},
   "outputs": [],
   "source": [
    "\n",
    "#dfall.score *=-1\n",
    "\n",
    "# y axis 1.. .75 (maybe try meanexpression withouy log!)\n",
    "sns.set_context(\"notebook\")\n",
    "sns.set_style('darkgrid')\n",
    "\n",
    "\n",
    "def decorateshow():\n",
    "    plt.title('time series neighbor ranking', fontsize = 24)\n",
    "    plt.xlabel('number of genes')\n",
    "    plt.ylabel('Score')\n",
    "    plt.legend(bbox_to_anchor=(0, -.22), loc='upper left', borderaxespad=0, ncol=3)\n",
    "    plt.show()\n",
    "\n",
    "\n",
    "dff = dfall[dfall.similarity == 'jaccard']\n",
    "niceprocessingmethods = ['Seurat v3','Mean log','Cell Ranger','Seurat', 'Natto', 'Mean expression']\n",
    "dff = dff.replace(preprocessingmethods, niceprocessingmethods)\n",
    "sns.lineplot(data=dff, x='genecount', y='score', hue = 'preprocessing', ci=None)\n",
    "decorateshow()\n",
    "\n",
    "dff = dfall[dfall.similarity == 'cosine']\n",
    "dff = dff.replace(preprocessingmethods, niceprocessingmethods)\n",
    "sns.lineplot(data=dff, x='genecount', y='score', hue = 'preprocessing', ci=None)\n",
    "decorateshow()"
   ]
  },
  {
   "cell_type": "code",
   "execution_count": null,
   "id": "dbcca194-542c-4a27-aebd-6d7332af88a5",
   "metadata": {},
   "outputs": [],
   "source": []
  },
  {
   "cell_type": "code",
   "execution_count": null,
   "id": "b95be2aa-0e74-45ad-b200-0919242b2307",
   "metadata": {},
   "outputs": [],
   "source": [
    "def plotstack(datasets,meth = 'jaccard',preprocessing = 'meanexpression',genecount = 2000):\n",
    "    m = measures.matrixmap(datasets,datasets,meth, preprocessing, genecount)\n",
    "    sns.heatmap(m)\n",
    "    plt.show()\n",
    "    return m \n",
    "\n",
    "for stack in datasets[0]:\n",
    "    m = plotstack(stack)\n",
    "    print(jack.scorematrix_holo2(m))"
   ]
  },
  {
   "cell_type": "code",
   "execution_count": null,
   "id": "d560967e-a2a7-4dd5-88b1-a243021e679a",
   "metadata": {},
   "outputs": [],
   "source": []
  }
 ],
 "metadata": {
  "kernelspec": {
   "display_name": "Python 3 (ipykernel)",
   "language": "python",
   "name": "python3"
  },
  "language_info": {
   "codemirror_mode": {
    "name": "ipython",
    "version": 3
   },
   "file_extension": ".py",
   "mimetype": "text/x-python",
   "name": "python",
   "nbconvert_exporter": "python",
   "pygments_lexer": "ipython3",
   "version": "3.8.5"
  }
 },
 "nbformat": 4,
 "nbformat_minor": 5
}
