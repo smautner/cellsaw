{
 "cells": [
  {
   "cell_type": "code",
   "execution_count": null,
   "id": "dfac27a5-40db-4f13-a4af-67f31baf90b0",
   "metadata": {},
   "outputs": [],
   "source": [
    "%load_ext autoreload\n",
    "%matplotlib inline\n",
    "%autoreload 2\n",
    "%config Completer.use_jedi = True\n",
    "from matplotlib import pyplot as plt\n",
    "import matplotlib as mpl\n",
    "mpl.rc(\"figure\", dpi=300)\n"
   ]
  },
  {
   "cell_type": "code",
   "execution_count": null,
   "id": "b59682b7-f799-45e7-80f4-38a297e302ca",
   "metadata": {},
   "outputs": [],
   "source": [
    "from scalp import data, diffuse, test_config\n",
    "from scalp.output import score\n",
    "datasets = data.loaddata_scib(test_config.scib_datapath, \n",
    "                       maxdatasets=5, \n",
    "                       maxcells = 600, \n",
    "                       datasets = [\"Immune_ALL_hum_mou.h5ad\"])\n",
    "\n",
    "dataset = datasets[0]\n"
   ]
  },
  {
   "cell_type": "code",
   "execution_count": null,
   "id": "7099cfab-147f-4f50-b950-cfcc161f2480",
   "metadata": {},
   "outputs": [],
   "source": [
    "from scalp.output import sankey\n",
    "\n",
    "sankey.plot(dataset, thresh = .15, align=\"X\",\n",
    "                                         left_outgoing_max_edges= 0,\n",
    "                                         right_outgoing_max_edges = 0, \n",
    "                                         label ='label')"
   ]
  },
  {
   "cell_type": "code",
   "execution_count": null,
   "id": "00b7f005-6ba2-41d8-8339-e463a53ef3cb",
   "metadata": {},
   "outputs": [],
   "source": []
  },
  {
   "cell_type": "code",
   "execution_count": null,
   "id": "4a1a1d22-3273-438c-bcc9-85e7d1a55af6",
   "metadata": {},
   "outputs": [],
   "source": []
  }
 ],
 "metadata": {
  "kernelspec": {
   "display_name": "Python 3 (ipykernel)",
   "language": "python",
   "name": "python3"
  },
  "language_info": {
   "codemirror_mode": {
    "name": "ipython",
    "version": 3
   },
   "file_extension": ".py",
   "mimetype": "text/x-python",
   "name": "python",
   "nbconvert_exporter": "python",
   "pygments_lexer": "ipython3"
  }
 },
 "nbformat": 4,
 "nbformat_minor": 5
}
