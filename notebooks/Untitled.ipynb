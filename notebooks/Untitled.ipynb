{
 "cells": [
  {
   "cell_type": "code",
   "execution_count": null,
   "id": "2dabedd2-e7d2-47bf-80f0-7121a344ac62",
   "metadata": {},
   "outputs": [],
   "source": [
    "%load_ext autoreload\n",
    "%autoreload 2\n",
    "%config Completer.use_jedi = True"
   ]
  },
  {
   "cell_type": "code",
   "execution_count": null,
   "id": "dd7fce22-2a89-4391-8bba-4ad19ae6635d",
   "metadata": {
    "tags": []
   },
   "outputs": [],
   "source": [
    "import matplotlib as mpl\n",
    "mpl.rc(\"figure\", dpi=50)\n",
    "\n",
    "from ubergauss import tools as t\n",
    "import numpy as np\n",
    "path = '/home/ubuntu/data/scdata/'\n",
    "from cellsaw import load as loader\n",
    "dataset_list = [\n",
    " #'Bonemarrow_10xchromium_SRA779509-SRS3805245_6248',\n",
    " 'Bonemarrow_10xchromium_SRA779509-SRS3805246_6024',\n",
    " 'Bonemarrow_10xchromium_SRA779509-SRS3805247_7623',\n",
    " 'Bonemarrow_10xchromium_SRA779509-SRS3805248_6395',\n",
    " 'Bonemarrow_10xchromium_SRA779509-SRS3805255_7559',\n",
    " 'Bonemarrow_10xchromium_SRA779509-SRS3805258_5683',\n",
    " 'Bonemarrow_10xchromium_SRA779509-SRS3805262_6431',\n",
    " 'Bonemarrow_10xchromium_SRA779509-SRS3805266_6210',\n",
    " 'Colon_10xchromium_SRA703206-SRS3296611_4826',\n",
    " 'Colon_10xchromium_SRA703206-SRS3296612_6476',\n",
    " 'Colon_10xchromium_SRA728025-SRS3454422_2322',\n",
    " 'Colon_10xchromium_SRA728025-SRS3454423_2283',\n",
    " 'Colon_10xchromium_SRA728025-SRS3454424_1898',\n",
    " 'Colon_10xchromium_SRA728025-SRS3454425_3429',\n",
    " 'Colon_10xchromium_SRA728025-SRS3454426_3423',\n",
    " 'Colon_10xchromium_SRA728025-SRS3454427_3840',\n",
    " 'Colon_10xchromium_SRA728025-SRS3454428_5459',\n",
    " 'Colon_10xchromium_SRA728025-SRS3454430_4910',\n",
    " 'Liver_10xchromium_SRA716608-SRS3391629_4190',\n",
    " #'Liver_10xchromium_SRA716608-SRS3391630_4719',\n",
    " 'Liver_10xchromium_SRA716608-SRS3391631_1425',\n",
    " 'Liver_10xchromium_SRA716608-SRS3391632_6158',\n",
    " 'Liver_10xchromium_SRA716608-SRS3391633_6806',\n",
    " 'Placenta_10xchromium_SRA782908-SRS3815600_7205',\n",
    " 'Prostate_10xchromium_SRA742961-SRS3565195_6101',\n",
    " 'Prostate_10xchromium_SRA742961-SRS3565196_7789',\n",
    " 'Prostate_10xchromium_SRA742961-SRS3565197_11468',\n",
    " 'Prostate_10xchromium_SRA742961-SRS3565199_8069',\n",
    " 'Prostate_10xchromium_SRA742961-SRS3565201_7479',\n",
    " 'Prostate_10xchromium_SRA742961-SRS3565203_6453',\n",
    " 'Prostate_10xchromium_SRA742961-SRS3565211_6264',\n",
    " 'Tcells_10xchromium_SRA665712-SRS3034950_10979',\n",
    " 'Tcells_10xchromium_SRA665712-SRS3034951_14332',\n",
    " 'Tcells_10xchromium_SRA665712-SRS3034953_12974',\n",
    " 'Tcells_10xchromium_SRA794656-SRS3937924_1878',\n",
    " 'Tcells_10xchromium_SRA794656-SRS3937926_1289',\n",
    " 'Tcells_10xchromium_SRA814476-SRS4073850_1975',\n",
    " 'Tcells_drop-seq_SRA867342-SRS4550172_4068',\n",
    " 'Tcells_drop-seq_SRA867342-SRS4550173_2768',\n",
    " 'Testicle_10xchromium_SRA667709-SRS3065426_2777',\n",
    " 'Testicle_10xchromium_SRA667709-SRS3065427_3045',\n",
    " 'Testicle_10xchromium_SRA667709-SRS3065428_3007',\n",
    " 'Testicle_10xchromium_SRA667709-SRS3065429_3066',\n",
    " 'Testicle_10xchromium_SRA667709-SRS3065430_4020',\n",
    " 'Testicle_10xchromium_SRA667709-SRS3065431_3586',\n",
    " 'Testis_10xchromium_SRA645804-SRS2823404_4197',\n",
    " 'Testis_10xchromium_SRA645804-SRS2823405_3598',\n",
    " 'Testis_10xchromium_SRA645804-SRS2823406_3989',\n",
    " 'Testis_10xchromium_SRA645804-SRS2823407_4046',\n",
    " 'Testis_10xchromium_SRA645804-SRS2823408_4306',\n",
    " 'Testis_10xchromium_SRA645804-SRS2823409_4791',\n",
    " 'Testis_10xchromium_SRA645804-SRS2823411_2167',\n",
    " 'Testis_10xchromium_SRA645804-SRS2823412_5299',\n",
    " 'Testis_10xchromium_SRA645804-SRS3572594_4574']"
   ]
  },
  {
   "cell_type": "code",
   "execution_count": null,
   "id": "132344ae-87b4-4c2c-a79e-5e0f29849ac6",
   "metadata": {},
   "outputs": [],
   "source": []
  },
  {
   "cell_type": "code",
   "execution_count": null,
   "id": "0a334f53-c240-47be-b4aa-58078a8aa590",
   "metadata": {
    "tags": []
   },
   "outputs": [],
   "source": [
    "%%time\n",
    "\n",
    "'''\n",
    "this reads from csv files and saves as h5 to make reading faster in the future.\n",
    "it also tries to add 'tissue' 'tissue5' and 'tissue5id' fields to 'uns'. \n",
    "'''\n",
    "# TODO reader writes obs['barcode'] = index to the adata\n",
    "if False:\n",
    "    datasets = loader.read(dir = '/home/ubuntu/data/scdata',\n",
    "                           datasets=dataset_list, \n",
    "                           suffix = '.counts.gz')\n"
   ]
  },
  {
   "cell_type": "code",
   "execution_count": null,
   "id": "f1168a62-6243-4feb-8362-b730dfc6a10f",
   "metadata": {},
   "outputs": [],
   "source": [
    "%%time\n",
    "\n",
    "# TODO load -> io_utils  preprocess -> select \n",
    "# TODO annotate gets an annotate folder where i also put the rest of the annotators... \n",
    "\n",
    "\n",
    "if False:\n",
    "    datasets = loader.read(dir = path,datasets = dataset_list, suffix = '.h5')\n",
    "\n",
    "\n",
    "\n",
    "    datasets = loader.annotate(datasets,\n",
    "                              annotate_function=loader.annotate_from_barcode_csv,\n",
    "                              input_field='barcode',\n",
    "                              output_field='clusterid')\n",
    "\n",
    "\n",
    "    datasets = loader.annotate(datasets, annotate_function=loader.annotate_celltypes,\n",
    "                              input_field='clusterid',\n",
    "                              output_field='celltype',\n",
    "                              path=path)\n",
    "\n",
    "\n",
    "    loader.save(datasets, format = 'h5')\n"
   ]
  },
  {
   "cell_type": "code",
   "execution_count": null,
   "id": "b0f15f1c-9606-4062-b0c0-e100b7702277",
   "metadata": {},
   "outputs": [],
   "source": [
    "\n",
    "\n",
    "datasets = loader.read(dir = path, \n",
    "                       datasets = dataset_list,\n",
    "                       suffix = '.h5',\n",
    "                       sample_size = 1000, \n",
    "                       remove_cells = {'celltype': [\"no pangalo\", \"Unknown\"]})\n",
    "\n",
    "#TODO map (sc.pp.filter(mingenes)), \n",
    "# dont put mingenes into the reader (as it its also used as csv)\n"
   ]
  },
  {
   "cell_type": "code",
   "execution_count": null,
   "id": "5b72e4cd-fabb-4e65-9873-df8cfb5c7dac",
   "metadata": {},
   "outputs": [],
   "source": [
    "%%time \n",
    "# was \"neighbors\"\n",
    "from cellsaw import similarity \n",
    "target_datasets = datasets[:2]+datasets[-2:] # the one we want to annotate\n",
    "source_datasets = datasets[2:10] # the database\n",
    "\n",
    "\n",
    "ranked_datasets_list, similarity_df = similarity.rank_by_similarity( \n",
    "                                    target = target_datasets, \n",
    "                                    source = source_datasets,            \n",
    "                                    return_similarity = True)\n",
    "\n"
   ]
  },
  {
   "cell_type": "code",
   "execution_count": null,
   "id": "e9bd17d1-5f14-4fec-8ea4-855a8208efad",
   "metadata": {},
   "outputs": [],
   "source": [
    "from cellsaw import similarity\n",
    "similarity.plot_dendrogram(similarity_df)"
   ]
  },
  {
   "cell_type": "code",
   "execution_count": null,
   "id": "dc953177-21bf-435d-8b75-69ba39bfbb47",
   "metadata": {},
   "outputs": [],
   "source": []
  },
  {
   "cell_type": "code",
   "execution_count": null,
   "id": "37080db1-f08d-46f2-b453-8c3ad727ced4",
   "metadata": {},
   "outputs": [],
   "source": [
    "%%time \n",
    "\n",
    "from cellsaw import merge \n",
    "id = 0\n",
    "target = target_datasets[id].copy()\n",
    "sources = map(lambda x: x.copy(), ranked_datasets_list[id][:3])\n",
    "\n",
    "\n",
    "target = merge.multi_annotate(target,sources,\n",
    "                               source_label = 'celltype',  \n",
    "                               target_label='multipredict', \n",
    "                               annotator = merge.annotate_label,\n",
    "                               pca_dim = 20, umap_dim = None,\n",
    "                               n_intra_neighbors = 7,\n",
    "                               n_inter_neighbors = 2,\n",
    "                               make_even= True,\n",
    "                               similarity_scale_factor = 1.0)\n",
    "\n",
    "\n",
    "t= target.copy()\n",
    "merge.plot(t,t, source_label = 'celltype',\n",
    "           target_label = 'multipredict')\n",
    " "
   ]
  },
  {
   "cell_type": "code",
   "execution_count": null,
   "id": "2db9a78d-dc0c-44ac-8df3-8ec5ce92f46d",
   "metadata": {},
   "outputs": [],
   "source": []
  },
  {
   "cell_type": "code",
   "execution_count": null,
   "id": "712196b1-5e89-4ac3-be07-9714c8c71d6b",
   "metadata": {},
   "outputs": [],
   "source": [
    "%%time \n",
    "\n",
    "from cellsaw import merge \n",
    "id = 0\n",
    "target = target_datasets[id].copy()\n",
    "source = ranked_datasets_list[id][0].copy()\n",
    "\n",
    "\n",
    "\n",
    "import scanpy as sc\n",
    "ncells = 10 \n",
    "sc.pp.subsample(target, fraction=None, n_obs=ncells or 50,random_state=None, copy=False)\n",
    "sc.pp.subsample(source, fraction=None, n_obs=ncells or 50,random_state=None, copy=False)\n",
    "\n",
    "\n",
    "# TODO rename predict_celltype\n",
    "target = merge.annotate_label(target,source,source_label = 'celltype',  \n",
    "                               target_label='predicted_celltype', \n",
    "                               pca_dim = 5, umap_dim = 2,\n",
    "                               n_intra_neighbors = 5,\n",
    "                               n_inter_neighbors = 1,\n",
    "                               make_even= False,\n",
    "                               sigmafac = 1,\n",
    "                               similarity_scale_factor = 1.0) # TODO implent, (check dists again also...)\n",
    "\n",
    "merge.plot(source, target, source_label = 'celltype',\n",
    "           target_label = 'predicted_celltype', pca =5)\n",
    "# TODO allow make_even = False "
   ]
  },
  {
   "cell_type": "code",
   "execution_count": null,
   "id": "c63738d0-ae40-49ef-a3e0-0ef0adee611e",
   "metadata": {},
   "outputs": [],
   "source": []
  },
  {
   "cell_type": "code",
   "execution_count": null,
   "id": "9bd342db-e701-4df8-9b6d-f1435a0734b0",
   "metadata": {},
   "outputs": [],
   "source": [
    "%%time \n",
    "# DELETE ME \n",
    "\n",
    "# THIS IS A TRASH CELL TO TEST RAW DIFFUSION\n",
    "from cellsaw import merge \n",
    "id = 0\n",
    "target = target_datasets[id].copy()\n",
    "source = ranked_datasets_list[id][0].copy()\n",
    "\n",
    "import scanpy as sc\n",
    "sc.pp.subsample(target, fraction=None, n_obs=100,random_state=None, copy=False)\n",
    "sc.pp.subsample(source, fraction=None, n_obs=100,random_state=None, copy=False)\n",
    "\n"
   ]
  },
  {
   "cell_type": "code",
   "execution_count": null,
   "id": "01ce42d4-5d8e-45f2-9e0e-4225e792956e",
   "metadata": {},
   "outputs": [],
   "source": [
    "# DELETE ME I AM NOT IMPORTANT\n",
    "# diffusion on stacked data\n",
    "target = merge.annotate_label_raw_diffusion(target,source,source_label = 'celltype', \n",
    "                                           target_label='rawdiffusion', \n",
    "                                           pca_dim = 20, umap_dim = 2)\n",
    "\n",
    "merge.plot(source, target, source_label = 'celltype',\n",
    "           target_label = 'rawdiffusion', pca =5)\n",
    "# TODO allow make_even = False "
   ]
  },
  {
   "cell_type": "code",
   "execution_count": null,
   "id": "a5038ed8-27d1-4cb8-b2d0-fc20e82490a3",
   "metadata": {
    "tags": []
   },
   "outputs": [],
   "source": [
    "target = merge.annotate_label_linsum_copylabel(target,source,source_label = 'celltype', \n",
    "                                               target_label= 'linsumprediction',\n",
    "                                               pca_dim = 20, umap_dim = None)\n",
    "\n",
    "# just stack the data and do knn\n",
    "target = merge.annotate_label_knn(target,source,source_label = 'celltype', \n",
    "                                   target_label='knn', \n",
    "                                   pca_dim = 20, umap_dim = None,k=5)\n",
    "\n",
    "# diffusion on stacked data\n",
    "target = merge.annotate_label_raw_diffusion(target,source,source_label = 'celltype', \n",
    "                                           target_label='rawdiffusion', \n",
    "                                           pca_dim = 20, umap_dim = 2)\n",
    "\n",
    "\n",
    "# ! carefull i exclude unknowns here\n",
    "target = merge.markercount(target,source,source_label = 'celltype', \n",
    "                               target_label='markercount', \n",
    "                               pca_dim = 20, umap_dim = None)\n",
    "\n",
    "targetlabels = ['predicted_celltype','linsumprediction','knn','rawdiffusion','markercount'] "
   ]
  },
  {
   "cell_type": "code",
   "execution_count": null,
   "id": "cb8e75f4-0787-46ba-afa0-ed07788e9484",
   "metadata": {},
   "outputs": [],
   "source": [
    "acc = { k: merge.accuracy_evaluation(target,true='celltype',\n",
    "            predicted = k)  for k in  targetlabels}\n",
    "print(acc)"
   ]
  },
  {
   "cell_type": "code",
   "execution_count": null,
   "id": "41babef5-8724-4d3a-bf85-bf7c0a848a57",
   "metadata": {},
   "outputs": [],
   "source": [
    "\n"
   ]
  },
  {
   "cell_type": "code",
   "execution_count": null,
   "id": "a19ffb66-3d7d-43e4-aca8-113b86830b93",
   "metadata": {},
   "outputs": [],
   "source": []
  },
  {
   "cell_type": "code",
   "execution_count": null,
   "id": "8acd5d37-d63d-4b81-a065-c74b165384ab",
   "metadata": {},
   "outputs": [],
   "source": [
    "merge.plot(source, target, source_label = 'celltype',target_label = 'linsumprediction')\n",
    "merge.plot(source, target, source_label = 'celltype',target_label = 'markercount')\n",
    "merge.plot(source, target, source_label = 'celltype',target_label = 'celltype')\n",
    "merge.plot(source, target, source_label = 'celltype',target_label = 'rawdiffusion')\n",
    "\n",
    "# TODO if i cut off labels, add index to duplicate labels\n",
    "# pass list of celltypes so i can have persistent colors \n",
    "# grid and remove ticks, shrink legend, fontsize! "
   ]
  },
  {
   "cell_type": "code",
   "execution_count": null,
   "id": "7124d20c-9bb9-4052-aaaa-3d67d72509b8",
   "metadata": {
    "tags": []
   },
   "outputs": [],
   "source": [
    "from cellsaw import sim\n",
    "\n",
    "\n",
    "'''\n",
    "# TODO multiple source-datasets + majority assignment # just do it pairwise\n",
    "\n",
    "\n",
    "# make a dataframe, where i loop over the targets (ID above) and accumulate accuracies, columns for hyperparameters\n",
    "# iterate over neighbors, weight by dataset distance, to obtain weighted avg prediction for cells\n",
    "# TODO: distance multiplier for linear_sum_assignment\n",
    "# avg 1nn dist: scale that (default1)\n",
    "# TODO: build a generic annotator for cells  ???????\n",
    "'''\n"
   ]
  },
  {
   "cell_type": "code",
   "execution_count": null,
   "id": "2851e98d-838b-4804-b30b-b08c14a5986f",
   "metadata": {},
   "outputs": [],
   "source": [
    "z= list('abcde')"
   ]
  },
  {
   "cell_type": "code",
   "execution_count": null,
   "id": "285ccb61-7a2b-4384-be2c-544df8edf9e6",
   "metadata": {},
   "outputs": [],
   "source": [
    "z"
   ]
  },
  {
   "cell_type": "code",
   "execution_count": null,
   "id": "abc9aa1d-e899-402b-a0d5-eaeef17da8bf",
   "metadata": {},
   "outputs": [],
   "source": [
    "args = [iter(z)] * 3\n"
   ]
  },
  {
   "cell_type": "code",
   "execution_count": null,
   "id": "1975bcac-78c7-4046-9712-bc390b391853",
   "metadata": {},
   "outputs": [],
   "source": [
    "zip(*args)"
   ]
  },
  {
   "cell_type": "code",
   "execution_count": null,
   "id": "d1dc7a7d-0c6b-4c92-b606-35be9b3e4651",
   "metadata": {},
   "outputs": [],
   "source": []
  },
  {
   "cell_type": "code",
   "execution_count": null,
   "id": "7de95446-1176-41eb-9df5-13edc6d8bf27",
   "metadata": {},
   "outputs": [],
   "source": [
    "import cellsaw.merge.hungarianEM as h"
   ]
  },
  {
   "cell_type": "code",
   "execution_count": null,
   "id": "82625698-b2eb-483f-b69f-71ef465f664b",
   "metadata": {},
   "outputs": [],
   "source": [
    "from sklearn.datasets import make_blobs\n",
    "\n",
    "samples = [20, 80, 20]\n",
    "X, y = make_blobs(n_samples=samples, centers=None, n_features=2,\n",
    "              random_state=0)\n",
    "\n",
    "size  = sum(samples)//3\n",
    "\n",
    "\n",
    "from matplotlib import pyplot as plt\n",
    "from sklearn.metrics.pairwise import euclidean_distances as ed\n",
    "import numpy as np\n",
    "from ubergauss import tools as t\n",
    "\n",
    "\n",
    "def assign(X,y):\n",
    "    centers = h.centers(y[y!= -1], X[y!=-1])\n",
    "    distC = ed(X, centers)\n",
    "    y = np.argmin(distC,axis = 1)\n",
    "    return y, distC\n",
    "\n",
    "\n",
    "\n",
    "def unassign(distC,y):\n",
    "    '''\n",
    "    new idea, go through clusters \n",
    "    - remember full clusters \n",
    "        - unassign y\n",
    "    - in the distance matrix deactivate full clusters\n",
    "        - reassign the leftovers\n",
    "    '''\n",
    "    \n",
    "    fullclusters =[]\n",
    "    # for each cluster \n",
    "    for i in np.unique(y):\n",
    "        # if it is too large:\n",
    "        if sum(y==i) > size:\n",
    "            fullclusters.append(i)\n",
    "\n",
    "            distances = distC[y==i]\n",
    "            closest = np.argsort(distances, axis = 1)\n",
    "            # d_self, d_neigh, self, neigh, id\n",
    "            items = [ (distances[i,row[0]] , distances[i,row[1]],\n",
    "                       row[0],row[1],i) for i,row in enumerate(closest)]\n",
    "            \n",
    "            items.sort(key = lambda x: x[1], reverse= True)\n",
    "            y2 = [i]*sum(y==i)\n",
    "            for item in  items[size:]:\n",
    "                y2[item[4]] = -1 #item[3]\n",
    "            \n",
    "            y[y==i] = y2\n",
    "            \n",
    "\n",
    "    # deactivate full clusters \n",
    "    distC[:,fullclusters] = np.inf\n",
    "    # reassign \n",
    "    y[y==-1] = np.argmin(distC[y==-1], axis = 1)\n",
    "     \n",
    "    return y\n",
    "\n",
    "\n",
    "\n",
    "y, distC = assign(X,y)\n",
    "for i in range(10):\n",
    "    '''\n",
    "    draw\n",
    "    unassign \n",
    "    draw \n",
    "    reassign \n",
    "    draw\n",
    "    show\n",
    "    '''\n",
    "    \n",
    "    plt.scatter(X[:,0],X[:,1], c = y, s = 200)\n",
    "    \n",
    "    y = unassign(distC,y)\n",
    "    \n",
    "    pX = X[y==-1]\n",
    "    print(pX)\n",
    "    plt.scatter(pX[:,0],pX[:,1], c = 'r', s=150)\n",
    "    \n",
    "    y, distC = assign(X,y)\n",
    "    \n",
    "    plt.scatter(X[:,0],X[:,1], c = y, s=100)\n",
    "    \n",
    "    plt.show()\n",
    "    for z in np.unique(y):\n",
    "        print(f\"{z}: {sum(y==z)}\")"
   ]
  },
  {
   "cell_type": "code",
   "execution_count": null,
   "id": "a72deb60-f711-49cf-b7f7-c014494eb1e2",
   "metadata": {},
   "outputs": [],
   "source": [
    "z = np.array([1,2,3,4,4,4])\n",
    "z[z==4][2] = 1\n",
    "print(z)"
   ]
  },
  {
   "cell_type": "code",
   "execution_count": null,
   "id": "0226cd5f-cb60-4af4-a445-ca83ae3a9b50",
   "metadata": {},
   "outputs": [],
   "source": [
    "z[z==4][1] = 2\n",
    "print(z)"
   ]
  },
  {
   "cell_type": "code",
   "execution_count": null,
   "id": "3996e45f-c6ca-4fe6-8992-4aa184d708b4",
   "metadata": {},
   "outputs": [],
   "source": [
    "from ubergauss import tools as t\n",
    "z=[1,2,5,5,5,6]\n",
    "t.spacemap(np.unique(z)).encode(z) "
   ]
  },
  {
   "cell_type": "code",
   "execution_count": null,
   "id": "dfddbb94-67b9-463a-8dff-38991a14e4b2",
   "metadata": {},
   "outputs": [],
   "source": [
    "from matplotlib import pyplot as plt\n",
    "\n",
    "f = lambda x: np.exp(-10/x)\n",
    "x=np.linspace(0,50,100)\n",
    "plt.plot(x,t.Map(f,x))"
   ]
  },
  {
   "cell_type": "code",
   "execution_count": null,
   "id": "979fe1b6-dac0-49a2-a5bf-061e69e8b229",
   "metadata": {},
   "outputs": [],
   "source": [
    "f = lambda x: np.exp(-x/10)\n",
    "import math\n",
    "f = lambda x:(1-1/2*math.erf(x/math.sqrt(2)))*1/(math.e**(-(x)**2/(2))/(math.sqrt(2*math.pi)))\n",
    "x=np.linspace(0,1,100)\n",
    "plt.plot(x,t.Map(f,x))"
   ]
  }
 ],
 "metadata": {
  "kernelspec": {
   "display_name": "Python 3 (ipykernel)",
   "language": "python",
   "name": "python3"
  },
  "language_info": {
   "codemirror_mode": {
    "name": "ipython",
    "version": 3
   },
   "file_extension": ".py",
   "mimetype": "text/x-python",
   "name": "python",
   "nbconvert_exporter": "python",
   "pygments_lexer": "ipython3",
   "version": "3.8.5"
  }
 },
 "nbformat": 4,
 "nbformat_minor": 5
}
