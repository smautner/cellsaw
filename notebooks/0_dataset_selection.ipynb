{
 "cells": [
  {
   "cell_type": "markdown",
   "id": "bce8070d-bc6c-44f2-bf19-ffefccb17e8f",
   "metadata": {
    "tags": []
   },
   "source": [
    "# we downloaded 100 datasets from pangalodb..\n"
   ]
  },
  {
   "cell_type": "code",
   "execution_count": null,
   "id": "c0b7200f-70de-478a-a1f1-93a330682706",
   "metadata": {},
   "outputs": [],
   "source": []
  },
  {
   "cell_type": "code",
   "execution_count": null,
   "id": "dc1837d6-0212-44e6-acf2-71ef4804dde9",
   "metadata": {},
   "outputs": [],
   "source": [
    "%load_ext autoreload\n",
    "%autoreload 2\n",
    "%config Completer.use_jedi = True\n",
    "\n",
    "import matplotlib as mpl\n",
    "mpl.rc(\"figure\", dpi=200)"
   ]
  },
  {
   "cell_type": "code",
   "execution_count": null,
   "id": "fc3d4220-3992-4404-835a-d53f7ccc7ff5",
   "metadata": {},
   "outputs": [],
   "source": [
    "# first we did this with njobs 10, then 2 to finish all the jobs..\n",
    "#from ubergauss import tools as t \n",
    "#t.xmap(lambda x: loader.nuread('/home/ubuntu/data/scdata/',dataset= x,min_genes = 0 ), labels,n_jobs = 2)"
   ]
  },
  {
   "cell_type": "code",
   "execution_count": null,
   "id": "3981be82-5114-44c7-a75f-7c641545abaf",
   "metadata": {
    "tags": []
   },
   "outputs": [],
   "source": [
    "'''\n",
    "# collection data \n",
    "\n",
    "we need: \n",
    "    - pfail+ufail\n",
    "    - cells under 200 reads\n",
    "    - # classlabels \n",
    "    - # okcells in total \n",
    "'''\n",
    "\n",
    "import seaborn as sns\n",
    "import pandas as pd\n",
    "from cellsaw import io_utils as loader\n",
    "from cellsaw.io_utils.loadadata import get100names,annotatepangalo\n",
    "import lmz\n",
    "import scanpy as sc\n",
    "import numpy as np\n",
    "\n",
    "labels = get100names()\n",
    "shortlabels = [label[:label.index('_')] for label in labels]\n",
    "\n",
    "\n",
    "\n",
    "\n",
    "def getdata(dataset):\n",
    "    adata = loader.nuread('/home/ubuntu/data/scdata/',dataset= dataset,min_genes = 0 )    \n",
    "\n",
    "\n",
    "    pfail = adata.obs['celltype'] == \"no pangalo\"\n",
    "    ufail = adata.obs['celltype'] == \"Unknown\"\n",
    "    classfail = np.logical_or(pfail,ufail)\n",
    "    adata= adata[np.logical_not(classfail)]\n",
    "    sc.pp.filter_cells(adata,min_counts = 200)\n",
    "    \n",
    "    \n",
    "    return dataset,adata.X.shape[0], len(np.unique(adata.obs['celltype']))\n",
    "    \n",
    "\n",
    "data = lmz.Map(getdata, labels)\n",
    "#getdata(\"Kaposissarcoma_10xchromium_SRA843432-SRS4322339_2914\")\n"
   ]
  },
  {
   "cell_type": "code",
   "execution_count": null,
   "id": "b2cd9578-915b-46f6-ab6d-9997922396b0",
   "metadata": {},
   "outputs": [],
   "source": [
    "'''\n",
    "# next we have some filter criteria:\n",
    "\n",
    "- need at least 2 celltypes \n",
    "- need at least 2000 cells \n",
    "- 200 genes per cell!!!!!!!!!\n",
    "- we need at least 4 examples per tissuetype\n",
    "'''\n",
    "\n",
    "labels, types, values = lmz.Transpose(data)\n",
    "df = {\"dataset\":labels, \"cells\": types, \"celltypes\": values}\n",
    "df = pd.DataFrame(df)\n",
    "\n",
    "\n",
    "df = df[ df['cells'] > 2000]\n",
    "df = df[ df['celltypes'] > 1]\n",
    "\n",
    "names = df['dataset'].to_list()\n",
    "a,b = np.unique([c[:5] for c in names ], return_counts=True)\n",
    "itemcounts = lmz.Zip(a,b)\n",
    "shitlist =  [item for item, count in itemcounts if count < 4]\n",
    "select = [True if c[:5] not in shitlist else False for c in names]\n",
    "\n",
    "df = df[select]"
   ]
  },
  {
   "cell_type": "code",
   "execution_count": null,
   "id": "6c3059c9-1201-4e86-80d6-a4d6b3c7ac73",
   "metadata": {},
   "outputs": [],
   "source": [
    "df['dataset'].to_list()"
   ]
  },
  {
   "cell_type": "code",
   "execution_count": null,
   "id": "68cd9574-355c-4fd6-8f1c-09aaed3a4dd7",
   "metadata": {},
   "outputs": [],
   "source": []
  }
 ],
 "metadata": {
  "kernelspec": {
   "display_name": "Python 3 (ipykernel)",
   "language": "python",
   "name": "python3"
  },
  "language_info": {
   "codemirror_mode": {
    "name": "ipython",
    "version": 3
   },
   "file_extension": ".py",
   "mimetype": "text/x-python",
   "name": "python",
   "nbconvert_exporter": "python",
   "pygments_lexer": "ipython3",
   "version": "3.8.5"
  }
 },
 "nbformat": 4,
 "nbformat_minor": 5
}
