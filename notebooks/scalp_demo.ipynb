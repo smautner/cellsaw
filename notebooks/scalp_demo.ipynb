{
 "cells": [
  {
   "cell_type": "code",
   "execution_count": null,
   "id": "8d11c30c-1e7b-4bbc-aaf7-b6989c2afe66",
   "metadata": {},
   "outputs": [],
   "source": [
    "\n",
    "%load_ext autoreload\n",
    "%matplotlib inline\n",
    "%autoreload 2\n",
    "%config Completer.use_jedi = True\n",
    "import matplotlib as mpl\n",
    "from matplotlib import pyplot as plt\n",
    "mpl.rc(\"figure\", dpi=100)\n",
    "from warnings import simplefilter\n",
    "# ignore all future warnings\n",
    "simplefilter(action='ignore')\n",
    "import scalp\n",
    "from scalp.output import draw\n",
    "import lmz\n",
    "import numpy as np"
   ]
  },
  {
   "cell_type": "code",
   "execution_count": null,
   "id": "39e15c7e-ca87-4dd5-ab5e-3cc9aa00ff5d",
   "metadata": {},
   "outputs": [],
   "source": [
    "datasets = scalp.data.loaddata_scib(scalp.test_config.scib_datapath,  maxdatasets=10,  maxcells = 1000 )\n",
    "dataset = datasets[1]"
   ]
  },
  {
   "cell_type": "markdown",
   "id": "ba95ee1b-4956-4579-8bff-cfaa89018fe7",
   "metadata": {},
   "source": [
    "# scanorama"
   ]
  },
  {
   "cell_type": "code",
   "execution_count": null,
   "id": "ab08f871-591e-4916-96ae-86fd2e2299a3",
   "metadata": {},
   "outputs": [],
   "source": [
    "import scanpy as sc\n",
    "\n",
    "def scanorama(dataset, dim = 2):\n",
    "    dataset = scalp.pca.pca(dataset)\n",
    "    dataset = scalp.mnn.scanorama(dataset)\n",
    "    [ds.obsm.pop('umap', None)for ds in dataset]\n",
    "    scalp.umapwrap.adatas_umap(dataset, label ='umap', from_obsm ='scanorama', dim= dim)\n",
    "    return scalp.transform.stack(dataset)\n",
    "\n",
    "st = scanorama(dataset)\n",
    "sc.pl.umap(st, color=['batch', 'label'])"
   ]
  },
  {
   "cell_type": "markdown",
   "id": "da7d80ce-7220-4788-a29d-a99983934f8a",
   "metadata": {},
   "source": [
    "# UMAP ONLY "
   ]
  },
  {
   "cell_type": "code",
   "execution_count": null,
   "id": "81530dee-d7e8-4983-8c42-a2f5bae1b19b",
   "metadata": {},
   "outputs": [],
   "source": [
    "import scanpy as sc\n",
    "def umaponly(dataset,dim=2):\n",
    "    dataset = scalp.pca.pca(dataset)\n",
    "    [ds.obsm.pop('umap', None)for ds in dataset]\n",
    "    scalp.umapwrap.adatas_umap(dataset, label ='umap', from_obsm ='pca40', dim =dim)\n",
    "    return scalp.transform.stack(dataset)\n",
    "    \n",
    "stack = umaponly(dataset)\n",
    "sc.pl.umap(stack, color=['batch', 'label'])"
   ]
  },
  {
   "cell_type": "code",
   "execution_count": null,
   "id": "7e33938b-3611-495a-a84c-339b269c6cee",
   "metadata": {},
   "outputs": [],
   "source": [
    "import scanpy as sc\n",
    "def bbknn(dataset, dim = 2):\n",
    "    dataset = scalp.pca.pca(dataset)\n",
    "    [ds.obsm.pop('umap', None)for ds in dataset]\n",
    "    dataset = scalp.mnn.bbknnwrap(dataset, dim = dim)\n",
    "    stack = scalp.transform.stack(dataset)\n",
    "    return stack\n",
    "\n",
    "stack = bbknn(dataset)\n",
    "sc.pl.umap(stack, color=['batch', 'label'])"
   ]
  },
  {
   "cell_type": "markdown",
   "id": "e7bb6d0e-400c-4921-8fec-56e48465e7d0",
   "metadata": {},
   "source": [
    "# Combat "
   ]
  },
  {
   "cell_type": "code",
   "execution_count": null,
   "id": "f5aaeb55-2b0f-4812-879b-1395f8fe47c4",
   "metadata": {},
   "outputs": [],
   "source": [
    "import scanpy as sc\n",
    "def combat(dataset, dim = 2):\n",
    "    [ds.obsm.pop('umap', None)for ds in dataset]\n",
    "    dataset = scalp.mnn.combat(dataset)\n",
    "    scalp.umapwrap.adatas_umap(dataset, label ='umap', from_obsm ='combat', dim =dim)\n",
    "    return scalp.transform.stack(dataset)\n",
    "stack= combat(dataset)\n",
    "sc.pl.umap(stack, color=['batch', 'label'])"
   ]
  },
  {
   "cell_type": "markdown",
   "id": "65bdb938-8134-4b2e-9992-3c5fea021cf8",
   "metadata": {},
   "source": [
    "# SCALP"
   ]
  },
  {
   "cell_type": "code",
   "execution_count": null,
   "id": "e1e25760-33eb-4ff3-ba6d-a55b168be9f3",
   "metadata": {},
   "outputs": [],
   "source": [
    "import scanpy as sc\n",
    "def Scalp(dataset, dim = 2):\n",
    "    parm = {'intra_neigh': 8, 'intra_neighbors_mutual': False,\n",
    "            'inter_neigh': 2, 'add_tree': True,\n",
    "                  'copy_lsa_neighbors': False, 'inter_outlier_threshold': 0.95, 'inter_outlier_probabilistic_removal': False}\n",
    "    dataset, grap = scalp.mkgraph(dataset,**parm)\n",
    "    scalp.umapwrap.graph_umap(dataset,grap,label = 'umap', n_components = dim)\n",
    "    return scalp.transform.stack(dataset)\n",
    "    \n",
    "stack = Scalp(dataset)\n",
    "sc.pl.umap(stack, color=['batch', 'label'])"
   ]
  },
  {
   "cell_type": "code",
   "execution_count": null,
   "id": "adaf1e67-89f7-4865-879c-8b31c62e9fc0",
   "metadata": {},
   "outputs": [],
   "source": [
    "import ubergauss.tools as ut\n",
    "from lmz import *\n",
    "\n",
    "funcs = [scanorama, umaponly, bbknn, combat, Scalp] \n",
    "\n",
    "fuid = Range(funcs)\n",
    "dataid = Range(datasets) \n",
    "tasks = [(f,d) for f in fuid for d in dataid]\n",
    "\n",
    "def run(fd):\n",
    "    f,d = fd\n",
    "    fun = funcs[f]\n",
    "    dat = datasets[d]\n",
    "    stack = fun(dat,8)\n",
    "    return stack\n",
    "    \n",
    "mydata = ut.xxmap(run, tasks) "
   ]
  },
  {
   "cell_type": "code",
   "execution_count": null,
   "id": "e4e6ba4b-2a75-40ac-8c1a-efbe8c9923c5",
   "metadata": {},
   "outputs": [],
   "source": []
  },
  {
   "cell_type": "code",
   "execution_count": null,
   "id": "54886487-bf06-4edc-ae1f-501b637227d4",
   "metadata": {},
   "outputs": [],
   "source": [
    "from scib.metrics import metrics\n",
    "from sklearn.linear_model import SGDClassifier\n",
    "from sklearn.metrics import balanced_accuracy_score\n",
    "def score(dataset):\n",
    "    # ds2 = dataset.copy()\n",
    "    # ds2.X = ds2.obsm['umap']\n",
    "    # https://scib.readthedocs.io/en/latest/api.html#biological-conservation-metrics\n",
    "    embed = 'umap' if 'umap' in dataset.obsm else 'X_umap'\n",
    "    sc =  metrics(dataset, dataset, 'batch', 'label', embed = embed,\n",
    "                       isolated_labels_asw_=True, silhouette_=True, hvg_score_=True, graph_conn_=True,\n",
    "           pcr_=True,\n",
    "             isolated_labels_f1_=True,\n",
    "             trajectory_=False,\n",
    "             nmi_=True,\n",
    "            ari_=True )\n",
    "    return dict(sc)[0]\n",
    "    \n",
    "def score_lin(dataset):\n",
    "    y = dataset.obs['label']\n",
    "    X = dataset.obsm['umap'] if 'umap' in dataset.obsm else dataset.obsm['X_umap']\n",
    "    prediction = SGDClassifier().fit(X,y).predict(X)\n",
    "    return accuracy_score(y , prediction )\n",
    "    \n",
    "def score_lin_batch(dataset):\n",
    "    # do this per cell line\n",
    "    def acc(label): \n",
    "        instances = dataset.obs['label'] == label \n",
    "        tmp_dataset = dataset[instances]\n",
    "        y = tmp_dataset.obs['batch']\n",
    "        if len(np.unique(y)) < 2:\n",
    "            return np.nan\n",
    "        X = tmp_dataset.obsm['umap'] if 'umap' in tmp_dataset.obsm else tmp_dataset.obsm['X_umap']\n",
    "        prediction = SGDClassifier().fit(X,y).predict(X)\n",
    "        return balanced_accuracy_score(y , prediction, adjusted=True )\n",
    "    \n",
    "    # scores = np.array([1-acc(l) for l in np.unique(dataset.obs['label'])]) ### !!!! \n",
    "    # weight by label counts .. \n",
    "    return np.nanmean([1-acc(l) for l in np.unique(dataset.obs['label'])])\n",
    "    \n",
    "scoredics_lb = ut.xxmap(score_lin_batch, mydata)\n",
    "scoredics_scib = ut.xxmap(score, mydata)\n",
    "scoredics_l = ut.xxmap(score_lin, mydata)\n",
    "\n",
    "# score_lin_batch and score_lin -> pareto comparison"
   ]
  },
  {
   "cell_type": "code",
   "execution_count": null,
   "id": "b2a77035-484c-4868-86ea-a0337b2f03b3",
   "metadata": {},
   "outputs": [],
   "source": [
    "import pandas as pd\n",
    "import seaborn as sns\n",
    "# this only applies if we dont use the scib score fucntion\n",
    "funcs = 'scanorama, umaponly, bbknn, combat, Scalp'.split(', ')\n",
    "\n",
    "results = [ {\"method\":funcs[f], 'score':s, 'dataset':d, 'target':'label' } for s,(f,d) in zip(scoredics_l,tasks)]\n",
    "results += [ {\"method\":funcs[f], 'score':s, 'dataset':d, 'target':'batch'} for s,(f,d) in zip(scoredics_lb,tasks)]\n",
    "df = pd.DataFrame(results)\n",
    "sns.barplot(data=df, y = 'score', x = 'method', errorbar = 'sd', hue='target')\n",
    "plt.show()\n",
    "ours = df.pivot_table(index='method', columns='target', values='score')"
   ]
  },
  {
   "cell_type": "code",
   "execution_count": null,
   "id": "4bf5dfc1-5b60-46ca-a721-2ecfbdbc60d7",
   "metadata": {},
   "outputs": [],
   "source": [
    "import lmz\n",
    "# this is for SCIB scoring \n",
    "def doit(e):\n",
    "    d = dict(e)\n",
    "    for k in list(d.keys()):\n",
    "        if np.isnan(d[k]):\n",
    "            d.pop(k)\n",
    "    d.pop('hvg_overlap',0)\n",
    "    return d\n",
    "scoredicts = lmz.Map(doit, scoredics_scib)\n",
    "\n",
    "funcs = 'scanorama, umaponly, bbknn, combat, Scalp'.split(', ')\n",
    "results = [ [{\"method\":funcs[f], 'score':ss, 'dataset':d, 'metric':scrmeth } \n",
    "             for (scrmeth,ss) in s.items() ]for s,(f,d) in zip(scoredicts,tasks)]\n",
    "results = lmz.Flatten(results)\n",
    "\n",
    "df = pd.DataFrame(results)\n",
    "sns.barplot(data=df, y = 'score', x = 'method', errorbar = 'sd', hue = 'metric')\n",
    "plt.legend(loc='right', bbox_to_anchor=(1.85, 0.5), ncol=1)\n",
    "plt.show()"
   ]
  },
  {
   "cell_type": "code",
   "execution_count": null,
   "id": "5b593fc3-045f-43d4-9b08-23ba21c9aee9",
   "metadata": {},
   "outputs": [],
   "source": [
    "\n",
    "def split_scib_scores(dicts):\n",
    "    batchwords = 'PCR_batch ASW_label/batch graph_conn'.split()\n",
    "    \n",
    "    def split(d):\n",
    "        b = np.mean([v for k,v in d.items() if k in batchwords ])\n",
    "        a = np.mean([v for k,v in d.items() if not k in batchwords ])\n",
    "        return a,b\n",
    "        \n",
    "    scores = lmz.Map(split, dicts) \n",
    "    return lmz.Transpose(scores)    \n",
    "  \n",
    "\n",
    "scr_l, scr_b = split_scib_scores(scoredicts)\n",
    "results = [ {\"method\":funcs[f], 'score':s, 'dataset':d, 'target':'bioconservation_scib_avg' } for s,(f,d) in zip(scr_l,tasks)]\n",
    "results += [ {\"method\":funcs[f], 'score':s, 'dataset':d, 'target':'batch_scib_avg'} for s,(f,d) in zip(scr_b,tasks)]\n",
    "df = pd.DataFrame(results)\n",
    "sns.barplot(data=df, y = 'score', x = 'method', errorbar = 'sd', hue='target')\n",
    "plt.show()\n",
    "theirs = df.pivot_table(index='method', columns='target', values='score')"
   ]
  },
  {
   "cell_type": "code",
   "execution_count": null,
   "id": "fa404d9a-25e9-4c0c-8744-c8adcfac8339",
   "metadata": {},
   "outputs": [],
   "source": [
    "from ubergauss.optimization import pareto_scores\n",
    "pareto_scores(df)"
   ]
  },
  {
   "cell_type": "code",
   "execution_count": null,
   "id": "d2be69fc-1ec9-42f0-8428-91e33589da88",
   "metadata": {},
   "outputs": [],
   "source": []
  },
  {
   "cell_type": "code",
   "execution_count": null,
   "id": "9e4bc703-22a2-4270-91da-9431e8763fe3",
   "metadata": {},
   "outputs": [],
   "source": [
    "results"
   ]
  },
  {
   "cell_type": "code",
   "execution_count": null,
   "id": "84258f50-ab42-401d-89aa-24372de4a04d",
   "metadata": {},
   "outputs": [],
   "source": [
    "np.corrcoef(ours.batch.values, theirs.batch_scib_avg.values)[0,1], np.corrcoef(ours.label.values, theirs.bioconservation_scib_avg.values)[0,1]"
   ]
  },
  {
   "cell_type": "code",
   "execution_count": null,
   "id": "64bc876a-cea0-46a4-96cf-db729f555885",
   "metadata": {},
   "outputs": [],
   "source": []
  }
 ],
 "metadata": {
  "kernelspec": {
   "display_name": "Python 3 (ipykernel)",
   "language": "python",
   "name": "python3"
  },
  "language_info": {
   "codemirror_mode": {
    "name": "ipython",
    "version": 3
   },
   "file_extension": ".py",
   "mimetype": "text/x-python",
   "name": "python",
   "nbconvert_exporter": "python",
   "pygments_lexer": "ipython3",
   "version": "3.11.0"
  }
 },
 "nbformat": 4,
 "nbformat_minor": 5
}
