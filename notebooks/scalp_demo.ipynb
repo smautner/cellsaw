{
 "cells": [
  {
   "cell_type": "code",
   "execution_count": null,
   "id": "8d11c30c-1e7b-4bbc-aaf7-b6989c2afe66",
   "metadata": {},
   "outputs": [],
   "source": [
    "%load_ext autoreload\n",
    "%matplotlib inline\n",
    "%autoreload 2\n",
    "%config Completer.use_jedi = True\n",
    "import matplotlib as mpl\n",
    "from matplotlib import pyplot as plt\n",
    "mpl.rc(\"figure\", dpi=100)\n",
    "import warnings\n",
    "\n",
    "import scalp\n",
    "from scalp.output import draw\n",
    "import lmz\n",
    "import numpy as np\n",
    "\n"
   ]
  },
  {
   "cell_type": "code",
   "execution_count": null,
   "id": "eae41837-ecc6-4c30-a570-d6059a0d5f75",
   "metadata": {},
   "outputs": [],
   "source": [
    "\n",
    "if True:\n",
    "    import better_exceptions\n",
    "    import sys\n",
    "    ip = get_ipython()\n",
    "    def custom_exc(shell, etype, evalue, tb, tb_offset=None):\n",
    "        better_exceptions.excepthook(etype, evalue, tb)\n",
    "    ip.set_custom_exc((Exception,), custom_exc)\n",
    "\n",
    "\n",
    "warnings.filterwarnings(\"ignore\")\n",
    "warnings.filterwarnings(\"ignore\", module=\"anndata\")"
   ]
  },
  {
   "cell_type": "code",
   "execution_count": null,
   "id": "1ec783de-b455-4e8a-bf84-a5b31bd76926",
   "metadata": {},
   "outputs": [],
   "source": []
  },
  {
   "cell_type": "code",
   "execution_count": null,
   "id": "29cef8c8-3b23-4903-97b8-ad172c2153eb",
   "metadata": {},
   "outputs": [],
   "source": [
    "scalp.test_config.scib_datapath"
   ]
  },
  {
   "cell_type": "code",
   "execution_count": null,
   "id": "3e96b637-db8a-4b74-be10-baf86fab483e",
   "metadata": {},
   "outputs": [],
   "source": []
  },
  {
   "cell_type": "code",
   "execution_count": null,
   "id": "39e15c7e-ca87-4dd5-ab5e-3cc9aa00ff5d",
   "metadata": {},
   "outputs": [],
   "source": [
    "#datasets = scalp.data.loaddata_scib(scalp.test_config.scib_datapath,  maxdatasets=3,  maxcells = 1000 )\n",
    "\n",
    "datasets = list(scalp.data.scib(scalp.test_config.scib_datapath,  maxdatasets=3,  maxcells = 300 ))\n",
    "dataset = datasets[-1] # this is the pancreatic"
   ]
  },
  {
   "cell_type": "code",
   "execution_count": null,
   "id": "8434e443-a9b6-49d0-b0f9-278158cdd8bd",
   "metadata": {},
   "outputs": [],
   "source": []
  },
  {
   "cell_type": "markdown",
   "id": "ba95ee1b-4956-4579-8bff-cfaa89018fe7",
   "metadata": {},
   "source": [
    "# scanorama"
   ]
  },
  {
   "cell_type": "code",
   "execution_count": null,
   "id": "ab08f871-591e-4916-96ae-86fd2e2299a3",
   "metadata": {},
   "outputs": [],
   "source": [
    "import scanpy as sc\n",
    "\n",
    "'''\n",
    "def scanorama(dataset, dim = 2):\n",
    "    dataset = scalp.pca.pca(dataset)\n",
    "    dataset = scalp.mnn.scanorama(dataset)\n",
    "    [ds.obsm.pop('umap', None)for ds in dataset]\n",
    "    scalp.umapwrap.adatas_umap(dataset, label ='umap', from_obsm ='scanorama', dim= dim)\n",
    "    return scalp.transform.stack(dataset)\n",
    "st = scanorama(dataset)\n",
    "sc.pl.umap(st, color=['batch', 'label'])\n",
    "'''\n",
    "\n",
    "st = scalp.mnn.scanorama(dataset) \n",
    "scalp.plot(st,'scanorama', color=['batch','label'])\n"
   ]
  },
  {
   "cell_type": "markdown",
   "id": "da7d80ce-7220-4788-a29d-a99983934f8a",
   "metadata": {},
   "source": [
    "# UMAP ONLY "
   ]
  },
  {
   "cell_type": "code",
   "execution_count": null,
   "id": "81530dee-d7e8-4983-8c42-a2f5bae1b19b",
   "metadata": {},
   "outputs": [],
   "source": [
    "import scanpy as sc\n",
    "\n",
    "\n",
    "\n",
    "'''\n",
    "def umaponly(dataset,dim=2):\n",
    "    dataset = scalp.pca.pca(dataset)\n",
    "    [ds.obsm.pop('umap', None)for ds in dataset]\n",
    "    scalp.umapwrap.adatas_umap(dataset, label ='umap', from_obsm ='pca40', dim =dim)\n",
    "    return scalp.transform.stack(dataset)\n",
    "stack = umaponly(dataset)\n",
    "sc.pl.umap(stack, color=['batch', 'label'])\n",
    "'''  \n",
    "\n",
    "\n",
    "# st = scalp.mnn.umaponly(dataset, dim=2)\n",
    "# st.obsm['umaponly'] = st.obsm['']\n",
    "scalp.plot(st,'pca40', color=['batch','label'])"
   ]
  },
  {
   "cell_type": "code",
   "execution_count": null,
   "id": "7e33938b-3611-495a-a84c-339b269c6cee",
   "metadata": {},
   "outputs": [],
   "source": [
    "import scanpy as sc\n",
    "\n",
    "'''\n",
    "def bbknn(dataset, dim = 2):\n",
    "    dataset = scalp.pca.pca(dataset)\n",
    "    [ds.obsm.pop('umap', None)for ds in dataset]\n",
    "    dataset = scalp.mnn.bbknnwrap(dataset, dim = dim)\n",
    "    stack = scalp.transform.stack(dataset)\n",
    "    return stack\n",
    "\n",
    "stack = bbknn(dataset)\n",
    "sc.pl.umap(stack, color=['batch', 'label'])\n",
    "'''\n",
    "\n",
    "st = scalp.mnn.bbknnwrap(dataset, dim =2) \n",
    "scalp.plot(st,'bbknn', color=['batch','label'])"
   ]
  },
  {
   "cell_type": "markdown",
   "id": "e7bb6d0e-400c-4921-8fec-56e48465e7d0",
   "metadata": {},
   "source": [
    "# Combat "
   ]
  },
  {
   "cell_type": "code",
   "execution_count": null,
   "id": "f5aaeb55-2b0f-4812-879b-1395f8fe47c4",
   "metadata": {},
   "outputs": [],
   "source": [
    "import scanpy as sc\n",
    "'''\n",
    "def combat(dataset, dim = 2):\n",
    "    [ds.obsm.pop('umap', None)for ds in dataset]\n",
    "    dataset = scalp.mnn.combat(dataset)\n",
    "    scalp.umapwrap.adatas_umap(dataset, label ='umap', from_obsm ='combat', dim =dim)\n",
    "    return scalp.transform.stack(dataset)\n",
    "stack= combat(dataset)\n",
    "sc.pl.umap(stack, color=['batch', 'label'])\n",
    "'''\n",
    "\n",
    "\n",
    "st = scalp.mnn.combat(dataset) \n",
    "scalp.plot(st,'combat', color=['batch','label'])"
   ]
  },
  {
   "cell_type": "markdown",
   "id": "65bdb938-8134-4b2e-9992-3c5fea021cf8",
   "metadata": {},
   "source": [
    "# SCALP"
   ]
  },
  {
   "cell_type": "code",
   "execution_count": null,
   "id": "bd17d3e4-abc6-430b-8215-d6b1f2154a85",
   "metadata": {},
   "outputs": [],
   "source": [
    "scalp.plot(st, color=['batch','label'])"
   ]
  },
  {
   "cell_type": "code",
   "execution_count": null,
   "id": "e1e25760-33eb-4ff3-ba6d-a55b168be9f3",
   "metadata": {},
   "outputs": [],
   "source": [
    "import scanpy as sc\n",
    "from scalp import graph as sgraph\n",
    "from scipy.sparse import csr_matrix\n",
    "\n",
    "def Scalp(dataset, dim = 2):\n",
    "    parm = {'neighbors_total': 60, 'intra_neighbors_mutual': False,\n",
    "            'neighbors_intra_fraction': .33, 'add_tree': False, \"epsilon\":-1,\n",
    "                  'copy_lsa_neighbors': False, 'horizonCutoff':0, # this hz cutoff is what we look at \n",
    "            'inter_outlier_threshold': -1, 'distance_metric':'euclidean', 'standardize':0,\n",
    "            'inter_outlier_probabilistic_removal': False}\n",
    "\n",
    "\n",
    "    bestparm = {'neighbors_total': 27,\n",
    "         'neighbors_intra_fraction': 0.2204608669516461,\n",
    "         'inter_outlier_threshold': 0.7495085614413425,\n",
    "         'inter_outlier_probabilistic_removal': 0,\n",
    "         'intra_neighbors_mutual': 1,\n",
    "         'copy_lsa_neighbors': 0,\n",
    "         'add_tree': 0,\n",
    "         'horizonCutoff': 60,\n",
    "         'distance_metric': 'euclidean',\n",
    "         'standardize': 0}\n",
    "    # parm = {'add_tree': True, 'copy_lsa_neighbors': False, 'inter_outlier_probabilistic_removal': False,  'inter_outlier_threshold': 0.72, 'intra_neighbors_mutual': False, 'neighbors_intra_fraction': 0, 'neighbors_total': 1}\n",
    "    grap = scalp.mkgraph(dataset,**bestparm)\n",
    "    # neggraph = sgraph.negstuff(dataset,**parm)\n",
    "    # scalp.umapwrap.graph_jax(dataset,(csr_matrix(grap), csr_matrix(neggraph)),label = 'umap', n_components = 2)\n",
    "    print(\"graphdone\")\n",
    "    plt.matshow(grap.todense())\n",
    "    plt.colorbar()\n",
    "    \n",
    "    projection  = scalp.umapwrap.umap_last_experiment(dataset,grap,label = 'umap', n_components = dim)\n",
    "    # scalp.umapwrap.graph_pacmap(dataset,csr_matrix(grap).toarray(),label = 'umap', n_components = dim)\n",
    "    # scalp.umapwrap.graph_umap(dataset,grap,label = 'umap', n_components = dim) # THIS IS WHAT WE WANT TO USE I GUESS\n",
    "    dataset.obsm['scalp']= projection\n",
    "    return dataset\n",
    "\n",
    "stack = Scalp(dataset)\n",
    "scalp.plot(stack,'scalp', color=['batch','label'])"
   ]
  },
  {
   "cell_type": "code",
   "execution_count": null,
   "id": "cc9e7a6d-586e-4f09-9e19-634e8d6d00ba",
   "metadata": {},
   "outputs": [],
   "source": [
    "dataset"
   ]
  },
  {
   "cell_type": "code",
   "execution_count": null,
   "id": "28e58bd8-dcb8-444f-8bed-82e92e388bd4",
   "metadata": {},
   "outputs": [],
   "source": []
  },
  {
   "cell_type": "code",
   "execution_count": null,
   "id": "adaf1e67-89f7-4865-879c-8b31c62e9fc0",
   "metadata": {},
   "outputs": [],
   "source": [
    "import ubergauss.tools as ut\n",
    "from lmz import *\n",
    "\n",
    "funcs = [scanorama, umaponly, bbknn, combat, Scalp] \n",
    "\n",
    "fuid = Range(funcs)\n",
    "dataid = Range(datasets) \n",
    "tasks = [(f,d) for f in fuid for d in dataid]\n",
    "\n",
    "def run(fd):\n",
    "    f,d = fd\n",
    "    fun = funcs[f]\n",
    "    dat = datasets[d]\n",
    "    stack = fun(dat,8)\n",
    "    return stack\n",
    "    \n",
    "mydata = ut.xxmap(run, tasks) \n",
    "for e in mydata:\n",
    "    if 'umap' not in e.obsm:\n",
    "        e.obsm['umap']= e.obsm['X_umap']\n",
    "        e.obsm.pop('X_umap')"
   ]
  },
  {
   "cell_type": "code",
   "execution_count": null,
   "id": "d53eec65-6549-44d7-9258-217762a648dd",
   "metadata": {},
   "outputs": [],
   "source": [
    "# OK HERE COMES THE NEW SYSTEM\n",
    "# lets make mydata compatible with the new system \n",
    "\n",
    "# tasks = function, dataid\n",
    "datasets_stack = Map(scalp.transform.stack, datasets) \n",
    "for (fu,da), result in zip(tasks, mydata):\n",
    "    datasets_stack[da].obsm[str(fu)] = result.obsm['umap']\n",
    "    datasets_stack[da].uns.setdefault('methods', []).append(str(fu))\n",
    "\n",
    "\n"
   ]
  },
  {
   "cell_type": "code",
   "execution_count": null,
   "id": "2c56c92e-b0e3-4066-a4b7-cb344750376f",
   "metadata": {},
   "outputs": [],
   "source": [
    "datasets_stack[0].uns['methods']"
   ]
  },
  {
   "cell_type": "code",
   "execution_count": null,
   "id": "596b350c-6be1-4be0-8c0f-5abcb6ef24ca",
   "metadata": {},
   "outputs": [],
   "source": [
    "scores = { str(i): scalp.score.scalp_scores(datasets_stack[i]) for i in lmz.Range(datasets_stack) }"
   ]
  },
  {
   "cell_type": "code",
   "execution_count": null,
   "id": "e2fe9e30-6c02-4df6-bd58-f648234071e3",
   "metadata": {},
   "outputs": [],
   "source": [
    "scores"
   ]
  },
  {
   "cell_type": "code",
   "execution_count": null,
   "id": "f07a8186-0889-46da-81d0-368f3ef7e160",
   "metadata": {},
   "outputs": [],
   "source": [
    "funcs"
   ]
  },
  {
   "cell_type": "code",
   "execution_count": null,
   "id": "76e26d2c-c673-4735-a29d-87182f02df86",
   "metadata": {},
   "outputs": [],
   "source": [
    "ranktable, dom = scalp.output.score.pareto_avg(scores)\n",
    "ranktable"
   ]
  },
  {
   "cell_type": "code",
   "execution_count": null,
   "id": "f5821803-552c-476b-b471-34c19474c17e",
   "metadata": {},
   "outputs": [],
   "source": [
    "dom"
   ]
  },
  {
   "cell_type": "code",
   "execution_count": null,
   "id": "4d8fcf8b-5079-4445-9ac7-5a217e4a71db",
   "metadata": {},
   "outputs": [],
   "source": []
  },
  {
   "cell_type": "code",
   "execution_count": null,
   "id": "54886487-bf06-4edc-ae1f-501b637227d4",
   "metadata": {},
   "outputs": [],
   "source": [
    "from scalp.output.score import score_lin, score_lin_batch, score_scib_metrics\n",
    "scoredics_lb = ut.xxmap(score_lin_batch, mydata)\n",
    "scoredics_scib = ut.xxmap(score_scib_metrics, mydata)\n",
    "scoredics_l = ut.xxmap(score_lin, mydata)\n",
    "\n",
    "# score_lin_batch and score_lin -> pareto comparison"
   ]
  },
  {
   "cell_type": "code",
   "execution_count": null,
   "id": "b2a77035-484c-4868-86ea-a0337b2f03b3",
   "metadata": {},
   "outputs": [],
   "source": [
    "import pandas as pd\n",
    "import seaborn as sns\n",
    "# this only applies if we dont use the scib score fucntion\n",
    "funcs = 'scanorama, umaponly, bbknn, combat, Scalp'.split(', ')\n",
    "\n",
    "results = [ {\"method\":funcs[f], 'score':s, 'dataset':d, 'target':'label' } for s,(f,d) in zip(scoredics_l,tasks)]\n",
    "results += [ {\"method\":funcs[f], 'score':s, 'dataset':d, 'target':'batch'} for s,(f,d) in zip(scoredics_lb,tasks)]\n",
    "df = pd.DataFrame(results)\n",
    "sns.barplot(data=df, y = 'score', x = 'method', errorbar = 'sd', hue='target')\n",
    "plt.show()\n",
    "ours = df.pivot_table(index='method', columns='target', values='score')"
   ]
  },
  {
   "cell_type": "code",
   "execution_count": null,
   "id": "4bf5dfc1-5b60-46ca-a721-2ecfbdbc60d7",
   "metadata": {},
   "outputs": [],
   "source": [
    "import lmz\n",
    "# this is for SCIB scoring \n",
    "\n",
    "\n",
    "# turn scores into a dataframe\n",
    "funcs = 'scanorama, umaponly, bbknn, combat, Scalp'.split(', ')\n",
    "results = [ [{\"method\":funcs[f], 'score':ss, 'dataset':d, 'metric':scrmeth } \n",
    "             for (scrmeth,ss) in s.items() ]for s,(f,d) in zip(scoredics_scib,tasks)]\n",
    "results = lmz.Flatten(results)\n",
    "df = pd.DataFrame(results)\n",
    "\n",
    "\n",
    "\n",
    "sns.barplot(data=df, y = 'score', x = 'method', errorbar = 'sd', hue = 'metric')\n",
    "plt.legend(loc='right', bbox_to_anchor=(1.85, 0.5), ncol=1)\n",
    "plt.show()"
   ]
  },
  {
   "cell_type": "code",
   "execution_count": null,
   "id": "5b593fc3-045f-43d4-9b08-23ba21c9aee9",
   "metadata": {},
   "outputs": [],
   "source": [
    "\n",
    "def split_scib_scores(dicts):\n",
    "    '''splits scores in batch and label scores'''\n",
    "    batchwords = 'PCR_batch ASW_label/batch graph_conn'.split()\n",
    "    \n",
    "    def split(d):\n",
    "        b = np.mean([v for k,v in d.items() if k in batchwords ])\n",
    "        a = np.mean([v for k,v in d.items() if not k in batchwords ])\n",
    "        return a,b\n",
    "        \n",
    "    scores = lmz.Map(split, dicts) \n",
    "    return lmz.Transpose(scores)    \n",
    "  \n",
    "\n",
    "scr_l, scr_b = split_scib_scores(scoredics_scib)\n",
    "results = [ {\"method\":funcs[f], 'score':s, 'dataset':d, 'target':'bioconservation_scib_avg' } for s,(f,d) in zip(scr_l,tasks)]\n",
    "results += [ {\"method\":funcs[f], 'score':s, 'dataset':d, 'target':'batch_scib_avg'} for s,(f,d) in zip(scr_b,tasks)]\n",
    "df = pd.DataFrame(results)\n",
    "sns.barplot(data=df, y = 'score', x = 'method', errorbar = 'sd', hue='target')\n",
    "plt.show()\n",
    "theirs = df.pivot_table(index='method', columns='target', values='score')"
   ]
  },
  {
   "cell_type": "code",
   "execution_count": null,
   "id": "85a8ead5-298a-4514-99f5-969b624d1d09",
   "metadata": {},
   "outputs": [],
   "source": [
    "\n",
    "our_score = [ {\"method\":funcs[f], 'score':s, 'dataset':d, 'target':'label' } for s,(f,d) in zip(scoredics_l,tasks) ]\n",
    "our_score += [ {\"method\":funcs[f], 'score':s, 'dataset':d, 'target':'batch'} for s,(f,d) in zip(scoredics_lb,tasks)  ]\n",
    "df2 = pd.DataFrame(our_score)\n",
    "df2"
   ]
  },
  {
   "cell_type": "code",
   "execution_count": null,
   "id": "fa404d9a-25e9-4c0c-8744-c8adcfac8339",
   "metadata": {},
   "outputs": [],
   "source": [
    "from ubergauss.optimization import pareto_scores\n",
    "pareto_scores(df)"
   ]
  },
  {
   "cell_type": "code",
   "execution_count": null,
   "id": "3618c922-5627-45c1-885f-85f914a107be",
   "metadata": {},
   "outputs": [],
   "source": [
    "pareto_scores(df2) # this is pancreatic only  btw "
   ]
  },
  {
   "cell_type": "code",
   "execution_count": null,
   "id": "d2be69fc-1ec9-42f0-8428-91e33589da88",
   "metadata": {},
   "outputs": [],
   "source": [
    "df"
   ]
  },
  {
   "cell_type": "code",
   "execution_count": null,
   "id": "9e4bc703-22a2-4270-91da-9431e8763fe3",
   "metadata": {},
   "outputs": [],
   "source": [
    "results"
   ]
  },
  {
   "cell_type": "code",
   "execution_count": null,
   "id": "84258f50-ab42-401d-89aa-24372de4a04d",
   "metadata": {},
   "outputs": [],
   "source": [
    "np.corrcoef(ours.batch.values, theirs.batch_scib_avg.values)[0,1], np.corrcoef(ours.label.values, theirs.bioconservation_scib_avg.values)[0,1]"
   ]
  },
  {
   "cell_type": "code",
   "execution_count": null,
   "id": "a1eafc7b-3810-483f-80e1-ede1e08fd6a9",
   "metadata": {},
   "outputs": [],
   "source": [
    "dom\n",
    "\n",
    "avg_rank = dom.groupby('dataset').domcount.rank(pct=True).groupby(dom.method).mean()\n",
    "\n",
    "avg_rank"
   ]
  },
  {
   "cell_type": "code",
   "execution_count": null,
   "id": "b4b24af9-e976-475d-a44b-24df41ce750b",
   "metadata": {},
   "outputs": [],
   "source": [
    "dom"
   ]
  },
  {
   "cell_type": "code",
   "execution_count": null,
   "id": "84360297-9feb-4070-abdb-cbc6bc556d61",
   "metadata": {},
   "outputs": [],
   "source": [
    "funcs"
   ]
  },
  {
   "cell_type": "code",
   "execution_count": null,
   "id": "23d4371a-51b0-4eb5-a637-dd449c8713e2",
   "metadata": {},
   "outputs": [],
   "source": [
    "import scikit_posthocs as sp\n",
    "test_results = sp.posthoc_conover_friedman(\n",
    "    dom,\n",
    "    melted=True,\n",
    "    block_col='dataset',\n",
    "    group_col='method',\n",
    "    y_col='domcount',\n",
    ")\n",
    "#sp.sign_plot(test_results)\n",
    "plt.figure(figsize=(10, 2), dpi=100)\n",
    "plt.title('Critical difference diagram of average score ranks')\n",
    "sp.critical_difference_diagram(avg_rank, test_results)"
   ]
  },
  {
   "cell_type": "code",
   "execution_count": null,
   "id": "498ebf0b-9e5d-4b25-b4a4-ae663bd5f118",
   "metadata": {},
   "outputs": [],
   "source": [
    "d={4:99}\n",
    "d.setdefault(4,5)\n",
    "print(d)"
   ]
  },
  {
   "cell_type": "code",
   "execution_count": null,
   "id": "b0e1911d-7e1a-4e4c-b3bf-cb73ef948569",
   "metadata": {},
   "outputs": [],
   "source": [
    "# horizoncut test \n",
    "d = np.random.rand(10,10)\n",
    "co = 2\n",
    "print(np.partition(d, co, axis=1)[:, co])\n",
    "print(np.sort(d,axis=1))"
   ]
  },
  {
   "cell_type": "code",
   "execution_count": null,
   "id": "bf54ea2c-6702-49ef-a464-8f08f50e4eaa",
   "metadata": {},
   "outputs": [],
   "source": [
    "from scipy.sparse import csr_matrix\n",
    "import numpy as np\n",
    "random_matrix = np.random.rand(10, 10)\n",
    "mask = np.random.rand(10, 10) > 0.5\n",
    "testmat = random_matrix * mask\n",
    "\n",
    "testmat"
   ]
  }
 ],
 "metadata": {
  "kernelspec": {
   "display_name": "Python 3 (ipykernel)",
   "language": "python",
   "name": "python3"
  },
  "language_info": {
   "codemirror_mode": {
    "name": "ipython",
    "version": 3
   },
   "file_extension": ".py",
   "mimetype": "text/x-python",
   "name": "python",
   "nbconvert_exporter": "python",
   "pygments_lexer": "ipython3"
  }
 },
 "nbformat": 4,
 "nbformat_minor": 5
}
