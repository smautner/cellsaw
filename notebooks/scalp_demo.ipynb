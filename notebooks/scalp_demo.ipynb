{
 "cells": [
  {
   "cell_type": "code",
   "execution_count": null,
   "id": "8d11c30c-1e7b-4bbc-aaf7-b6989c2afe66",
   "metadata": {},
   "outputs": [],
   "source": [
    "\n",
    "%load_ext autoreload\n",
    "%matplotlib inline\n",
    "%autoreload 2\n",
    "%config Completer.use_jedi = True\n",
    "import matplotlib as mpl\n",
    "from matplotlib import pyplot as plt\n",
    "mpl.rc(\"figure\", dpi=100)\n",
    "from warnings import simplefilter\n",
    "# ignore all future warnings\n",
    "simplefilter(action='ignore', category=FutureWarning)\n",
    "import scalp\n",
    "from scalp.output import draw"
   ]
  },
  {
   "cell_type": "code",
   "execution_count": null,
   "id": "39e15c7e-ca87-4dd5-ab5e-3cc9aa00ff5d",
   "metadata": {},
   "outputs": [],
   "source": [
    "datasets = scalp.data.loaddata_scib(scalp.test_config.scib_datapath,  maxdatasets=10,  maxcells = 1000 )\n",
    "dataset = datasets[1]"
   ]
  },
  {
   "cell_type": "markdown",
   "id": "ba95ee1b-4956-4579-8bff-cfaa89018fe7",
   "metadata": {},
   "source": [
    "# scanorama"
   ]
  },
  {
   "cell_type": "code",
   "execution_count": null,
   "id": "ab08f871-591e-4916-96ae-86fd2e2299a3",
   "metadata": {},
   "outputs": [],
   "source": [
    "import scanpy as sc\n",
    "\n",
    "def scanorama(dataset, dim = 2):\n",
    "    dataset = scalp.pca.pca(dataset)\n",
    "    dataset = scalp.mnn.scanorama(dataset)\n",
    "    [ds.obsm.pop('umap', None)for ds in dataset]\n",
    "    scalp.umapwrap.adatas_umap(dataset, label ='umap', from_obsm ='scanorama', dim= dim)\n",
    "    return scalp.transform.stack(dataset)\n",
    "\n",
    "st = scanorama(dataset)\n",
    "sc.pl.umap(st, color=['batch', 'label'])"
   ]
  },
  {
   "cell_type": "markdown",
   "id": "da7d80ce-7220-4788-a29d-a99983934f8a",
   "metadata": {},
   "source": [
    "# UMAP ONLY "
   ]
  },
  {
   "cell_type": "code",
   "execution_count": null,
   "id": "81530dee-d7e8-4983-8c42-a2f5bae1b19b",
   "metadata": {},
   "outputs": [],
   "source": [
    "import scanpy as sc\n",
    "def umaponly(dataset,dim=2):\n",
    "    dataset = scalp.pca.pca(dataset)\n",
    "    [ds.obsm.pop('umap', None)for ds in dataset]\n",
    "    scalp.umapwrap.adatas_umap(dataset, label ='umap', from_obsm ='pca40', dim =dim)\n",
    "    return scalp.transform.stack(dataset)\n",
    "    \n",
    "stack = umaponly(dataset)\n",
    "sc.pl.umap(stack, color=['batch', 'label'])"
   ]
  },
  {
   "cell_type": "code",
   "execution_count": null,
   "id": "7e33938b-3611-495a-a84c-339b269c6cee",
   "metadata": {},
   "outputs": [],
   "source": [
    "import scanpy as sc\n",
    "def bbknn(dataset, dim = 2):\n",
    "    dataset = scalp.pca.pca(dataset)\n",
    "    [ds.obsm.pop('umap', None)for ds in dataset]\n",
    "    dataset = scalp.mnn.bbknnwrap(dataset, dim = dim)\n",
    "    stack = scalp.transform.stack(dataset)\n",
    "    return stack\n",
    "\n",
    "stack = bbknn(dataset)\n",
    "sc.pl.umap(stack, color=['batch', 'label'])"
   ]
  },
  {
   "cell_type": "markdown",
   "id": "e7bb6d0e-400c-4921-8fec-56e48465e7d0",
   "metadata": {},
   "source": [
    "# Combat "
   ]
  },
  {
   "cell_type": "code",
   "execution_count": null,
   "id": "f5aaeb55-2b0f-4812-879b-1395f8fe47c4",
   "metadata": {},
   "outputs": [],
   "source": [
    "import scanpy as sc\n",
    "def combat(dataset, dim = 2):\n",
    "    [ds.obsm.pop('umap', None)for ds in dataset]\n",
    "    dataset = scalp.mnn.combat(dataset)\n",
    "    scalp.umapwrap.adatas_umap(dataset, label ='umap', from_obsm ='combat', dim =dim)\n",
    "    return scalp.transform.stack(dataset)\n",
    "stack= combat(dataset)\n",
    "sc.pl.umap(stack, color=['batch', 'label'])"
   ]
  },
  {
   "cell_type": "markdown",
   "id": "65bdb938-8134-4b2e-9992-3c5fea021cf8",
   "metadata": {},
   "source": [
    "# SCALP"
   ]
  },
  {
   "cell_type": "code",
   "execution_count": null,
   "id": "e1e25760-33eb-4ff3-ba6d-a55b168be9f3",
   "metadata": {},
   "outputs": [],
   "source": [
    "import scanpy as sc\n",
    "def Scalp(dataset, dim = 2):\n",
    "    parm = {'intra_neigh': 8, 'intra_neighbors_mutual': False, 'inter_neigh': 4, 'add_tree': True,\n",
    "                  'copy_lsa_neighbors': False, 'inter_outlier_threshold': 0.95, 'inter_outlier_probabilistic_removal': False}\n",
    "    dataset, grap = scalp.mkgraph(dataset,**parm)\n",
    "    scalp.umapwrap.graph_umap(dataset,grap,label = 'umap', n_components = dim)\n",
    "    return scalp.transform.stack(dataset)\n",
    "    \n",
    "stack = Scalp(dataset)\n",
    "sc.pl.umap(stack, color=['batch', 'label'])"
   ]
  },
  {
   "cell_type": "code",
   "execution_count": null,
   "id": "adaf1e67-89f7-4865-879c-8b31c62e9fc0",
   "metadata": {},
   "outputs": [],
   "source": [
    "import ubergauss.tools as ut\n",
    "from lmz import *\n",
    "\n",
    "funcs = [scanorama, umaponly, bbknn, combat, Scalp] \n",
    "\n",
    "fuid = Range(funcs)\n",
    "dataid = Range(datasets) \n",
    "tasks = [(f,d) for f in fuid for d in dataid]\n",
    "\n",
    "def run(fd):\n",
    "    f,d = fd\n",
    "    fun = funcs[f]\n",
    "    dat = datasets[d]\n",
    "    stack = fun(dat,10)\n",
    "    return stack\n",
    "    \n",
    "mydata = ut.xxmap(run, tasks) "
   ]
  },
  {
   "cell_type": "code",
   "execution_count": null,
   "id": "54886487-bf06-4edc-ae1f-501b637227d4",
   "metadata": {},
   "outputs": [],
   "source": [
    "from scib.metrics import metrics_slim\n",
    "def score(dataset):\n",
    "    # ds2 = dataset.copy()\n",
    "    # ds2.X = ds2.obsm['umap']\n",
    "    return metrics_slim(dataset, dataset, 'batch', 'label', embed = 'umap',verbose = True)\n",
    "    \n",
    "print(score(mydata[0]))"
   ]
  },
  {
   "cell_type": "code",
   "execution_count": null,
   "id": "794d15cb-efe1-4469-a76f-deed5c544958",
   "metadata": {},
   "outputs": [],
   "source": []
  }
 ],
 "metadata": {
  "kernelspec": {
   "display_name": "Python 3 (ipykernel)",
   "language": "python",
   "name": "python3"
  },
  "language_info": {
   "codemirror_mode": {
    "name": "ipython",
    "version": 3
   },
   "file_extension": ".py",
   "mimetype": "text/x-python",
   "name": "python",
   "nbconvert_exporter": "python",
   "pygments_lexer": "ipython3",
   "version": "3.11.0"
  }
 },
 "nbformat": 4,
 "nbformat_minor": 5
}
