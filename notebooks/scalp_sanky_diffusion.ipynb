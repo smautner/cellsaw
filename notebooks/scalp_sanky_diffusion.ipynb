{
 "cells": [
  {
   "cell_type": "code",
   "execution_count": null,
   "id": "dfac27a5-40db-4f13-a4af-67f31baf90b0",
   "metadata": {},
   "outputs": [],
   "source": [
    "%load_ext autoreload\n",
    "%matplotlib inline\n",
    "%autoreload 2\n",
    "%config Completer.use_jedi = True\n",
    "import matplotlib as mpl\n",
    "from matplotlib import pyplot as plt\n",
    "mpl.rc(\"figure\", dpi=300)\n",
    "from warnings import simplefilter\n",
    "# ignore all future warnings\n",
    "simplefilter(action='ignore', category=FutureWarning)"
   ]
  },
  {
   "cell_type": "code",
   "execution_count": null,
   "id": "205356da-a0e4-482b-abba-7dc5821c2b3b",
   "metadata": {},
   "outputs": [],
   "source": []
  },
  {
   "cell_type": "code",
   "execution_count": null,
   "id": "b59682b7-f799-45e7-80f4-38a297e302ca",
   "metadata": {},
   "outputs": [],
   "source": [
    "from scalp import data,  test_config\n",
    "datasets = data.loaddata_scib(test_config.scib_datapath, \n",
    "                       maxdatasets=3, \n",
    "                       maxcells = 600, \n",
    "                       datasets = [\"Immune_ALL_hum_mou.h5ad\"])\n",
    "\n",
    "dataset = datasets[0]"
   ]
  },
  {
   "cell_type": "code",
   "execution_count": null,
   "id": "9b1879bd-d480-4514-a2d7-5ce5517233e0",
   "metadata": {},
   "outputs": [],
   "source": [
    "import scalp\n",
    "from scalp import diffuse\n",
    "dataset =  diffuse.diffuse_label_sklearn(dataset,  \n",
    "                                         use_labels_from_dataset_ids=[0,4], \n",
    "                                         new_label ='sklearn_diffuse')\n",
    "\n",
    "data = scalp.mkgraph(dataset,intra_neigh = 4, inter_neigh=2,add_tree=False)\n",
    "dataset = scalp.diffuse.diffuse_label(*data, use_labels_from_dataset_ids=[0,4],\n",
    "                                                  new_label ='scalp_diffuse')\n"
   ]
  },
  {
   "cell_type": "code",
   "execution_count": null,
   "id": "aeb22b32-7131-4c55-8d8d-28042b6435b4",
   "metadata": {},
   "outputs": [],
   "source": [
    "from lmz import *\n",
    "from scalp.output import score\n",
    "# Map(score.anndata_ari, dataset, predicted_label='sklearn_diffuse')\n",
    "# Map(score.anndata_ari, dataset, predicted_label='scalp_diffuse')"
   ]
  },
  {
   "cell_type": "code",
   "execution_count": null,
   "id": "46f10413-bb26-4638-8733-128cc13361c9",
   "metadata": {},
   "outputs": [],
   "source": [
    "from scalp.output import sankey\n",
    "\n",
    "from scalp import output\n",
    "for label in 'label scalp_diffuse sklearn_diffuse'.split():\n",
    "    output.sankeyscore(dataset,cmp_label=label, thresh = .15, align=\"X\",\n",
    "                                         left_outgoing_max_edges= 0,\n",
    "                                         right_outgoing_max_edges = 0, \n",
    "                                         label =label)"
   ]
  },
  {
   "cell_type": "code",
   "execution_count": null,
   "id": "341d1f73-6070-4fc2-b4f8-e1a2ae37b73e",
   "metadata": {},
   "outputs": [],
   "source": []
  },
  {
   "cell_type": "code",
   "execution_count": null,
   "id": "1e974bf8-0cf9-49cd-a185-143976ffa237",
   "metadata": {},
   "outputs": [],
   "source": [
    "dataset = scalp.umapwrap.adatas_umap(dataset,dim = 2 ,from_obsm='pca' ,label='u2')\n",
    "scalp.snsplot(dataset,coordinate_label = 'u2')"
   ]
  },
  {
   "cell_type": "code",
   "execution_count": null,
   "id": "03e7e818-40c4-48a8-92ef-aaac6f0d8bd4",
   "metadata": {},
   "outputs": [],
   "source": [
    "%%time\n",
    "data = scalp.mkgraph(dataset,intra_neigh = 30, inter_neigh=1,add_tree=False)\n",
    "dataset = scalp.graph_embed_plot(*data, embed_label = 'embedding')"
   ]
  },
  {
   "cell_type": "code",
   "execution_count": null,
   "id": "2bd61bfc-8feb-40a8-b354-54bdc52ea265",
   "metadata": {},
   "outputs": [],
   "source": [
    "%%time\n",
    "data = scalp.mkgraph(dataset,intra_neigh = 10, inter_neigh=40,add_tree=False)\n",
    "dataset = scalp.graph_embed_plot(*data, embed_label = 'embedding')"
   ]
  },
  {
   "cell_type": "code",
   "execution_count": null,
   "id": "b9af85d2-86ae-4a11-8f95-14efa0eb3692",
   "metadata": {},
   "outputs": [],
   "source": []
  },
  {
   "cell_type": "code",
   "execution_count": null,
   "id": "7e2d5824-3869-431f-830d-e222fd7d5330",
   "metadata": {},
   "outputs": [],
   "source": [
    "import numpy as np\n",
    "z=np.random.random((10,10))\n",
    "a = np.argpartition(z,3,axis = 1)[:,:3]\n",
    "zero = np.zeros_like(z)\n",
    "np.put_along_axis(zero,a, np.take(z,a), axis = 1)"
   ]
  },
  {
   "cell_type": "code",
   "execution_count": null,
   "id": "55ca99d0-7c94-4b7a-83dd-5990fe28d353",
   "metadata": {},
   "outputs": [],
   "source": [
    "zero"
   ]
  },
  {
   "cell_type": "code",
   "execution_count": null,
   "id": "ec5ee9b6-cd70-4753-89f8-a5288775794e",
   "metadata": {},
   "outputs": [],
   "source": [
    "zero[zero.argmax(axis=1)]"
   ]
  },
  {
   "cell_type": "code",
   "execution_count": null,
   "id": "793aed4c-0ca2-45fa-b404-219f5b7180ea",
   "metadata": {},
   "outputs": [],
   "source": [
    "z"
   ]
  },
  {
   "cell_type": "code",
   "execution_count": null,
   "id": "1296ae7e-a56e-4107-bf7a-0108a172692c",
   "metadata": {},
   "outputs": [],
   "source": [
    "so.heatmap(z)"
   ]
  },
  {
   "cell_type": "code",
   "execution_count": null,
   "id": "79605823-16d1-4bb9-920f-a7a8add3b545",
   "metadata": {},
   "outputs": [],
   "source": [
    "so.heatmap(zero)"
   ]
  },
  {
   "cell_type": "code",
   "execution_count": null,
   "id": "1ce8c9d6-fc67-4623-93c0-0a4fd2c37865",
   "metadata": {},
   "outputs": [],
   "source": [
    "import structout as so \n",
    "from sklearn.neighbors import kneighbors_graph\n",
    "kneighbors_graph(z, 3 ,mode='distance').todense()"
   ]
  },
  {
   "cell_type": "code",
   "execution_count": null,
   "id": "e01b7106-86c9-44c1-93d6-1ff0ed3113a6",
   "metadata": {},
   "outputs": [],
   "source": [
    "so.heatmap(_)"
   ]
  },
  {
   "cell_type": "code",
   "execution_count": null,
   "id": "d4edc8fa-ba1b-4319-92e0-baefbdb1ea00",
   "metadata": {},
   "outputs": [],
   "source": []
  }
 ],
 "metadata": {
  "kernelspec": {
   "display_name": "Python 3 (ipykernel)",
   "language": "python",
   "name": "python3"
  },
  "language_info": {
   "codemirror_mode": {
    "name": "ipython",
    "version": 3
   },
   "file_extension": ".py",
   "mimetype": "text/x-python",
   "name": "python",
   "nbconvert_exporter": "python",
   "pygments_lexer": "ipython3"
  }
 },
 "nbformat": 4,
 "nbformat_minor": 5
}
