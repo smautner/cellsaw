{
 "cells": [
  {
   "cell_type": "code",
   "execution_count": null,
   "id": "4488c32f-1a83-4807-aabd-0a7bb71f5a73",
   "metadata": {},
   "outputs": [],
   "source": [
    "%load_ext autoreload\n",
    "%autoreload 2\n",
    "%config Completer.use_jedi = True"
   ]
  },
  {
   "cell_type": "code",
   "execution_count": null,
   "id": "20fcd190-8336-4105-9bcc-2d694101cb33",
   "metadata": {},
   "outputs": [],
   "source": [
    "import matplotlib as mpl\n",
    "mpl.rc(\"figure\", dpi=100)\n",
    "from matplotlib import pyplot as plt\n",
    "\n",
    "import numpy as np\n",
    "from lmz import *\n"
   ]
  },
  {
   "cell_type": "code",
   "execution_count": null,
   "id": "d86c4272-9551-470e-b7cb-33008ec78d6e",
   "metadata": {
    "tags": []
   },
   "outputs": [],
   "source": [
    "from lucy import load, adatas\n",
    "\n",
    "datasets = load.load_scib() + load.load_timeseries()\n",
    "ssdata = [[adatas.subsample(i,750,31442)  for i in series[:10]]  for series in datasets] \n",
    "ssdata = Map(adatas.preprocess, ssdata)\n",
    "\n",
    "\n"
   ]
  },
  {
   "cell_type": "code",
   "execution_count": null,
   "id": "0f9fff28-f418-454a-965e-f933afa111a6",
   "metadata": {
    "tags": []
   },
   "outputs": [],
   "source": [
    "'''\n",
    "for i,da in enumerate(ssdata):\n",
    "    print(\"asdasd\",i)\n",
    "    for j,dd in enumerate(da):\n",
    "        print(\"asd\",j)\n",
    "        print(sum(map(np.isnan,dd.obs['label'].tolist())) > 0)\n",
    "        print(sum(map(np.isnan,dd.obs['batch'].tolist())) > 0)\n",
    "'''"
   ]
  },
  {
   "cell_type": "code",
   "execution_count": null,
   "id": "f3ff6201-5ea7-44da-a7ba-a3f3af9e891a",
   "metadata": {},
   "outputs": [],
   "source": [
    "from sklearn.metrics import  silhouette_score\n",
    "import ubergauss.tools as ug\n",
    "import time\n",
    "import lucy.score as lscore\n",
    "from hyperopt import fmin, tpe, hp, Trials, SparkTrials\n",
    "from hyperopt.pyll import scope\n",
    "from ubergauss import hyperopt as uopt\n",
    "\n",
    "\n",
    "def evalp( x = 0,neighs=5,conns=1, scal=1,comp=5,umaps = 0,outl = .75,  scalecon = .25,  pca = 40, connect = 100, nalg = 0):\n",
    "    data = [z.copy() for z in ssdata[x]]\n",
    "    data = adatas.pca(data,dim = pca, label = 'pca')\n",
    "    dataset_adjacency = adatas.embed.make_adjacency(adatas.similarity(data), nalg, connect)\n",
    "    lsa_graph = adatas.lapgraph(data,base = 'pca',\n",
    "                                              intra_neigh = neighs, \n",
    "                                              inter_neigh = conns, \n",
    "                                              scaling_num_neighbors = scal,\n",
    "                                              outlier_threshold = outl,\n",
    "                                              scaling_threshold = scalecon,\n",
    "                                              dataset_adjacency =  dataset_adjacency)#(adatas.similarity(data), connect, nalg)) # adjacency_matrix -> symmetrise and binarize \n",
    "    data = adatas.graph_embed(data,lsa_graph,n_components = comp, label = 'lsa')\n",
    "    data = adatas.stack(data)\n",
    "    y = data.obs['label'].tolist()\n",
    "    ybatch = data.obs['batch'].tolist()\n",
    "    sim = data.obsm['lsa']\n",
    "    #return sim, dataset_adjacency\n",
    "    score = lscore.neighbor_labelagreement(sim,y,5)+2*silhouette_score(sim,y)-lscore.neighbor_labelagreement(sim,ybatch,5)\n",
    "    return -score\n",
    "\n",
    "\n",
    "space3 = { \n",
    "    'neighs' : scope.int(hp.quniform('neighs',10,25,1)),\n",
    "    'conns' : scope.int(hp.quniform('conns',1,5,1)),\n",
    "    'scal' : scope.int(hp.quniform('scal',1,5,1)),\n",
    "    'comp' : scope.int(hp.quniform('comp',4,30,1)),\n",
    "    # 'umaps' : scope.int(hp.quniform('umaps',0,20,5)),  #  \n",
    "    'scalecon' : hp.uniform('scalecon',.05,.95),\n",
    "    'outl' : hp.uniform('outl',.5,.95),\n",
    "    'nalg' : hp.choice ('nalg',[True, False]),\n",
    "    'pca' : scope.int(hp.quniform('pca',30,50,1)),\n",
    "    'connect' : scope.int(hp.quniform('connect',10,100,1))\n",
    "}\n",
    "\n",
    "trials = uopt.fffmin(evalp,items= Range(ssdata),probing_evals = 30, probing_parallel = 3,  after_evals = 100, space=space3)\n",
    "\n",
    "'''\n",
    "def xx(n):\n",
    "    try:\n",
    "        evalp(n)\n",
    "    except:\n",
    "        print(n, \"FAILED\")\n",
    "ug.xmap(xx,Range(ssdata))\n",
    "'''"
   ]
  },
  {
   "cell_type": "code",
   "execution_count": null,
   "id": "b011f868-5097-4a09-8447-78d9f7f54142",
   "metadata": {},
   "outputs": [],
   "source": [
    "[t.best_trial for t in trials]"
   ]
  },
  {
   "cell_type": "code",
   "execution_count": null,
   "id": "d64eec9a-88f9-41f7-acbb-c1fd5b2b9bdd",
   "metadata": {},
   "outputs": [],
   "source": [
    "dir(trials[0])"
   ]
  }
 ],
 "metadata": {
  "kernelspec": {
   "display_name": "Python 3 (ipykernel)",
   "language": "python",
   "name": "python3"
  },
  "language_info": {
   "codemirror_mode": {
    "name": "ipython",
    "version": 3
   },
   "file_extension": ".py",
   "mimetype": "text/x-python",
   "name": "python",
   "nbconvert_exporter": "python",
   "pygments_lexer": "ipython3",
   "version": "3.8.5"
  }
 },
 "nbformat": 4,
 "nbformat_minor": 5
}
