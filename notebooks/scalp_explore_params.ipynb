{
 "cells": [
  {
   "cell_type": "code",
   "execution_count": null,
   "id": "2cfd482a-338b-487d-8af6-65a5275c4a70",
   "metadata": {},
   "outputs": [],
   "source": [
    "%load_ext autoreload\n",
    "%matplotlib inline\n",
    "%autoreload 2\n",
    "%config Completer.use_jedi = True\n",
    "import matplotlib as mpl\n",
    "from matplotlib import pyplot as plt\n",
    "mpl.rc(\"figure\", dpi=100)\n",
    "from warnings import simplefilter\n",
    "# ignore all future warnings\n",
    "simplefilter(action='ignore', category=FutureWarning)"
   ]
  },
  {
   "cell_type": "code",
   "execution_count": null,
   "id": "74f99187-33c6-40cc-a1a4-9ae0e4e7a015",
   "metadata": {},
   "outputs": [],
   "source": [
    "%connect_info"
   ]
  },
  {
   "cell_type": "code",
   "execution_count": null,
   "id": "e8586ceb-e6aa-4ab2-8cd0-9c033462b3f0",
   "metadata": {},
   "outputs": [],
   "source": [
    "import seaborn as sns \n",
    "from ubergauss.optimization import df_remove_duplicates as clean\n",
    "from ubergauss.optimization import get_best, pareto_scores\n",
    "import numpy as np\n",
    "import ubergauss.tools as ut\n"
   ]
  },
  {
   "cell_type": "code",
   "execution_count": null,
   "id": "00f4fa7b-eb57-43ec-80f1-fcf88e7bb4ce",
   "metadata": {},
   "outputs": [],
   "source": [
    "#df = ut.loadfile(\"/home/ubuntu/repos/cellsaw/application/res_scib1\")\n",
    "# application/optimization.py will run the optimization\n",
    "import pandas as pd\n",
    "df = pd.read_csv(\"/home/ubuntu/repos/cellsaw/application/out.csv\")\n",
    "id = df.columns.tolist()\n",
    "df.fillna(0, inplace=True)"
   ]
  },
  {
   "cell_type": "code",
   "execution_count": null,
   "id": "ebd3e15b-f8bb-409d-90cd-08ce7f2ef00c",
   "metadata": {},
   "outputs": [],
   "source": [
    "df.corr()\n"
   ]
  },
  {
   "cell_type": "code",
   "execution_count": null,
   "id": "da5f9905-b930-4640-ac9e-de0133bfd145",
   "metadata": {},
   "outputs": [],
   "source": [
    "import pandas as pd\n",
    "import numpy as np\n",
    "pd.set_option('display.max_rows', None)\n",
    "# sc22 = sc2.pivot(index=\"method\", columns=\"dataset\", values=\"batch_mean\")\n",
    "# geomean = np.sqrt(df.label_mean * df.batch_mean)\n",
    "# df['geomean'] = geomean\n",
    "\n"
   ]
  },
  {
   "cell_type": "code",
   "execution_count": null,
   "id": "f46fdef0031feea5",
   "metadata": {},
   "outputs": [],
   "source": [
    "#ee = 'label_mean\tlabel_std\tbatch_std batch_mean\ttime'.split()\n",
    "# df =df.drop(labels = ee, axis =1)\n"
   ]
  },
  {
   "cell_type": "code",
   "execution_count": null,
   "id": "ddad5f17-40eb-4b28-a685-8e04f15c5b89",
   "metadata": {},
   "outputs": [],
   "source": [
    "cols = [col for col in df.columns.tolist() if col != 'geomean']\n",
    "cols"
   ]
  },
  {
   "cell_type": "code",
   "execution_count": null,
   "id": "6eef27de-8071-45da-99ed-beb2ab4990a2",
   "metadata": {},
   "outputs": [],
   "source": [
    "df.sort_values(by='score', ascending=False)\n"
   ]
  },
  {
   "cell_type": "code",
   "execution_count": null,
   "id": "77bd7126-946a-4122-8526-5e4195819906",
   "metadata": {},
   "outputs": [],
   "source": [
    "import seaborn as sns\n",
    "# sns.pairplot(df, hue='geomean')\n",
    "\n",
    "\n",
    "\n",
    "\n",
    "import pandas as pd\n",
    "import numpy as np\n",
    "import seaborn as sns\n",
    "import matplotlib.pyplot as plt\n",
    "\n",
    "'''\n",
    "outlier_threshold\n",
    "k\n",
    "hub1/2 algo k\n",
    "'''\n",
    "sns.lineplot(df, y='score', x= 'outlier_threshold') \n",
    "plt.show()\n",
    "sns.lineplot(df, y='score', x= 'k') \n",
    "plt.show()\n",
    "sns.lineplot(df, y='score', x= 'hub1_k', hue = 'hub1_algo') \n",
    "plt.show()\n",
    "sns.lineplot(df, y='score', x= 'hub2_k', hue = 'hub2_algo') \n",
    "\n",
    "plt.show()\n",
    "sns.boxplot(df, y='score', x= 'hub2_algo') \n",
    "plt.show()\n",
    "sns.boxplot(df, y='score', x= 'hub1_algo') \n",
    "\n"
   ]
  },
  {
   "cell_type": "code",
   "execution_count": null,
   "id": "06c29064-ee8d-4931-867f-0ded01c5f633",
   "metadata": {},
   "outputs": [],
   "source": [
    "df.sort_values(by='geomean', ascending=False)"
   ]
  },
  {
   "cell_type": "code",
   "execution_count": null,
   "id": "cbae74e5-78a3-40a4-bbd5-87a9133cc4a9",
   "metadata": {},
   "outputs": [],
   "source": [
    "sns.lineplot(df, y= 'geomean', x = 'hub1_algo', hue='hub2_algo') \n",
    "# k -> 10 .. 15 11 seems good\n",
    "# outlier threshold 0.76\n",
    "\n",
    "df.corr()"
   ]
  },
  {
   "cell_type": "code",
   "execution_count": null,
   "id": "fef732cb-562d-4d73-8074-315a72e61010",
   "metadata": {},
   "outputs": [],
   "source": [
    "id.remove('time')\n",
    "id.remove('batch_std')\n",
    "id.remove('label_std')\n",
    "id.remove('label_mean')\n",
    "id.remove('batch_mean')\n",
    "# the idea is to put everyting into a score columns so we can just do geomean on tha one column \n",
    "df = df.melt(id_vars = id ,  value_vars=['batch_mean','label_mean'], var_name='target', value_name='score')\n",
    "\n",
    "\n"
   ]
  },
  {
   "cell_type": "code",
   "execution_count": null,
   "id": "76e61765-3d02-4fba-a255-eef86b52401b",
   "metadata": {},
   "outputs": [],
   "source": [
    "import scalp"
   ]
  },
  {
   "cell_type": "code",
   "execution_count": null,
   "id": "9fcc2736-e782-4a4d-b47d-f7b332d38a12",
   "metadata": {},
   "outputs": [],
   "source": [
    "from scipy.stats import gmean\n",
    "# next we group by stuff by parameter combo\n",
    "\n",
    "grp = ['dim'] # this is added by the optimizer\n",
    "for line in scalp.mkgraphParameters.split('\\n'):\n",
    "    if line:\n",
    "        grp.append(line.split(' ')[0])\n",
    "\n",
    "\n",
    "grouped = df.groupby(grp)\n",
    "\n",
    "if False: # debug\n",
    "    print (grp)\n",
    "    pd.set_option('display.expand_frame_repr', False)\n",
    "    for name in grouped.groups.keys():\n",
    "        print(grouped.get_group(name))\n",
    "\n",
    "\n",
    "\n",
    "\n"
   ]
  },
  {
   "cell_type": "code",
   "execution_count": null,
   "id": "430835fe-c927-43eb-ae21-2597df1fa09e",
   "metadata": {},
   "outputs": [],
   "source": [
    "# for each group we want the keys and the geomean\n",
    "data =[ list(key) + [gmean(group.score)] for key, group in grouped]"
   ]
  },
  {
   "cell_type": "code",
   "execution_count": null,
   "id": "8ef5fc7f-3635-4cbc-a10f-fbf7e6ae41cf",
   "metadata": {},
   "outputs": [],
   "source": [
    "# then we build a dataframe from this \n",
    "columns = grp + ['score']\n",
    "df3=pd.DataFrame(data, columns=columns)\n",
    "df3=df3.sort_values(by='score')\n",
    "pd.set_option('display.max_rows', None)\n",
    "df3"
   ]
  },
  {
   "cell_type": "code",
   "execution_count": null,
   "id": "396efd7e-4233-4386-8c2d-2d9470880f45",
   "metadata": {},
   "outputs": [],
   "source": [
    "z= df3.loc[786].to_dict()\n",
    "z.pop('dim')\n",
    "z.pop('score')\n",
    "z"
   ]
  },
  {
   "cell_type": "code",
   "execution_count": null,
   "id": "08f3a6e8-5a88-413f-b1dc-6930dd214dbe",
   "metadata": {},
   "outputs": [],
   "source": [
    "g = sns.PairGrid(df3, y_vars=['score'], x_vars=columns, height=4, aspect=1.5)\n",
    "g.map(sns.scatterplot)"
   ]
  },
  {
   "cell_type": "code",
   "execution_count": null,
   "id": "3fccfdcc-0931-49f6-9328-3d5c85b27fd2",
   "metadata": {},
   "outputs": [],
   "source": [
    "df3[ (df3.score > .5)  &  (df3.copy_lsa_neighbors == 0) & (df3.intra_neighbors_mutual == 1)]"
   ]
  },
  {
   "cell_type": "code",
   "execution_count": null,
   "id": "8585f66f-553e-4cc3-af0b-70fd8be4b712",
   "metadata": {},
   "outputs": [],
   "source": [
    "sns.pairplot(df3[ (df3.score > .5)  &  (df3.copy_lsa_neighbors == 0) & (df3.intra_neighbors_mutual == 1)], hue='score')"
   ]
  },
  {
   "cell_type": "markdown",
   "id": "a23a8146-5b5e-416f-9327-87bd17b32df7",
   "metadata": {},
   "source": [
    "# HERE WE STOP"
   ]
  },
  {
   "cell_type": "code",
   "execution_count": null,
   "id": "8ff63c66-3508-4829-8a6a-35d6aa6bd331",
   "metadata": {},
   "outputs": [],
   "source": [
    "id = df.columns.tolist()\n",
    "pscores = pareto_scores(df, data=None,method = id)"
   ]
  },
  {
   "cell_type": "code",
   "execution_count": null,
   "id": "78f8fbbc-81b2-40c6-abb2-b09390cf2036",
   "metadata": {},
   "outputs": [],
   "source": [
    "import pandas as pd\n",
    "newdf = [dict(zip(id,v)) for v,score in pscores]\n",
    "for d,s in zip(newdf, pscores):\n",
    "    d['score'] = s[1]\n",
    "newdf = pd.DataFrame(newdf)\n",
    "g=sns.pairplot(newdf, hue = 'score', height=1.5,  palette = 'magma')\n",
    "    "
   ]
  },
  {
   "cell_type": "code",
   "execution_count": null,
   "id": "5008bf44-1036-494e-be3e-1a2d060dcccf",
   "metadata": {},
   "outputs": [],
   "source": [
    "import pandas as pd\n",
    "newdf = [dict(zip(id,v)) for v,score in pscores]\n",
    "for d,s in zip(newdf, pscores):\n",
    "    d['score'] = -s[1]\n",
    "newdf = pd.DataFrame(newdf)\n",
    "get_best(newdf)"
   ]
  },
  {
   "cell_type": "code",
   "execution_count": null,
   "id": "979bc218-924c-4a80-b775-013928e47009",
   "metadata": {},
   "outputs": [],
   "source": [
    "from ubergauss import optimization as uo\n",
    "newdf.sort_values(by=['score'])[-20:].corr()"
   ]
  },
  {
   "cell_type": "code",
   "execution_count": null,
   "id": "03c90fc2-48d2-439f-819a-969ab51f87e4",
   "metadata": {},
   "outputs": [],
   "source": [
    "newdf.sort_values(by=['score'])[-20:]"
   ]
  },
  {
   "cell_type": "code",
   "execution_count": null,
   "id": "1776116a-2863-4cb6-9411-a93389bec59c",
   "metadata": {},
   "outputs": [],
   "source": []
  },
  {
   "cell_type": "code",
   "execution_count": null,
   "id": "e4e67f91-8e0f-471a-8781-1e4e9e95bc7e",
   "metadata": {},
   "outputs": [],
   "source": []
  },
  {
   "cell_type": "code",
   "execution_count": null,
   "id": "36476b2a-81fd-49d4-85f2-5567a3bfe256",
   "metadata": {},
   "outputs": [],
   "source": []
  },
  {
   "cell_type": "code",
   "execution_count": null,
   "id": "b90c7e41-8027-48c2-a052-fd3626858f30",
   "metadata": {},
   "outputs": [],
   "source": []
  },
  {
   "cell_type": "code",
   "execution_count": null,
   "id": "9e36431a-c4b8-45ac-a0d5-e5c08681bc8a",
   "metadata": {},
   "outputs": [],
   "source": []
  },
  {
   "cell_type": "code",
   "execution_count": null,
   "id": "f40721e7-8dc2-404b-b659-4cb1d771c705",
   "metadata": {},
   "outputs": [],
   "source": [
    "df = ut.loadfile(\"/home/ubuntu/repos/cellsaw/application/res_scib1\")\n",
    "df['score'] = [ ch+bat+sil for ch,sil,bat in zip(df.class_cohesion, df.silhouette, df.batch_cohesion)]\n",
    "df_clean = clean(df)\n",
    "# sns.pairplot(df_clean, hue = 'score', height=1.5, corner=True)\n",
    "g=sns.pairplot(df_clean, hue = 'silhouette', height=1.5,  palette = 'magma')\n",
    "\n",
    "def overwrite(x, y, label=None, color=None, cmap=None, **kwargs):\n",
    "    plt.scatter(x,y)\n",
    "\n",
    "g.map_lower(overwrite)\n",
    "\n",
    "df_clean['FAIL'] = [ np.isnan(z)  for z in df.score]\n",
    "get_best(df)\n",
    "get_best(df,column = 'silhouette')\n",
    "df_clean.corr(method='spearman')"
   ]
  },
  {
   "cell_type": "code",
   "execution_count": null,
   "id": "a70696c6-e7ed-42b9-918b-4db9f28df263",
   "metadata": {},
   "outputs": [],
   "source": [
    "df"
   ]
  },
  {
   "cell_type": "code",
   "execution_count": null,
   "id": "d54ad094-7820-4dae-af76-4cc4c4a46f5d",
   "metadata": {},
   "outputs": [],
   "source": [
    "import warnings\n",
    "warnings.filterwarnings(\"ignore\")\n",
    "warnings.filterwarnings(\"ignore\", module=\"anndata\")\n",
    "warnings.filterwarnings(\"ignore\", message=\".*Attempted to fork from a non-main thread.*\")\n"
   ]
  },
  {
   "cell_type": "code",
   "execution_count": null,
   "id": "57b8ff2f-4049-4514-a244-8ce933965515",
   "metadata": {},
   "outputs": [],
   "source": [
    "df = ut.loadfile(\"/home/ubuntu/repos/cellsaw/application/res_TS1\")\n",
    "df['score'] = [ ch+bat+sil for ch,sil,bat in zip(df.class_cohesion, df.silhouette, df.batch_cohesion)]\n",
    "df_clean = clean(df)\n",
    "sns.pairplot(df_clean, hue = 'score', height=1.5, corner=True)\n",
    "df['FAIL'] = [ np.isnan(z)  for z in df.score]\n",
    "get_best(df)\n",
    "df_clean.corr(method='spearman')"
   ]
  },
  {
   "cell_type": "code",
   "execution_count": null,
   "id": "44b9815b-2668-4b51-a3ae-4d623340367e",
   "metadata": {},
   "outputs": [],
   "source": [
    "import pandas"
   ]
  },
  {
   "cell_type": "code",
   "execution_count": null,
   "id": "da88dc84-5d17-4f67-bebe-59b517354c13",
   "metadata": {},
   "outputs": [],
   "source": [
    "import optimization as opt\n",
    "from ubergauss.optimization import nutype \n",
    "data =opt.getdata()\n",
    "d2 = [[d] for d in data]"
   ]
  },
  {
   "cell_type": "code",
   "execution_count": null,
   "id": "80a08cbb-1dc5-4350-9319-e84ca4e499f2",
   "metadata": {},
   "outputs": [],
   "source": [
    "\n",
    "o = nutype.nutype(opt.space, opt.ho_eval,d2, numsample=16 )"
   ]
  },
  {
   "cell_type": "code",
   "execution_count": null,
   "id": "e888ab0f-6190-499e-a416-207162d7aeaa",
   "metadata": {},
   "outputs": [],
   "source": [
    "%%time\n",
    "o.opti()\n",
    "o.print()\n",
    "o.opti()\n",
    "o.print()\n",
    "o.opti()\n",
    "o.print()"
   ]
  },
  {
   "cell_type": "code",
   "execution_count": null,
   "id": "94bbe3a9-8a81-4044-9c17-523753c617fd",
   "metadata": {},
   "outputs": [],
   "source": [
    " {'hub1_algo': 1.0, 'hub1_k': 13.021210834947537, 'hub2_algo': 3.0, 'hub2_k': 11.274756377019376, 'k': 17.235099709198174, 'outlier_threshold': 0.6046280880758059, 'datafield': 0.0, 'time': 253.87748432159424, 'score': 0.4716044284270298}"
   ]
  }
 ],
 "metadata": {
  "kernelspec": {
   "display_name": "Python 3 (ipykernel)",
   "language": "python",
   "name": "python3"
  },
  "language_info": {
   "codemirror_mode": {
    "name": "ipython",
    "version": 3
   },
   "file_extension": ".py",
   "mimetype": "text/x-python",
   "name": "python",
   "nbconvert_exporter": "python",
   "pygments_lexer": "ipython3"
  }
 },
 "nbformat": 4,
 "nbformat_minor": 5
}
