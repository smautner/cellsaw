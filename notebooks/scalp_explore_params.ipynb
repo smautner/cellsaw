{
 "cells": [
  {
   "cell_type": "code",
   "execution_count": null,
   "id": "2cfd482a-338b-487d-8af6-65a5275c4a70",
   "metadata": {},
   "outputs": [],
   "source": [
    "%load_ext autoreload\n",
    "%matplotlib inline\n",
    "%autoreload 2\n",
    "%config Completer.use_jedi = True\n",
    "import matplotlib as mpl\n",
    "from matplotlib import pyplot as plt\n",
    "mpl.rc(\"figure\", dpi=100)\n",
    "from warnings import simplefilter\n",
    "# ignore all future warnings\n",
    "simplefilter(action='ignore', category=FutureWarning)"
   ]
  },
  {
   "cell_type": "code",
   "execution_count": null,
   "id": "e8586ceb-e6aa-4ab2-8cd0-9c033462b3f0",
   "metadata": {},
   "outputs": [],
   "source": [
    "import seaborn as sns \n",
    "from ubergauss.optimization import df_remove_duplicates as clean\n",
    "from ubergauss.optimization import get_best\n",
    "import numpy as np\n",
    "import ubergauss.tools as ut"
   ]
  },
  {
   "cell_type": "markdown",
   "id": "e1be8a27-02cf-4a7d-bfdd-fa43fc4abca2",
   "metadata": {},
   "source": [
    "- one interesting thing to look at is dimensionality \n",
    "  of the projection... do a plot dim vs output.score.score()"
   ]
  },
  {
   "cell_type": "code",
   "execution_count": null,
   "id": "f40721e7-8dc2-404b-b659-4cb1d771c705",
   "metadata": {},
   "outputs": [],
   "source": [
    "df = ut.loadfile(\"/home/ubuntu/repos/cellsaw/application/res_scib1\")\n",
    "df['score'] = [ ch+bat+sil for ch,sil,bat in zip(df.class_cohesion, df.silhouette, df.batch_cohesion)]\n",
    "df_clean = clean(df)\n",
    "# sns.pairplot(df_clean, hue = 'score', height=1.5, corner=True)\n",
    "g=sns.pairplot(df_clean, hue = 'silhouette', height=1.5,  palette = 'magma')\n",
    "\n",
    "def overwrite(x, y, label=None, color=None, cmap=None, **kwargs):\n",
    "    plt.scatter(x,y)\n",
    "\n",
    "g.map_lower(overwrite)\n",
    "\n",
    "df_clean['FAIL'] = [ np.isnan(z)  for z in df.score]\n",
    "get_best(df)\n",
    "get_best(df,column = 'silhouette')\n",
    "df_clean.corr(method='spearman')"
   ]
  },
  {
   "cell_type": "code",
   "execution_count": null,
   "id": "a70696c6-e7ed-42b9-918b-4db9f28df263",
   "metadata": {},
   "outputs": [],
   "source": [
    "df"
   ]
  },
  {
   "cell_type": "code",
   "execution_count": null,
   "id": "d54ad094-7820-4dae-af76-4cc4c4a46f5d",
   "metadata": {},
   "outputs": [],
   "source": [
    "\n"
   ]
  },
  {
   "cell_type": "code",
   "execution_count": null,
   "id": "57b8ff2f-4049-4514-a244-8ce933965515",
   "metadata": {},
   "outputs": [],
   "source": [
    "df = ut.loadfile(\"/home/ubuntu/repos/cellsaw/application/res_TS1\")\n",
    "df['score'] = [ ch+bat+sil for ch,sil,bat in zip(df.class_cohesion, df.silhouette, df.batch_cohesion)]\n",
    "df_clean = clean(df)\n",
    "sns.pairplot(df_clean, hue = 'score', height=1.5, corner=True)\n",
    "df['FAIL'] = [ np.isnan(z)  for z in df.score]\n",
    "get_best(df)\n",
    "df_clean.corr(method='spearman')"
   ]
  },
  {
   "cell_type": "code",
   "execution_count": null,
   "id": "44b9815b-2668-4b51-a3ae-4d623340367e",
   "metadata": {},
   "outputs": [],
   "source": []
  }
 ],
 "metadata": {
  "kernelspec": {
   "display_name": "Python 3 (ipykernel)",
   "language": "python",
   "name": "python3"
  },
  "language_info": {
   "codemirror_mode": {
    "name": "ipython",
    "version": 3
   },
   "file_extension": ".py",
   "mimetype": "text/x-python",
   "name": "python",
   "nbconvert_exporter": "python",
   "pygments_lexer": "ipython3"
  }
 },
 "nbformat": 4,
 "nbformat_minor": 5
}
