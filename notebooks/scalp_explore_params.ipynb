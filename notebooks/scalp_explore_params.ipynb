{
 "cells": [
  {
   "cell_type": "code",
   "execution_count": null,
   "id": "2cfd482a-338b-487d-8af6-65a5275c4a70",
   "metadata": {},
   "outputs": [],
   "source": [
    "%load_ext autoreload\n",
    "%matplotlib inline\n",
    "%autoreload 2\n",
    "%config Completer.use_jedi = True\n",
    "import matplotlib as mpl\n",
    "from matplotlib import pyplot as plt\n",
    "mpl.rc(\"figure\", dpi=100)\n",
    "from warnings import simplefilter\n",
    "# ignore all future warnings\n",
    "simplefilter(action='ignore', category=FutureWarning)"
   ]
  },
  {
   "cell_type": "code",
   "execution_count": null,
   "id": "e8586ceb-e6aa-4ab2-8cd0-9c033462b3f0",
   "metadata": {},
   "outputs": [],
   "source": [
    "import seaborn as sns \n",
    "from ubergauss.optimization import df_remove_duplicates as clean\n",
    "from ubergauss.optimization import get_best, pareto_scores\n",
    "import numpy as np\n",
    "import ubergauss.tools as ut\n"
   ]
  },
  {
   "cell_type": "code",
   "execution_count": null,
   "id": "00f4fa7b-eb57-43ec-80f1-fcf88e7bb4ce",
   "metadata": {},
   "outputs": [],
   "source": [
    "df = ut.loadfile(\"/home/ubuntu/repos/cellsaw/application/res_scib1\")"
   ]
  },
  {
   "cell_type": "code",
   "execution_count": null,
   "id": "77bd7126-946a-4122-8526-5e4195819906",
   "metadata": {},
   "outputs": [],
   "source": [
    "id = ['add_tree', 'copy_lsa_neighbors', 'inter_outlier_probabilistic_removal',\n",
    "       'inter_outlier_threshold', 'intra_neighbors_mutual',\n",
    "       'neighbors_intra_fraction', 'neighbors_total', 'dataset']\n",
    "df.fillna(0, inplace=True)\n",
    "df = df.melt(id_vars = id  ,  value_vars=['batch','label'], var_name='target', value_name='score')\n",
    "id.remove('dataset')\n",
    "pscores = pareto_scores(df, method = id)"
   ]
  },
  {
   "cell_type": "code",
   "execution_count": null,
   "id": "fef732cb-562d-4d73-8074-315a72e61010",
   "metadata": {},
   "outputs": [],
   "source": []
  },
  {
   "cell_type": "code",
   "execution_count": null,
   "id": "78f8fbbc-81b2-40c6-abb2-b09390cf2036",
   "metadata": {},
   "outputs": [],
   "source": [
    "import pandas as pd\n",
    "newdf = [dict(zip(id,v)) for v,score in pscores]\n",
    "for d,s in zip(newdf, pscores):\n",
    "    d['score'] = s[1]\n",
    "newdf = pd.DataFrame(newdf)\n",
    "g=sns.pairplot(newdf, hue = 'score', height=1.5,  palette = 'magma')\n",
    "    "
   ]
  },
  {
   "cell_type": "code",
   "execution_count": null,
   "id": "5008bf44-1036-494e-be3e-1a2d060dcccf",
   "metadata": {},
   "outputs": [],
   "source": [
    "import pandas as pd\n",
    "newdf = [dict(zip(id,v)) for v,score in pscores]\n",
    "for d,s in zip(newdf, pscores):\n",
    "    d['score'] = -s[1]\n",
    "newdf = pd.DataFrame(newdf)\n",
    "get_best(newdf)"
   ]
  },
  {
   "cell_type": "code",
   "execution_count": null,
   "id": "979bc218-924c-4a80-b775-013928e47009",
   "metadata": {},
   "outputs": [],
   "source": [
    "from ubergauss import optimization as uo\n",
    "newdf.sort_values(by=['score'])[-20:].corr()"
   ]
  },
  {
   "cell_type": "code",
   "execution_count": null,
   "id": "03c90fc2-48d2-439f-819a-969ab51f87e4",
   "metadata": {},
   "outputs": [],
   "source": [
    "newdf.sort_values(by=['score'])[-20:]"
   ]
  },
  {
   "cell_type": "code",
   "execution_count": null,
   "id": "1776116a-2863-4cb6-9411-a93389bec59c",
   "metadata": {},
   "outputs": [],
   "source": []
  },
  {
   "cell_type": "code",
   "execution_count": null,
   "id": "3062184c-e9dc-49b6-8502-f0788dbe91b1",
   "metadata": {},
   "outputs": [],
   "source": []
  },
  {
   "cell_type": "code",
   "execution_count": null,
   "id": "28d0b875-17f7-4c41-8c81-7ce639868040",
   "metadata": {},
   "outputs": [],
   "source": []
  },
  {
   "cell_type": "code",
   "execution_count": null,
   "id": "e4e67f91-8e0f-471a-8781-1e4e9e95bc7e",
   "metadata": {},
   "outputs": [],
   "source": []
  },
  {
   "cell_type": "code",
   "execution_count": null,
   "id": "36476b2a-81fd-49d4-85f2-5567a3bfe256",
   "metadata": {},
   "outputs": [],
   "source": []
  },
  {
   "cell_type": "code",
   "execution_count": null,
   "id": "b90c7e41-8027-48c2-a052-fd3626858f30",
   "metadata": {},
   "outputs": [],
   "source": []
  },
  {
   "cell_type": "code",
   "execution_count": null,
   "id": "9e36431a-c4b8-45ac-a0d5-e5c08681bc8a",
   "metadata": {},
   "outputs": [],
   "source": []
  },
  {
   "cell_type": "code",
   "execution_count": null,
   "id": "f40721e7-8dc2-404b-b659-4cb1d771c705",
   "metadata": {},
   "outputs": [],
   "source": [
    "df = ut.loadfile(\"/home/ubuntu/repos/cellsaw/application/res_scib1\")\n",
    "df['score'] = [ ch+bat+sil for ch,sil,bat in zip(df.class_cohesion, df.silhouette, df.batch_cohesion)]\n",
    "df_clean = clean(df)\n",
    "# sns.pairplot(df_clean, hue = 'score', height=1.5, corner=True)\n",
    "g=sns.pairplot(df_clean, hue = 'silhouette', height=1.5,  palette = 'magma')\n",
    "\n",
    "def overwrite(x, y, label=None, color=None, cmap=None, **kwargs):\n",
    "    plt.scatter(x,y)\n",
    "\n",
    "g.map_lower(overwrite)\n",
    "\n",
    "df_clean['FAIL'] = [ np.isnan(z)  for z in df.score]\n",
    "get_best(df)\n",
    "get_best(df,column = 'silhouette')\n",
    "df_clean.corr(method='spearman')"
   ]
  },
  {
   "cell_type": "code",
   "execution_count": null,
   "id": "a70696c6-e7ed-42b9-918b-4db9f28df263",
   "metadata": {},
   "outputs": [],
   "source": [
    "df"
   ]
  },
  {
   "cell_type": "code",
   "execution_count": null,
   "id": "d54ad094-7820-4dae-af76-4cc4c4a46f5d",
   "metadata": {},
   "outputs": [],
   "source": [
    "\n"
   ]
  },
  {
   "cell_type": "code",
   "execution_count": null,
   "id": "57b8ff2f-4049-4514-a244-8ce933965515",
   "metadata": {},
   "outputs": [],
   "source": [
    "df = ut.loadfile(\"/home/ubuntu/repos/cellsaw/application/res_TS1\")\n",
    "df['score'] = [ ch+bat+sil for ch,sil,bat in zip(df.class_cohesion, df.silhouette, df.batch_cohesion)]\n",
    "df_clean = clean(df)\n",
    "sns.pairplot(df_clean, hue = 'score', height=1.5, corner=True)\n",
    "df['FAIL'] = [ np.isnan(z)  for z in df.score]\n",
    "get_best(df)\n",
    "df_clean.corr(method='spearman')"
   ]
  },
  {
   "cell_type": "code",
   "execution_count": null,
   "id": "44b9815b-2668-4b51-a3ae-4d623340367e",
   "metadata": {},
   "outputs": [],
   "source": []
  }
 ],
 "metadata": {
  "kernelspec": {
   "display_name": "Python 3 (ipykernel)",
   "language": "python",
   "name": "python3"
  },
  "language_info": {
   "codemirror_mode": {
    "name": "ipython",
    "version": 3
   },
   "file_extension": ".py",
   "mimetype": "text/x-python",
   "name": "python",
   "nbconvert_exporter": "python",
   "pygments_lexer": "ipython3"
  }
 },
 "nbformat": 4,
 "nbformat_minor": 5
}
