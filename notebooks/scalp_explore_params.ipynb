{
 "cells": [
  {
   "cell_type": "code",
   "execution_count": null,
   "id": "2cfd482a-338b-487d-8af6-65a5275c4a70",
   "metadata": {
    "editable": true,
    "slideshow": {
     "slide_type": ""
    },
    "tags": []
   },
   "outputs": [],
   "source": [
    "%load_ext autoreload\n",
    "%matplotlib inline\n",
    "%autoreload 2\n",
    "%config Completer.use_jedi = True\n",
    "import matplotlib as mpl\n",
    "from matplotlib import pyplot as plt\n",
    "mpl.rc(\"figure\", dpi=300)\n",
    "from warnings import simplefilter\n",
    "# ignore all future warnings\n",
    "simplefilter(action='ignore', category=FutureWarning)"
   ]
  },
  {
   "cell_type": "code",
   "execution_count": null,
   "id": "e523c00d-82d2-40dd-8078-8e8bc9109690",
   "metadata": {},
   "outputs": [],
   "source": [
    "import ubergauss.tools as ut\n",
    "df = ut.loadfile(\"/home/ubuntu/repos/cellsaw/application/results\")"
   ]
  },
  {
   "cell_type": "code",
   "execution_count": null,
   "id": "68239da2-9481-403f-b455-1a51b868420f",
   "metadata": {},
   "outputs": [],
   "source": []
  },
  {
   "cell_type": "code",
   "execution_count": null,
   "id": "f40721e7-8dc2-404b-b659-4cb1d771c705",
   "metadata": {
    "editable": true,
    "slideshow": {
     "slide_type": ""
    },
    "tags": []
   },
   "outputs": [],
   "source": [
    "import seaborn as sns \n",
    "from ubergauss.optimization import df_remove_duplicates as clean\n",
    "df_clean = clean(df)\n",
    "sns.pairplot(df_clean, hue = 'score')"
   ]
  },
  {
   "cell_type": "code",
   "execution_count": null,
   "id": "d54ad094-7820-4dae-af76-4cc4c4a46f5d",
   "metadata": {},
   "outputs": [],
   "source": [
    "\n",
    "- one interesting thing to look at is dimensionality \n",
    "  of the projection... do a plot dim vs output.score.score()"
   ]
  },
  {
   "cell_type": "code",
   "execution_count": null,
   "id": "5969ba4f-4043-4813-b893-5a3b34aa7547",
   "metadata": {},
   "outputs": [],
   "source": []
  }
 ],
 "metadata": {
  "kernelspec": {
   "display_name": "Python 3 (ipykernel)",
   "language": "python",
   "name": "python3"
  },
  "language_info": {
   "codemirror_mode": {
    "name": "ipython",
    "version": 3
   },
   "file_extension": ".py",
   "mimetype": "text/x-python",
   "name": "python",
   "nbconvert_exporter": "python",
   "pygments_lexer": "ipython3",
   "version": "3.11.0"
  }
 },
 "nbformat": 4,
 "nbformat_minor": 5
}
