{
 "cells": [
  {
   "cell_type": "code",
   "execution_count": null,
   "id": "7d83714b-790b-460e-a810-f946f251ef67",
   "metadata": {},
   "outputs": [],
   "source": [
    "%load_ext autoreload\n",
    "%matplotlib inline\n",
    "%autoreload 2\n",
    "%config Completer.use_jedi = True\n",
    "import matplotlib as mpl\n",
    "from matplotlib import pyplot as plt\n",
    "mpl.rc(\"figure\", dpi=100)\n",
    "from warnings import simplefilter\n",
    "# ignore all future warnings\n",
    "simplefilter(action='ignore')\n",
    "import scalp\n",
    "from scalp.output import draw\n",
    "import lmz\n",
    "import numpy as np\n",
    "from scipy.sparse import csr_matrix\n",
    "import scanpy as sc\n",
    "import seaborn as sns"
   ]
  },
  {
   "cell_type": "code",
   "execution_count": null,
   "id": "d53ba6b9-55bf-4364-a8ec-4588945886cb",
   "metadata": {},
   "outputs": [],
   "source": [
    "# dataset = scalp.data.mkblobs(sizes = [[24,21],[25,20],[23,22]], clusterspread = .3, batchspread = 4)\n",
    "dataset = scalp.data.mkblobs(sizes = [[40,24,21],[40,25,20],[40,23,22]],  clusterspread = .5, batchspread = 1.5)\n",
    "#dataset = scalp.data.mkblobs(sizes = [[3,5],[5,3]], clusterspread = .1, batchspread = 4)\n",
    "for d in dataset:\n",
    "    d.obsm['umap'] = d.X\n",
    "stack = scalp.transform.stack(dataset)\n",
    "sc.pl.umap(stack, color=['batch', 'label'], s= 80)"
   ]
  },
  {
   "cell_type": "code",
   "execution_count": null,
   "id": "8d84f380-5ea9-458d-8239-6105830069a9",
   "metadata": {},
   "outputs": [],
   "source": [
    "from scipy.sparse.csgraph import dijkstra\n",
    "from scalp import graph as sgraph\n",
    "import pacmap\n",
    "parm = {'neighbors_total': 30,\n",
    "         'neighbors_intra_fraction': .3,\n",
    "         'add_tree': False,\n",
    "         'epsilon'  : 1e-4, \n",
    "          'copy_lsa_neighbors': False, \n",
    "         'inter_outlier_threshold': .9,\n",
    "         'inter_outlier_probabilistic_removal': False}\n",
    "\n",
    "dataset, graph = scalp.mkgraph(dataset,**parm)\n",
    "# neggraph = sgraph.negstuff(dataset,**parm)\n",
    "# graph[graph >= 100] = 2\n",
    "# graph = csr_matrix(graph).toarray()\n",
    "\n",
    "#graph[graph==0] = 99\n",
    "scalp.umapwrap.graph_umap(dataset,graph,label = 'umap', n_components = 2)\n",
    "# fullgraph = dijkstra(graph)\n",
    "# scalp.umapwrap.graph_pacmap(dataset,fullgraph,label = 'umap', n_components = 2, neighbors = None, MN  = .2, FP = 2)\n",
    "# scalp.umapwrap.graph_jax(dataset,graph,label = 'umap', n_components = 2, **parm)\n",
    "# scalp.umapwrap.graph_umap(dataset,graph,label = 'umap', n_components = 2)\n",
    "\n",
    "stack = scalp.transform.stack(dataset)\n",
    "sc.pl.umap(stack, color=['batch', 'label'], s= 100)\n",
    "\n",
    "#sns.heatmap(neggraph.toarray())\n",
    "#plt.show()\n",
    "\n",
    "# from sklearn.metrics.pairwise import euclidean_distances\n",
    "# sns.heatmap(euclidean_distances(stack.obsm['umap']))\n",
    "# plt.show()"
   ]
  },
  {
   "cell_type": "code",
   "execution_count": null,
   "id": "eb79a264-3c6b-4d79-930b-e83444589c65",
   "metadata": {},
   "outputs": [],
   "source": [
    "mask = (graph.toarray()>0 )& (neggraph.toarray() > 0)\n",
    "st = (csr_matrix(graph),csr_matrix(neggraph))\n",
    "st[0][mask] = 0\n",
    "scalp.umapwrap.graph_jax(dataset,st,label = 'umap', n_components = 2)[0].obsm['umap']"
   ]
  },
  {
   "cell_type": "code",
   "execution_count": null,
   "id": "08b082c0-3625-4b69-a357-f658517975bf",
   "metadata": {},
   "outputs": [],
   "source": [
    "np.linalg.norm([[ 0.      ,    0.        ],\n",
    " [-0.00783532 ,-0.0041316 ],\n",
    " [-0.07946298 , 0.00789009]], axis = 1)"
   ]
  },
  {
   "cell_type": "code",
   "execution_count": null,
   "id": "9a52a71e-1394-4a23-8bae-40830ea5f7b6",
   "metadata": {},
   "outputs": [],
   "source": [
    "\n",
    "import networkx as nx\n",
    "import numpy as np\n",
    "import matplotlib.pyplot as plt\n",
    "from scipy.sparse import csr_matrix\n",
    "\n",
    "def plot_sparse_matrix(sparse_matrix, plot_title=\"Graph\"):\n",
    "    \"\"\"\n",
    "    Converts a sparse matrix into a NetworkX graph and plots it using a spring layout.\n",
    "\n",
    "    Parameters:\n",
    "    - sparse_matrix (scipy.sparse.csr_matrix): The sparse matrix representing the graph.\n",
    "    - plot_title (str): Title for the plot.\n",
    "\n",
    "    Returns:\n",
    "    - None\n",
    "    \"\"\"\n",
    "    # Convert the sparse matrix to a NetworkX graph\n",
    "    graph = nx.from_scipy_sparse_array(sparse_matrix)\n",
    "    # print(graph.edges(data=True))\n",
    "    # Compute the spring layout\n",
    "    pos = nx.spring_layout(graph)\n",
    "\n",
    "    # Plot the graph\n",
    "    plt.figure(figsize=(8, 8))\n",
    "    col = stack.obs['label']\n",
    "    nx.draw(graph, pos, with_labels=True,\n",
    "            node_size=100, node_color=col,\n",
    "            font_size=8, font_color='black', font_weight='bold',\n",
    "            edge_color='gray', linewidths=0.5, alpha=0.7)\n",
    "    plt.title(plot_title)\n",
    "    plt.show\n",
    "    \n",
    "plot_sparse_matrix(csr_matrix(graph), plot_title=\"Graph\")\n"
   ]
  },
  {
   "cell_type": "code",
   "execution_count": null,
   "id": "0bc7ec4e-48fe-4408-ba6b-645777d9a142",
   "metadata": {},
   "outputs": [],
   "source": [
    "\n",
    "arr = np.arange(9).reshape((3, 3))\n",
    "\n",
    "np.random.shuffle(arr.T)\n",
    "\n",
    "arr"
   ]
  },
  {
   "cell_type": "code",
   "execution_count": null,
   "id": "66234222-549e-4bbf-b6d7-38af96ca7a78",
   "metadata": {},
   "outputs": [],
   "source": [
    "np.sum((graph.toarray()>0 )& (neggraph.toarray() > 0))"
   ]
  }
 ],
 "metadata": {
  "kernelspec": {
   "display_name": "Python 3 (ipykernel)",
   "language": "python",
   "name": "python3"
  },
  "language_info": {
   "codemirror_mode": {
    "name": "ipython",
    "version": 3
   },
   "file_extension": ".py",
   "mimetype": "text/x-python",
   "name": "python",
   "nbconvert_exporter": "python",
   "pygments_lexer": "ipython3"
  }
 },
 "nbformat": 4,
 "nbformat_minor": 5
}
