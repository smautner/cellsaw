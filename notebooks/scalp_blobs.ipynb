{
 "cells": [
  {
   "cell_type": "code",
   "execution_count": null,
   "id": "7d83714b-790b-460e-a810-f946f251ef67",
   "metadata": {},
   "outputs": [],
   "source": [
    "%load_ext autoreload\n",
    "%matplotlib inline\n",
    "%autoreload 2\n",
    "%config Completer.use_jedi = True\n",
    "import matplotlib as mpl\n",
    "from matplotlib import pyplot as plt\n",
    "mpl.rc(\"figure\", dpi=100)\n",
    "from warnings import simplefilter\n",
    "# ignore all future warnings\n",
    "simplefilter(action='ignore')\n",
    "import scalp\n",
    "from scalp.output import draw\n",
    "import lmz\n",
    "import numpy as np\n",
    "import scanpy as sc"
   ]
  },
  {
   "cell_type": "code",
   "execution_count": null,
   "id": "d53ba6b9-55bf-4364-a8ec-4588945886cb",
   "metadata": {},
   "outputs": [],
   "source": [
    "dataset = scalp.data.mkblobs(sizes = [[15,30],[25,20],[23,22]], clusterspread = .5, batchspread = 4)\n",
    "# dataset = scalp.data.mkblobs(sizes = [[10,5],[12,3],[7,8]], clusterspread = 1, batchspread = 4)\n",
    "for d in dataset:\n",
    "    d.obsm['umap'] = d.X\n",
    "stack = scalp.transform.stack(dataset)\n",
    "sc.pl.umap(stack, color=['batch', 'label'], s= 80)"
   ]
  },
  {
   "cell_type": "code",
   "execution_count": null,
   "id": "8d84f380-5ea9-458d-8239-6105830069a9",
   "metadata": {},
   "outputs": [],
   "source": [
    "from scipy.sparse.csgraph import dijkstra\n",
    "\n",
    "parm = {'neighbors_total': 10,\n",
    "         'neighbors_intra_fraction': .5,\n",
    "         'add_tree': False,\n",
    "         'epsilon'  : 1e-6, \n",
    "          'copy_lsa_neighbors': False, \n",
    "         'inter_outlier_threshold': .95,\n",
    "         'inter_outlier_probabilistic_removal': False}\n",
    "dataset, graph = scalp.mkgraph(dataset,**parm)\n",
    "\n",
    "graph = dijkstra(graph)\n",
    "scalp.umapwrap.graph_xumap(dataset,graph,label = 'umap', n_components = 2)\n",
    "\n",
    "# scalp.umapwrap.graph_umap(dataset,graph,label = 'umap', n_components = 2)\n",
    "\n",
    "stack = scalp.transform.stack(dataset)\n",
    "sc.pl.umap(stack, color=['batch', 'label'], s= 100)\n",
    "# plt.matshow(graph)\n",
    "\n",
    "import structout as so\n",
    "#so.heatmap(graph)"
   ]
  },
  {
   "cell_type": "code",
   "execution_count": null,
   "id": "9a52a71e-1394-4a23-8bae-40830ea5f7b6",
   "metadata": {},
   "outputs": [],
   "source": [
    "\n",
    "import networkx as nx\n",
    "import numpy as np\n",
    "import matplotlib.pyplot as plt\n",
    "from scipy.sparse import csr_matrix\n",
    "\n",
    "def plot_sparse_matrix(sparse_matrix, plot_title=\"Graph\"):\n",
    "    \"\"\"\n",
    "    Converts a sparse matrix into a NetworkX graph and plots it using a spring layout.\n",
    "\n",
    "    Parameters:\n",
    "    - sparse_matrix (scipy.sparse.csr_matrix): The sparse matrix representing the graph.\n",
    "    - plot_title (str): Title for the plot.\n",
    "\n",
    "    Returns:\n",
    "    - None\n",
    "    \"\"\"\n",
    "    # Convert the sparse matrix to a NetworkX graph\n",
    "    graph = nx.from_scipy_sparse_array(sparse_matrix)\n",
    "    # print(graph.edges(data=True))\n",
    "    # Compute the spring layout\n",
    "    pos = nx.spring_layout(graph)\n",
    "\n",
    "    # Plot the graph\n",
    "    plt.figure(figsize=(8, 8))\n",
    "    col = stack.obs['batch']\n",
    "    nx.draw(graph, pos, with_labels=True,\n",
    "            node_size=100, node_color=col,\n",
    "            font_size=8, font_color='black', font_weight='bold',\n",
    "            edge_color='gray', linewidths=0.5, alpha=0.7)\n",
    "    plt.title(plot_title)\n",
    "    plt.show\n",
    "    \n",
    "plot_sparse_matrix(csr_matrix(graph), plot_title=\"Graph\")\n"
   ]
  },
  {
   "cell_type": "code",
   "execution_count": null,
   "id": "2f851119-8097-4665-93e7-1b7bbdd12565",
   "metadata": {},
   "outputs": [],
   "source": [
    "stack"
   ]
  },
  {
   "cell_type": "code",
   "execution_count": null,
   "id": "98a74f86-9188-4d65-8410-f674e9b39cf9",
   "metadata": {},
   "outputs": [],
   "source": []
  }
 ],
 "metadata": {
  "kernelspec": {
   "display_name": "Python 3 (ipykernel)",
   "language": "python",
   "name": "python3"
  },
  "language_info": {
   "codemirror_mode": {
    "name": "ipython",
    "version": 3
   },
   "file_extension": ".py",
   "mimetype": "text/x-python",
   "name": "python",
   "nbconvert_exporter": "python",
   "pygments_lexer": "ipython3",
   "version": "3.11.0"
  }
 },
 "nbformat": 4,
 "nbformat_minor": 5
}
