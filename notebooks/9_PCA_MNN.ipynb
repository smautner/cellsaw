{
 "cells": [
  {
   "cell_type": "code",
   "execution_count": null,
   "id": "9abef5bc-a0f6-4e98-bce0-5f2985e9e226",
   "metadata": {},
   "outputs": [],
   "source": [
    "%load_ext autoreload\n",
    "%autoreload 2\n",
    "%config Completer.use_jedi = True"
   ]
  },
  {
   "cell_type": "code",
   "execution_count": null,
   "id": "a1819a3c-dca0-4975-97a3-7e6465b45ecc",
   "metadata": {},
   "outputs": [],
   "source": [
    "import matplotlib as mpl\n",
    "from matplotlib import pyplot as plt\n",
    "mpl.rc(\"figure\", dpi=100)\n",
    "import numpy as np\n",
    "import jack\n",
    "from lmz import *"
   ]
  },
  {
   "cell_type": "code",
   "execution_count": null,
   "id": "81b77873-9200-4d1b-9af1-1cbf06a618c9",
   "metadata": {},
   "outputs": [],
   "source": [
    "import scanpy as sc"
   ]
  },
  {
   "cell_type": "markdown",
   "id": "478c9684-2175-40d6-b367-38dfb5add3bd",
   "metadata": {},
   "source": [
    "# LOAD DATA "
   ]
  },
  {
   "cell_type": "code",
   "execution_count": null,
   "id": "3efe55cd-5426-4431-b5a9-5b2705a21674",
   "metadata": {},
   "outputs": [],
   "source": [
    "'''\n",
    "zedata = [sc.read('/home/ubuntu/benchdata/'+data) for data in \"Immune_ALL_hum_mou.h5ad  Immune_ALL_human.h5ad  Lung_atlas_public.h5ad  human_pancreas_norm_complexBatch.h5ad\".split()]\n",
    "batch,typ = Transpose (Map(lambda x:x.split(), 'batch final_annotation#batch final_annotation#batch cell_type#tech celltype'.split(\"#\")))\n",
    "zedata =  [[z[z.obs[b]==i] for i in z.obs[b].unique()] for z,b in zip(zedata, batch)]\n",
    "def samplecopy(data, num):\n",
    "    obs_indices = np.random.choice(data.n_obs, size=num, replace=True,) \n",
    "    r=  data[obs_indices].copy()\n",
    "    r.obs_names_make_unique()\n",
    "    return r\n",
    "data = [[samplecopy(d,500) for d in z] for z in zedata]\n",
    "'''\n",
    "\n",
    "\n",
    "# i think this was the way:\n",
    "zedata = [sc.read('/home/ubuntu/benchdata/'+data) for data in \"Immune_ALL_hum_mou.h5ad  Immune_ALL_human.h5ad  Lung_atlas_public.h5ad  human_pancreas_norm_complexBatch.h5ad\".split()]\n",
    "batch,typ = Transpose (Map(lambda x:x.split(), 'batch final_annotation#batch final_annotation#batch cell_type#tech celltype'.split(\"#\")))\n",
    "\n",
    "zedata =  [[z[z.obs[b]==i] for i in z.obs[b].unique()] for z,b in zip(zedata, batch)]\n",
    "def samplecopy(data,num, seed):\n",
    "    np.random.seed(seed) \n",
    "    obs_indices = np.random.choice(data.n_obs, size=num, replace=True,) \n",
    "    r=  data[obs_indices].copy()\n",
    "    r.obs_names_make_unique()\n",
    "    return r\n",
    "\n",
    "adata2 = [[samplecopy(i,750,1234)  for i in series]  for series in zedata]\n",
    "\n",
    "\n"
   ]
  },
  {
   "cell_type": "code",
   "execution_count": null,
   "id": "adfdd41f-9022-4ecc-8cc5-e8deb2a045d9",
   "metadata": {},
   "outputs": [],
   "source": [
    "# integrate \n",
    "i = -1\n",
    "data = adata2[i][:4]\n",
    "batchi = batch[i]\n",
    "labeli = typ[i]"
   ]
  },
  {
   "cell_type": "code",
   "execution_count": null,
   "id": "89012039-6a4f-4563-a40f-7ba07b5d6525",
   "metadata": {},
   "outputs": [],
   "source": [
    "from cellsaw import merge as merg\n",
    "import cellsaw as cs\n",
    "from cellsaw.merge.diffusion import kernel\n",
    "from sklearn.decomposition import PCA\n",
    "\n",
    "\n",
    "cs.preprocess.annotate_genescore2(data,selector = 'cell_ranger',  normrow = True, log = True)\n",
    "me = merg.Merge(data,umaps=[],oldcut=False, pca = 40)\n",
    "\n",
    "dist = kernel.linear_assignment_integrate(me.projections[1])\n",
    "mine = kernel.distmatrixumap(me.projections[1],dist,components = 40)\n",
    "mine_PCA = PCA().fit_transform(mine) \n",
    "\n",
    "mnn = sc.external.pp.mnn_correct(*me.data, n_jobs = 30)\n",
    "mnn_PCA = PCA().fit_transform(mnn[0].X) "
   ]
  },
  {
   "cell_type": "code",
   "execution_count": null,
   "id": "d42a940f-d71a-4668-91bc-47bc28339589",
   "metadata": {},
   "outputs": [],
   "source": [
    "for e in me.projections[0]:\n",
    "    print(e.shape)\n",
    "    print(type(e))"
   ]
  },
  {
   "cell_type": "code",
   "execution_count": null,
   "id": "8d7e5182-ec51-456e-97ed-9ed0e595cdf3",
   "metadata": {},
   "outputs": [],
   "source": [
    "from scipy import sparse\n",
    "from sklearn.decomposition import PCA\n",
    "stack = np.vstack(me.projections[0])\n",
    "raw_PCA = PCA(n_components = 2).fit_transform(stack)\n",
    "raw_PCA.shape"
   ]
  },
  {
   "cell_type": "markdown",
   "id": "b294a08b-61ba-448c-9a46-10cd0c2417b8",
   "metadata": {},
   "source": [
    "# comparison plots  (also f3 from mnn paper)"
   ]
  },
  {
   "cell_type": "code",
   "execution_count": null,
   "id": "4f994230-f39c-4c57-a0bc-35ca8f10f9ae",
   "metadata": {},
   "outputs": [],
   "source": [
    "from cellsaw import preprocess as pp \n",
    "from cellsaw import merge as merg\n",
    "from cellsaw import draw \n",
    "from cellsaw import util\n",
    "import umap\n",
    "from sklearn.decomposition import PCA\n",
    "import ubergauss.tools as t\n",
    "\n",
    "def pcaplot(adata,d2stack):\n",
    "    \n",
    "    d2split =  [d2stack[adata.obs[batchi]==i].copy() for i in adata.obs[batchi].unique()]\n",
    "    \n",
    "    labelstack = [ x  for a in me.data for x in a.obs[labeli] ]\n",
    "    y =  np.array(t.labelsToIntList(labelstack)[0])\n",
    "    labels =  [y[adata.obs[batchi]==i].copy() for i in adata.obs[batchi].unique()]\n",
    "    \n",
    "    def scatter(i,**other):\n",
    "        x = d2split[i]\n",
    "        y = labels[i]\n",
    "        plt.scatter(x[:,0],x[:,1],c=y,**other)\n",
    "    scatter(0,marker='o', alpha = .3)\n",
    "    scatter(1,marker=\"o\", alpha = .9)\n",
    "    scatter(2,marker=\"x\", alpha = .3)\n",
    "    plt.show()\n",
    "\n",
    "\n",
    "pcaplot(mnn[0],raw_PCA)\n",
    "pcaplot(mnn[0],mnn_PCA)\n",
    "pcaplot(mnn[0],mine_PCA)"
   ]
  },
  {
   "cell_type": "code",
   "execution_count": null,
   "id": "cf7b2dc1-785d-48b7-a4ed-703ec7396205",
   "metadata": {},
   "outputs": [],
   "source": []
  }
 ],
 "metadata": {
  "kernelspec": {
   "display_name": "Python 3 (ipykernel)",
   "language": "python",
   "name": "python3"
  },
  "language_info": {
   "codemirror_mode": {
    "name": "ipython",
    "version": 3
   },
   "file_extension": ".py",
   "mimetype": "text/x-python",
   "name": "python",
   "nbconvert_exporter": "python",
   "pygments_lexer": "ipython3",
   "version": "3.8.5"
  },
  "toc-autonumbering": false,
  "toc-showcode": false,
  "toc-showmarkdowntxt": false
 },
 "nbformat": 4,
 "nbformat_minor": 5
}
