{
 "cells": [
  {
   "cell_type": "code",
   "execution_count": null,
   "id": "2dabedd2-e7d2-47bf-80f0-7121a344ac62",
   "metadata": {},
   "outputs": [],
   "source": [
    "%load_ext autoreload\n",
    "%autoreload 2\n",
    "%config Completer.use_jedi = True"
   ]
  },
  {
   "cell_type": "code",
   "execution_count": null,
   "id": "da9211ed-c26d-4366-b9d9-2e4b28b5724a",
   "metadata": {},
   "outputs": [],
   "source": [
    "import matplotlib as mpl\n",
    "from matplotlib import pyplot as plt\n",
    "mpl.rc(\"figure\", dpi=200)\n",
    "import numpy as np\n",
    "import jack\n",
    "from lmz import *\n",
    "\n",
    "# Data preparation\n",
    "import cellsaw\n",
    "import cellsaw.io_utils\n",
    "import notebookhelper\n"
   ]
  },
  {
   "cell_type": "code",
   "execution_count": null,
   "id": "dd7fce22-2a89-4391-8bba-4ad19ae6635d",
   "metadata": {
    "tags": []
   },
   "outputs": [],
   "source": [
    "# loading data-> [[anndata]] \n",
    "filenames = notebookhelper.filenames\n",
    "path = '/home/ubuntu/data/scdata/'\n",
    "datasets = [cellsaw.io_utils.read(sample_size=1000, \n",
    "                            sampleseed = seed,\n",
    "                            suffix = '.h5',\n",
    "                            dir = path, \n",
    "                            remove_cells = {'celltype': [\"no pangalo\", \"Unknown\"]},\n",
    "                            datasets = filenames) \n",
    "                                for seed in [42 ,1337,31337,501,404]]\n",
    "                                            \n"
   ]
  },
  {
   "cell_type": "code",
   "execution_count": null,
   "id": "5b72e4cd-fabb-4e65-9873-df8cfb5c7dac",
   "metadata": {
    "tags": []
   },
   "outputs": [],
   "source": [
    "%%time \n",
    "from matplotlib import pyplot as plt\n",
    "from cellsaw import similarity \n",
    "from cellsaw.similarity import measures\n",
    "import logging\n",
    "logging\n",
    "# \n",
    "# TODO: set prefered algorithm\n",
    "# TODO: i should add a mode to force the category to be \n",
    "# correct -> wrapper that groups by filename\n",
    "\n",
    "def datasets_to_similarity(datasets):\n",
    "    target_datasets = datasets\n",
    "    source_datasets = datasets\n",
    "    ranked_datasets_list, similarity_df = similarity.rank_by_similarity(\n",
    "                                    method = \"seurat_v3\",\n",
    "                                    target = target_datasets, \n",
    "                                    numgenes =200,\n",
    "                                    similarity = \"jaccard\",\n",
    "                                    source = source_datasets,            \n",
    "                                    return_similarity = True)\n",
    "    return ranked_datasets_list\n",
    "\n",
    "datasets = Map(datasets_to_similarity, datasets)\n",
    "\n",
    "\n"
   ]
  },
  {
   "cell_type": "code",
   "execution_count": null,
   "id": "23bd06d6-8f86-4ca6-9390-cfc890fd1ae2",
   "metadata": {
    "jupyter": {
     "outputs_hidden": true
    },
    "tags": []
   },
   "outputs": [],
   "source": [
    "from cellsaw import annotate\n",
    "def evaluate(methods):\n",
    "    res = []\n",
    "    for i,rankedlist in enumerate(datasets):\n",
    "        for j, pair in enumerate(rankedlist):\n",
    "            t,s = pair[0].copy(), pair[1].copy()\n",
    "            premerged = annotate.mergewrap(t,s,\n",
    "                                umap_dim = 5, pca = 20, make_even=True, sortfield = 2)\n",
    "            for method in methods:\n",
    "                score, name = method(premerged, t)\n",
    "                res.append({'reapeat':i,'dataset':j,'score':score, 'method':name})\n",
    "    return res\n",
    "\n",
    "\n",
    "def mymethod(premerged, target):\n",
    "    #target, source = pair[0].copy(), pair[1].copy()\n",
    "    annotate.predict_celltype(target,None,source_label = 'celltype',  \n",
    "                                   target_label='predicted_celltype', \n",
    "                                   premerged = premerged,\n",
    "                                   pca_dim = 20, umap_dim = 5,\n",
    "                                   n_intra_neighbors = 5,\n",
    "                                   n_inter_neighbors = 1,\n",
    "                                   make_even= False,\n",
    "                                   sigmafac = 1,\n",
    "                                   linear_assignment_factor = 1,\n",
    "                                   similarity_scale_factor = 1.0) \n",
    "    score = annotate.accuracy_evaluation(target,true='celltype',predicted = 'predicted_celltype')\n",
    "    return score, 'Diffusion'\n",
    "\n",
    "\n",
    "def linsum(premerged, target):\n",
    "    target = annotate.linsum_copylabel(target,None,source_label = 'celltype', \n",
    "                                                   target_label= 'linsum_copy', premerged = premerged,\n",
    "                                                   pca_dim = 20, umap_dim = 0)    \n",
    "\n",
    "    score = annotate.accuracy_evaluation(target,true='celltype',predicted = 'linsum_copy')\n",
    "    return score, 'linsum_copy'\n",
    "\n",
    "\n",
    "\n",
    "def knn(premerged, target):\n",
    "\n",
    "    target = annotate.label_knn(target,None,source_label = 'celltype', \n",
    "                                       target_label='knn',  premerged = premerged,\n",
    "                                       pca_dim = 20, umap_dim = 0,k=5)\n",
    "    score = annotate.accuracy_evaluation(target,true='celltype',predicted = 'knn')\n",
    "    return score, 'knn'\n",
    "\n",
    "def rawdiff(premerged, target):\n",
    "    tlabel = 'raw_diffusion'\n",
    "    target = annotate.raw_diffusion(target,None,source_label = 'celltype', \n",
    "                                               target_label=tlabel,\n",
    "                                              premerged = premerged,\n",
    "                                                n_neighbors = 5,gamma = .1,\n",
    "                                               pca_dim = 40, umap_dim = 10)\n",
    "\n",
    "    score = annotate.accuracy_evaluation(target,true='celltype',predicted = tlabel)\n",
    "    return score, tlabel\n",
    "\n",
    "\n",
    "\n",
    "def markercount(premerged, target):\n",
    "    tlabel = 'markercount'\n",
    "\n",
    "    # ! carefull i exclude unknowns here\n",
    "    target = annotate.markercount(target,None,source_label = 'celltype', \n",
    "                                   target_label=tlabel,  premerged = premerged,\n",
    "                                   pca_dim = 20, umap_dim = 0)\n",
    "\n",
    "    score = annotate.accuracy_evaluation(target,true='celltype',predicted = tlabel)\n",
    "    return score, tlabel\n",
    "\n",
    "\n",
    "bla = evaluate([mymethod, linsum, knn, rawdiff,markercount])\n",
    "import pandas as pd\n",
    "import seaborn as sns\n",
    "df = pd.DataFrame(bla)\n",
    "sns.barplot(data = df, y= 'score', x = 'method' )\n",
    "            \n",
    "    "
   ]
  },
  {
   "cell_type": "code",
   "execution_count": null,
   "id": "0f70f9a6-c8c0-4e10-be71-bc85c288d4b7",
   "metadata": {},
   "outputs": [],
   "source": [
    "sns.barplot(data = df, y= 'score', x = 'method' )"
   ]
  },
  {
   "cell_type": "code",
   "execution_count": null,
   "id": "d8c55369-981f-4a6a-ae96-8517abc72f35",
   "metadata": {},
   "outputs": [],
   "source": [
    "sns.heatmap(df.pivot_table('score','method','dataset'),square=True) # fontsize smaller "
   ]
  },
  {
   "cell_type": "code",
   "execution_count": null,
   "id": "a5038ed8-27d1-4cb8-b2d0-fc20e82490a3",
   "metadata": {
    "jupyter": {
     "outputs_hidden": true
    },
    "tags": []
   },
   "outputs": [],
   "source": []
  },
  {
   "cell_type": "code",
   "execution_count": null,
   "id": "c9983fb1-20fe-4fac-b63d-c796ed3334f0",
   "metadata": {},
   "outputs": [],
   "source": []
  }
 ],
 "metadata": {
  "kernelspec": {
   "display_name": "Python 3 (ipykernel)",
   "language": "python",
   "name": "python3"
  },
  "language_info": {
   "codemirror_mode": {
    "name": "ipython",
    "version": 3
   },
   "file_extension": ".py",
   "mimetype": "text/x-python",
   "name": "python",
   "nbconvert_exporter": "python",
   "pygments_lexer": "ipython3",
   "version": "3.8.5"
  }
 },
 "nbformat": 4,
 "nbformat_minor": 5
}
