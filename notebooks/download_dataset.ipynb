{
 "cells": [
  {
   "cell_type": "raw",
   "id": "843fbcfd01cfb66e",
   "metadata": {},
   "source": []
  },
  {
   "cell_type": "code",
   "execution_count": null,
   "id": "3f0008016f1fb80f",
   "metadata": {},
   "outputs": [],
   "source": [
    "import testload\n",
    "# https://cellrank.readthedocs.io/en/latest/api/datasets.html\n",
    "# for the pancreatic get this one\n",
    "\n",
    "def inspect(z):\n",
    "    for e in z.obs.keys():\n",
    "        print(e)\n",
    "        print(z.obs[e])\n",
    "\n",
    "testload.__all__\n"
   ]
  },
  {
   "cell_type": "code",
   "execution_count": null,
   "id": "e3f891f38b6bf778",
   "metadata": {},
   "outputs": [],
   "source": [
    "# DOWNLOAD ALL THE DATA\n",
    "\n",
    "# wget https://ftp.ncbi.nlm.nih.gov/geo/series/GSE132nnn/GSE132188/suppl/GSE132188%5Fadata%2Eh5ad%2Eh5 // to get the propper pancreatic set\n",
    "# z = sc.read_h5ad('GSE132188_adata.h5ad.h5')\n",
    "for e in testload.__all__:\n",
    "    print(e)\n",
    "    z= eval(f'testload.{e}()')\n",
    "    print(z.obs.keys())\n",
    "    print(z.X.shape)\n"
   ]
  },
  {
   "cell_type": "code",
   "execution_count": null,
   "id": "193a4824c6cad6a0",
   "metadata": {},
   "outputs": [],
   "source": [
    "# Fix Pancreas\n",
    "import scanpy as sc\n",
    "z = sc.read_h5ad('datasets/GSE132188_adata.h5ad.h5')\n",
    "z.obs['batch'] = z.obs['day']\n",
    "z.obs['label'] = z.obs['clusters_fig3_final']\n",
    "z = z[z.obs['label']!='Other/Doublet',:]\n",
    "z.write_h5ad('datasets/done_pancreas.h5ad')\n",
    "\n"
   ]
  },
  {
   "cell_type": "code",
   "execution_count": null,
   "id": "3c704da0148ca9db",
   "metadata": {},
   "outputs": [],
   "source": [
    "\n",
    "# lets fix the lung\n",
    "z = testload.lung()\n",
    "inspect(z)\n",
    "z.obs['batch'] = z.obs['name']\n",
    "z.obs['label'] = z.obs['clusters']\n",
    "#z = z[z.obs['label']!='Other/Doublet',:]\n",
    "z.write_h5ad('datasets/done_lung.h5ad')\n",
    "\n"
   ]
  },
  {
   "cell_type": "code",
   "execution_count": null,
   "id": "d39922f6f64e89d0",
   "metadata": {},
   "outputs": [],
   "source": [
    "# fix morris:\n",
    "\n",
    "z = testload.reprogramming_morris()\n",
    "inspect(z)\n",
    "\n",
    "z.obs['batch'] = z.obs['reprogramming_day']\n",
    "z.obs['label'] = z.obs['cluster']\n",
    "#z = z[z.obs['label']!='Other/Doublet',:]\n",
    "z.write_h5ad('datasets/done_reprogramming_morris.h5ad')\n",
    "\n",
    "\n"
   ]
  },
  {
   "cell_type": "code",
   "execution_count": null,
   "id": "36e3cc17b79fae1c",
   "metadata": {},
   "outputs": [],
   "source": [
    "\n",
    "\n",
    "z = testload.reprogramming_schiebinger()\n",
    "inspect(z)\n",
    "\n",
    "z.obs['batch'] = z.obs['day']\n",
    "z.obs['label'] = z.obs['cell_sets']\n",
    "#z = z[z.obs['label']!='Other/Doublet',:]\n",
    "z.write_h5ad('datasets/done_reprogramming_schiebinger.h5ad')\n",
    "\n",
    "\n"
   ]
  },
  {
   "cell_type": "code",
   "execution_count": null,
   "id": "3311cdd5143511e2",
   "metadata": {},
   "outputs": [],
   "source": [
    "\n"
   ]
  },
  {
   "cell_type": "code",
   "execution_count": null,
   "id": "74b85243f580bec2",
   "metadata": {},
   "outputs": [],
   "source": [
    "\n",
    "\n",
    "\n",
    "\n"
   ]
  },
  {
   "cell_type": "code",
   "execution_count": null,
   "id": "9811c5f95d38e5f7",
   "metadata": {},
   "outputs": [],
   "source": [
    "\n",
    "\n",
    "z = testload.bone_marrow()\n",
    "inspect(z)\n",
    "\n",
    "z.obs['batch'] = z.obs_names.str.split('_').str[0]\n",
    "z.obs['label'] = z.obs['clusters']\n",
    "#z = z[z.obs['label']!='Other/Doublet',:]\n",
    "z.write_h5ad('datasets/done_bone_marrow.h5ad')\n",
    "\n"
   ]
  },
  {
   "cell_type": "code",
   "execution_count": null,
   "id": "603d06ed2a9915a4",
   "metadata": {},
   "outputs": [],
   "source": [
    "\n",
    "# ZEBRAFISH IS BROKEN\n",
    "\n",
    "z = testload.zebrafish()\n",
    "inspect(z)\n",
    "if False:\n",
    "    z.obs['batch'] = z.obs['day']\n",
    "    z.obs['label'] = z.obs['cell_sets']\n",
    "    #z = z[z.obs['label']!='Other/Doublet',:]\n",
    "    z.write_h5ad('datasets/zebrafish.h5ad')\n"
   ]
  },
  {
   "cell_type": "code",
   "execution_count": null,
   "id": "e6e1f19d9e6fb369",
   "metadata": {},
   "outputs": [],
   "source": []
  },
  {
   "cell_type": "code",
   "execution_count": null,
   "id": "6f15a485932f9ea",
   "metadata": {},
   "outputs": [],
   "source": []
  },
  {
   "cell_type": "code",
   "execution_count": null,
   "id": "6f0448c368085826",
   "metadata": {},
   "outputs": [],
   "source": []
  },
  {
   "cell_type": "markdown",
   "id": "bae8dffb2e59bdb8",
   "metadata": {},
   "source": [
    "# 'bone_marrow'\n",
    "- 4 batches\n",
    "- https://www.nature.com/articles/s41587-019-0068-4\n",
    "- clusters // batch is in the filname as RunX_bla\n",
    "\n",
    "# 'pancreas'\n",
    "- clusters //\n",
    " 'lung',\n",
    " 'reprogramming_morris',\n",
    " 'reprogramming_schiebinger',\n",
    " 'zebrafish',\n"
   ]
  },
  {
   "cell_type": "code",
   "execution_count": null,
   "id": "cf024425f2d79c72",
   "metadata": {},
   "outputs": [],
   "source": [
    "# we can not use the 100x because there is no good label annotation.\n",
    "# z = sc.read_h5ad('/home/ubuntu/repos/natto/natto/data/Adipose_10xchromium_SRA710104-SRS3334254_9107.h5')"
   ]
  },
  {
   "cell_type": "code",
   "execution_count": null,
   "id": "3b1c08bdbed6a033",
   "metadata": {},
   "outputs": [],
   "source": []
  },
  {
   "cell_type": "code",
   "execution_count": null,
   "id": "e7fa2e16b322a43e",
   "metadata": {},
   "outputs": [],
   "source": [
    "z"
   ]
  },
  {
   "cell_type": "code",
   "execution_count": null,
   "id": "1899e74fd1d58d1c",
   "metadata": {},
   "outputs": [],
   "source": [
    "import numpy as np\n",
    "np.unique(z.obs['sample_name'])"
   ]
  },
  {
   "cell_type": "code",
   "execution_count": null,
   "id": "d8e0df6435bb96b6",
   "metadata": {},
   "outputs": [],
   "source": [
    "import matplotlib.pyplot as plt\n",
    "min(z.X.data)"
   ]
  },
  {
   "cell_type": "code",
   "execution_count": null,
   "id": "bdf4ee6ad244dc0",
   "metadata": {},
   "outputs": [],
   "source": []
  },
  {
   "cell_type": "code",
   "execution_count": null,
   "id": "80c32351882cc910",
   "metadata": {},
   "outputs": [],
   "source": [
    "import scanpy as sc\n",
    "file =  '/home/ubuntu/data/scmark/scmark_v2/external_peng_cellres_2019_31273297.h5ad'\n",
    "z = sc.read_h5ad(file)\n",
    "from scalp.data import subsample_preprocess\n",
    "from scalp import transform\n",
    "data = z\n",
    "data.obs['batch'] = data.obs['sample_name']\n",
    "data.obs['label'] = data.obs['standard_true_celltype']\n",
    "data2 = transform.split_by_obs(data)\n",
    "bla = subsample_preprocess(data2, random_datasets=False)"
   ]
  },
  {
   "cell_type": "code",
   "execution_count": null,
   "id": "a26c3a91f1340681",
   "metadata": {},
   "outputs": [],
   "source": [
    "data2[1].obs['batch']"
   ]
  },
  {
   "cell_type": "code",
   "execution_count": null,
   "id": "2565b4bde950bb9c",
   "metadata": {},
   "outputs": [],
   "source": [
    "asd = !ls '/home/ubuntu/data/scmark/scmark_v2/'"
   ]
  },
  {
   "cell_type": "code",
   "execution_count": null,
   "id": "5715ff24b1b3067b",
   "metadata": {},
   "outputs": [],
   "source": [
    "for e in asd:\n",
    "    z = sc.read_h5ad('/home/ubuntu/data/scmark/scmark_v2/'+e)\n",
    "    print (len(np.unique(z.obs['sample_name'])))\n",
    "    print (len(np.unique(z.obs['standard_true_celltype'])))\n",
    "    print('')\n",
    "\n"
   ]
  }
 ],
 "metadata": {
  "kernelspec": {
   "display_name": "Python 3 (ipykernel)",
   "language": "python",
   "name": "python3"
  },
  "language_info": {
   "codemirror_mode": {
    "name": "ipython",
    "version": 3
   },
   "file_extension": ".py",
   "mimetype": "text/x-python",
   "name": "python",
   "nbconvert_exporter": "python",
   "pygments_lexer": "ipython3"
  }
 },
 "nbformat": 4,
 "nbformat_minor": 5
}
