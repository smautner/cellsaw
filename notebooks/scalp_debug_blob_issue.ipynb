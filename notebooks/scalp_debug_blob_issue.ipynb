{
 "cells": [
  {
   "cell_type": "code",
   "execution_count": 1,
   "id": "8d11c30c-1e7b-4bbc-aaf7-b6989c2afe66",
   "metadata": {},
   "outputs": [
    {
     "ename": "ImportError",
     "evalue": "cannot import name 'Iterable' from 'collections' (/home/ikea/.myconda/miniconda3/envs/scalp/lib/python3.11/collections/__init__.py)",
     "output_type": "error",
     "traceback": [
      "\u001b[0;31m---------------------------------------------------------------------------\u001b[0m",
      "\u001b[0;31mImportError\u001b[0m                               Traceback (most recent call last)",
      "Cell \u001b[0;32mIn[1], line 11\u001b[0m\n\u001b[1;32m      9\u001b[0m \u001b[38;5;66;03m# ignore all future warnings\u001b[39;00m\n\u001b[1;32m     10\u001b[0m simplefilter(action\u001b[38;5;241m=\u001b[39m\u001b[38;5;124m'\u001b[39m\u001b[38;5;124mignore\u001b[39m\u001b[38;5;124m'\u001b[39m)\n\u001b[0;32m---> 11\u001b[0m \u001b[38;5;28;01mimport\u001b[39;00m \u001b[38;5;21;01mscalp\u001b[39;00m\n\u001b[1;32m     12\u001b[0m \u001b[38;5;28;01mfrom\u001b[39;00m \u001b[38;5;21;01mscalp\u001b[39;00m\u001b[38;5;21;01m.\u001b[39;00m\u001b[38;5;21;01moutput\u001b[39;00m \u001b[38;5;28;01mimport\u001b[39;00m draw\n\u001b[1;32m     13\u001b[0m \u001b[38;5;28;01mimport\u001b[39;00m \u001b[38;5;21;01mlmz\u001b[39;00m\n",
      "File \u001b[0;32m~/repos/repolinks/scalp/__init__.py:2\u001b[0m\n\u001b[1;32m      1\u001b[0m \u001b[38;5;28;01mfrom\u001b[39;00m \u001b[38;5;21;01mlmz\u001b[39;00m \u001b[38;5;28;01mimport\u001b[39;00m Map,Zip,Filter,Grouper,Range,Transpose,Flatten\n\u001b[0;32m----> 2\u001b[0m \u001b[38;5;28;01mfrom\u001b[39;00m \u001b[38;5;21;01mscalp\u001b[39;00m\u001b[38;5;21;01m.\u001b[39;00m\u001b[38;5;21;01mdata\u001b[39;00m \u001b[38;5;28;01mimport\u001b[39;00m transform\n\u001b[1;32m      3\u001b[0m \u001b[38;5;28;01mfrom\u001b[39;00m \u001b[38;5;21;01mscalp\u001b[39;00m \u001b[38;5;28;01mimport\u001b[39;00m data, pca, umapwrap, mnn, graph, test_config\n\u001b[1;32m      4\u001b[0m \u001b[38;5;28;01mfrom\u001b[39;00m \u001b[38;5;21;01mscalp\u001b[39;00m \u001b[38;5;28;01mimport\u001b[39;00m diffuse\n",
      "File \u001b[0;32m~/repos/repolinks/scalp/data/__init__.py:4\u001b[0m\n\u001b[1;32m      1\u001b[0m \u001b[38;5;66;03m# from lucy import load, adatas\u001b[39;00m\n\u001b[1;32m      3\u001b[0m \u001b[38;5;28;01mfrom\u001b[39;00m \u001b[38;5;21;01mlmz\u001b[39;00m \u001b[38;5;28;01mimport\u001b[39;00m Map,Range\n\u001b[0;32m----> 4\u001b[0m \u001b[38;5;28;01mfrom\u001b[39;00m \u001b[38;5;21;01mscalp\u001b[39;00m\u001b[38;5;21;01m.\u001b[39;00m\u001b[38;5;21;01mdata\u001b[39;00m\u001b[38;5;21;01m.\u001b[39;00m\u001b[38;5;21;01mhvg\u001b[39;00m \u001b[38;5;28;01mimport\u001b[39;00m preprocess\n\u001b[1;32m      5\u001b[0m \u001b[38;5;28;01mfrom\u001b[39;00m \u001b[38;5;21;01mscalp\u001b[39;00m\u001b[38;5;21;01m.\u001b[39;00m\u001b[38;5;21;01mdata\u001b[39;00m\u001b[38;5;21;01m.\u001b[39;00m\u001b[38;5;21;01msubsample\u001b[39;00m \u001b[38;5;28;01mimport\u001b[39;00m subsample, subsample_iflarger\n\u001b[1;32m      6\u001b[0m \u001b[38;5;28;01mimport\u001b[39;00m \u001b[38;5;21;01mscanpy\u001b[39;00m \u001b[38;5;28;01mas\u001b[39;00m \u001b[38;5;21;01msc\u001b[39;00m\n",
      "File \u001b[0;32m~/repos/repolinks/scalp/data/hvg.py:3\u001b[0m\n\u001b[1;32m      1\u001b[0m \u001b[38;5;28;01mfrom\u001b[39;00m \u001b[38;5;21;01mlmz\u001b[39;00m \u001b[38;5;28;01mimport\u001b[39;00m Map,Zip,Filter,Grouper,Range,Transpose,Flatten\n\u001b[1;32m      2\u001b[0m \u001b[38;5;28;01mimport\u001b[39;00m \u001b[38;5;21;01mscalp\u001b[39;00m\u001b[38;5;21;01m.\u001b[39;00m\u001b[38;5;21;01mdata\u001b[39;00m\u001b[38;5;21;01m.\u001b[39;00m\u001b[38;5;21;01msubsample\u001b[39;00m\n\u001b[0;32m----> 3\u001b[0m \u001b[38;5;28;01mimport\u001b[39;00m \u001b[38;5;21;01mscanpy\u001b[39;00m \u001b[38;5;28;01mas\u001b[39;00m \u001b[38;5;21;01msc\u001b[39;00m\n\u001b[1;32m      4\u001b[0m \u001b[38;5;28;01mimport\u001b[39;00m \u001b[38;5;21;01mnumpy\u001b[39;00m \u001b[38;5;28;01mas\u001b[39;00m \u001b[38;5;21;01mnp\u001b[39;00m\n\u001b[1;32m      6\u001b[0m \u001b[38;5;28;01mdef\u001b[39;00m \u001b[38;5;21mcheck_adatas\u001b[39m(adatas):\n",
      "File \u001b[0;32m~/.myconda/miniconda3/envs/scalp/lib/python3.11/site-packages/scanpy/__init__.py:34\u001b[0m\n\u001b[1;32m     32\u001b[0m \u001b[38;5;28;01mfrom\u001b[39;00m \u001b[38;5;21;01m.\u001b[39;00m \u001b[38;5;28;01mimport\u001b[39;00m tools \u001b[38;5;28;01mas\u001b[39;00m tl\n\u001b[1;32m     33\u001b[0m \u001b[38;5;28;01mfrom\u001b[39;00m \u001b[38;5;21;01m.\u001b[39;00m \u001b[38;5;28;01mimport\u001b[39;00m preprocessing \u001b[38;5;28;01mas\u001b[39;00m pp\n\u001b[0;32m---> 34\u001b[0m \u001b[38;5;28;01mfrom\u001b[39;00m \u001b[38;5;21;01m.\u001b[39;00m \u001b[38;5;28;01mimport\u001b[39;00m plotting \u001b[38;5;28;01mas\u001b[39;00m pl\n\u001b[1;32m     35\u001b[0m \u001b[38;5;28;01mfrom\u001b[39;00m \u001b[38;5;21;01m.\u001b[39;00m \u001b[38;5;28;01mimport\u001b[39;00m datasets, logging, queries, external, get\n\u001b[1;32m     37\u001b[0m \u001b[38;5;28;01mfrom\u001b[39;00m \u001b[38;5;21;01manndata\u001b[39;00m \u001b[38;5;28;01mimport\u001b[39;00m AnnData\n",
      "File \u001b[0;32m~/.myconda/miniconda3/envs/scalp/lib/python3.11/site-packages/scanpy/plotting/__init__.py:7\u001b[0m\n\u001b[1;32m      5\u001b[0m \u001b[38;5;28;01mfrom\u001b[39;00m \u001b[38;5;21;01m.\u001b[39;00m\u001b[38;5;21;01m_tools\u001b[39;00m\u001b[38;5;21;01m.\u001b[39;00m\u001b[38;5;21;01mscatterplots\u001b[39;00m \u001b[38;5;28;01mimport\u001b[39;00m pca, diffmap, draw_graph, tsne, umap\n\u001b[1;32m      6\u001b[0m \u001b[38;5;28;01mfrom\u001b[39;00m \u001b[38;5;21;01m.\u001b[39;00m\u001b[38;5;21;01m_tools\u001b[39;00m \u001b[38;5;28;01mimport\u001b[39;00m pca_loadings, pca_scatter, pca_overview, pca_variance_ratio\n\u001b[0;32m----> 7\u001b[0m \u001b[38;5;28;01mfrom\u001b[39;00m \u001b[38;5;21;01m.\u001b[39;00m\u001b[38;5;21;01m_tools\u001b[39;00m\u001b[38;5;21;01m.\u001b[39;00m\u001b[38;5;21;01mpaga\u001b[39;00m \u001b[38;5;28;01mimport\u001b[39;00m paga, paga_adjacency, paga_compare, paga_path\n\u001b[1;32m      8\u001b[0m \u001b[38;5;28;01mfrom\u001b[39;00m \u001b[38;5;21;01m.\u001b[39;00m\u001b[38;5;21;01m_tools\u001b[39;00m \u001b[38;5;28;01mimport\u001b[39;00m dpt_timeseries, dpt_groups_pseudotime\n\u001b[1;32m      9\u001b[0m \u001b[38;5;28;01mfrom\u001b[39;00m \u001b[38;5;21;01m.\u001b[39;00m\u001b[38;5;21;01m_tools\u001b[39;00m \u001b[38;5;28;01mimport\u001b[39;00m rank_genes_groups, rank_genes_groups_violin\n",
      "File \u001b[0;32m~/.myconda/miniconda3/envs/scalp/lib/python3.11/site-packages/scanpy/plotting/_tools/paga.py:5\u001b[0m\n\u001b[1;32m      3\u001b[0m \u001b[38;5;28;01mimport\u001b[39;00m \u001b[38;5;21;01mscipy\u001b[39;00m\n\u001b[1;32m      4\u001b[0m \u001b[38;5;28;01mimport\u001b[39;00m \u001b[38;5;21;01mwarnings\u001b[39;00m\n\u001b[0;32m----> 5\u001b[0m \u001b[38;5;28;01mfrom\u001b[39;00m \u001b[38;5;21;01mcollections\u001b[39;00m \u001b[38;5;28;01mimport\u001b[39;00m Iterable\n\u001b[1;32m      6\u001b[0m \u001b[38;5;28;01mfrom\u001b[39;00m \u001b[38;5;21;01mtyping\u001b[39;00m \u001b[38;5;28;01mimport\u001b[39;00m Optional, Union, List\n\u001b[1;32m      8\u001b[0m \u001b[38;5;28;01mimport\u001b[39;00m \u001b[38;5;21;01mnetworkx\u001b[39;00m \u001b[38;5;28;01mas\u001b[39;00m \u001b[38;5;21;01mnx\u001b[39;00m\n",
      "\u001b[0;31mImportError\u001b[0m: cannot import name 'Iterable' from 'collections' (/home/ikea/.myconda/miniconda3/envs/scalp/lib/python3.11/collections/__init__.py)"
     ]
    }
   ],
   "source": [
    "%load_ext autoreload\n",
    "%matplotlib inline\n",
    "%autoreload 2\n",
    "%config Completer.use_jedi = True\n",
    "import matplotlib as mpl\n",
    "from matplotlib import pyplot as plt\n",
    "mpl.rc(\"figure\", dpi=100)\n",
    "from warnings import simplefilter\n",
    "# ignore all future warnings\n",
    "simplefilter(action='ignore')\n",
    "import scalp\n",
    "from scalp.output import draw\n",
    "import lmz\n",
    "import numpy as np"
   ]
  },
  {
   "cell_type": "code",
   "execution_count": null,
   "id": "a27f53e1-0935-469f-bc77-9b9a3ca5f961",
   "metadata": {},
   "outputs": [],
   "source": [
    "import pandas as pd\n",
    "pd.__version__"
   ]
  },
  {
   "cell_type": "code",
   "execution_count": null,
   "id": "39e15c7e-ca87-4dd5-ab5e-3cc9aa00ff5d",
   "metadata": {},
   "outputs": [],
   "source": [
    "datasets = scalp.data.loaddata_scib(scalp.test_config.scib_datapath,  maxdatasets=10,  maxcells = 1000 )\n",
    "dataset = datasets[2]\n",
    "dataset = dataset[:5]"
   ]
  },
  {
   "cell_type": "markdown",
   "id": "ba95ee1b-4956-4579-8bff-cfaa89018fe7",
   "metadata": {},
   "source": [
    "# scanorama"
   ]
  },
  {
   "cell_type": "markdown",
   "id": "da7d80ce-7220-4788-a29d-a99983934f8a",
   "metadata": {},
   "source": [
    "# UMAP ONLY "
   ]
  },
  {
   "cell_type": "code",
   "execution_count": null,
   "id": "81530dee-d7e8-4983-8c42-a2f5bae1b19b",
   "metadata": {},
   "outputs": [],
   "source": [
    "import scanpy as sc\n",
    "def umaponly(dataset,dim=2):\n",
    "    dataset = scalp.pca.pca(dataset)\n",
    "    [ds.obsm.pop('umap', None)for ds in dataset]\n",
    "    scalp.umapwrap.adatas_umap(dataset, label ='umap', from_obsm ='pca40', dim =dim)\n",
    "    return scalp.transform.stack(dataset)\n",
    "    \n",
    "stack = umaponly(dataset)\n",
    "sc.pl.umap(stack, color=['batch', 'label'])"
   ]
  },
  {
   "cell_type": "markdown",
   "id": "65bdb938-8134-4b2e-9992-3c5fea021cf8",
   "metadata": {},
   "source": [
    "# SCALP"
   ]
  },
  {
   "cell_type": "code",
   "execution_count": null,
   "id": "c1879ed4-8bba-4bb5-91d1-f7aa61c2b7a6",
   "metadata": {},
   "outputs": [],
   "source": [
    "reducer = pacmap.PaCMAP(n_components=2,n_neighbors=10, MN_ratio=0.5, FP_ratio=5.0)\n",
    "# fit the data (The index of transformed data corresponds to the index of the original data)\n",
    "stack = scalp.transform.stack(dataset)\n",
    "X = stack.X.todense()\n",
    "X_transformed = reducer.fit_transform(X, init=\"pca\")\n",
    "stack.obsm['umap']= X_transformed\n",
    "sc.pl.umap(stack, color=['batch', 'label'])"
   ]
  },
  {
   "cell_type": "code",
   "execution_count": null,
   "id": "e1e25760-33eb-4ff3-ba6d-a55b168be9f3",
   "metadata": {},
   "outputs": [],
   "source": [
    "import scanpy as sc\n",
    "from scalp import graph as sgraph\n",
    "from scipy.sparse import csr_matrix\n",
    "\n",
    "def Scalp(dataset, dim = 2):\n",
    "    num_ds = len(dataset)\n",
    "    print(num_ds)\n",
    "    parm = {'neighbors_total': 30, 'intra_neighbors_mutual': False,\n",
    "            'neighbors_intra_fraction': .2,  # is ignored when only 1 guy is batch\n",
    "            'add_tree': False, \"epsilon\":1e-4,\n",
    "                  'copy_lsa_neighbors': False, \n",
    "            'inter_outlier_threshold': 0.7, \n",
    "            'inter_outlier_probabilistic_removal': False}\n",
    "  \n",
    "    dataset, grap = scalp.mkgraph(dataset,**parm)\n",
    "\n",
    "    \n",
    "    # scalp.umapwrap.graph_pacmap2(dataset,csr_matrix(grap),label = 'umap', n_components = dim)\n",
    "    #scalp.umapwrap.graph_pacmap(dataset,grap, label = 'umap', n_components = dim)\n",
    "    #scalp.umapwrap.graph_xxumap(dataset,grap, label = 'umap', n_components = dim)\n",
    "    # scalp.umapwrap.graph_umap(dataset,grap,label = 'umap', n_components = dim)\n",
    "    \n",
    "    #plt.matshow(grap.todense())\n",
    "    return scalp.transform.stack(dataset), grap\n",
    "\n",
    "#stack, grap= Scalp([dataset[0]])\n",
    "stack, grap= Scalp(dataset)\n",
    "#sc.pl.umap(stack, color=['batch', 'label'])"
   ]
  },
  {
   "cell_type": "code",
   "execution_count": null,
   "id": "63df2f52-14d8-49d9-b517-ce73a8e0c0a4",
   "metadata": {},
   "outputs": [],
   "source": [
    "# plt.matshow((grap@grap).todense())"
   ]
  },
  {
   "cell_type": "code",
   "execution_count": null,
   "id": "6a2f3225-7401-419e-8ded-36d05390d1e5",
   "metadata": {},
   "outputs": [],
   "source": [
    "data = (grap > 0).sum(axis =1)\n",
    "asd = np.sort(data, axis =0)\n",
    "plt.plot(asd)\n",
    "\n"
   ]
  },
  {
   "cell_type": "code",
   "execution_count": null,
   "id": "8093c356-f742-4b74-9dde-f2d10242bcea",
   "metadata": {},
   "outputs": [],
   "source": []
  },
  {
   "cell_type": "code",
   "execution_count": null,
   "id": "4c9899bc-6341-431f-9434-8f1bf8e95ba9",
   "metadata": {},
   "outputs": [],
   "source": [
    "import pacmap\n",
    "from ubergauss import tools as ut\n",
    "if False:\n",
    "    reducer = pacmap.PaCMAP(n_components=2, n_neighbors=10, MN_ratio=0.5, FP_ratio=2.0) \n",
    "    # fit the data (The index of transformed data corresponds to the index of the original data)\n",
    "    X = dataset[0].X.todense()\n",
    "    y=  list(dataset[0].obs['label'])\n",
    "    y, _ = ut.labelsToIntList(y)\n",
    "    X_transformed = reducer.fit_transform(X, init=\"pca\")\n",
    "    # visualize the embedding\n",
    "    fig, ax = plt.subplots(1, 1, figsize=(6, 6))\n",
    "    ax.scatter(X_transformed[:, 0], X_transformed[:, 1], cmap=\"Spectral\", c=y, s=0.6)\n"
   ]
  },
  {
   "cell_type": "code",
   "execution_count": null,
   "id": "4ee7e38e-2293-4f7a-94d3-9b07ce79b146",
   "metadata": {},
   "outputs": [],
   "source": [
    "dataset"
   ]
  },
  {
   "cell_type": "code",
   "execution_count": null,
   "id": "35fd5df5-95a3-43b5-98c7-c430e21c2cbf",
   "metadata": {},
   "outputs": [],
   "source": [
    "from scalp.data.transform import stack_single_attribute, attach_stack\n",
    "\n",
    "g2 = grap > 0\n",
    "g3 = g2 @ g2\n",
    "#for i in range(1): g3 = g3@g2\n",
    "\n",
    "#plt.matshow((g3).todense())\n",
    "\n",
    "def choosefrom(csr, invert=False, ratio = 1):\n",
    "    csr = csr_matrix(csr)\n",
    "    n_neighbors = 10\n",
    "    choose = int(n_neighbors * ratio)\n",
    "    n = csr.shape[0]\n",
    "    pairs = np.empty((n*choose, 2), dtype=np.int32)\n",
    "    range = np.arange(csr.shape[1])\n",
    "    for i,row in enumerate(csr): \n",
    "        id = row.indices\n",
    "        if invert:\n",
    "            id = np.setdiff1d(range, id)\n",
    "        np.random.shuffle(id)\n",
    "        candidates = id[:choose+4]\n",
    "        candidates = candidates[candidates!=i]\n",
    "        for j, idd in enumerate(candidates[:choose]):\n",
    "            pairs[i*choose+j] = i,idd\n",
    "    return pairs\n",
    "    \n",
    "def choosefrom_dekirudake(csr, invert=False, ratio = 1):\n",
    "    csr = csr_matrix(csr)\n",
    "    range = np.arange(csr.shape[1])\n",
    "    pairs = []\n",
    "    \n",
    "    for i,row in enumerate(csr): \n",
    "        # prepare our candidates: \n",
    "        id = row.indices\n",
    "        if invert:\n",
    "            id = np.setdiff1d(range, id)\n",
    "        np.random.shuffle(id)\n",
    "        candidates = id[:ratio+1]\n",
    "        candidates = candidates[candidates!=i]\n",
    "        # just add until we hit the limit\n",
    "        for j, idd in enumerate(candidates):\n",
    "            pairs.append((i,idd))\n",
    "    \n",
    "    return np.array(pairs,dtype=np.int32)\n",
    "\n",
    "from sklearn.neighbors import NearestNeighbors\n",
    "def choose_medium_pairs(dataset,ratio = 5):\n",
    "    offset = 0\n",
    "    pairs = []\n",
    "    for adata in dataset:\n",
    "        le = adata.X.shape[0]\n",
    "        start = int(le*.10)\n",
    "        end = int(le*.25)\n",
    "        _, ids = NearestNeighbors(n_neighbors= end).fit(adata.X).kneighbors(adata.X)\n",
    "        ids = ids[:,start:]\n",
    "        # now we sample and assign with the offset :D DOTO!!!!!!!!!\n",
    "        for i, row in enumerate(ids):\n",
    "            np.random.shuffle(row)\n",
    "            row=row[:ratio+1]\n",
    "            pairs += [(i+offset,r+offset) for r in row]\n",
    "            \n",
    "        \n",
    "        offset += adata.X.shape[0]\n",
    "\n",
    "    return np.array(pairs,dtype=np.int32)\n",
    "    \n",
    "# neighs = choosefrom(g2)\n",
    "# mn = choosefrom (g3-g2, ratio = .5)\n",
    "# far = choosefrom( g3, invert='True', ratio=2) \n",
    "neighs = choosefrom_dekirudake(g2, ratio = 10)\n",
    "#mn = choosefrom_dekirudake (g3-g2, ratio = 5)\n",
    "mn = choose_medium_pairs(dataset, ratio = 5)\n",
    "far = choosefrom_dekirudake( g3, invert='True', ratio=100) \n",
    "\n",
    "def plausible(blob,neighpairs):\n",
    "    allowed = blob.shape[0]\n",
    "    for pairs in neighpairs:\n",
    "        if np.max(pairs) >= allowed:\n",
    "            print('not plausible')\n",
    "            return False\n",
    "    return True\n",
    "    \n",
    "if plausible(grap, [neighs,mn,far]):\n",
    "    reducer = pacmap.PaCMAP(n_components=2, #n_neighbors=10, MN_ratio=0.5, FP_ratio=2.0,\n",
    "                     pair_neighbors=neighs,\n",
    "                     pair_MN=mn, \n",
    "                     pair_FP=far ) \n",
    "    \n",
    "    # fit the data (The index of transformed data corresponds to the index of the original data)\n",
    "    X = stack.X.todense()\n",
    "    X_transformed = reducer.fit_transform(X, init=\"pca\")\n",
    "    stack.obsm['umap']= X_transformed\n",
    "    sc.pl.umap(stack, color=['batch', 'label'])"
   ]
  },
  {
   "cell_type": "code",
   "execution_count": null,
   "id": "2bc8e48d-31da-4c5a-8574-30c5e8db1e4c",
   "metadata": {},
   "outputs": [],
   "source": [
    "plt.matshow((g3-g2).todense())"
   ]
  },
  {
   "cell_type": "code",
   "execution_count": null,
   "id": "44e8bdd2-4425-442c-bd10-c9c87bae79b0",
   "metadata": {},
   "outputs": [],
   "source": [
    "g2.todense()"
   ]
  },
  {
   "cell_type": "code",
   "execution_count": null,
   "id": "1b0f57cd-9c32-4dff-a475-2b3bfd2b490f",
   "metadata": {},
   "outputs": [],
   "source": [
    "g3.todense()"
   ]
  },
  {
   "cell_type": "code",
   "execution_count": null,
   "id": "84258f50-ab42-401d-89aa-24372de4a04d",
   "metadata": {},
   "outputs": [],
   "source": [
    "import pacmap\n",
    "import numpy as np\n",
    "import matplotlib.pyplot as plt\n",
    "from annoy import AnnoyIndex\n",
    "\n",
    "# loading preprocessed coil_20 dataset\n",
    "\n",
    "# create nearest neighbor pairs\n",
    "# here we use AnnoyIndex as an example, but the process can be done by any\n",
    "# external NN library that provides neighbors into a matrix of the shape\n",
    "# (n, n_neighbors_extra), where n_neighbors_extra is greater or equal to\n",
    "# n_neighbors in the following example.\n",
    "from scipy.sparse import csr_matrix\n",
    "from ubergauss import graphumap \n",
    "\n",
    "X , di = graphumap.make_knn(csr_matrix(grap))\n",
    "nbrs=X\n",
    "n,n_neighbors = X.shape\n",
    "\n",
    "scaled_dist = np.ones((n, n_neighbors)) # No scaling is needed\n",
    "# Type casting is needed for numba acceleration\n",
    "X = X.astype(np.float32)\n",
    "scaled_dist = scaled_dist.astype(np.float32)\n",
    "# make sure n_neighbors is the same number you want when fitting the data\n",
    "pair_neighbors = pacmap.sample_neighbors_pair(X.astype(np.float32), scaled_dist.astype(np.float32), nbrs.astype(np.int32), np.int32(n_neighbors))\n",
    "# initializing the pacmap instance\n",
    "# feed the pair_neighbors into the instance\n",
    "embedding = pacmap.PaCMAP(n_components=2, n_neighbors=n_neighbors, MN_ratio=0.5, FP_ratio=2.0, pair_neighbors=pair_neighbors) \n",
    "\n",
    "# fit the data (The index of transformed data corresponds to the index of the original data)\n",
    "X_transformed = embedding.fit_transform(X, init=\"pca\")\n",
    "\n",
    "# visualize the embedding\n",
    "fig, ax = plt.subplots(1, 1, figsize=(6, 6))\n",
    "ax.scatter(X_transformed[:, 0], X_transformed[:, 1], cmap=\"Spectral\", c=y, s=0.6)"
   ]
  },
  {
   "cell_type": "code",
   "execution_count": null,
   "id": "02cf2d5b-1541-417a-ad34-8108e4fc3884",
   "metadata": {},
   "outputs": [],
   "source": [
    "\n",
    "def make_dis_plot(saveas, numgraphs, distribution, similarity):\n",
    "    \"\"\"\n",
    "    \"\"\"\n",
    "    rc = {'color': 'r'}\n",
    "    bc = {'color': 'b'}\n",
    "    ws = 2.2\n",
    "    o = np.mean(distribution, axis=1)\n",
    "    o = np.median(distribution, axis=1)\n",
    "    s = np.mean(similarity, axis=1)\n",
    "    s = np.median(similarity, axis=1)\n",
    "    print(s,o)\n",
    "    plt.figure(figsize=(18, 8))\n",
    "    marksize = 5\n",
    "\n",
    "    # fontsize...\n",
    "    fsa = 13\n",
    "    fsb = 15\n",
    "\n",
    "    # OKOK NEW STUFF TESTING\n",
    "    fig, ax1 = plt.subplots()\n",
    "    ax2 = ax1.twinx()\n",
    "    for label in (ax1.get_xticklabels() + ax1.get_yticklabels()):\n",
    "        #label.set_fontname('Arial')\n",
    "        label.set_fontsize(fsa)\n",
    "    for label in (ax2.get_xticklabels() + ax2.get_yticklabels()):\n",
    "        #label.set_fontname('Arial')\n",
    "        label.set_fontsize(fsa)\n",
    "    numgraphs = np.array(numgraphs)\n",
    "\n",
    "    # plt.grid()\n",
    "    ax1.set_axisbelow(True)\n",
    "    ax1.yaxis.grid(color='gray', linestyle='dashed')\n",
    "\n",
    "    ax1.boxplot(distribution, positions=numgraphs, widths=ws, capprops=bc, medianprops=bc, boxprops=bc, whiskerprops=bc,\n",
    "                flierprops=None)\n",
    "    ax2.boxplot(similarity, positions=numgraphs, widths=ws, capprops=rc, medianprops=rc, boxprops=rc, whiskerprops=rc,\n",
    "                flierprops=None)\n",
    "    ax1.plot(numgraphs, o, color='b', marker='o', markeredgewidth=1, markersize=marksize, markeredgecolor='b',\n",
    "             markerfacecolor='w', label='KL divergence', linewidth=2)\n",
    "    ax2.plot(numgraphs, s, color='r', marker='o', markeredgewidth=1, markersize=marksize, markeredgecolor='r',\n",
    "             markerfacecolor='w', label='similarity', linewidth=2)\n",
    "\n",
    "    # plt.xlim(percentages[0]-.05,percentages[-1]+.05)\n",
    "    plt.xlim(min(numgraphs) - 2, max(numgraphs) + 2)\n",
    "    ax1.set_ylim(0, .1)\n",
    "    ax2.set_ylim(.9, 1)\n",
    "    ax1.set_xlim(20, 105)\n",
    "    ax2.set_xlim(20, 105)\n",
    "    plt.xticks(numgraphs, numgraphs)\n",
    "\n",
    "    # plt.title(run_id + '\\n', fontsize=18)\n",
    "    ax1.legend(loc='lower left', fontsize=fsa)\n",
    "    ax2.legend(loc='upper right', fontsize=fsa)\n",
    "    # plt.ylabel('ROC AUC',fontsize=18)\n",
    "    ax1.set_ylabel('divergence', fontsize=fsb)\n",
    "    ax2.set_ylabel('similarity', fontsize=fsb)\n",
    "    ax2.set_xlabel('training sequences', fontsize=fsb)\n",
    "    ax1.set_xlabel('training sequences', fontsize=fsb)\n",
    "    # plt.savefig('%d_displot.png' % saveas)\n",
    "    plt.show()\n",
    "\n",
    "\n",
    "numgraph =  [20, 50, 100, 200, 400]\n",
    "distr=[[0.25545721593226361,0.000522490030742645,0.028502527247154782,0.050284436793470791,0.12003533257090437,0.35243988950184624,0.093199909425701583],[0.0043773373094962067,0.024590936307660054,0.01084206338719987,0.0017994298202424208,0.0048688732759201419,0.0050635384688497015,0.00016076222467320198],[0.00039921348927913092,0.00089444792182533962,0.0022715091525810165,0.00097458591203185198,0.016969225115156028,0.0032465116886065881,0.0020030658974116234],[5.1610560071823665e-05,0.005678508129071092,0.00019214440765663414,4.5874999054601635e-05,0.00010455603767192245,0.0023978066568669629,0.0056785190178299891],[0.00063615124933100262,9.7782400071463188e-06,3.0495939638172567e-05,0.00017389088174254801,1.213987689807584e-05,0.0010211143036889352,0.00049004822293609383]]\n",
    "simi=[[0.89368195647572157,0.95448263387898369,0.95567463656141338,0.93408416962747653,0.93081546003093063,0.95488685043168364,0.95518695427485956],[0.98195457433876521,0.97705392644211408,0.97683284903317469,0.98408056995350346,0.98246265189501181,0.98163296634212505,0.97947557919767625],[0.98971139219482929,0.98541645250279986,0.98696360643624348,0.98890080279435277,0.98582165004771305,0.98715798773211916,0.98948882878201327],[0.9933786312922358,0.99278323741893237,0.99283697184835396,0.9916789742797848,0.99265274352623534,0.99251407139394809,0.99312405150635652],[0.99347677829781555,0.99444865104153124,0.99469145661591951,0.99372163858407636,0.99485476032036058,0.99480043701636556,0.9938539331627807]]\n",
    "make_dis_plot(0,numgraph,distr,simi)\n",
    "\n"
   ]
  },
  {
   "cell_type": "code",
   "execution_count": null,
   "id": "ea139779-ca32-41f2-b586-fa61add619c1",
   "metadata": {},
   "outputs": [],
   "source": []
  },
  {
   "cell_type": "code",
   "execution_count": null,
   "id": "f7d66907-a357-4ae2-bc84-938e51eaedf0",
   "metadata": {},
   "outputs": [],
   "source": [
    "import numpy as np\n",
    "\n",
    "# Create a NumPy array with numbers between 0 and 1000\n",
    "array = np.random.randint(0, 1001, size=10000)\n",
    "\n",
    "# Count occurrences of each number\n",
    "counts = np.bincount(array)\n",
    "\n",
    "# Identify the numbers to keep (those that occur 50 times or fewer)\n",
    "numbers_to_keep = np.where(counts <= 50)[0]\n",
    "\n",
    "# Create a mask for the elements to keep\n",
    "mask = np.isin(array, numbers_to_keep)\n",
    "\n",
    "# Filter the array using the mask\n",
    "filtered_array = array[mask]"
   ]
  },
  {
   "cell_type": "code",
   "execution_count": null,
   "id": "343f397f-6b29-45f6-9abf-6e9b5f069508",
   "metadata": {},
   "outputs": [],
   "source": [
    "counts.shape"
   ]
  },
  {
   "cell_type": "code",
   "execution_count": null,
   "id": "274b9e62-64af-46e8-9216-d27e3a6714a4",
   "metadata": {},
   "outputs": [],
   "source": [
    "from sklearn.neighbors import NearestNeighbors\n",
    "x = dataset[0].X.todense().A\n",
    "neighbors = 10\n",
    "model = NearestNeighbors(n_neighbors=neighbors*2).fit(x)\n",
    "distances, indices = model.kneighbors(x)\n",
    "counts = np.bincount(indices.flatten())\n",
    "counts_mat = counts[indices]\n",
    "cnt_srt = np.argsort(counts_mat, axis = 1)\n",
    "indices_new = np.take_along_axis(indices, cnt_srt, axis =1)[:,:neighbors]\n",
    "neighborsgraph = np.zeros((x.shape[0],x.shape[0]))\n",
    "np.put_along_axis(neighborsgraph,indices_new,1,axis=1)"
   ]
  },
  {
   "cell_type": "code",
   "execution_count": null,
   "id": "9595842b-dd59-4c17-af5a-f016a601a5af",
   "metadata": {},
   "outputs": [],
   "source": [
    "print(counts_mat[:10])\n",
    "print(indices[:10])\n",
    "print(indices_new[:10])\n"
   ]
  },
  {
   "cell_type": "code",
   "execution_count": null,
   "id": "92d0de7c-16f5-4656-b447-714329aeea85",
   "metadata": {},
   "outputs": [],
   "source": [
    "plt.matshow(neighborsgraph)"
   ]
  }
 ],
 "metadata": {
  "kernelspec": {
   "display_name": "Python 3 (ipykernel)",
   "language": "python",
   "name": "python3"
  },
  "language_info": {
   "codemirror_mode": {
    "name": "ipython",
    "version": 3
   },
   "file_extension": ".py",
   "mimetype": "text/x-python",
   "name": "python",
   "nbconvert_exporter": "python",
   "pygments_lexer": "ipython3",
   "version": "3.11.0"
  }
 },
 "nbformat": 4,
 "nbformat_minor": 5
}
