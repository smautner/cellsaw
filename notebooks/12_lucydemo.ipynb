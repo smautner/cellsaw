{
 "cells": [
  {
   "cell_type": "code",
   "execution_count": null,
   "id": "64c3a741-f5ab-4c1c-bcfb-5bbf113ff793",
   "metadata": {},
   "outputs": [],
   "source": [
    "%load_ext autoreload\n",
    "%autoreload 2\n",
    "%config Completer.use_jedi = True"
   ]
  },
  {
   "cell_type": "code",
   "execution_count": null,
   "id": "7890b0d8-6841-4449-a9d3-97eecb44e063",
   "metadata": {},
   "outputs": [],
   "source": [
    "import matplotlib as mpl\n",
    "from matplotlib import pyplot as plt\n",
    "mpl.rc(\"figure\", dpi=100)\n",
    "import numpy as np\n",
    "import jack\n",
    "from lmz import *\n",
    "import scanpy as sc"
   ]
  },
  {
   "cell_type": "code",
   "execution_count": null,
   "id": "1404dad5-b15a-4718-8190-a7b6b7bcf569",
   "metadata": {},
   "outputs": [],
   "source": [
    "import lucy.load as lload\n",
    "data = lload.load_scib()"
   ]
  },
  {
   "cell_type": "code",
   "execution_count": null,
   "id": "e6f9b6c8-a8a6-4aaa-8e12-f8dcba90f10e",
   "metadata": {
    "jupyter": {
     "outputs_hidden": true
    },
    "tags": []
   },
   "outputs": [],
   "source": [
    "import lucy.adatas as ad\n",
    "all_datasets = Map(ad.subsample_preprocess, data, num = 500, copy = True) # -> subsample_genefilter_cellfilter_normalize!   subsample_size subsample_copy\n",
    "#all_datasets = Map(ad.project,all_datasets, pca = 40, umap = 2)  # -> embedding  pca_n_comonents umap_n_components lap_n_components\n",
    "#ad.plot(all_datasets[1]) # plotting does umap to 2d ,, projection should typically go to high dimension "
   ]
  },
  {
   "cell_type": "code",
   "execution_count": null,
   "id": "02e63c2b-73d2-4328-a217-561ffc859cb0",
   "metadata": {},
   "outputs": [],
   "source": [
    "\n",
    "adatas = all_datasets[1][:3]\n",
    "\n",
    "adatas = ad.project(adatas, pca = 40, lapumap = 2)\n",
    "adatas = ad.project(adatas, start='pca40', umap = 2)"
   ]
  },
  {
   "cell_type": "code",
   "execution_count": null,
   "id": "c19358f7-bfc8-4ce9-b468-f43e129d823f",
   "metadata": {},
   "outputs": [],
   "source": [
    "\n",
    "\n",
    "ad.plot(adatas,projection = 'lapumap2' )\n"
   ]
  },
  {
   "cell_type": "code",
   "execution_count": null,
   "id": "1f407e0d-f1aa-41f3-8676-1a784bde8886",
   "metadata": {},
   "outputs": [],
   "source": [
    "ad.plot(adatas,projection = 'umap2' )"
   ]
  },
  {
   "cell_type": "code",
   "execution_count": null,
   "id": "db42c916-5cfb-4127-8ae9-544a71391d9b",
   "metadata": {},
   "outputs": [],
   "source": [
    "ad.plot(adatas,projection = 'lapumap2', label = 'batch', mkmix = True)"
   ]
  },
  {
   "cell_type": "code",
   "execution_count": null,
   "id": "2285996c-75ef-4bef-ab80-2da9c2d5d984",
   "metadata": {},
   "outputs": [],
   "source": [
    "ad.plot(adatas,projection = 'umap2', label = 'batch', mkmix = True)"
   ]
  },
  {
   "cell_type": "code",
   "execution_count": null,
   "id": "57134b93-6287-4e69-aed8-3c0717f9a402",
   "metadata": {},
   "outputs": [],
   "source": [
    "# TESTING EMBEDDER:\n",
    "from sklearn.datasets import make_circles\n",
    "x,y  = make_circles(n_samples=100, shuffle=True, noise=.1, random_state=None, factor=0.5)\n",
    "\n",
    "circlecut = [ a[0]>0 or a[1] > 0 for a in x]\n",
    "x=x[circlecut]\n",
    "y=y[circlecut]\n",
    "\n",
    "def scat(x,y):\n",
    "    plt.scatter(x[:,0],x[:,1],c = y)\n",
    "    plt.show()\n",
    "scat(x,y)"
   ]
  },
  {
   "cell_type": "code",
   "execution_count": null,
   "id": "eabdc0a3-ea51-43a1-8854-1899ff89ded9",
   "metadata": {},
   "outputs": [],
   "source": [
    "import umap\n",
    "scat(umap.UMAP().fit_transform(x),y)"
   ]
  },
  {
   "cell_type": "code",
   "execution_count": null,
   "id": "585cfde4-e2d9-4b4a-bdc9-a7fb9daa1027",
   "metadata": {},
   "outputs": [],
   "source": [
    "# split by ds\n",
    "x1 = x[y==1]\n",
    "x2 = x[y==0]\n",
    "\n",
    "from lucy import embed\n",
    "gr = embed.linear_assignment_integrate([x1,x2], intra_neigh=10, inter_neigh=1,scaling_num_neighbors=3,\n",
    "                                       outlier_threshold=.8,scaling_threshold=.1,dataset_adjacency=False)\n",
    "res = embed.distmatrixumap([x1,x2], gr, components=2)\n",
    "\n",
    "y2 = [0]*len(x1) + [1]*len(x2)\n",
    "print(y2)\n",
    "scat(res,y2)\n",
    "\n",
    "import networkx as nx\n",
    "nxg = nx.from_numpy_matrix(gr.toarray())\n",
    "nx.draw(nxg, node_color=y2)"
   ]
  },
  {
   "cell_type": "code",
   "execution_count": null,
   "id": "08afe07e-d399-47e6-8fd2-4351fd2117b2",
   "metadata": {},
   "outputs": [],
   "source": [
    "import seaborn as sns\n",
    "sns.heatmap(gr.toarray())"
   ]
  },
  {
   "cell_type": "code",
   "execution_count": null,
   "id": "f92f6a81-3541-447c-8d8f-4b514796e82f",
   "metadata": {},
   "outputs": [],
   "source": [
    "res"
   ]
  },
  {
   "cell_type": "code",
   "execution_count": null,
   "id": "d8683d18-5755-44dc-acb1-3a02aece88f0",
   "metadata": {},
   "outputs": [],
   "source": [
    "from sklearn import metrics\n",
    "dis = metrics.pairwise.euclidean_distances(res[np.array(y2)==1])\n",
    "sns.heatmap(dis)"
   ]
  },
  {
   "cell_type": "code",
   "execution_count": null,
   "id": "55227cbf-e31c-4ac8-a6fc-dcea5757b498",
   "metadata": {},
   "outputs": [],
   "source": [
    "scat(res,y2)"
   ]
  }
 ],
 "metadata": {
  "kernelspec": {
   "display_name": "Python 3 (ipykernel)",
   "language": "python",
   "name": "python3"
  },
  "language_info": {
   "codemirror_mode": {
    "name": "ipython",
    "version": 3
   },
   "file_extension": ".py",
   "mimetype": "text/x-python",
   "name": "python",
   "nbconvert_exporter": "python",
   "pygments_lexer": "ipython3",
   "version": "3.8.5"
  }
 },
 "nbformat": 4,
 "nbformat_minor": 5
}
