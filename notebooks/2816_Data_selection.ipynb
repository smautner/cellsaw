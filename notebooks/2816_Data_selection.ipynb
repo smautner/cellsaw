{
 "cells": [
  {
   "cell_type": "markdown",
   "id": "bce8070d-bc6c-44f2-bf19-ffefccb17e8f",
   "metadata": {
    "tags": []
   },
   "source": [
    "# we downloaded 100 datasets from pangalodb..\n",
    "\n",
    "- some are quite irregular \n",
    "- we still want at least 4 representatives per tissuetype\n",
    "\n",
    "\n",
    "## TODO\n",
    "\n",
    "1.  make the table the old way\n",
    "2.  switch to natto\n",
    "3.  add status for the 3 levels of unknown "
   ]
  },
  {
   "cell_type": "code",
   "execution_count": null,
   "id": "dc1837d6-0212-44e6-acf2-71ef4804dde9",
   "metadata": {},
   "outputs": [],
   "source": [
    "%load_ext autoreload\n",
    "%autoreload 2\n",
    "%config Completer.use_jedi = True\n",
    "\n",
    "import matplotlib as mpl\n",
    "mpl.rc(\"figure\", dpi=200)"
   ]
  },
  {
   "cell_type": "code",
   "execution_count": null,
   "id": "3981be82-5114-44c7-a75f-7c641545abaf",
   "metadata": {},
   "outputs": [],
   "source": [
    "import seaborn as sns\n",
    "import pandas as pd\n",
    "from cellsaw import load as loader\n",
    "import lmz\n",
    "\n",
    "labels = loader.get100names()\n",
    "shortlabels = [label[:label.index('_')] for label in labels]\n",
    "loadparams = {'path' : '/home/ubuntu/repos/natto/natto/data',\n",
    "              'remove_unlabeled':False, 'mingenes': 200, \n",
    "              'preprocessingmethod':'natto', \"subsample\":1000}\n",
    "\n",
    "def load(names):\n",
    "    # load 100 adata will have:\n",
    "    # \"true\" cluster annotation\n",
    "    # 'name' dataset name \n",
    "    adatas = [loader.easyLoad100(x,**loadparams) for x in names]\n",
    "    # this will add the true celltype labels for the pangalodb\n",
    "    # 'truecelltyp'\n",
    "    return loader.loadadata.annotatepangalo(loadparams['path'], adatas, names)[0]\n",
    "\n",
    "def getdata(dataset):\n",
    "    adata = load([dataset])\n",
    "    le  = adata.X.shape[0]\n",
    "    m = sum(adata.obs['true'] == -1)\n",
    "    c = sum(adata.obs['truecelltype'] == \"pangalofail\")\n",
    "    u = sum(adata.obs['truecelltype'] == \"Unknown\")\n",
    "    return [(dataset,'true -1', m/le ) , \n",
    "            (dataset,'cluster fail',c/le),\n",
    "            (dataset, 'Unknown', u/le),\n",
    "           (dataset, 'total', (c+u)/le)]\n",
    "    \n",
    "data = [a for b in map(getdata, labels) for a in b]\n",
    "\n"
   ]
  },
  {
   "cell_type": "code",
   "execution_count": null,
   "id": "b2cd9578-915b-46f6-ab6d-9997922396b0",
   "metadata": {},
   "outputs": [],
   "source": [
    "labels, types, values = lmz.Transpose(data)\n",
    "data = {\"dataset\":labels, \"type\": types, \"percentage\": values}\n",
    "\n",
    "df  = pd.DataFrame.from_dict(data)\n",
    "sns.barplot(x=\"dataset\", y=\"percentage\", hue=\"type\", data=df)"
   ]
  },
  {
   "cell_type": "code",
   "execution_count": null,
   "id": "f7ed7b7a-ff28-4a77-8506-02ea4c5c90da",
   "metadata": {},
   "outputs": [],
   "source": [
    "list(df[df['type']=='total'][df['percentage'] < .7]['dataset'])"
   ]
  },
  {
   "cell_type": "code",
   "execution_count": null,
   "id": "bf65de1b-f708-41f6-a4de-bc78e7641cd1",
   "metadata": {},
   "outputs": [],
   "source": [
    "print(df[df['type']=='total'][df['percentage'] < .7].to_markdown())"
   ]
  },
  {
   "cell_type": "code",
   "execution_count": null,
   "id": "f97bbfb5-6285-4367-af15-ef0411b708ce",
   "metadata": {},
   "outputs": [],
   "source": [
    "len(df[df['type']=='total'][df['percentage'] < .7])"
   ]
  },
  {
   "cell_type": "code",
   "execution_count": null,
   "id": "37763d1f-1ac5-44de-922b-902661a338e5",
   "metadata": {
    "tags": []
   },
   "outputs": [],
   "source": [
    "%time \n",
    "# load the data\n",
    "from natto import input \n",
    "from natto import process\n",
    "from ubergauss import tools\n",
    "\n",
    "\n",
    "names = input.get100names()\n",
    "\n",
    "def load_and_score(dataset_name):\n",
    "    data = input.load100(dataset_name,path = '/home/ubuntu/repos/natto/natto/data')\n",
    "    gs= process.annotate_genescores(data, mingenes = 200)\n",
    "    gs.X = np.expm1(gs.X)\n",
    "    return gs \n",
    "\n",
    "annotated = tools.xmap(load_and_score,names)\n",
    "\n",
    "#data = [input.load100(n,path = '/home/ubuntu/repos/natto/natto/data')  for n in names]\n",
    "#annotated = [process.annotate_genescores(d, mingenes = 1000) for d in data]  "
   ]
  },
  {
   "cell_type": "code",
   "execution_count": null,
   "id": "0a88d6ca-2b88-46d9-bb17-d7a9910c8791",
   "metadata": {
    "tags": []
   },
   "outputs": [],
   "source": [
    "# so we collect stats and put them in a table \n",
    "\n",
    "\n",
    "\n",
    "from matplotlib import pyplot as plt\n",
    "import numpy as np\n",
    "from lmz import *\n",
    "import seaborn as sns \n",
    "import pandas as pd \n",
    "pd.options.display.max_rows = 1000\n",
    "\n",
    "data = {'names': names}\n",
    "\n",
    "\n",
    "# lets say we need 2k annotated cells\n",
    "data['annotated cells']=[ sum(a.obs['true']!=-1) for a in annotated]\n",
    "data['diverse cells'] = [ np.sum( np.array([ len(row.indices) for row in a.X]) > 1000 ) for a in annotated]\n",
    "data['numgoodgenes'] = [ sum(a.varm['scores']!=np.NINF) for a in annotated]\n",
    "data['reads per cell'] = [ np.mean(np.sum(a.X,axis= 1)  ) for a in annotated]\n",
    "\n",
    "\n",
    "table = pd.DataFrame(data)\n",
    "table"
   ]
  },
  {
   "cell_type": "code",
   "execution_count": null,
   "id": "47fb5179-ca8a-4a05-8712-36df0c08e1d6",
   "metadata": {},
   "outputs": [],
   "source": [
    "annotated[0].X[0].data"
   ]
  },
  {
   "cell_type": "code",
   "execution_count": null,
   "id": "d7e5856d-6ca4-4967-9cb6-0c62a4e5f846",
   "metadata": {
    "tags": []
   },
   "outputs": [],
   "source": [
    "if False:\n",
    "    # another problem was that many cells could have too few reads \n",
    "    for name, ann in zip(names, annotated):\n",
    "        print(name)\n",
    "        plt.hist(np.sum(ann.X, axis = 1), bins = 75)\n",
    "        plt.show()"
   ]
  },
  {
   "cell_type": "code",
   "execution_count": null,
   "id": "acb3fc31-3be9-4163-b639-ac219cd62d6b",
   "metadata": {},
   "outputs": [],
   "source": []
  },
  {
   "cell_type": "code",
   "execution_count": null,
   "id": "a07dac74-a84a-44ab-96f0-398ca8fcd890",
   "metadata": {},
   "outputs": [],
   "source": [
    "col = Zip(names, annot)\n",
    "col = [c for c in col if c[1]>1500 ]\n",
    "print ([c[0][:5] for c in col])\n",
    "print(len(col))"
   ]
  },
  {
   "cell_type": "markdown",
   "id": "a642579e-dc52-4a3b-b97f-086a0376e77d",
   "metadata": {},
   "source": [
    "# now make sure that "
   ]
  },
  {
   "cell_type": "code",
   "execution_count": null,
   "id": "e1254c20-dcaf-41a3-a848-ad13bd67a99c",
   "metadata": {},
   "outputs": [],
   "source": [
    "# so now we have some tissues with few representatives, lets clean this also\n",
    "\n",
    "\n",
    "col = [c[0] for c in col] # list of names\n",
    "a,b = np.unique([c[:5] for c in col ], return_counts=True)\n",
    "itemcounts = Zip(a,b)\n",
    "shitlist =  [item for item, count in itemcounts if count < 4]\n",
    "flist = [c for c in col if c[:5] not in shitlist]\n"
   ]
  },
  {
   "cell_type": "code",
   "execution_count": null,
   "id": "bf7aa415-251e-4d63-b35b-665d725de33b",
   "metadata": {},
   "outputs": [],
   "source": [
    "flist"
   ]
  },
  {
   "cell_type": "code",
   "execution_count": null,
   "id": "24115ae5-ee31-4108-9ec0-bd93200ff772",
   "metadata": {},
   "outputs": [],
   "source": []
  },
  {
   "cell_type": "code",
   "execution_count": null,
   "id": "a0692b2b-7693-4946-a0d3-06f09b49d64a",
   "metadata": {},
   "outputs": [],
   "source": [
    "import seaborn as sns \n",
    "import pandas as pd \n",
    "\n",
    "pdata = pd.DataFrame({'name':a,'count':b})\n",
    "sns.barplot(data  = pdata,x='name',y='count')"
   ]
  },
  {
   "cell_type": "code",
   "execution_count": null,
   "id": "a5e2b314-ddba-410c-8996-c039ae43699c",
   "metadata": {},
   "outputs": [],
   "source": [
    "\n",
    "data['reads > 1400'] = [ sum(np.sum(a.X,axis= 1) > 1500 ) for a in annotated]\n"
   ]
  },
  {
   "cell_type": "code",
   "execution_count": null,
   "id": "32710e00-86c8-4843-a5b8-9be1b167d3cd",
   "metadata": {},
   "outputs": [],
   "source": [
    "\n",
    "import numpy as np\n",
    "\n",
    "from scipy.sparse import csr_matrix as sparse\n",
    "\n",
    "A = sparse([[1, 2, 0], [1, 0, 3], [4, 0, 5]])"
   ]
  },
  {
   "cell_type": "code",
   "execution_count": null,
   "id": "68684a0f-5b30-4c02-90fe-478cb41ecb86",
   "metadata": {},
   "outputs": [],
   "source": [
    "A.indptr"
   ]
  },
  {
   "cell_type": "code",
   "execution_count": null,
   "id": "950ec0ac-0177-484f-8cd5-99e77691c0c9",
   "metadata": {},
   "outputs": [],
   "source": [
    "acc = []\n",
    "for ip in range(len(A.indptr)-1):\n",
    "    start = A.indptr[ip]\n",
    "    end = A.indptr[ip+1]\n",
    "    #print(A.data[start:end])\n",
    "    acc.append(A.indices[start:end])\n",
    "    \n",
    "np.array(acc)"
   ]
  },
  {
   "cell_type": "code",
   "execution_count": null,
   "id": "7df1cb3f-5a7c-4850-b064-71443cb3ab95",
   "metadata": {},
   "outputs": [],
   "source": [
    "\n",
    "\n",
    "dist  = bla\n",
    "a,b =dohugloop()\n",
    "val = dists[a,b]\n",
    "\n",
    "def repeated_linear_sum_assignment(distances, repeats):\n",
    "        cc, rr  = [ do_a_round(dists) for range kneighbors  ].T\n",
    "        return hstack cc , hstack rr\n",
    "    \n",
    "def doAround(distances):\n",
    "        r, c = linear_sum_assignment(distances)\n",
    "        distances [r,c] = inf\n",
    "        return r,c "
   ]
  },
  {
   "cell_type": "code",
   "execution_count": null,
   "id": "442867ad-3761-48e2-b183-841fdb28de57",
   "metadata": {},
   "outputs": [],
   "source": [
    "def findSliceNeighbors(data, distances, kNeighbors, indexStart):\n",
    "        knnInd = np.empty((data.shape[0], 0), int)\n",
    "        knnDists = np.empty((data.shape[0], 0), int)\n",
    "\n",
    "        ### Gets 'k_neighbors' nearest neighbors from within the same timeslice\n",
    "        i = 0\n",
    "        while i < kNeighbors:\n",
    "                rowInd, colInd = linear_sum_assignment(distances)\n",
    "                knnDists = np.column_stack((knnDists, distances[rowInd, colInd]))\n",
    "                distances, knnInd = calcNeighborIndices(distances, rowInd, colInd, knnInd, indexStart)\n",
    "\n",
    "                i += 1   \n",
    "\n",
    "        return knnInd, knnDists "
   ]
  },
  {
   "cell_type": "code",
   "execution_count": null,
   "id": "1df573d8-d987-4188-a35d-2a6ed9fe2114",
   "metadata": {},
   "outputs": [],
   "source": []
  }
 ],
 "metadata": {
  "kernelspec": {
   "display_name": "Python 3 (ipykernel)",
   "language": "python",
   "name": "python3"
  },
  "language_info": {
   "codemirror_mode": {
    "name": "ipython",
    "version": 3
   },
   "file_extension": ".py",
   "mimetype": "text/x-python",
   "name": "python",
   "nbconvert_exporter": "python",
   "pygments_lexer": "ipython3",
   "version": "3.8.5"
  }
 },
 "nbformat": 4,
 "nbformat_minor": 5
}
