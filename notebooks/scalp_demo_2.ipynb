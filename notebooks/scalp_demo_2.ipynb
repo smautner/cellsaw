{
 "cells": [
  {
   "cell_type": "code",
   "execution_count": null,
   "id": "8d11c30c-1e7b-4bbc-aaf7-b6989c2afe66",
   "metadata": {},
   "outputs": [],
   "source": [
    "%load_ext autoreload\n",
    "%matplotlib inline\n",
    "%autoreload 2\n",
    "%config Completer.use_jedi = True\n",
    "import matplotlib as mpl\n",
    "from matplotlib import pyplot as plt\n",
    "mpl.rc(\"figure\", dpi=100)\n",
    "import warnings\n",
    "\n",
    "import scalp\n",
    "from scalp.output import draw\n",
    "import lmz\n",
    "import numpy as np\n",
    "\n",
    "import scanpy as sc\n",
    "from scalp import graph as sgraph\n",
    "from scipy.sparse import csr_matrix\n",
    "import scalp.data.similarity as sim\n",
    "import umap\n",
    "import pandas as pd\n",
    "import scalpdemo   \n",
    "import ubergauss.tools as ut\n",
    "from lmz import *\n",
    "import functools "
   ]
  },
  {
   "cell_type": "code",
   "execution_count": null,
   "id": "eae41837-ecc6-4c30-a570-d6059a0d5f75",
   "metadata": {},
   "outputs": [],
   "source": [
    "\n",
    "if True:\n",
    "    import better_exceptions\n",
    "    import sys\n",
    "    ip = get_ipython()\n",
    "    def custom_exc(shell, etype, evalue, tb, tb_offset=None):\n",
    "        better_exceptions.excepthook(etype, evalue, tb)\n",
    "    ip.set_custom_exc((Exception,), custom_exc)\n",
    "\n",
    "\n",
    "warnings.filterwarnings(\"ignore\")\n",
    "warnings.filterwarnings(\"ignore\", module=\"anndata\")"
   ]
  },
  {
   "cell_type": "code",
   "execution_count": null,
   "id": "3e96b637-db8a-4b74-be10-baf86fab483e",
   "metadata": {},
   "outputs": [],
   "source": []
  },
  {
   "cell_type": "code",
   "execution_count": null,
   "id": "39e15c7e-ca87-4dd5-ab5e-3cc9aa00ff5d",
   "metadata": {},
   "outputs": [],
   "source": [
    "\n",
    "datasets, dataset = scalpdemo.get_data()\n",
    "\n"
   ]
  },
  {
   "cell_type": "markdown",
   "id": "ba95ee1b-4956-4579-8bff-cfaa89018fe7",
   "metadata": {},
   "source": [
    "# scanorama"
   ]
  },
  {
   "cell_type": "code",
   "execution_count": null,
   "id": "4344df48-c733-48c7-b6a1-ac7a40fac4d2",
   "metadata": {},
   "outputs": [],
   "source": [
    "datasets"
   ]
  },
  {
   "cell_type": "code",
   "execution_count": null,
   "id": "99c9b05e-55d5-428b-a3c7-0313f21849e2",
   "metadata": {},
   "outputs": [],
   "source": [
    "[d.uns['timeseries'] for d in datasets]"
   ]
  },
  {
   "cell_type": "code",
   "execution_count": null,
   "id": "dcca12d2-e77e-4238-b528-821053f2e106",
   "metadata": {},
   "outputs": [],
   "source": [
    "st = scalp.mnn.harmony(dataset)\n",
    "scalp.plot(st,'Harmony', color=['batch','label'])"
   ]
  },
  {
   "cell_type": "markdown",
   "id": "da7d80ce-7220-4788-a29d-a99983934f8a",
   "metadata": {},
   "source": [
    "# UMAP ONLY "
   ]
  },
  {
   "cell_type": "code",
   "execution_count": null,
   "id": "81530dee-d7e8-4983-8c42-a2f5bae1b19b",
   "metadata": {},
   "outputs": [],
   "source": [
    "%%time\n",
    "\n",
    "scalp.plot(st,'pca40', color=['batch','label'])"
   ]
  },
  {
   "cell_type": "markdown",
   "id": "e48dd52a-fabe-412a-9c19-1a25283d0f08",
   "metadata": {},
   "source": [
    "# BBKNN"
   ]
  },
  {
   "cell_type": "code",
   "execution_count": null,
   "id": "7e33938b-3611-495a-a84c-339b269c6cee",
   "metadata": {},
   "outputs": [],
   "source": [
    "%%time\n",
    "st = scalp.mnn.bbknnwrap(dataset, dim =2) \n",
    "scalp.plot(st,'BBKNN', color=['batch','label'])"
   ]
  },
  {
   "cell_type": "markdown",
   "id": "e7bb6d0e-400c-4921-8fec-56e48465e7d0",
   "metadata": {},
   "source": [
    "# Combat "
   ]
  },
  {
   "cell_type": "code",
   "execution_count": null,
   "id": "f5aaeb55-2b0f-4812-879b-1395f8fe47c4",
   "metadata": {},
   "outputs": [],
   "source": [
    "%%time\n",
    "\n",
    "st = scalp.mnn.combat(dataset) \n",
    "scalp.plot(st,'ComBat', color=['batch','label'])"
   ]
  },
  {
   "cell_type": "markdown",
   "id": "65bdb938-8134-4b2e-9992-3c5fea021cf8",
   "metadata": {},
   "source": [
    "# SCALP"
   ]
  },
  {
   "cell_type": "code",
   "execution_count": null,
   "id": "87996d8d-9a07-48d0-95cc-568318645c68",
   "metadata": {},
   "outputs": [],
   "source": [
    "%%time\n",
    "\n",
    "Scalp = scalpdemo.Scalp\n",
    "if True:\n",
    "    stack = Scalp(dataset)\n",
    "    scalp.plot(stack,'scalp', color=['batch','label'])\n",
    "else:\n",
    "    for d in datasets:\n",
    "        if not d.uns['timeseries']:\n",
    "            stack = Scalp(d)\n",
    "            scalp.plot(stack,'scalp', color=['batch','label'])"
   ]
  },
  {
   "cell_type": "markdown",
   "id": "3658855d-fb56-485f-a4df-0645d05f1ca5",
   "metadata": {},
   "source": [
    "# COMPARISON + SCORING "
   ]
  },
  {
   "cell_type": "code",
   "execution_count": null,
   "id": "adaf1e67-89f7-4865-879c-8b31c62e9fc0",
   "metadata": {},
   "outputs": [],
   "source": []
  },
  {
   "cell_type": "code",
   "execution_count": null,
   "id": "5445d0b7-eebb-4805-bf1e-ecc157928fcb",
   "metadata": {},
   "outputs": [],
   "source": []
  },
  {
   "cell_type": "code",
   "execution_count": null,
   "id": "84c77bce-0b1f-4271-9d52-8ee6b16e6249",
   "metadata": {},
   "outputs": [],
   "source": [
    "# for e in datasets: scalp.plot2(e, 'bbknn', 'Scalp: 0.45')"
   ]
  },
  {
   "cell_type": "code",
   "execution_count": null,
   "id": "b0b71e3a-720b-4c55-b505-d327a437ac3b",
   "metadata": {},
   "outputs": [],
   "source": []
  },
  {
   "cell_type": "code",
   "execution_count": null,
   "id": "d53eec65-6549-44d7-9258-217762a648dd",
   "metadata": {},
   "outputs": [],
   "source": [
    "%%time\n",
    "# THIS NEEDS TO BE TESTED BUT WE RLY NEED THIS:\n",
    "datasets, fnames, runtimes =  scalpdemo.run_all(datasets)\n",
    "runtimes"
   ]
  },
  {
   "cell_type": "code",
   "execution_count": null,
   "id": "f464aad3-18ae-40da-95ec-fd046aa28eae",
   "metadata": {},
   "outputs": [],
   "source": [
    "\n",
    "scalpdemo.make_timetable(datasets)"
   ]
  },
  {
   "cell_type": "code",
   "execution_count": null,
   "id": "f5b5622a-d72d-4260-9ecb-90df2856220f",
   "metadata": {},
   "outputs": [],
   "source": [
    "\n",
    "for e in datasets:\n",
    "    if '509' in e.uns['name'] or 'lee' in e.uns['name']:\n",
    "        print(e)\n",
    "        scalp.plot2(e, 'BBKNN', 'Scalp: 0.45')\n",
    "        "
   ]
  },
  {
   "cell_type": "code",
   "execution_count": null,
   "id": "e09e3b88-1470-4920-b58f-c15126a05d3c",
   "metadata": {},
   "outputs": [],
   "source": [
    "fnames"
   ]
  },
  {
   "cell_type": "code",
   "execution_count": null,
   "id": "1854e5c0-0e64-44b6-972f-d72f81dbcc0c",
   "metadata": {},
   "outputs": [],
   "source": []
  },
  {
   "cell_type": "code",
   "execution_count": null,
   "id": "07309215-5010-4d37-8ce7-4cf6d8823b20",
   "metadata": {},
   "outputs": [],
   "source": [
    "# scalpdemo.scib_score(fnames, datasets) \n",
    "SCIB_DATA = pd.read_csv(\"scib.csv\")\n",
    "print(scalpdemo.mkscib_table(SCIB_DATA))\n",
    "\n",
    "#latex_table = pd.DataFrame(runtimes).to_latex(index=False, escape=False, caption=\"Economic Terms Dictionary\", label=\"tab:terms\")\n",
    "rts = pd.DataFrame(list(runtimes.items()), columns=[\"Item\", \"Value\"])\n",
    "latex_table = rts.to_latex()\n",
    "print(latex_table)\n"
   ]
  },
  {
   "cell_type": "code",
   "execution_count": null,
   "id": "bb988f31-710e-4dd5-8175-6687606c78cb",
   "metadata": {},
   "outputs": [],
   "source": [
    "if False: # this is super slow\n",
    "    scores_kni = { str(i): scalp.score.kni_scores(datasets[i], projection='methods') for i in lmz.Range(datasets) }\n",
    "    dff = pd.DataFrame.from_dict(scores_kni, orient='index')\n",
    "    average_scores = dff.mean().to_latex()\n",
    "    print(average_scores)\n",
    "    \n",
    "'''\n",
    "scanorama      0.616067\n",
    "bbknn          0.646266\n",
    "combat         0.458397\n",
    "Scalp: 0.15    0.691557\n",
    "Scalp: 0.25    0.667454\n",
    "Scalp: 0.35    0.642752\n",
    "Scalp: 0.45    0.615580\n",
    "Scalp: 0.55    0.593257\n",
    "Scalp: 0.75    0.527588\n",
    "Scalp: 0.85    0.499085\n",
    "Scalp: 0.95    0.482638\n",
    "\n",
    "\n",
    "# lastest run not that rosy...........\n",
    "scanorama      0.697316\n",
    "bbknn          0.730277\n",
    "combat         0.515334\n",
    "Scalp: 0.15    0.683468\n",
    "Scalp: 0.25    0.656524\n",
    "Scalp: 0.35    0.631032\n",
    "Scalp: 0.45    0.607354\n",
    "Scalp: 0.55    0.573127\n",
    "Scalp: 0.65    0.535592\n",
    "Scalp: 0.75    0.497753\n",
    "Scalp: 0.85    0.475295\n",
    "Scalp: 0.95    0.519884\n",
    "\n",
    "\n",
    "so going with the small dataset  and not filtering shit takes\n",
    "\\begin{tabular}{lr}\n",
    "\\toprule\n",
    " & 0 \\\\\n",
    "\\midrule\n",
    "scanorama & 0.591904 \\\\\n",
    "bbknn & 0.637113 \\\\\n",
    "combat & 0.466931 \\\\\n",
    "Scalp: 0.15 & 0.665008 \\\\\n",
    "Scalp: 0.25 & 0.636216 \\\\\n",
    "Scalp: 0.35 & 0.608385 \\\\\n",
    "Scalp: 0.45 & 0.583107 \\\\\n",
    "Scalp: 0.55 & 0.558317 \\\\\n",
    "Scalp: 0.65 & 0.528923 \\\\\n",
    "Scalp: 0.75 & 0.500803 \\\\\n",
    "Scalp: 0.85 & 0.482103 \\\\\n",
    "Scalp: 0.95 & 0.497020 \\\\\n",
    "\\bottomrule\n",
    "\\end{tabular}\n",
    "\n",
    "\n",
    "big, no filter, \n",
    "\\begin{tabular}{lr}\n",
    "\\toprule\n",
    " & 0 \\\\\n",
    "\\midrule\n",
    "scanorama & 0.667613 \\\\\n",
    "bbknn & 0.701626 \\\\\n",
    "combat & 0.500828 \\\\\n",
    "Scalp: 0.15 & 0.662404 \\\\\n",
    "Scalp: 0.25 & 0.634419 \\\\\n",
    "Scalp: 0.35 & 0.610253 \\\\\n",
    "Scalp: 0.45 & 0.587026 \\\\\n",
    "Scalp: 0.55 & 0.555211 \\\\\n",
    "Scalp: 0.65 & 0.513821 \\\\\n",
    "Scalp: 0.75 & 0.477145 \\\\\n",
    "Scalp: 0.85 & 0.455892 \\\\\n",
    "Scalp: 0.95 & 0.503966 \\\\\n",
    "\\bottomrule\n",
    "\\end{tabular}\n",
    "\n",
    "# big filter 15\n",
    "\\begin{tabular}{lr}\n",
    "\\toprule\n",
    " & 0 \\\\\n",
    "\\midrule\n",
    "scanorama & 0.697316 \\\\\n",
    "bbknn & 0.730277 \\\\\n",
    "combat & 0.515334 \\\\\n",
    "Scalp: 0.15 & 0.683468 \\\\\n",
    "Scalp: 0.25 & 0.656524 \\\\\n",
    "Scalp: 0.35 & 0.631032 \\\\\n",
    "Scalp: 0.45 & 0.607354 \\\\\n",
    "Scalp: 0.55 & 0.573127 \\\\\n",
    "Scalp: 0.65 & 0.535592 \\\\\n",
    "Scalp: 0.75 & 0.497753 \\\\\n",
    "Scalp: 0.85 & 0.475295 \\\\\n",
    "Scalp: 0.95 & 0.519884 \\\\\n",
    "\\bottomrule\n",
    "\\end{tabular}\n",
    "'''\n",
    "\n"
   ]
  },
  {
   "cell_type": "code",
   "execution_count": null,
   "id": "596b350c-6be1-4be0-8c0f-5abcb6ef24ca",
   "metadata": {},
   "outputs": [],
   "source": [
    "######################\n",
    "# SCORE INSTANCES \n",
    "######################\n",
    "#scores = { str(i): scalp.score.scalp_scores(datasets[i],projection = 'methods', label_batch_split=False) for i in lmz.Range(datasets) }\n",
    "scores = scalpdemo.scalpscore(datasets) \n",
    "scores"
   ]
  },
  {
   "cell_type": "code",
   "execution_count": null,
   "id": "095df387-c727-4241-9bc5-d27b7cabf4c3",
   "metadata": {},
   "outputs": [],
   "source": [
    "scores"
   ]
  },
  {
   "cell_type": "code",
   "execution_count": null,
   "id": "384e115a-513d-4690-8f8b-6a2b6c0265f7",
   "metadata": {},
   "outputs": [],
   "source": [
    "\n",
    "for m in scores[0].keys():\n",
    "    if 'alp' in m: \n",
    "        r9,l9 = scalpdemo.make_results_table(scores, datasets,m)\n",
    "        print(l9)"
   ]
  },
  {
   "cell_type": "code",
   "execution_count": null,
   "id": "4bd36544-ef11-4fb0-bcfa-26aef1a0c826",
   "metadata": {},
   "outputs": [],
   "source": []
  },
  {
   "cell_type": "code",
   "execution_count": null,
   "id": "76e26d2c-c673-4735-a29d-87182f02df86",
   "metadata": {},
   "outputs": [],
   "source": [
    "ranktable, dom = scalp.output.score.pareto_avg(scores)\n",
    "ranktable"
   ]
  },
  {
   "cell_type": "code",
   "execution_count": null,
   "id": "f5821803-552c-476b-b471-34c19474c17e",
   "metadata": {},
   "outputs": [],
   "source": [
    "dom"
   ]
  },
  {
   "cell_type": "code",
   "execution_count": null,
   "id": "613d9bb3-112c-4cbe-83ef-9c62149a7a97",
   "metadata": {},
   "outputs": [],
   "source": [
    "\n",
    "import pandas as pd"
   ]
  },
  {
   "cell_type": "code",
   "execution_count": null,
   "id": "68c124ee-2625-4476-9491-136f614a1e01",
   "metadata": {},
   "outputs": [],
   "source": []
  },
  {
   "cell_type": "code",
   "execution_count": null,
   "id": "30e0fed5-1747-45ea-98f8-b777550f85fe",
   "metadata": {},
   "outputs": [],
   "source": [
    "import pandas as pd\n",
    "scores2 = []\n",
    "for dsid, methdicts in scores.items():\n",
    "    for method,  metrics in methdicts.items():\n",
    "        #print(scores)\n",
    "        f = dict(metrics)\n",
    "        f['dataset'] = dsid\n",
    "        f['method'] = method\n",
    "        scores2.append(f)\n",
    "\n",
    "import seaborn as sns\n",
    "sc2 = pd.DataFrame(scores2)\n",
    "sc21 = sc2.pivot(index=\"method\", columns=\"dataset\", values=\"label_mean\")\n",
    "sns.heatmap(sc21)\n",
    "\n"
   ]
  },
  {
   "cell_type": "code",
   "execution_count": null,
   "id": "b441acd7-5d0b-4ae3-bbda-fda4b9bc14b2",
   "metadata": {},
   "outputs": [],
   "source": [
    "scores2"
   ]
  },
  {
   "cell_type": "code",
   "execution_count": null,
   "id": "80973ababa91fb5f",
   "metadata": {},
   "outputs": [],
   "source": [
    "\n",
    "scalpdemo.bluestar(scores2) \n"
   ]
  },
  {
   "cell_type": "code",
   "execution_count": null,
   "id": "113515a8-5518-46c3-87e6-e27217ad4210",
   "metadata": {},
   "outputs": [],
   "source": [
    "sc22 = sc2.pivot(index=\"method\", columns=\"dataset\", values=\"batch_mean\")\n",
    "sns.heatmap(sc22)"
   ]
  },
  {
   "cell_type": "code",
   "execution_count": null,
   "id": "44ecabc8-d241-4f26-9885-dbecba6efb95",
   "metadata": {},
   "outputs": [],
   "source": [
    "geomean = np.sqrt(sc21*sc22)\n",
    "sns.heatmap(geomean)"
   ]
  },
  {
   "cell_type": "code",
   "execution_count": null,
   "id": "ee553ca3-9bc9-4a89-a182-bf696fadc432",
   "metadata": {},
   "outputs": [],
   "source": [
    "scalpdemo.barplot(geomean, datasets)"
   ]
  },
  {
   "cell_type": "markdown",
   "id": "991a2df4-7365-481f-9389-a8b6387a55dc",
   "metadata": {},
   "source": [
    "# more eval metrics, we stick to the ones above"
   ]
  },
  {
   "cell_type": "code",
   "execution_count": null,
   "id": "78016937-15d7-414c-92cc-f4597d244e68",
   "metadata": {},
   "outputs": [],
   "source": [
    "pd.set_option('display.max_rows', 1000) \n",
    "df_melted"
   ]
  },
  {
   "cell_type": "code",
   "execution_count": null,
   "id": "bc74ce8d-7cd8-4257-8444-68a29e4eca4a",
   "metadata": {},
   "outputs": [],
   "source": []
  },
  {
   "cell_type": "code",
   "execution_count": null,
   "id": "392d010f-9e75-44dd-9920-2e1dc81363e0",
   "metadata": {},
   "outputs": [],
   "source": [
    "groupby = 'group' # 'dataset'\n",
    "groupby = 'dataset' # 'dataset'\n",
    "df_melted  = df_melted[df_melted.group=='batch']\n",
    "avg_rank = df_melted.groupby('dataset').score.rank(pct=True).groupby(df_melted.method).mean()\n",
    "# avg_rank = df_melted.groupby(groupby).score.rank(pct=True).groupby(df_melted.method).mean()\n",
    "import scikit_posthocs as sp\n",
    "df_melted['block_id_col'] = range(len(df_melted))\n",
    "test_results = sp.posthoc_conover_friedman(\n",
    "    df_melted,\n",
    "    melted=True,\n",
    "    block_col=groupby,\n",
    "    block_id_col='block_id_col',\n",
    "    group_col='method',\n",
    "    y_col='score',\n",
    ")\n",
    "plt.figure(figsize=(10, 2), dpi=100)\n",
    "plt.title('Critical difference diagram of geometric mean')\n",
    "sp.critical_difference_diagram(avg_rank, test_results)"
   ]
  },
  {
   "cell_type": "code",
   "execution_count": null,
   "id": "cd6af19f-47ba-4806-b218-cde4888d5426",
   "metadata": {},
   "outputs": [],
   "source": [
    "avg_rank"
   ]
  },
  {
   "cell_type": "code",
   "execution_count": null,
   "id": "ecfb633d-06cb-4d6f-a873-2cfe96595545",
   "metadata": {},
   "outputs": [],
   "source": [
    "grp = 'dataset'\n",
    "\n",
    "\n",
    "#dom['group']=  dom.dataset.astype(int) % 16\n",
    "avg_rank = dom.groupby(grp).domcount.rank(pct=True).groupby(dom.method).mean()\n",
    "import scikit_posthocs as sp\n",
    "dom['block_id_col'] = range(len(dom))\n",
    "test_results = sp.posthoc_conover_friedman(\n",
    "    dom,\n",
    "    melted=True,\n",
    "    block_col=grp,\n",
    "    block_id_col='block_id_col',\n",
    "    group_col='method',\n",
    "    y_col='domcount',\n",
    ")\n",
    "#sp.sign_plot(test_results)\n",
    "plt.figure(figsize=(10, 2), dpi=100)\n",
    "plt.title('Critical difference diagram of pareto dominance')\n",
    "sp.critical_difference_diagram(avg_rank, test_results)"
   ]
  },
  {
   "cell_type": "code",
   "execution_count": null,
   "id": "54886487-bf06-4edc-ae1f-501b637227d4",
   "metadata": {},
   "outputs": [],
   "source": [
    "from scalp.output.score import score_lin, score_lin_batch, score_scib_metrics\n",
    "scoredics_lb = ut.xxmap(score_lin_batch, mydata)\n",
    "scoredics_scib = ut.xxmap(score_scib_metrics, mydata)\n",
    "scoredics_l = ut.xxmap(score_lin, mydata)\n",
    "\n",
    "# score_lin_batch and score_lin -> pareto comparison"
   ]
  },
  {
   "cell_type": "code",
   "execution_count": null,
   "id": "b2a77035-484c-4868-86ea-a0337b2f03b3",
   "metadata": {},
   "outputs": [],
   "source": [
    "import pandas as pd\n",
    "import seaborn as sns\n",
    "# this only applies if we dont use the scib score fucntion\n",
    "funcs = 'scanorama, umaponly, bbknn, combat, Scalp'.split(', ')\n",
    "\n",
    "results = [ {\"method\":funcs[f], 'score':s, 'dataset':d, 'target':'label' } for s,(f,d) in zip(scoredics_l,tasks)]\n",
    "results += [ {\"method\":funcs[f], 'score':s, 'dataset':d, 'target':'batch'} for s,(f,d) in zip(scoredics_lb,tasks)]\n",
    "df = pd.DataFrame(results)\n",
    "sns.barplot(data=df, y = 'score', x = 'method', errorbar = 'sd', hue='target')\n",
    "plt.show()\n",
    "ours = df.pivot_table(index='method', columns='target', values='score')"
   ]
  },
  {
   "cell_type": "code",
   "execution_count": null,
   "id": "4bf5dfc1-5b60-46ca-a721-2ecfbdbc60d7",
   "metadata": {},
   "outputs": [],
   "source": [
    "import lmz\n",
    "# this is for SCIB scoring \n",
    "\n",
    "\n",
    "# turn scores into a dataframe\n",
    "funcs = 'scanorama, umaponly, bbknn, combat, Scalp'.split(', ')\n",
    "results = [ [{\"method\":funcs[f], 'score':ss, 'dataset':d, 'metric':scrmeth } \n",
    "             for (scrmeth,ss) in s.items() ]for s,(f,d) in zip(scoredics_scib,tasks)]\n",
    "results = lmz.Flatten(results)\n",
    "df = pd.DataFrame(results)\n",
    "\n",
    "\n",
    "\n",
    "sns.barplot(data=df, y = 'score', x = 'method', errorbar = 'sd', hue = 'metric')\n",
    "plt.legend(loc='right', bbox_to_anchor=(1.85, 0.5), ncol=1)\n",
    "plt.show()"
   ]
  },
  {
   "cell_type": "code",
   "execution_count": null,
   "id": "5b593fc3-045f-43d4-9b08-23ba21c9aee9",
   "metadata": {},
   "outputs": [],
   "source": [
    "\n",
    "def split_scib_scores(dicts):\n",
    "    '''splits scores in batch and label scores'''\n",
    "    batchwords = 'PCR_batch ASW_label/batch graph_conn'.split()\n",
    "    \n",
    "    def split(d):\n",
    "        b = np.mean([v for k,v in d.items() if k in batchwords ])\n",
    "        a = np.mean([v for k,v in d.items() if not k in batchwords ])\n",
    "        return a,b\n",
    "        \n",
    "    scores = lmz.Map(split, dicts) \n",
    "    return lmz.Transpose(scores)    \n",
    "  \n",
    "\n",
    "scr_l, scr_b = split_scib_scores(scoredics_scib)\n",
    "results = [ {\"method\":funcs[f], 'score':s, 'dataset':d, 'target':'bioconservation_scib_avg' } for s,(f,d) in zip(scr_l,tasks)]\n",
    "results += [ {\"method\":funcs[f], 'score':s, 'dataset':d, 'target':'batch_scib_avg'} for s,(f,d) in zip(scr_b,tasks)]\n",
    "df = pd.DataFrame(results)\n",
    "sns.barplot(data=df, y = 'score', x = 'method', errorbar = 'sd', hue='target')\n",
    "plt.show()\n",
    "theirs = df.pivot_table(index='method', columns='target', values='score')"
   ]
  },
  {
   "cell_type": "code",
   "execution_count": null,
   "id": "85a8ead5-298a-4514-99f5-969b624d1d09",
   "metadata": {},
   "outputs": [],
   "source": [
    "\n",
    "our_score = [ {\"method\":funcs[f], 'score':s, 'dataset':d, 'target':'label' } for s,(f,d) in zip(scoredics_l,tasks) ]\n",
    "our_score += [ {\"method\":funcs[f], 'score':s, 'dataset':d, 'target':'batch'} for s,(f,d) in zip(scoredics_lb,tasks)  ]\n",
    "df2 = pd.DataFrame(our_score)\n",
    "df2"
   ]
  },
  {
   "cell_type": "code",
   "execution_count": null,
   "id": "fa404d9a-25e9-4c0c-8744-c8adcfac8339",
   "metadata": {},
   "outputs": [],
   "source": [
    "from ubergauss.optimization import pareto_scores\n",
    "pareto_scores(df)"
   ]
  },
  {
   "cell_type": "code",
   "execution_count": null,
   "id": "3618c922-5627-45c1-885f-85f914a107be",
   "metadata": {},
   "outputs": [],
   "source": [
    "pareto_scores(df2) # this is pancreatic only  btw "
   ]
  },
  {
   "cell_type": "code",
   "execution_count": null,
   "id": "d2be69fc-1ec9-42f0-8428-91e33589da88",
   "metadata": {},
   "outputs": [],
   "source": [
    "df"
   ]
  },
  {
   "cell_type": "code",
   "execution_count": null,
   "id": "9e4bc703-22a2-4270-91da-9431e8763fe3",
   "metadata": {},
   "outputs": [],
   "source": [
    "results"
   ]
  },
  {
   "cell_type": "code",
   "execution_count": null,
   "id": "84258f50-ab42-401d-89aa-24372de4a04d",
   "metadata": {},
   "outputs": [],
   "source": [
    "np.corrcoef(ours.batch.values, theirs.batch_scib_avg.values)[0,1], np.corrcoef(ours.label.values, theirs.bioconservation_scib_avg.values)[0,1]"
   ]
  },
  {
   "cell_type": "code",
   "execution_count": null,
   "id": "a1eafc7b-3810-483f-80e1-ede1e08fd6a9",
   "metadata": {},
   "outputs": [],
   "source": [
    "dom\n",
    "\n",
    "\n",
    "avg_rank"
   ]
  },
  {
   "cell_type": "code",
   "execution_count": null,
   "id": "b4b24af9-e976-475d-a44b-24df41ce750b",
   "metadata": {},
   "outputs": [],
   "source": [
    "dom"
   ]
  },
  {
   "cell_type": "code",
   "execution_count": null,
   "id": "84360297-9feb-4070-abdb-cbc6bc556d61",
   "metadata": {},
   "outputs": [],
   "source": [
    "funcs"
   ]
  },
  {
   "cell_type": "code",
   "execution_count": null,
   "id": "23d4371a-51b0-4eb5-a637-dd449c8713e2",
   "metadata": {},
   "outputs": [],
   "source": [
    "avg_rank = dom.groupby('dataset').domcount.rank(pct=True).groupby(dom.method).mean()\n",
    "import scikit_posthocs as sp\n",
    "test_results = sp.posthoc_conover_friedman(\n",
    "    dom,\n",
    "    melted=True,\n",
    "    block_col='dataset',\n",
    "    group_col='method',\n",
    "    y_col='domcount',\n",
    ")\n",
    "#sp.sign_plot(test_results)\n",
    "plt.figure(figsize=(10, 2), dpi=100)\n",
    "plt.title('Critical difference diagram of average score ranks')\n",
    "sp.critical_difference_diagram(avg_rank, test_results)"
   ]
  },
  {
   "cell_type": "code",
   "execution_count": null,
   "id": "498ebf0b-9e5d-4b25-b4a4-ae663bd5f118",
   "metadata": {},
   "outputs": [],
   "source": [
    "d={4:99}\n",
    "d.setdefault(4,5)\n",
    "print(d)"
   ]
  },
  {
   "cell_type": "code",
   "execution_count": null,
   "id": "b0e1911d-7e1a-4e4c-b3bf-cb73ef948569",
   "metadata": {},
   "outputs": [],
   "source": [
    "# horizoncut test \n",
    "d = np.random.rand(10,10)\n",
    "co = 2\n",
    "print(np.partition(d, co, axis=1)[:, co])\n",
    "print(np.sort(d,axis=1))"
   ]
  },
  {
   "cell_type": "code",
   "execution_count": null,
   "id": "bf54ea2c-6702-49ef-a464-8f08f50e4eaa",
   "metadata": {},
   "outputs": [],
   "source": [
    "from scipy.sparse import csr_matrix\n",
    "import numpy as np\n",
    "random_matrix = np.random.rand(10, 10)\n",
    "mask = np.random.rand(10, 10) > 0.5\n",
    "testmat = random_matrix * mask\n",
    "\n",
    "testmat"
   ]
  },
  {
   "cell_type": "code",
   "execution_count": null,
   "id": "4b75a185-e0b4-476f-b91b-c4850beda8f1",
   "metadata": {},
   "outputs": [],
   "source": [
    "\n",
    "n_samples = 10\n",
    "#S = np.random.rand(n_samples, n_samples)\n",
    "np.fill_diagonal(S, 0)  # self-similarity = 1\n",
    "\n",
    "plt.matshow(S)\n",
    "plt.colorbar()\n",
    "\n",
    "# Apply CSLS\n",
    "\n",
    "def csls_distance_matrix(D, k=10):\n",
    "    \"\"\"\n",
    "    Applies CSLS hubness reduction to a distance matrix.\n",
    "    \n",
    "    Args:\n",
    "        D: (n_samples, n_samples) distance matrix (lower = more similar)\n",
    "        k: Number of nearest neighbors to consider for local scaling\n",
    "    \n",
    "    Returns:\n",
    "        D_csls: Hubness-reduced distance matrix\n",
    "    \"\"\"\n",
    "    n = D.shape[0]\n",
    "    \n",
    "    # Find k-nearest neighbors for each point (excluding self)\n",
    "    knn = np.argpartition(D, k+1, axis=1)[:, :k+1]  # +1 to account for self\n",
    "    knn = np.array([row[row != i][:k]for i, row in enumerate(knn)])  # remove self\n",
    "    \n",
    "    # Compute mean distance of each point's neighborhood r(x_i)\n",
    "    r = np.array([D[i, knn[i]].mean() for i in range(n)])\n",
    "\n",
    "    print(r)\n",
    "    \n",
    "    # Symmetric CSLS adjustment (note the + instead of - for distances)\n",
    "    D_csls = 2 * D + r[:, None] + r[None, :]\n",
    "    \n",
    "    return D_csls\n",
    "    \n",
    "plt.show()\n",
    "plt.matshow(csls_distance_matrix(S,3))\n",
    "plt.colorbar()"
   ]
  },
  {
   "cell_type": "code",
   "execution_count": null,
   "id": "a71a5532-1f64-479f-b9d8-ccd8ec2a3cf3",
   "metadata": {},
   "outputs": [],
   "source": [
    "array = np.array\n",
    "z = [array([405,  61, 220, 231, 145,  58,  81, 442, 466, 281, 199]), array([110, 453, 224, 115, 405,  61, 134, 160, 345, 218, 231]), array([ 61, 164, 453, 220, 231, 307, 466, 281, 110, 145, 442]), array([112, 405, 110, 307, 453, 115, 469, 224, 289,  81,  28]), array([115, 405, 383, 466,  30, 190, 134, 453, 307, 305, 442]), array([220, 453, 218, 405, 268, 222, 164, 115,  58, 307, 110]), array([281, 110, 442, 134, 453, 466, 307,  61, 115, 231, 141]), array([138, 298, 110, 453, 268, 115, 209,  61, 466, 442, 281]), array([466, 268, 405, 112, 115,  81, 110, 453, 220, 231,  61]), array([160, 307, 115, 466, 442, 405, 164,  81, 190, 110, 498]), array([164, 218, 110, 307, 133,  81, 442, 405, 160,  23,  61]), array([268, 220, 466, 229,  85,  61, 231, 453, 102, 442, 164]), array([110, 218, 405, 442, 468, 281, 220, 115, 271, 453, 231]), array([281, 405, 209, 218, 466, 271,  28, 115, 453, 468, 268]), array([453, 281, 134,  61,  81, 160, 110, 231, 466, 442, 115]), array([218, 307, 405, 110,  81, 115, 134, 453, 133, 442,  61]), array([115,  61, 468, 466, 442, 405, 281, 453, 110, 218, 231]), array([ 23, 164, 466, 160,  81, 218, 133, 405, 442, 307, 268]), array([405, 307, 453,  58,  61,  81, 220, 218, 209, 164, 133]), array([209, 110, 281,  61, 442, 466, 453, 218, 231, 298, 405]), array([281, 453, 307, 115, 209, 110, 298, 100, 134,  61, 444]), array([164, 405, 268, 442, 110, 184, 307, 133, 130, 453, 231]), array([115, 453, 405, 468, 110, 307, 218, 134, 305, 281, 231]), array([453, 110, 115, 468, 224, 405,  61, 307, 305, 134, 281]), array([110, 339, 231, 115,  81, 271, 112, 307, 116, 442, 160]), array([100,  61, 468, 134, 281, 160, 224, 110, 453, 444, 218]), array([307, 453, 405, 222, 220, 218, 466, 164, 110, 231,  58]), array([ 61, 218, 209,  81, 453, 307, 405, 110, 160, 134, 281]), array([ 61, 115, 453, 405, 110,  69, 468, 100, 442, 231, 220]), array([110, 466, 453,  81, 160, 400, 231,  61, 307, 134, 115]), array([218, 453, 134, 405,  61, 209, 466, 307, 110,  81, 220]), array([112, 442, 453, 164, 281, 209, 229,  61, 110, 307,  81]), array([156, 110, 281,  81, 442,  89, 305,  61, 453, 231, 405]), array([453,  61, 100, 110, 115, 231, 468, 209, 444, 220, 293]), array([115,  61, 453, 160, 110, 220, 218, 442, 134,  81, 405]), array([307, 190, 396, 164,  81, 434, 115, 110, 231, 466, 268]), array([466, 298, 110, 209,  61, 115, 405, 281, 138, 231, 134]), array([453, 209, 134, 268, 160, 110, 442, 307, 231,  61, 220]), array([ 28, 115, 110, 466,  61, 453, 281, 335, 405,  81, 307]), array([ 61, 466, 453, 110, 115, 164, 400, 134,  85, 268, 190]), array([483, 218,  87, 453,  58, 417, 220, 405,  81, 164, 231]), array([396, 100, 218,  61, 281, 282, 110, 453, 115, 444, 434]), array([442, 444, 138, 110,  81, 100, 281, 453, 134,  61, 115]), array([281, 298, 220, 231,  61, 453, 466, 110, 307, 389, 415]), array([110, 100, 268, 281, 453, 115, 442, 307,  61, 220, 112]), array([110, 442,  61, 307, 231, 453, 160, 209, 115, 400, 134]), array([209,  61, 160, 307, 164, 453, 110, 231, 405, 442, 220]), array([466, 268, 307, 442, 216, 453, 293, 405, 112,  28,  61]), array([115, 307, 383, 339, 498, 110, 231, 434,  61,  52, 190]), array([405,  23, 231, 164, 110, 442,  81, 261, 453, 220, 145]), array([134, 307, 110, 442, 220,  61, 405, 218, 209, 115, 224]), array([209, 453,  61, 110, 134, 218, 298, 115, 231, 281, 405]), array([307, 218, 115, 405,  81, 190,  28, 110, 281, 453, 498]), array([220, 164, 231,  85, 145,  61, 253, 442, 453, 345, 466]), array([453, 110, 134, 466,  61, 220, 229, 160, 400, 442, 231]), array([405,  81, 307,  28, 466, 110,  61, 112, 115, 268, 453]), array([281, 444, 115, 110,  61, 453, 209, 405, 442, 466, 100]), array([231, 110, 466,  61, 405,  81, 442, 281, 220, 216, 293]), array([470, 110, 453,  61, 307,  81, 405, 466, 281, 134, 115]), array([231, 442, 281, 453,  61, 466, 110, 218, 134, 160, 115]), array([307, 400, 160, 442, 115, 110, 190, 453, 218,  81, 466]), array([466, 281, 307, 453, 110, 115, 218, 209, 271, 405, 134]), array([ 52, 110, 307, 115, 268, 442, 190, 128, 231,  81, 466]), array([218, 231, 164, 220,  58, 466, 453, 307,  61, 442, 417]), array([442, 405, 160, 231,  61, 307, 466, 134, 453, 110, 133]), array([ 61, 218, 453, 405, 164, 268, 307, 110, 220, 442, 231]), array([405, 307, 110, 453, 134, 115, 396, 141, 442, 218, 209]), array([268, 307,  28, 115, 112, 466, 442,  61, 453, 231,  81]), array([ 81, 453, 442, 218,  61, 110, 307, 396, 115, 209, 405]), array([434,  81, 307, 115, 383, 453,  28,  52, 190, 498, 268]), array([281, 110,  61, 231, 405, 218, 220, 453, 466, 442, 271]), array([164, 231, 209,  85, 405, 442, 466, 229, 453,  61, 145]), array([466, 110, 442,  69, 405, 307, 281, 218,  61, 115, 209]), array([160, 134, 115, 110,  81, 453,  61, 466, 442, 307, 231]), array([453,  61, 231, 442, 307, 220, 281, 100, 110, 444, 209]), array([453, 110, 130, 307, 466, 184, 442, 268, 164, 220, 405]), array([405, 115, 110, 209, 100, 466,  61, 444, 442, 281, 268]), array([160, 209, 281,  81, 218,  28, 442, 110, 115,  61, 307]), array([400, 307, 115, 434, 112,  61,  81, 190, 396, 164, 466]), array([110, 281, 115, 468, 405, 453,  69, 100, 209, 307, 218]), array([164, 253,  81, 231, 145, 442,  85,  61, 405, 220, 110]), array([466, 307, 110,  28, 453, 206, 268, 115, 305, 218,  61]), array([110, 218, 405, 281, 271, 307, 442, 115, 184, 231, 134]), array([466, 231,  81, 405, 442, 110, 453, 307, 305, 220, 281]), array([400, 405, 466, 115, 160,  61, 453, 209, 134, 110, 442]), array([453, 281, 218,  81, 298, 209, 442, 110, 231, 405, 220]), array([ 61, 110, 444, 100, 405, 442, 453, 307, 115, 209,  81]), array([466, 110, 282,  81, 453,  97, 100, 444, 442, 405, 115]), array([307, 110,  81, 220, 268, 293, 141, 231, 216, 442, 261]), array([115,  81, 442, 110,  61, 307, 190, 400, 453, 160, 405]), array([115, 405, 281, 224, 307, 453, 110, 442, 134, 271, 209]), array([307, 160, 110, 442, 115, 453, 405, 281,  61, 128, 466]), array([268,  28, 466, 307, 115, 110, 453, 206, 218, 133, 112]), array([442, 110, 220, 261, 141, 466, 281, 268, 453, 395,  81]), array([405, 115, 434, 112,  85, 110,  61, 268,  81, 160, 453]), array([442, 216, 293, 268,  81, 220, 453, 231, 110, 395, 405]), array([ 61, 115, 100, 209, 442,  81, 110, 453, 468, 444, 396]), array([466,  61, 231,  81, 420, 442, 110, 281, 164, 102,  28]), array([281, 453, 220, 466,  61, 442, 218, 110, 115, 231, 405]), array([115,  61, 405, 453, 468, 281,  69, 110, 218, 209, 466]), array([110,  28,  81, 307, 134, 405, 453, 442, 133, 470, 231]), array([442, 453,  69,  61, 220, 110, 444, 115, 100, 405, 466]), array([453,  61, 110, 442, 405,  28,  81, 160, 209, 444, 307]), array([339, 220, 231, 268, 190, 112, 494, 307, 453, 383, 115]), array([110, 307, 281, 405,  61, 115, 442, 218, 268, 209, 231]), array([ 52, 164, 434, 453, 400,  85, 231,  61, 442, 212,  23]), array([307,  28, 268,  81, 112, 442, 466, 305,  61, 231, 110]), array([466,  81, 209,  61, 134, 444, 453, 115, 110, 281, 160]), array([ 81, 115, 133, 498, 116, 307, 164, 190, 339,  28, 160]), array([405, 218,  81, 268, 231, 466, 307, 453, 115, 281, 110]), array([453, 405, 218,  81, 281, 115, 209, 466, 307, 231]), array([110, 307, 405, 453, 134, 442,  81, 133, 468, 218, 115]), array([442, 218, 453, 164, 307, 466, 220, 190, 405,  81, 268]), array([110, 444, 453, 115, 466,  61, 100, 442, 134, 209, 298]), array([420, 307, 442, 466, 231, 115,  81, 110, 160,  61, 209]), array([453, 209, 442, 405, 110,  61, 468, 218, 298, 268, 271]), array([115, 453,  81, 218, 307, 281,  61, 305, 110, 405, 134]), array([417, 164, 453, 218, 220, 405, 307,  61, 222,  58, 110]), array([453, 209, 110, 466,  61, 281, 405, 160, 231, 134,  85]), array([110, 405, 453, 209, 307,  81, 281, 115, 218, 466, 133]), array([405, 209, 218, 281,  61, 110, 468, 100,  69, 453, 134]), array([218, 453,  81, 405, 110, 115, 281, 307, 442, 134, 468]), array([442, 293, 216, 220, 231, 160,  61,  23,  81, 212, 164]), array([ 81, 442, 466, 110,  23, 268, 231, 453, 281, 117, 307]), array([ 81,  61, 268, 231, 216, 293, 220, 110, 442, 453, 281]), array([184, 453, 199, 442, 307, 405, 218, 281, 164, 305, 209]), array([293, 434,  81, 216, 220, 231, 115, 453, 218, 110, 405]), array([405,  58,  87, 417, 442, 453,  81, 220, 218, 231,  61]), array([115, 481, 218, 453, 110,  61, 307, 209, 396, 405, 442]), array([209, 307, 110, 115, 218,  61, 224,  81, 453, 442, 405]), array([160, 400, 307, 110, 442, 383, 434, 453,  61, 134, 466]), array([218, 134, 231,  81, 307, 442, 405,  28, 110, 453, 133]), array([231, 396, 453,  28,  81, 164, 110, 405, 442, 293, 216]), array([384,  81, 307, 190, 339, 160, 115, 218, 224, 498, 405]), array([218, 417, 466, 405, 110,  58, 453, 483, 220,  81, 231]), array([110, 218, 115, 281, 453, 442,  81, 466, 307,  61, 405]), array([307, 268, 115,  28, 110, 453, 134, 405, 218, 442, 206]), array([405,  61, 115, 268, 110, 444, 160, 453, 442, 134, 293]), array([395,  81, 442, 110, 453, 268, 307, 115, 216, 293, 231]), array([442, 453, 115, 218, 229, 110, 134, 220,  85, 231,  61]), array([277, 442,  81, 395, 293, 141, 231, 110, 216, 268, 466]), array([ 69,  81, 110, 115, 281, 209, 468, 405, 224, 218,  61]), array([453, 224, 405, 307, 134, 218, 110,  61, 115,  81, 209]), array([231, 190,  81, 307,  28, 115, 442, 133, 110, 383, 405]), array([231, 307, 115, 128, 442, 141, 281, 268, 110, 405,  81]), array([231,  81, 220, 453,  61, 268, 115, 218, 110, 442, 209]), array([453, 442, 160, 307, 110, 396, 115, 134, 405, 224, 164]), array([405, 164, 442, 231, 453, 134, 298, 110, 307, 115, 468]), array([ 81,  28, 466, 307, 218, 116, 115, 110,  61, 268, 405]), array([ 81, 231,  85, 110, 466, 442, 453, 405,  61,  28, 218]), array([442, 281, 110,  61,  69, 453, 468, 307, 231, 405, 268]), array([307,  81, 115,  28, 190, 164, 405, 281, 231, 133, 160]), array([405, 110, 218, 268, 453, 164, 307,  81,  61, 220, 133]), array([220, 453, 417, 405,  58,  87, 218,  61, 231, 483, 442]), array([281, 110, 405, 453,  85, 115, 100, 442, 466, 218, 231]), array([164, 405, 218, 307, 110, 133, 442, 466, 268, 453, 134]), array([307, 110,  81, 115, 405, 209, 220, 442, 466, 453, 396]), array([442,  61, 110, 307, 220, 453, 405, 209, 231, 298,  58]), array([298, 218, 110, 115,  61, 134, 405, 453,  81, 442,  85]), array([160, 453, 115, 442,  81,  61, 110, 307, 268, 134, 231]), array([ 81, 216, 220, 293, 231, 268, 442, 115, 110,  28, 396]), array([442, 405, 110, 453, 281, 100, 115, 209,  61, 134, 231]), array([281,  61,  81, 110, 466, 134, 453, 220, 209, 160, 115]), array([453, 134, 160,  61, 110, 345, 100, 218, 466, 112, 442]), array([110, 453, 442, 115,  61, 209, 307, 405, 100,  28, 281]), array([ 58,  87, 405, 218, 220, 231, 453,  81, 466,  61, 417]), array([281, 220, 453, 231,  61, 466, 442, 110,  85, 268, 218]), array([ 81, 268, 134, 307, 231,  61, 442, 110, 466, 115, 190]), array([218, 224, 466, 453,  69,  81, 281, 110, 405, 115, 468]), array([405, 218, 110, 112, 442, 466, 115,  81, 453,  61, 307]), array([100,  61, 115, 405, 231, 110, 468, 453, 444, 307, 160]), array([231,  23, 164, 453, 212, 442, 216, 293,  61, 161,  81]), array([383, 298, 268, 453, 141, 466, 190, 307, 231, 112, 110]), array([220, 442,  81, 293, 216,  23, 395, 466, 268, 231, 110]), array([164, 218,  58,  61, 220, 405, 453, 307, 442, 110,  81]), array([115, 128, 190,  81, 307,  52, 339, 405, 268, 442, 110]), array([468, 138, 281,  81, 110, 218, 405, 307, 224, 209, 115]), array([466, 420, 453, 442, 281, 110,  61, 231, 496, 220,  81]), array([281,  81, 110, 453, 466, 405, 218, 209, 231, 160, 115]), array([145, 231,  61,  81, 164,  85, 420, 253, 405,  57, 442]), array([307, 115, 110, 442, 160, 400, 190, 466,  61, 453,  81]), array([405, 110, 442, 115, 444, 453, 281,  69, 209, 468, 307]), array([405, 271, 453, 160, 307, 442, 110, 115, 466, 231, 218]), array([444, 453, 100, 110, 115, 442, 405,  61, 307, 206, 434]), array([218, 453, 307, 229, 231, 271, 405, 164, 442, 110, 281]), array([110, 307,  81, 442, 268, 133, 164, 115, 218, 222, 405]), array([453, 307, 164, 190,  81, 434, 396, 281, 115, 220,  28]), array([444, 110, 453,  61, 405, 281, 231, 442, 218, 115, 220]), array([134,  61, 100, 444, 453, 110, 115, 281, 307, 442, 218]), array([307, 268,  81, 405,  28, 442, 466, 218, 231, 133, 110]), array([231,  61,  85, 466, 453, 442, 220, 405,  81, 281, 110]), array([442,  23,  81, 164, 438, 110, 115, 307, 293, 405, 216]), array([216,  81, 261,  23, 164, 231, 293, 442, 453,  61, 405]), array([442, 218, 220,  58, 405, 199, 417,  81,  87, 453, 483]), array([110, 442, 220, 453,  61, 405, 400, 231, 100, 444, 115]), array([160, 442,  81, 110, 115, 438, 405, 307, 218,  28, 112]), array([466, 307,  28, 268, 442, 110, 115, 453,  81, 112,  61]), array([110, 453, 405, 281, 115, 218, 224, 468,  61, 100,  69]), array([395, 442, 466, 231, 220, 307, 115,  81, 134, 110, 281]), array([268, 231,  87, 220,  61, 453, 145, 222, 115, 400, 218]), array([281, 134, 453, 110, 115, 307,  89, 405, 218, 442, 268]), array([405, 307, 110, 442, 453, 218, 115,  81, 134, 281, 209]), array([405, 307, 218, 134, 110, 220, 442, 453, 466, 281, 115]), array([134, 281, 494, 434, 160, 268, 307, 453, 115, 159,  61]), array([453, 307, 110, 115, 442,  61, 134, 209, 305, 405,  85]), array([281, 218, 100, 115,  69, 468, 110, 405,  61, 453, 444]), array([453, 160, 115, 110, 134, 442, 444,  61, 282, 405, 100]), array([ 28, 466, 110,  81, 134, 281, 405, 218, 115, 268,  61]), array([388,  28, 307, 466, 453, 190, 268, 494, 434, 218, 115]), array([115,  61, 453, 110, 468, 405, 281,  69, 100, 442, 218]), array([110, 400, 209, 115, 466, 231, 453, 220, 298,  61, 138]), array([164, 190, 222, 498,  81, 307, 160, 466, 110, 453, 442]), array([ 28, 112, 115, 466, 206, 453, 220,  61, 268, 307, 110]), array([115, 307, 110, 442, 268, 134,  61, 112,  28, 466, 453]), array([307, 110, 220, 453, 231, 134, 466,  61, 400, 442, 160]), array([281, 307, 468, 405, 164, 466, 271, 110,  89, 442, 453]), array([ 23, 133, 405,  81, 442, 110, 164, 307, 218,  61, 209]), array([281, 218, 110, 453, 405, 307, 305, 231, 115, 164,  81]), array([466, 307,  28, 268, 115, 405,  81, 133, 112, 110, 442]), array([ 81, 110, 271, 307, 224, 281, 453, 442, 405, 218, 115]), array([231,  28, 268,  81, 110,  58, 453,  61, 466, 442]), array([468, 405, 281, 442, 115, 110,  69, 218, 271, 453, 134]), array([453,  81, 307, 218, 110, 405, 442, 134, 115, 434, 160]), array([442, 220, 110, 268, 159, 358, 141, 164, 115, 231, 305]), array([164, 318, 405, 268,  61, 110, 115, 218, 466, 307,  81]), array([115, 110,  81, 442, 307, 134, 405, 224, 453,  61, 281]), array([134, 453, 160, 466,  61, 405, 110,  81, 218,  85, 281]), array([453, 100, 110, 281, 231,  85, 442, 209, 218,  81,  61]), array([ 61, 115, 400, 160, 466, 307,  81, 190, 231, 110, 268]), array([ 81, 305, 115, 218, 307, 453, 184, 405, 134, 466, 442]), array([405, 442,  81, 466,  23, 453, 293, 231, 216, 268, 220]), array([110,  52, 268, 115, 453, 466, 383, 112, 116, 339]), array([ 85,  87, 220, 231,  61, 110, 229, 417,  58, 453, 483]), array([442,  61, 220, 231,  81,  85, 466, 164, 405, 110, 281]), array([466, 307,  28, 268, 115, 405,  81, 133, 112, 110, 442]), array([281, 115, 218, 405, 307, 468, 160, 442, 110, 231, 209]), array([110, 218,  81, 281, 453, 442, 115, 405, 112, 307, 164]), array([115, 405, 110, 468, 281,  89, 453, 268, 218, 422, 112]), array([ 58, 231, 405,  87, 220, 417, 453,  61, 483, 268, 218]), array([400, 110, 160, 442, 339, 307,  81, 190, 115, 164,  61]), array([164,  28,  81, 405, 110, 466, 261, 133, 281, 307, 218]), array([216, 293, 442,  61,  81, 220,  23,  85, 231, 212, 466]), array([224,  61, 488, 115, 110, 453, 281, 156, 405,  89, 307]), array([ 28, 453, 466, 307, 115, 110,  61, 231, 268,  81, 335]), array([442, 281, 209, 307, 133, 470, 405,  81, 218,  74, 110]), array([ 61,  58, 483, 466,  85, 220,  87, 405, 258, 453, 231]), array([453, 231,  58, 466, 110, 220, 268, 129, 133,  28, 442]), array([466,  28, 220,  81, 112, 115, 268, 442, 453, 218, 281]), array([110, 307, 133, 466, 115, 218, 231, 220, 268,  61,  28]), array([ 28, 281, 405, 268,  81, 231, 133, 466, 112,  61, 442]), array([307, 190, 339, 383, 115, 498,  81, 110, 160, 268, 466]), array([442, 453, 110, 400, 115,  81, 160, 307, 218, 134, 190]), array([ 61, 110, 442, 231, 466, 117, 293, 216,  23, 268, 220]), array([231, 268, 466,  61,  81, 220, 218, 115, 112, 110, 358]), array([281,  81, 110, 164, 466, 307, 405, 134,  61, 442, 112]), array([115, 453, 218, 466, 405, 281, 209, 110, 156, 468, 307]), array([307, 442, 110, 405, 453, 133, 466, 134, 112, 209,  81]), array([231,  81, 442, 466, 216, 110, 453, 438,  61, 268, 293]), array([466, 134, 453,  61, 400, 110, 231, 209, 160, 281,  85]), array([115, 453, 444, 281, 134, 100,  61, 110, 209, 160,  81]), array([ 81, 307, 133, 160, 405,  28, 134, 218, 115, 190, 110]), array([281, 110, 453, 405, 134, 307, 115, 224, 218, 466, 442]), array([405, 115, 218,  61, 468, 281, 110, 307, 453, 466,  69]), array([405, 466, 307, 281, 422, 115,  89, 110, 231, 468, 453]), array([281, 110, 453, 218, 307,  89, 271, 405, 468, 115, 224]), array([307,  61, 405, 110, 164, 218, 222, 453, 442, 220, 268]), array([ 81,  28, 307, 453, 405, 112, 164, 466, 268, 110,  61]), array([115, 209, 453, 220, 307, 442, 110, 281,  61,  89, 405]), array([220, 466, 281, 110, 442, 453,  81,  28, 405, 307]), array([ 81, 110, 466, 222, 134, 405, 218, 307, 453, 442, 115]), array([231, 466, 293, 216, 212, 268, 442,  23, 110,  81, 229]), array([405, 307, 442, 453, 134, 468,  81, 110, 115, 112, 305]), array([218, 298, 453, 281, 224, 466,  61, 110, 134, 442, 307]), array([190, 231, 307, 498, 116, 339, 268, 383, 160,  85, 453]), array([110, 444, 453,  61, 442, 231, 268, 405, 218, 100, 281]), array([405, 134, 110, 220, 442, 307,  58, 453, 218,  81, 268]), array([405, 231, 110, 453, 281, 218, 115, 442, 468, 466, 160]), array([110, 115, 405, 218, 134, 453, 307, 305, 442, 268, 281]), array([253, 164,  58, 110, 220, 483, 453, 405, 190, 442,  87]), array([293,  81, 442,  61, 164, 216, 231,  23, 220, 453, 466]), array([405, 453, 110,  89, 281, 271, 307, 224, 468, 466, 218]), array([466, 218, 453,  58, 220, 405, 112, 417, 231, 164, 268]), array([164, 442, 307, 190,  61, 229, 110, 268, 358, 220, 400]), array([442,  81, 293,  23, 453, 261, 115, 110, 220, 216, 307]), array([ 81, 442, 110, 231,  61, 281, 115, 220, 307, 358, 134]), array([405, 466, 134, 164, 218, 453, 444, 115,  61, 110, 307]), array([405, 307, 164, 453, 115, 190, 218, 110, 134, 469, 289]), array([ 81, 307, 453, 466, 110, 405, 209, 133, 442, 134, 281]), array([442, 405,  81, 115, 231, 453, 466, 268,  61,  58, 117]), array([453, 405, 307, 134, 442, 110, 218, 133, 281,  81, 115]), array([453,  81, 405, 133, 218, 307, 164, 222, 209, 110, 231]), array([164,  81, 466,  23, 442, 231, 281,  61, 261, 293, 216]), array([405,  81, 281, 184, 218, 110, 115, 453, 307, 134, 442]), array([ 81, 115, 133, 307, 110, 466, 281, 453, 405, 442, 209]), array([453, 231, 468, 307, 218, 466, 115,  89, 405, 281,  61]), array([442, 231,  23, 268,  61,  81, 220, 261, 110, 466, 216]), array([405, 110, 100, 160,  61, 453, 466, 231, 218, 115,  28]), array([110, 281, 466, 115, 444, 453,  61, 100, 218, 231, 405]), array([115, 405, 307, 110, 470, 281, 134, 218, 442,  81, 224]), array([115, 281, 405, 442, 160,  81, 218, 110, 307, 209,  61]), array([466,  28, 112, 307, 268, 115, 388, 133,  81, 405, 231]), array([133, 405, 164, 307, 110, 268, 442, 300,  81, 466, 218]), array([453, 115, 405, 218, 442, 307,  81, 164, 110, 220, 466]), array([ 81, 164,  61, 110, 160, 453, 115, 307, 405, 466, 442]), array([307,  28, 466, 133,  81, 442, 110, 112, 220, 268,  61]), array([218, 453, 307,  81, 110, 115, 134, 466, 405, 222, 220]), array([307, 442, 115, 128, 160, 434, 110, 453, 164, 229, 218]), array([229,  23,  61, 453,  85, 220, 483,  28, 442, 281, 268]), array([466, 268, 442, 453,  61, 110, 220, 231, 307, 160, 405]), array([ 81, 442, 293, 216, 231, 115, 405, 110, 466,  23, 261]), array([218, 405, 110, 115, 307, 133, 134,  81, 453, 224, 281]), array([405,  69,  61, 110, 468, 453, 100, 231, 209, 115, 442]), array([115, 307,  81, 498, 110, 339, 190, 160, 453, 442, 383]), array([ 28, 453, 115, 133, 307, 494, 466, 416,  61,  81, 405]), array([ 28, 307, 453, 115, 110, 268, 442, 305,  52, 335, 339]), array([164, 442,  23,  81, 261, 231,  58, 220,  61, 405, 466]), array([ 81, 466, 268, 112, 442, 110, 453, 115, 231, 405, 220]), array([307, 115, 453, 206, 305, 405, 268, 110, 231, 190, 134]), array([405, 164, 271, 281, 307, 442,  61, 134, 110, 218, 466]), array([218, 405, 115, 453, 110, 134,  69, 231, 220,  61, 442]), array([218,  61, 307, 110, 115, 453, 442, 134,  81, 405, 224]), array([220, 229, 466, 442, 231,  61,  85, 261, 298,  23, 405]), array([115, 307, 222, 134, 220, 218, 405, 110, 453,  61,  81]), array([231, 307, 405, 190,  61, 112, 268, 224, 218, 453,  81]), array([231, 453, 268, 110, 442, 307,  85,  61, 116, 134, 466]), array([231,  61,  81, 110, 405, 442, 220, 453, 466, 438, 164]), array([222, 164,  61, 281, 218, 405, 220, 466,  28,  81, 453]), array([231, 307, 160, 110, 442, 268, 220, 112, 405, 134, 466]), array([298, 453,  61, 110,  85, 307, 466, 231, 434, 268, 281]), array([453, 220, 271, 405,  89, 110, 468, 281, 442, 218, 115]), array([ 28, 453, 466, 307, 115, 110,  61, 231, 268,  81, 335]), array([400,  81, 307, 128, 268, 160, 453, 115, 383, 110, 190]), array([453, 160, 307, 115, 110, 134, 218, 231, 405,  61, 268]), array([453, 405, 468,  69, 218, 110, 466, 115, 281, 307, 318]), array([110, 442, 444,  61, 405, 100, 115, 453, 231, 281, 466]), array([307, 115, 405,  61, 442, 281, 110, 134, 453, 318, 434]), array([466, 268,  28, 453, 231, 110, 115, 307,  61, 112,  81]), array([281, 100, 110, 115, 134,  61, 209, 453, 444, 442, 231]), array([117, 442, 110, 220,  61, 395, 231, 453, 298, 234, 134]), array([115, 307, 466, 218,  81, 442, 268,  28, 110, 134, 160]), array([442, 218, 405,  81, 110, 220, 307, 133, 466,  61, 164]), array([115, 268, 307, 466, 453, 112, 442,  81, 110,  28, 218]), array([ 69, 281, 110, 405, 442, 468, 307, 115,  81,  28, 271]), array([115, 405, 110, 218, 231,  61,  81, 281, 466, 453, 307]), array([231, 110, 160, 466, 453,  23,  61, 268, 218, 220, 442]), array([400, 218, 231, 110, 134, 160, 453,  81,  58, 220, 405]), array([218,  61, 405, 453, 466, 231,  81, 115, 220,  58, 307]), array([405, 453, 442, 110, 115, 218, 281, 468, 307, 271, 268]), array([218, 405, 307, 115, 442,  61, 134, 110,  28, 434,  81]), array([444,  61, 442, 453, 307, 434, 110, 220, 268, 281, 115]), array([466, 231,  61, 442, 453, 220, 110,  85, 396, 268, 307]), array([110, 281, 405, 468, 453, 115,  69, 209, 444, 218, 100]), array([110, 405, 281, 115,  61, 468, 218, 224, 453, 134,  89]), array([442, 110, 231, 468, 209, 466, 453, 115, 405, 218, 281]), array([ 61, 231, 405,  81, 218, 466, 220,  28, 307, 268, 133]), array([405, 133, 110,  81, 307, 442, 134,  28, 281, 218, 470]), array([281, 442, 110, 405, 307, 218,  61, 115, 231, 453, 134]), array([307, 218, 442, 405, 281, 271, 220, 453, 468, 466, 115]), array([281, 453, 442, 220, 307, 298,  61, 110, 218, 115, 268]), array([ 61, 220, 293, 442, 216, 110, 113,  81, 231, 453, 466]), array([453, 307, 442, 110, 218,  28, 134,  81, 115, 405, 160]), array([405, 466, 268, 281, 218, 453, 307, 209, 160, 442, 110]), array([271, 453, 281, 307, 115, 405, 110, 112, 468, 442, 231]), array([442,  81, 110, 453,  61, 115, 220, 209, 470, 134, 420]), array([ 81, 231, 110, 268,  28, 307, 442, 115, 466, 164, 206]), array([453, 164, 209, 115, 110, 466, 281, 307, 405,  81, 318]), array([ 61, 110, 115, 218, 405, 453,  81, 268, 281, 466, 231]), array([405, 115, 110, 281,  61, 209, 396, 466, 468, 218, 453]), array([453, 160, 218, 110, 305, 307, 115, 224, 231, 206, 466]), array([442,  23,  81, 164, 438, 110, 115, 307, 293, 405, 216]), array([307, 453, 442, 281, 405, 110,  81, 466, 218, 134, 133]), array([453, 307, 110, 134, 442, 396,  81, 115,  61, 218, 405]), array([453, 231, 268, 110, 218, 442, 160, 281, 405, 307, 209]), array([ 81, 442, 231, 216, 293,  23, 261, 281,  28, 405, 161]), array([293, 216,  81, 110, 115, 117,  61, 164, 442, 231,  23]), array([405, 307, 281, 110, 453, 164, 442, 468,  89,  70, 271]), array([110, 453, 220, 231,  61, 466, 268, 405, 116, 281, 307]), array([160, 453, 115, 307, 110, 231, 442, 134, 190,  61, 400]), array([231, 115,  61, 405, 453, 110, 134,  81, 160, 307, 281]), array([442,  81, 164,  23, 110, 220, 231, 405, 307, 268, 261]), array([110,  61, 160, 400, 466, 209, 218, 164, 405, 231, 134]), array([453, 220,  61, 466,  81, 231, 307, 442, 110, 133, 405]), array([307, 115, 405,  69, 110, 468, 453,  61, 231, 218,  81]), array([218, 231, 110, 112, 466, 405, 453, 268, 442,  28, 307]), array([231, 420, 110,  28, 453, 442, 281, 220, 466,  61,  81]), array([220, 405,  89, 281, 110, 453, 442, 231,  61, 307, 268]), array([268, 307, 453,  28, 115, 206,  81, 335, 466, 128, 164]), array([115, 405,  89, 218, 110, 468, 442, 281, 453, 224, 307]), array([164,  81, 231, 268, 160, 442, 307, 110, 112, 339, 434]), array([281, 164,  61,  81, 466, 110, 453, 134, 160, 442, 405]), array([405, 307, 115, 281, 466, 468, 453, 218, 110, 209,  61]), array([218, 307, 405, 110,  81, 115, 134, 453, 133, 442,  61]), array([268, 220, 405, 110, 442, 453, 307, 160, 164, 218, 231]), array([216, 220, 231, 293,  81, 442, 438, 261, 453, 405, 141]), array([453, 218, 220, 307, 405, 466, 164, 268, 110, 222,  81]), array([110, 442, 444,  61,  81, 453, 405, 100, 218, 115, 281]), array([231, 281, 466, 220,  61, 420, 453, 110, 496,  85, 442]), array([453, 112, 160, 442, 134, 218, 405, 110, 307, 281, 466]), array([209, 453, 405, 218, 281, 110,  81, 307, 466, 442, 115]), array([218, 216, 164, 405,  81, 281, 466, 453, 110, 442, 293]), array([220, 466, 396,  81, 110,  28, 442, 231, 218, 405, 268]), array([468, 110, 405, 115, 281,  69, 307, 453, 209, 442,  61]), array([405, 466, 134, 164, 218, 453, 444, 115,  61, 110, 307]), array([268,  61, 453, 110, 466,  81, 218, 112, 231, 405, 115]), array([442, 231, 405, 110, 112,  28, 453, 268, 307,  61, 160]), array([ 28, 133, 442, 112, 110, 115, 218,  81, 466, 307, 268]), array([405, 307, 133,  81, 110, 199,  28, 281, 498, 218, 442]), array([400, 134, 110, 160, 453,  61, 434, 231, 442, 115, 307]), array([ 85, 231, 442, 453,  61, 405, 466, 229, 220, 102, 145]), array([268, 466, 110,  61, 307, 405, 112, 442, 453,  28, 281]), array([ 81, 231,  61,  23, 115, 453, 293, 216, 442, 466, 307]), array([405, 164, 281, 307, 133, 231, 110, 218,  81,  61, 466]), array([ 28, 442, 466, 307, 453, 115,  61, 110, 268, 206, 305]), array([164, 231,  23,  81, 442, 133, 261, 438, 216, 405, 293]), array([ 61, 231, 405,  81,  85, 229, 466, 453, 454, 190, 220]), array([110,  81, 405, 261, 231,  23, 216, 442, 293, 268, 453]), array([231, 113, 453, 293, 216, 442, 220,  61,  85, 115, 110]), array([164, 298, 231, 110, 209, 307, 405, 218, 224,  61, 138]), array([218, 405,  81, 468, 100, 281, 110, 307, 318, 115, 453]), array([231, 218, 307, 115, 442, 405, 110, 164, 453, 220, 466]), array([453, 466, 281, 110, 307, 405, 442,  81, 115, 268,  61]), array([115, 218, 405,  81, 110, 307,  28, 133, 268, 466, 453]), array([160, 442, 218, 498, 115, 405,  81, 133, 164, 307, 190]), array([199, 220,  81, 405, 466,  28, 453, 218,  58,  87,  61]), array([281, 453, 110, 307,  89, 206, 115, 231, 468, 112, 405]), array([298, 468, 218, 307,  69, 405, 281, 156, 110, 442,  61]), array([115, 405, 110,  61,  69, 453, 281, 218, 468, 307, 224]), array([110, 209, 298, 453, 281, 134, 138, 218, 115, 466, 307]), array([115, 405, 110, 218, 231,  61,  81, 281, 466, 453, 307]), array([231, 453, 307,  28, 494, 268, 466, 115, 383,  81,  52]), array([442,  61, 110, 231, 220, 293, 216, 115, 466, 453, 268]), array([110,  61, 293, 453, 216, 444, 442, 231, 115,  81, 100]), array([281,  61, 209, 466, 110, 115, 405, 453, 134, 231, 160]), array([281, 220,  61, 218, 231, 110, 453, 444, 442, 209, 100]), array([405,  69, 281, 110, 466,  22, 307, 468, 298, 453, 156]), array([453, 218,  58, 222, 466,  81, 112, 164, 405, 231, 307]), array([160, 145, 220,  81,  85, 231, 420,  61, 164, 218,  28]), array([110,  69, 453, 405, 442, 281, 209, 231,  61, 468,  81]), array([ 28, 110, 442, 133, 307,  81, 268, 115, 231, 466,  61]), array([271, 307, 468, 218, 405, 115, 281,  61, 110, 305, 229]), array([160, 442, 115, 453, 405, 110, 281,  61, 444, 231, 100]), array([134, 218, 222, 307, 220, 453,  61, 115, 405, 281, 466]), array([405, 466, 453, 307, 222, 220, 218, 268, 110, 281]), array([466, 442, 160, 453, 110, 209, 218, 405, 115,  81, 134]), array([307, 138, 112, 434, 110, 218, 115, 134, 305, 468, 453]), array([453, 444, 115, 110,  61, 307, 442, 405, 281, 268,  85]), array([442, 141, 466, 453, 363, 110, 220, 405, 231, 395, 396]), array([ 58, 220,  87, 453, 417, 405, 218, 466, 483, 231, 442]), array([220, 466, 110,  61, 231, 229,  85, 208, 281, 454, 405]), array([229,  61, 454, 231, 164,  85, 145, 453, 466, 405, 281]), array([453, 400, 110, 307, 160, 466,  81, 209, 420, 498, 115]), array([339, 145,  85, 453, 268, 164, 231, 442,  23, 190, 466]), array([442, 110, 115, 453, 281, 405, 218, 466, 134, 468,  61]), array([468, 307,  89, 110, 405, 281, 231, 268,  61, 229, 218]), array([468, 442,  69, 405, 453, 110, 209, 444,  81, 115, 160]), array([444, 115, 110, 100, 453,  61, 281, 307, 134, 442, 209]), array([442, 110, 405, 466, 115, 218, 281, 307, 209, 133,  28]), array([466, 444, 115, 112, 110, 405, 453, 100, 268,  81, 396]), array([405, 468, 110, 453,  69, 442, 115, 281,  61, 100, 209]), array([445, 218,  81, 307, 405, 224, 110, 134, 133, 281, 442]), array([110,  61, 293, 453, 216, 444, 442, 231, 115,  81, 100]), array([434, 466, 268, 231, 116, 115, 112, 110, 383, 453, 220]), array([ 81,  28, 115, 442, 110, 281, 405, 466, 268, 218, 453]), array([ 28,  61, 231, 164,  81, 216, 442,  23, 293, 220, 307]), array([466,  81, 220, 405,  58, 218, 222, 453, 268, 231, 307]), array([220, 110,  85, 442, 231, 268, 417, 115,  61, 453, 164]), array([159, 442, 110, 112, 115, 441, 453, 268, 307,  61]), array([470, 281, 115,  81, 405, 110, 224, 468, 100, 218, 160]), array([453, 396,  81, 141, 395, 110, 442, 218, 405, 220, 466]), array([307,  61,  28, 442, 231, 117, 268, 466, 453, 129, 281]), array([298, 110, 453, 209, 231, 442,  61, 115, 220, 138, 224]), array([ 81, 268, 466, 110, 231, 112, 453, 358, 405,  28, 442]), array([134, 453, 307, 110, 115, 405, 218, 442,  81, 281, 209]), array([110,  61, 444, 442, 209, 218, 100, 115, 307, 468, 453]), array([209, 134, 115, 112, 110, 307, 442,  61, 453, 160,  81]), array([218, 164, 405,  81, 110, 307, 268,  28,  61, 466, 442]), array([115,  81, 307, 442, 268, 190, 128,  52, 466, 160,  28]), array([453, 164, 442, 268, 231,  85, 229,  61, 220, 466, 381]), array([ 58, 307, 453, 405, 110, 220, 218, 164, 442, 134,  81]), array([112, 405, 224, 307, 281, 442, 453, 134, 133, 110,  81]), array([405,  58, 453, 483, 417, 231, 229,  87, 220,  61, 442]), array([405, 220, 453, 218,  58, 466,  61,  81, 222, 110, 134]), array([110, 100, 444, 442, 405, 209,  61, 134, 453, 218,  81]), array([281, 442, 453, 110,  81, 466, 160,  61, 400, 134, 405]), array([466, 453, 442, 293, 110,  61,  81, 216, 231, 281, 220]), array([293,  61, 216, 466,  85, 220, 110, 102, 442, 231, 229]), array([442, 117, 453, 231, 220,  81, 110, 261,  23, 141, 405]), array([ 61, 444,  81, 100, 453, 110, 115, 466, 231, 281, 209]), array([218, 281, 453, 405, 110, 307, 442, 115, 318, 468,  61]), array([231, 405, 453, 268, 307, 442, 110, 466, 190, 281,  61]), array([190, 268, 466, 307, 453, 218, 110, 405, 358, 115,  61]), array([405, 231, 209, 453, 281, 307, 110,  81, 115, 224, 218]), array([ 28, 307, 110, 112, 466, 388, 442, 115, 216, 293, 159]), array([453,  89, 307, 468, 115, 281, 442, 110, 271, 405, 218]), array([218, 209, 110, 453, 164, 405,  81, 298, 307, 224, 442]), array([ 81, 268, 133, 164, 307, 442, 453, 405, 110, 220, 298]), array([466, 112, 307, 141,  81,  61, 442, 453, 405, 115, 164]), array([160, 434,  81, 190,  61, 110, 307, 112, 442, 400, 115]), array([307, 231, 110, 112, 453, 115, 268, 190, 160, 218, 116]), array([160,  61, 307, 110, 164, 434, 400, 281,  85, 405, 442])] "
   ]
  },
  {
   "cell_type": "code",
   "execution_count": null,
   "id": "5a19e41c-4d19-4d33-b1be-599437679fcb",
   "metadata": {},
   "outputs": [],
   "source": [
    "data = [[3326571.725197324, 3154970.0720751956, 3005546.687136788, 2939471.3179067187, 2915461.2237821487],\n",
    "[4498993.820461707, 4301434.563097052, 4142249.5506123775, 4043630.336811959, 4019343.1666131536],\n",
    "[3187072.592168979, 3043408.383749654, 2949179.8489271672, 2912725.32058333, 2885924.9286203277],\n",
    "[3748274.5077334996, 3558127.020760696, 3417485.0322979433, 3319142.58714804, 3295268.8734280732],\n",
    "[15588454.012740301, 15435887.531138442, 15312090.6144848, 15235430.776575955, 15198121.868878432]]\n",
    "\n",
    "plt.plot(data[0])\n"
   ]
  },
  {
   "cell_type": "code",
   "execution_count": null,
   "id": "b45bf27d-b92f-4ed2-85f5-40717586068c",
   "metadata": {},
   "outputs": [],
   "source": []
  },
  {
   "cell_type": "code",
   "execution_count": null,
   "id": "3bae616e-224c-4c46-ba7e-2d4d123e56e5",
   "metadata": {},
   "outputs": [],
   "source": []
  },
  {
   "cell_type": "code",
   "execution_count": null,
   "id": "24f06ab4-e8d8-4418-9439-1fe40a4ad8a9",
   "metadata": {},
   "outputs": [],
   "source": []
  },
  {
   "cell_type": "code",
   "execution_count": null,
   "id": "51684478-1ced-489d-9a34-615a3e6d7967",
   "metadata": {},
   "outputs": [],
   "source": []
  },
  {
   "cell_type": "code",
   "execution_count": null,
   "id": "3ff39aa8-e4d9-45bf-b004-643b576358a9",
   "metadata": {},
   "outputs": [],
   "source": [
    "import numpy as np\n",
    "import matplotlib.pyplot as plt\n",
    "from scipy.optimize import curve_fit\n",
    "\n",
    "# Data\n",
    "years = np.array([1990, 1994, 1998, 2002, 2005, 2009, 2013, 2017, 2021, 2025]) # 2025\n",
    "seat_percentages = np.array([97.4, 95.5, 94.6, 99.7, 91.2, 87.8, 89.8, 77.0, 83.2, 65.6])# 65.6\n",
    "\n",
    "# Logistic decay function\n",
    "def logistic_decay(x, L, k, x0, C):\n",
    "    return L / (1 + np.exp(k * (x - x0))) + C\n",
    "\n",
    "def quadratic(x, a, b, c):\n",
    "    return a * x**2 + b * x + c\n",
    "\n",
    "# Initial guesses for parameters\n",
    "L_guess = max(seat_percentages) - min(seat_percentages)\n",
    "k_guess = 0.05\n",
    "x0_guess = 2010\n",
    "C_guess = min(seat_percentages)\n",
    "p0 = [L_guess, k_guess, x0_guess, C_guess]\n",
    "\n",
    "p0 = [-.03, 111, -110000]\n",
    "p0 =[0,0,0]\n",
    "\n",
    "# Fit the curve\n",
    "#params, _ = curve_fit(logistic_decay, years, seat_percentages, p0=p0, maxfev=10000)\n",
    "func =  quadratic\n",
    "params, _ = curve_fit(func, years, seat_percentages, p0=p0, maxfev=10000)\n",
    "\n",
    "# Predict values\n",
    "future_years = np.arange(1990, 2040, 1)\n",
    "predicted_logistic = func(future_years, *params)\n",
    "\n",
    "# Plot\n",
    "plt.figure(figsize=(10,6))\n",
    "plt.scatter(years, seat_percentages, label=\"Actual seat share\")\n",
    "plt.plot(future_years, predicted_logistic, '-', label=\"Logistic decay fit\", linewidth=2)\n",
    "plt.title(\"Seat Share of Centre Parties — Logistic Decay Fit\")\n",
    "plt.xlabel(\"Election Year\")\n",
    "plt.ylabel(\"Seat Share (%)\")\n",
    "plt.ylim(0, 105)\n",
    "plt.grid(True, linestyle='--', alpha=0.6)\n",
    "plt.legend()\n",
    "plt.tight_layout()\n",
    "plt.show()\n",
    "\n",
    "# Example prediction for 2030\n",
    "predicted_2030_logistic = func(2030, *params)\n",
    "print(f\"Predicted seat share in 2030 (logistic): {predicted_2030_logistic:.2f}%\")"
   ]
  }
 ],
 "metadata": {
  "kernelspec": {
   "display_name": "Python 3 (ipykernel)",
   "language": "python",
   "name": "python3"
  },
  "language_info": {
   "codemirror_mode": {
    "name": "ipython",
    "version": 3
   },
   "file_extension": ".py",
   "mimetype": "text/x-python",
   "name": "python",
   "nbconvert_exporter": "python",
   "pygments_lexer": "ipython3"
  }
 },
 "nbformat": 4,
 "nbformat_minor": 5
}
