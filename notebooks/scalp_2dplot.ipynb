{
 "cells": [
  {
   "cell_type": "code",
   "execution_count": null,
   "id": "dfac27a5-40db-4f13-a4af-67f31baf90b0",
   "metadata": {
    "editable": true,
    "slideshow": {
     "slide_type": ""
    },
    "tags": []
   },
   "outputs": [],
   "source": [
    "%load_ext autoreload\n",
    "%matplotlib inline\n",
    "%autoreload 2\n",
    "%config Completer.use_jedi = True\n",
    "import matplotlib as mpl\n",
    "from matplotlib import pyplot as plt\n",
    "mpl.rc(\"figure\", dpi=300)\n",
    "from warnings import simplefilter\n",
    "# ignore all future warnings\n",
    "simplefilter(action='ignore', category=FutureWarning)\n",
    "\n"
   ]
  },
  {
   "cell_type": "code",
   "execution_count": null,
   "id": "4a946dcc-5f8b-402b-a4be-f70ff1e3dd2e",
   "metadata": {},
   "outputs": [],
   "source": []
  },
  {
   "cell_type": "code",
   "execution_count": null,
   "id": "f152f9c2-e558-4fa7-8f49-83b898013b99",
   "metadata": {},
   "outputs": [],
   "source": [
    "# datasets_ts = data.loaddata_timeseries(test_config.timeseries_datapath,  maxdatasets=5,  maxcells = 600,  datasets = ['509'])\n",
    "# dataset_ts = datasets_ts[0\n",
    "# TODO FIXME"
   ]
  },
  {
   "cell_type": "code",
   "execution_count": null,
   "id": "0aab4fe6-ac82-4008-a914-8215356cd9ea",
   "metadata": {},
   "outputs": [],
   "source": []
  },
  {
   "cell_type": "code",
   "execution_count": null,
   "id": "b59682b7-f799-45e7-80f4-38a297e302ca",
   "metadata": {},
   "outputs": [],
   "source": [
    "from scalp import data,  test_config\n",
    "datasets = data.loaddata_scib(test_config.scib_datapath, \n",
    "                       maxdatasets=5, \n",
    "                       maxcells = 600, \n",
    "                       datasets = [\"Immune_ALL_hum_mou.h5ad\"])\n",
    "\n",
    "dataset = datasets[0]\n",
    "\n",
    "\n",
    "\n",
    "\n"
   ]
  },
  {
   "cell_type": "code",
   "execution_count": null,
   "id": "4b656320-70d3-44ed-86dd-afe72c7eba86",
   "metadata": {},
   "outputs": [],
   "source": [
    "from scalp.pca import pca\n",
    "dataset = pca(dataset, dim=2, label ='pca2')"
   ]
  },
  {
   "cell_type": "code",
   "execution_count": null,
   "id": "00b7f005-6ba2-41d8-8339-e463a53ef3cb",
   "metadata": {},
   "outputs": [],
   "source": [
    "from scalp.output import draw \n",
    "draw.snsplot(dataset)"
   ]
  },
  {
   "cell_type": "code",
   "execution_count": null,
   "id": "65aa1078-b8db-4736-9a91-2769c0d374ca",
   "metadata": {},
   "outputs": [],
   "source": [
    "dataset[0].X.to"
   ]
  },
  {
   "cell_type": "code",
   "execution_count": null,
   "id": "93aef88b-7445-4be4-b98f-da60f2910627",
   "metadata": {},
   "outputs": [],
   "source": [
    "for dataset in datasets:\n",
    "    # joined UMAP\n",
    "    dataset = scalp.umapwrap.adatas_umap(dataset,dim = 2 ,from_obsm=False ,label='u2')\n",
    "    scalp.snsplot(dataset,coordinate_label = 'u2', splitby = 'label') \n",
    "    draw.batchplot(dataset, from_obsm = 'u2')"
   ]
  },
  {
   "cell_type": "code",
   "execution_count": null,
   "id": "4a1a1d22-3273-438c-bcc9-85e7d1a55af6",
   "metadata": {
    "editable": true,
    "slideshow": {
     "slide_type": ""
    },
    "tags": []
   },
   "outputs": [],
   "source": [
    "import scalp\n",
    "import scalp.output.draw as draw\n",
    "from sklearn.manifold import TSNE\n",
    "for dataset in datasets:\n",
    "    # joined UMAP\n",
    "    dataset = scalp.umapwrap.adatas_umap(dataset,dim = 2 ,from_obsm=False ,label='u2')\n",
    "    scalp.snsplot(dataset,coordinate_label = 'u2', splitby = 'batch')\n",
    "    draw.batchplot(dataset, from_obsm = 'u2')\n",
    "    #  independant TSNE \n",
    "    for data in dataset:\n",
    "        data.obsm['TSNE'] = TSNE(perplexity=15).fit_transform(data.X.todense().A )\n",
    "    scalp.snsplot(dataset,coordinate_label = 'TSNE')\n",
    "    \n",
    "\n",
    "\n",
    "    # also add our method\n",
    "    dataset, grap = scalp.mkgraph(dataset,intra_neigh = 7, \n",
    "                                  inter_neigh=1,add_tree=False)\n",
    "    scalp.graph_embed_plot(dataset, grap)\n",
    "    draw.batchplot(dataset, from_obsm = 'embedding')\n",
    "\n",
    "\n",
    "    "
   ]
  },
  {
   "cell_type": "code",
   "execution_count": null,
   "id": "17a79e3b-807f-455f-a4b5-4443ba98abe6",
   "metadata": {
    "editable": true,
    "slideshow": {
     "slide_type": ""
    },
    "tags": []
   },
   "outputs": [],
   "source": []
  },
  {
   "cell_type": "code",
   "execution_count": null,
   "id": "9f1352ca-de13-4ba9-a6ea-1a01d6c71ff7",
   "metadata": {},
   "outputs": [],
   "source": []
  },
  {
   "cell_type": "code",
   "execution_count": null,
   "id": "034e9050-e511-491b-b92c-85d82a051c59",
   "metadata": {
    "editable": true,
    "slideshow": {
     "slide_type": ""
    },
    "tags": []
   },
   "outputs": [],
   "source": [
    "for x in [1,2,3]:\n",
    "    dataset, grap = scalp.mkgraph(dataset,intra_neigh = 7, \n",
    "                                  inter_neigh=x,add_tree=False)\n",
    "    dataset = scalp.umapwrap.graph_umap(dataset,grap,label = 'embedding')\n",
    "    draw.batchplot(dataset, from_obsm = 'embedding')"
   ]
  },
  {
   "cell_type": "code",
   "execution_count": null,
   "id": "7a71989b-70e6-4647-9096-36163aeaa783",
   "metadata": {
    "editable": true,
    "slideshow": {
     "slide_type": ""
    },
    "tags": []
   },
   "outputs": [],
   "source": [
    "dataset, grap = scalp.mkgraph(dataset,intra_neigh = 30, scaling_threshold = 1.001, \n",
    "                              inter_neigh=3,add_tree=True)\n",
    "dataset = scalp.umapwrap.graph_umap(dataset,grap,label = 'embedding')\n",
    "draw.batchplot(dataset, from_obsm = 'embedding')"
   ]
  },
  {
   "cell_type": "code",
   "execution_count": null,
   "id": "fcccf12e-ff00-414a-8978-a791cca763d0",
   "metadata": {},
   "outputs": [],
   "source": [
    "dataset, grap = scalp.mkgraph(dataset,intra_neigh = 10, scaling_threshold = .99, \n",
    "                              inter_neigh=5,add_tree=False)\n",
    "dataset = scalp.umapwrap.graph_umap(dataset,grap,label = 'embedding')\n",
    "draw.batchplot(dataset, from_obsm = 'embedding')"
   ]
  },
  {
   "cell_type": "code",
   "execution_count": null,
   "id": "4421eab9-9e84-4060-9454-6c06167921a8",
   "metadata": {},
   "outputs": [],
   "source": [
    "dataset[0].obsm['scano'].shape"
   ]
  },
  {
   "cell_type": "code",
   "execution_count": null,
   "id": "17eb6f0c-65e6-4a80-9c8a-a280a37e7912",
   "metadata": {},
   "outputs": [],
   "source": [
    "for ol in [6]:\n",
    "    dataset, grap = scalp.mkgraph(dataset,intra_neigh = ol, scaling_threshold = 1,\n",
    "                                  outlier_threshold = .9,\n",
    "                                  inter_neigh=1,add_tree=False)\n",
    "    \n",
    "    dataset = scalp.mnn.scanorama(dataset,label = 'scano', base='pca')\n",
    "    dataset = scalp.umapwrap.adatas_umap(dataset,from_obsm = 'scano', label='scanoUmap', dim = 2, n_neighbors = 40)\n",
    "    \n",
    "    draw.batchplot(dataset, from_obsm = 'scanoUmap')\n",
    "    \n",
    "    dataset = scalp.umapwrap.graph_umap(dataset,grap,label = 'embedding')\n",
    "    draw.batchplot(dataset, from_obsm = 'embedding')\n",
    "        \n",
    "    # dataset = scalp.umapwrap.graph_NX(dataset,grap,algo = 'kamada_kawai',label = 'kawaii')\n",
    "    # dataset = scalp.umapwrap.graph_NX(dataset,grap,algo = 'spring', label = 'spring')\n",
    "    # draw.batchplot(dataset, from_obsm = 'spring')\n",
    "    # draw.batchplot(dataset, from_obsm = 'kawaii')\n",
    "\n",
    "    # dataset_ts, grap = scalp.mkgraph(dataset_ts,intra_neigh = ol, scaling_threshold = 1, outlier_threshold = .7,\n",
    "    # inter_neigh=1,add_tree=False)\n",
    "    # dataset_ts = scalp.umapwrap.graph_umap(dataset_ts,grap,label = 'embedding')\n",
    "    # draw.batchplot(dataset_ts, from_obsm = 'embedding')\n",
    "\n",
    "    #  linecopy False, intra6 and inter3 look good btw"
   ]
  },
  {
   "cell_type": "code",
   "execution_count": null,
   "id": "6293a9de-850e-4366-9287-77b3e41c458a",
   "metadata": {},
   "outputs": [],
   "source": [
    "import scipy.sparse as sparse\n",
    "a = sparse.csr_matrix([0,0,1,5])"
   ]
  },
  {
   "cell_type": "code",
   "execution_count": null,
   "id": "3c2458bc-eaa3-46ed-bfe3-dc5cbd6616ce",
   "metadata": {},
   "outputs": [],
   "source": [
    "print(a.astype(bool)*4)"
   ]
  },
  {
   "cell_type": "code",
   "execution_count": null,
   "id": "49024229-3094-4b3d-8b14-5a6b8d1a94fa",
   "metadata": {},
   "outputs": [],
   "source": [
    "a.data = np.full_like(a.data, 4)"
   ]
  },
  {
   "cell_type": "code",
   "execution_count": null,
   "id": "ef7fa4c1-bb49-4cdf-ada6-f25b49fbc148",
   "metadata": {},
   "outputs": [],
   "source": [
    "print(a)"
   ]
  }
 ],
 "metadata": {
  "kernelspec": {
   "display_name": "Python 3 (ipykernel)",
   "language": "python",
   "name": "python3"
  },
  "language_info": {
   "codemirror_mode": {
    "name": "ipython",
    "version": 3
   },
   "file_extension": ".py",
   "mimetype": "text/x-python",
   "name": "python",
   "nbconvert_exporter": "python",
   "pygments_lexer": "ipython3",
   "version": "3.11.0"
  }
 },
 "nbformat": 4,
 "nbformat_minor": 5
}
