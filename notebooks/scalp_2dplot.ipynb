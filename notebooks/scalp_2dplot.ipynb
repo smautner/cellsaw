{
 "cells": [
  {
   "cell_type": "code",
   "execution_count": null,
   "id": "dfac27a5-40db-4f13-a4af-67f31baf90b0",
   "metadata": {},
   "outputs": [],
   "source": [
    "%load_ext autoreload\n",
    "%matplotlib inline\n",
    "%autoreload 2\n",
    "%config Completer.use_jedi = True\n",
    "import matplotlib as mpl\n",
    "from matplotlib import pyplot as plt\n",
    "mpl.rc(\"figure\", dpi=100)\n",
    "from warnings import simplefilter\n",
    "# ignore all future warnings\n",
    "simplefilter(action='ignore', category=FutureWarning)\n",
    "\n",
    "import scalp\n",
    "from scalp.output import draw\n",
    "from scalp import data,  test_config"
   ]
  },
  {
   "cell_type": "code",
   "execution_count": null,
   "id": "4a946dcc-5f8b-402b-a4be-f70ff1e3dd2e",
   "metadata": {},
   "outputs": [],
   "source": [
    "if True:\n",
    "    import better_exceptions\n",
    "    import sys\n",
    "    ip = get_ipython()\n",
    "    def custom_exc(shell, etype, evalue, tb, tb_offset=None):\n",
    "        better_exceptions.excepthook(etype, evalue, tb)\n",
    "    ip.set_custom_exc((Exception,), custom_exc)\n",
    "\n",
    "import warnings\n",
    "warnings.filterwarnings(\"ignore\")\n",
    "warnings.filterwarnings(\"ignore\", module=\"anndata\")"
   ]
  },
  {
   "cell_type": "code",
   "execution_count": null,
   "id": "f152f9c2-e558-4fa7-8f49-83b898013b99",
   "metadata": {},
   "outputs": [],
   "source": [
    "# datasets_ts = data.loaddata_timeseries(test_config.timeseries_datapath,  maxdatasets=5,  maxcells = 600,  datasets = ['s5'])\n",
    "datasets_ts = data.loaddata_timeseries(test_config.timeseries_datapath,  maxdatasets=5,  maxcells = 1000)\n",
    "dataset_ts = datasets_ts[0]"
   ]
  },
  {
   "cell_type": "code",
   "execution_count": null,
   "id": "b59682b7-f799-45e7-80f4-38a297e302ca",
   "metadata": {},
   "outputs": [],
   "source": [
    "# datasets = data.loaddata_scib(test_config.scib_datapath,  maxdatasets=5,  maxcells = 1000,  datasets = [\"Immune_ALL_hum_mou\"])\n",
    "datasets = data.loaddata_scib(test_config.scib_datapath,  maxdatasets=3,  maxcells = 400 )\n",
    "\n",
    "dataset = datasets[0]\n",
    "\n",
    "\n",
    "\n",
    "\n"
   ]
  },
  {
   "cell_type": "code",
   "execution_count": null,
   "id": "4b656320-70d3-44ed-86dd-afe72c7eba86",
   "metadata": {},
   "outputs": [],
   "source": [
    "from scalp.pca import pca\n",
    "dataset = pca(dataset, dim=2, label ='pca2')"
   ]
  },
  {
   "cell_type": "code",
   "execution_count": null,
   "id": "00b7f005-6ba2-41d8-8339-e463a53ef3cb",
   "metadata": {},
   "outputs": [],
   "source": [
    "from scalp.output import draw \n",
    "draw.snsplot(dataset)"
   ]
  },
  {
   "cell_type": "code",
   "execution_count": null,
   "id": "93aef88b-7445-4be4-b98f-da60f2910627",
   "metadata": {},
   "outputs": [],
   "source": [
    "for dataset in datasets:\n",
    "    # joined UMAP\n",
    "    dataset = scalp.umapwrap.adatas_umap(dataset,dim = 2 ,from_obsm=False ,label='u2')\n",
    "    scalp.snsplot(dataset,coordinate_label = 'u2', splitby = 'label') \n",
    "    draw.batchplot(dataset, from_obsm = 'u2')"
   ]
  },
  {
   "cell_type": "code",
   "execution_count": null,
   "id": "4a1a1d22-3273-438c-bcc9-85e7d1a55af6",
   "metadata": {},
   "outputs": [],
   "source": [
    "import scalp\n",
    "import scalp.output.draw as draw\n",
    "from sklearn.manifold import TSNE\n",
    "for dataset in datasets:\n",
    "    # joined UMAP\n",
    "    dataset = scalp.umapwrap.adatas_umap(dataset,dim = 2 ,from_obsm=False ,label='u2')\n",
    "    scalp.snsplot(dataset,coordinate_label = 'u2', splitby = 'batch')\n",
    "    draw.batchplot(dataset, from_obsm = 'u2')\n",
    "    #  independant TSNE \n",
    "    for data in dataset:\n",
    "        data.obsm['TSNE'] = TSNE(perplexity=15).fit_transform(data.X.todense().A )\n",
    "    scalp.snsplot(dataset,coordinate_label = 'TSNE')\n",
    "    \n",
    "\n",
    "\n",
    "    # also add our method\n",
    "    dataset, grap = scalp.mkgraph(dataset,intra_neigh = 7, \n",
    "                                  inter_neigh=1,add_tree=False)\n",
    "    scalp.graph_embed_plot(dataset, grap)\n",
    "    draw.batchplot(dataset, from_obsm = 'embedding')\n"
   ]
  },
  {
   "cell_type": "code",
   "execution_count": null,
   "id": "17a79e3b-807f-455f-a4b5-4443ba98abe6",
   "metadata": {},
   "outputs": [],
   "source": []
  },
  {
   "cell_type": "code",
   "execution_count": null,
   "id": "9f1352ca-de13-4ba9-a6ea-1a01d6c71ff7",
   "metadata": {},
   "outputs": [],
   "source": []
  },
  {
   "cell_type": "code",
   "execution_count": null,
   "id": "034e9050-e511-491b-b92c-85d82a051c59",
   "metadata": {},
   "outputs": [],
   "source": [
    "for x in [3,4,5]:\n",
    "    dataset, grap = scalp.mkgraph(dataset,neighbors_total = 30,  neighbors_intra_fraction=x/10,add_tree=False)\n",
    "    dataset = scalp.umapwrap.graph_umap(dataset,grap,label = 'embedding')\n",
    "    scalp.umapwrap.graph_jax(dataset,grap,label = 'umap', n_components = 2, neighbors_total = 30)\n",
    "    # draw.batchplot(dataset, from_obsm = 'embedding')\n",
    "    draw.batchplot(dataset, from_obsm = 'umap')"
   ]
  },
  {
   "cell_type": "code",
   "execution_count": null,
   "id": "7a71989b-70e6-4647-9096-36163aeaa783",
   "metadata": {},
   "outputs": [],
   "source": [
    "dataset, graph = scalp.mkgraph(dataset,neighbors_total = 30, \n",
    "                              intra_neighbors_mutual=False,\n",
    "                              neighbors_intra_fraction=.3,add_tree=False)\n",
    "# dataset = scalp.umapwrap.graph_umap(dataset,graph,label = 'embedding')\n",
    "scalp.umapwrap.graph_umap(dataset,graph,label = 'umap', n_components = 2)\n",
    "#scalp.umapwrap.graph_jax(dataset,grap,label = 'umap', n_components = 2, neighbors_total = 20)\n",
    "draw.batchplot(dataset, from_obsm = 'umap')"
   ]
  },
  {
   "cell_type": "code",
   "execution_count": null,
   "id": "fcccf12e-ff00-414a-8978-a791cca763d0",
   "metadata": {},
   "outputs": [],
   "source": [
    "dataset, grap = scalp.mkgraph(dataset,intra_neigh = 10, scaling_threshold = .99, \n",
    "                              inter_neigh=5,add_tree=False)\n",
    "dataset = scalp.umapwrap.graph_umap(dataset,grap,label = 'embedding')\n",
    "draw.batchplot(dataset, from_obsm = 'embedding')"
   ]
  },
  {
   "cell_type": "code",
   "execution_count": null,
   "id": "4421eab9-9e84-4060-9454-6c06167921a8",
   "metadata": {},
   "outputs": [],
   "source": [
    "grap"
   ]
  },
  {
   "cell_type": "code",
   "execution_count": null,
   "id": "17eb6f0c-65e6-4a80-9c8a-a280a37e7912",
   "metadata": {},
   "outputs": [],
   "source": [
    "dataset, grap = scalp.mkgraph(dataset,neighbors_total = 30, \n",
    "                              neighbors_intra_fraction = .5,\n",
    "                              add_tree=False)\n",
    "\n",
    "#    dataset = scalp.mnn.scanorama(dataset,label = 'scano', base='pca')\n",
    "#    dataset = scalp.umapwrap.adatas_umap(dataset,from_obsm = 'scano', label='scanoUmap', dim = 2, n_neighbors = 40)\n",
    "#    draw.batchplot(dataset, from_obsm = 'scanoUmap')\n",
    "\n",
    "dataset = scalp.umapwrap.graph_umap(dataset,grap,label = 'embedding')\n",
    "draw.batchplot(dataset, from_obsm = 'embedding')\n",
    "    \n",
    "# dataset = scalp.umapwrap.graph_NX(dataset,grap,algo = 'kamada_kawai',label = 'kawaii')\n",
    "# dataset = scalp.umapwrap.graph_NX(dataset,grap,algo = 'spring', label = 'spring')\n",
    "# draw.batchplot(dataset, from_obsm = 'spring')\n",
    "# draw.batchplot(dataset, from_obsm = 'kawaii')\n",
    "\n",
    "# dataset_ts, grap = scalp.mkgraph(dataset_ts,intra_neigh = ol, scaling_threshold = 1, outlier_threshold = .7,\n",
    "# inter_neigh=1,add_tree=False)\n",
    "# dataset_ts = scalp.umapwrap.graph_umap(dataset_ts,grap,label = 'embedding')\n",
    "# draw.batchplot(dataset_ts, from_obsm = 'embedding')\n",
    "\n",
    "#  linecopy False, intra6 and inter3 look good btw\n",
    "plt.matshow(grap.todense())"
   ]
  },
  {
   "cell_type": "code",
   "execution_count": null,
   "id": "6293a9de-850e-4366-9287-77b3e41c458a",
   "metadata": {},
   "outputs": [],
   "source": [
    "import scipy.sparse as sparse\n",
    "a = sparse.csr_matrix([0,0,1,5])"
   ]
  },
  {
   "cell_type": "code",
   "execution_count": null,
   "id": "3c2458bc-eaa3-46ed-bfe3-dc5cbd6616ce",
   "metadata": {},
   "outputs": [],
   "source": [
    "print(a.astype(bool)*4)"
   ]
  },
  {
   "cell_type": "code",
   "execution_count": null,
   "id": "49024229-3094-4b3d-8b14-5a6b8d1a94fa",
   "metadata": {},
   "outputs": [],
   "source": [
    "a.data = np.full_like(a.data, 4)"
   ]
  },
  {
   "cell_type": "code",
   "execution_count": null,
   "id": "ef7fa4c1-bb49-4cdf-ada6-f25b49fbc148",
   "metadata": {},
   "outputs": [],
   "source": [
    "import numpy as np\n",
    "a = np.zeros((4, 4))\n",
    "np.fill_diagonal(a, 1)\n",
    "a[0,3]=1\n",
    "a[3,0]=1\n",
    "a[2,0]=1\n",
    "a[1,2]=1\n",
    "a[2,3]=1\n",
    "print(a)\n",
    "print(a*a.T)"
   ]
  },
  {
   "cell_type": "code",
   "execution_count": null,
   "id": "153bbb65-52d4-486d-925e-f0afcbdec529",
   "metadata": {},
   "outputs": [],
   "source": [
    "for x in [2]:\n",
    "    dataset, grap = scalp.mkgraph(dataset,intra_neigh = 16, \n",
    "                                  inter_neigh=x,\n",
    "                                  add_tree=True,\n",
    "                                  outlier_threshold=1)\n",
    "    dataset = scalp.umapwrap.graph_umap(dataset,grap,label = 'embedding')\n",
    "    draw.batchplot(dataset, from_obsm = 'embedding')\n",
    "\n",
    "\n"
   ]
  },
  {
   "cell_type": "code",
   "execution_count": null,
   "id": "617ac3ea-74a2-4084-8664-39e56170264c",
   "metadata": {},
   "outputs": [],
   "source": [
    "%%time \n",
    "from scalp.data.similarity import make_stairs\n",
    "dataset_ts, grapt = scalp.mkgraph(dataset_ts,\n",
    "                                  intra_neigh = 3, \n",
    "                                  intra_neighbors_mutual = True,\n",
    "                                  inter_neigh=1,\n",
    "                                  add_tree=True, \n",
    "                                  copy_lsa_neighbors = False,\n",
    "                                  inter_outlier_threshold = None,\n",
    "                                  inter_outlier_probabilistic_removal =True,\n",
    "                                  dataset_adjacency = make_stairs(len(dataset_ts),[0,1,2]) )\n",
    "dataset_ts = scalp.umapwrap.graph_umap(dataset_ts,grapt,label = 'embedding')\n",
    "draw.batchplot(dataset_ts, from_obsm = 'embedding')"
   ]
  },
  {
   "cell_type": "code",
   "execution_count": null,
   "id": "cc347095-ae52-48f7-8c8a-902b4ec1905e",
   "metadata": {},
   "outputs": [],
   "source": []
  },
  {
   "cell_type": "code",
   "execution_count": null,
   "id": "448d368e-bd2a-467d-bba5-6b50ecd10133",
   "metadata": {},
   "outputs": [],
   "source": [
    "%%time \n",
    "from scalp.data.similarity import make_stairs\n",
    "dataset, grap = scalp.mkgraph(dataset,\n",
    "                                  intra_neigh = 16, \n",
    "                                  intra_neighbors_mutual = True,\n",
    "                                  inter_neigh=5,\n",
    "                                  add_tree=True, \n",
    "                                  copy_lsa_neighbors = True,\n",
    "                                  inter_outlier_threshold = None,\n",
    "                                  inter_outlier_probabilistic_removal =True)\n",
    "dataset = scalp.umapwrap.graph_umap(dataset,grap,label = 'embedding')\n",
    "draw.batchplot(dataset, from_obsm = 'embedding')"
   ]
  },
  {
   "cell_type": "code",
   "execution_count": null,
   "id": "f81fa882-f219-4fad-ac78-93ba87639464",
   "metadata": {},
   "outputs": [],
   "source": [
    "plt.matshow(grapt.todense()[:600,:600])"
   ]
  },
  {
   "cell_type": "code",
   "execution_count": null,
   "id": "99935a86-b549-4c0d-9150-fd891f80554f",
   "metadata": {},
   "outputs": [],
   "source": [
    "bestparms = {'intra_neigh': 4, 'intra_neighbors_mutual': True, 'inter_neigh': 3, 'add_tree': True, 'copy_lsa_neighbors': False,\n",
    "             'inter_outlier_threshold': 0.75, 'inter_outlier_probabilistic_removal': True}\n",
    "for ds in datasets_ts:\n",
    "    ds, grapt = scalp.mkgraph(ds, intra_neigh = 7,  inter_neigh=1, add_tree=True,  outlier_threshold = 1, dataset_adjacency = make_stairs(len(ds),[0,1]) )\n",
    "    # ds, grapt = scalp.mkgraph(ds, **bestparms)\n",
    "    ds = scalp.umapwrap.graph_umap(ds,grapt,label = 'embedding')\n",
    "    draw.batchplot(ds, from_obsm = 'embedding')"
   ]
  },
  {
   "cell_type": "code",
   "execution_count": null,
   "id": "e05aa02d-4f83-490d-8378-58a679e22d55",
   "metadata": {},
   "outputs": [],
   "source": [
    "bestparams = {'intra_neigh': 4, 'intra_neighbors_mutual': False, 'inter_neigh': 4, 'add_tree': True, 'copy_lsa_neighbors': False, 'inter_outlier_threshold': 0.6, 'inter_outlier_probabilistic_removal': False}\n",
    "best_silh = {'intra_neigh': 6, 'intra_neighbors_mutual': False, 'inter_neigh': 4, 'add_tree': True,  'copy_lsa_neighbors': False, 'inter_outlier_threshold': 0.6, 'inter_outlier_probabilistic_removal': False}\n",
    "for ds in datasets:\n",
    "    # ds, grapt = scalp.mkgraph(ds, intra_neigh = 7,  inter_neigh=1, add_tree=True,  outlier_threshold = 1, dataset_adjacency = make_stairs(len(ds),[0,1]) )\n",
    "    ds, grapt = scalp.mkgraph(ds, **notperfectparams)\n",
    "    ds = scalp.umapwrap.graph_umap(ds,grapt,label = 'embedding')\n",
    "    draw.batchplot(ds, from_obsm = 'embedding')"
   ]
  },
  {
   "cell_type": "code",
   "execution_count": null,
   "id": "e4a38f37-caff-4dca-9022-c237914f5111",
   "metadata": {},
   "outputs": [],
   "source": [
    "notperfectparams = {'intra_neigh': 8, 'intra_neighbors_mutual': False, 'inter_neigh': 4, 'add_tree': True,\n",
    "              'copy_lsa_neighbors': False, 'inter_outlier_threshold': 0.95, 'inter_outlier_probabilistic_removal': False}\n",
    "ds =  datasets[2]\n",
    "ds, grapt = scalp.mkgraph(ds, **bestparams)\n",
    "ds = scalp.umapwrap.graph_umap(ds,grapt,label = 'embedding')\n",
    "draw.batchplot(ds, from_obsm = 'embedding')"
   ]
  },
  {
   "cell_type": "code",
   "execution_count": null,
   "id": "93ac94d9-5566-4ab0-b668-ec853064ecb2",
   "metadata": {},
   "outputs": [],
   "source": [
    "from scipy import sparse\n",
    "z =sparse.lil_matrix([[1,2,3,0],[],[0,0,0,1]])\n",
    "print (z.__dict__)\n",
    "for zz in z:\n",
    "    print (zz.rows[0])\n",
    "    print()"
   ]
  },
  {
   "cell_type": "code",
   "execution_count": null,
   "id": "d778591d-874e-46fe-8e0e-cda648282ea6",
   "metadata": {},
   "outputs": [],
   "source": [
    "import numpy as np\n",
    "zz = np.random.rand(4)\n",
    "zz"
   ]
  },
  {
   "cell_type": "code",
   "execution_count": null,
   "id": "1092c363-7294-4ab4-9434-65e841766aec",
   "metadata": {},
   "outputs": [],
   "source": [
    "zz > .3"
   ]
  },
  {
   "cell_type": "code",
   "execution_count": null,
   "id": "d0c2e4cb-bf55-4354-ae4d-8348a193f12a",
   "metadata": {},
   "outputs": [],
   "source": []
  },
  {
   "cell_type": "code",
   "execution_count": null,
   "id": "fb9c2f23-3232-4388-90ed-e4d3ed85fdb7",
   "metadata": {},
   "outputs": [],
   "source": []
  },
  {
   "cell_type": "code",
   "execution_count": null,
   "id": "d60bef80-e562-4148-8d00-c6314cfa49a5",
   "metadata": {},
   "outputs": [],
   "source": []
  }
 ],
 "metadata": {
  "kernelspec": {
   "display_name": "Python 3 (ipykernel)",
   "language": "python",
   "name": "python3"
  },
  "language_info": {
   "codemirror_mode": {
    "name": "ipython",
    "version": 3
   },
   "file_extension": ".py",
   "mimetype": "text/x-python",
   "name": "python",
   "nbconvert_exporter": "python",
   "pygments_lexer": "ipython3"
  }
 },
 "nbformat": 4,
 "nbformat_minor": 5
}
