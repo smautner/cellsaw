{
 "cells": [
  {
   "cell_type": "code",
   "execution_count": null,
   "id": "dfac27a5-40db-4f13-a4af-67f31baf90b0",
   "metadata": {
    "editable": true,
    "slideshow": {
     "slide_type": ""
    },
    "tags": []
   },
   "outputs": [],
   "source": [
    "%load_ext autoreload\n",
    "%matplotlib inline\n",
    "%autoreload 2\n",
    "%config Completer.use_jedi = True\n",
    "import matplotlib as mpl\n",
    "from matplotlib import pyplot as plt\n",
    "mpl.rc(\"figure\", dpi=300)\n"
   ]
  },
  {
   "cell_type": "code",
   "execution_count": null,
   "id": "b59682b7-f799-45e7-80f4-38a297e302ca",
   "metadata": {},
   "outputs": [],
   "source": [
    "from scalp import data,  test_config\n",
    "datasets = data.loaddata_scib(test_config.scib_datapath, \n",
    "                       maxdatasets=5, \n",
    "                       maxcells = 600, \n",
    "                       datasets = [\"Immune_ALL_hum_mou.h5ad\"])\n",
    "\n",
    "dataset = datasets[0]"
   ]
  },
  {
   "cell_type": "code",
   "execution_count": null,
   "id": "4b656320-70d3-44ed-86dd-afe72c7eba86",
   "metadata": {},
   "outputs": [],
   "source": [
    "\n",
    "from scalp.pca import pca\n",
    "dataset = pca(dataset, dim=2, label ='pca2')"
   ]
  },
  {
   "cell_type": "code",
   "execution_count": null,
   "id": "00b7f005-6ba2-41d8-8339-e463a53ef3cb",
   "metadata": {},
   "outputs": [],
   "source": [
    "from scalp.output import draw \n",
    "draw.snsplot(dataset)"
   ]
  },
  {
   "cell_type": "code",
   "execution_count": null,
   "id": "4a1a1d22-3273-438c-bcc9-85e7d1a55af6",
   "metadata": {},
   "outputs": [],
   "source": []
  },
  {
   "cell_type": "code",
   "execution_count": null,
   "id": "17a79e3b-807f-455f-a4b5-4443ba98abe6",
   "metadata": {},
   "outputs": [],
   "source": []
  }
 ],
 "metadata": {
  "kernelspec": {
   "display_name": "Python 3 (ipykernel)",
   "language": "python",
   "name": "python3"
  },
  "language_info": {
   "codemirror_mode": {
    "name": "ipython",
    "version": 3
   },
   "file_extension": ".py",
   "mimetype": "text/x-python",
   "name": "python",
   "nbconvert_exporter": "python",
   "pygments_lexer": "ipython3",
   "version": "3.11.0"
  }
 },
 "nbformat": 4,
 "nbformat_minor": 5
}
