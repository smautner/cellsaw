{
 "cells": [
  {
   "cell_type": "markdown",
   "id": "87d2922d-953b-4cf1-a84e-cb52d36d1b7e",
   "metadata": {},
   "source": [
    "- plot for tissuetype acc at X \n",
    "- cos+jacc and 3methods ---- genes on x axis\n",
    "- subsample a few times for accuracy?"
   ]
  },
  {
   "cell_type": "code",
   "execution_count": null,
   "id": "f01e6a54-2d6c-444c-ba5a-bcafa9fbf7f9",
   "metadata": {},
   "outputs": [],
   "source": [
    "%load_ext autoreload\n",
    "%autoreload 2\n",
    "%config Completer.use_jedi = True"
   ]
  },
  {
   "cell_type": "code",
   "execution_count": null,
   "id": "6aafb5b7-89f1-4d67-bd49-35d726dbda84",
   "metadata": {},
   "outputs": [],
   "source": [
    "import matplotlib as mpl\n",
    "# mpl.rc(\"figure\", dpi=100)"
   ]
  },
  {
   "cell_type": "code",
   "execution_count": null,
   "id": "ef8cade8-f12e-40c6-8c55-857c6223c80d",
   "metadata": {},
   "outputs": [],
   "source": [
    "# Data preparation\n",
    "import cellsaw\n",
    "import cellsaw.io_utils\n",
    "#import cellsaw.preprocess\n",
    "import notebookhelper\n",
    "\n",
    "# loading data-> [[anndata]] \n",
    "filenames = notebookhelper.filenames\n",
    "path = '/home/ubuntu/data/scdata/'\n",
    "datasets = [cellsaw.io_utils.read(sample_size=1000, \n",
    "                            sampleseed = seed,\n",
    "                            suffix = '.h5',\n",
    "                            dir = path, \n",
    "                            datasets = filenames) \n",
    "                                for seed in [42,1337,31337,501,404]]\n",
    "\n",
    "# get genescores according to different pp methods \n",
    "# note how seurat is first so we can calculate values \n",
    "# before normalizing as normalize is 'auto'\n",
    "preprocessingmethods = ['seurat_v3','meanexpression','cell_ranger','seurat', 'natto']\n",
    "_ = [[cellsaw.preprocess.annotate_genescores(d, selector = pp) for d in datasets] for pp in preprocessingmethods]\n"
   ]
  },
  {
   "cell_type": "code",
   "execution_count": null,
   "id": "92d66f50-91a5-4205-bdf2-f506843e87b9",
   "metadata": {},
   "outputs": [],
   "source": [
    "# lets collect data in a gigantic dataframe\n",
    "# how did i do this before? \n",
    "import cellsaw.similarity.measures\n",
    "\n",
    "def mklist(rep_id,datasets,preprocessing,filenames):\n",
    "    res = [ (rep_id,'cosine',genecount,preprocessing,\n",
    "             *cellsaw.similarity.measures.adata_to_score(datasets,genecount, preprocessing, 'cosine', filenames)) \n",
    "                  for genecount in range(400,1000,50) ]\n",
    "    res += [ (rep_id,'jaccard',genecount,preprocessing,\n",
    "              *cellsaw.similarity.measures.adata_to_score(datasets,genecount, preprocessing, 'jaccard', filenames)) \n",
    "                  for genecount in range(1000,3000,200) ]\n",
    "    return res\n",
    "\n",
    "result = [line for i,d in enumerate(datasets) for pp in preprocessingmethods for line in mklist(i,d,pp, filenames)]"
   ]
  },
  {
   "cell_type": "code",
   "execution_count": null,
   "id": "206212a3-0599-4161-b0dc-bde3bb5a65eb",
   "metadata": {},
   "outputs": [],
   "source": [
    "# do plots oO \n"
   ]
  }
 ],
 "metadata": {
  "kernelspec": {
   "display_name": "Python 3 (ipykernel)",
   "language": "python",
   "name": "python3"
  },
  "language_info": {
   "codemirror_mode": {
    "name": "ipython",
    "version": 3
   },
   "file_extension": ".py",
   "mimetype": "text/x-python",
   "name": "python",
   "nbconvert_exporter": "python",
   "pygments_lexer": "ipython3",
   "version": "3.8.5"
  }
 },
 "nbformat": 4,
 "nbformat_minor": 5
}
