{
 "cells": [
  {
   "cell_type": "markdown",
   "id": "87d2922d-953b-4cf1-a84e-cb52d36d1b7e",
   "metadata": {},
   "source": [
    "- plot for tissuetype acc at X \n",
    "- cos+jacc and 3methods ---- genes on x axis\n",
    "- subsample a few times for accuracy?"
   ]
  },
  {
   "cell_type": "code",
   "execution_count": null,
   "id": "f01e6a54-2d6c-444c-ba5a-bcafa9fbf7f9",
   "metadata": {},
   "outputs": [],
   "source": [
    "%load_ext autoreload\n",
    "%autoreload 2\n",
    "%config Completer.use_jedi = True"
   ]
  },
  {
   "cell_type": "code",
   "execution_count": null,
   "id": "6aafb5b7-89f1-4d67-bd49-35d726dbda84",
   "metadata": {},
   "outputs": [],
   "source": [
    "import matplotlib as mpl\n",
    "mpl.rc(\"figure\", dpi=400)"
   ]
  },
  {
   "cell_type": "code",
   "execution_count": null,
   "id": "51a6f108-9574-4292-a0bd-c635f77489dd",
   "metadata": {},
   "outputs": [],
   "source": [
    "# Data preparation\n",
    "import cellsaw\n",
    "import cellsaw.io_utils\n",
    "import notebookhelper\n",
    "\n",
    "# loading data-> [[anndata]] \n",
    "filenames = notebookhelper.filenames44\n",
    "path = '/home/ubuntu/data/scdata/'\n",
    "datasets = [[cellsaw.io_utils.nuread(sample_size=1000, \n",
    "                            sampleseed = seed,\n",
    "                            dir = path, \n",
    "                            dataset =f) for f in filenames]\n",
    "                                for seed in [42,1337,31337,501,404]]"
   ]
  },
  {
   "cell_type": "code",
   "execution_count": null,
   "id": "ef8cade8-f12e-40c6-8c55-857c6223c80d",
   "metadata": {},
   "outputs": [],
   "source": [
    "# get genescores according to different pp methods \n",
    "# note how seurat is first so we can calculate values \n",
    "# before normalizing as normalize is 'auto'\n",
    "preprocessingmethods = ['seurat_v3','meanexpression','cell_ranger','seurat', 'natto','meanexpressionnolog']\n",
    "_ = [[cellsaw.preprocess.annotate_genescore(d, selector = pp) for d in datasets] for pp in preprocessingmethods]\n"
   ]
  },
  {
   "cell_type": "code",
   "execution_count": null,
   "id": "92d66f50-91a5-4205-bdf2-f506843e87b9",
   "metadata": {},
   "outputs": [],
   "source": [
    "%%time\n",
    "# lets collect data in a gigantic dataframe\n",
    "# how did i do this before? \n",
    "import cellsaw.similarity.measures as measures\n",
    "def mklist(rep_id,datasets,preprocessing,filenames):\n",
    "    res = [ (rep_id,'cosine',genecount,preprocessing,\n",
    "             *measures.adata_to_score(datasets,genecount, preprocessing, 'cosine', filenames)) \n",
    "                  for genecount in range(200,2000,50) ]\n",
    "    res += [ (rep_id,'jaccard',genecount,preprocessing,\n",
    "              *measures.adata_to_score(datasets,genecount, preprocessing, 'jaccard', filenames)) \n",
    "                  for genecount in range(200,4000,100) ]\n",
    "    return res\n",
    "\n",
    "result = [line for i,d in enumerate(datasets) \n",
    "               for pp in preprocessingmethods \n",
    "               for line in mklist(i,d,pp, filenames)]\n",
    "\n",
    "## df.to_pickle(\"1_tissuesim_18B.pkl\")\n",
    "# df.to_pickle(\"1_tissuesim_21B.pkl\") # contains mean no log"
   ]
  },
  {
   "cell_type": "code",
   "execution_count": null,
   "id": "8116b56c-2afe-463b-8a48-20d63097911f",
   "metadata": {
    "tags": []
   },
   "outputs": [],
   "source": []
  },
  {
   "cell_type": "code",
   "execution_count": null,
   "id": "206212a3-0599-4161-b0dc-bde3bb5a65eb",
   "metadata": {},
   "outputs": [],
   "source": [
    "# now we make a dataFrame\n",
    "indexlabels = 'repeat similarity genecount preprocessing P@1 P@2 P@3'.split()"
   ]
  },
  {
   "cell_type": "code",
   "execution_count": null,
   "id": "66399057-3f57-4ffb-8e0b-1c64cbf8ad4c",
   "metadata": {},
   "outputs": [],
   "source": [
    "import pandas as pd\n",
    "df = pd.DataFrame(result,columns=indexlabels)\n",
    "dff = df[df.similarity == 'jaccard']\n",
    "# y axis 1.. .75 (maybe try meanexpression withouy log!)\n",
    "sns.set_context(\"notebook\")\n",
    "sns.set_style('darkgrid')\n",
    "\n",
    "niceprocessingmethods = ['Seurat v3','Mean expression','Cell Ranger','Seurat', 'Linear Seurat', 'Mean no log']\n",
    "dff = dff.replace(preprocessingmethods, niceprocessingmethods)\n",
    "sns.lineplot(data=dff, x='genecount', y='P@3', hue = 'preprocessing',ci='sd')\n",
    "plt.title('Separating tissue types', fontsize = 24)\n",
    "plt.xlabel('number of genes')\n",
    "plt.ylabel('p@3±σ')\n",
    "\n",
    "\n",
    "plt.show()\n",
    "dff = df[df.similarity == 'cosine']\n",
    "# y axis 1.. .75 (maybe try meanexpression withouy log!)\n",
    "sns.set_context(\"notebook\")\n",
    "sns.set_style('darkgrid')\n",
    "\n",
    "niceprocessingmethods = ['Seurat v3','Mean expression','Cell Ranger','Seurat', 'Linear Seurat', 'Mean no log']\n",
    "dff = dff.replace(preprocessingmethods, niceprocessingmethods)\n",
    "sns.lineplot(data=dff, x='genecount', y='P@3', hue = 'preprocessing',ci='sd')\n",
    "plt.title('Separating tissue types', fontsize = 24)\n",
    "plt.xlabel('number of genes')\n",
    "plt.ylabel('p@3±σ')"
   ]
  },
  {
   "cell_type": "code",
   "execution_count": null,
   "id": "03b619d7-017b-473e-ad50-65ce32e9b247",
   "metadata": {},
   "outputs": [],
   "source": []
  },
  {
   "cell_type": "code",
   "execution_count": null,
   "id": "f179ec5e-8a98-4268-bd6d-0aa396d3bf0d",
   "metadata": {},
   "outputs": [],
   "source": [
    "import seaborn as sns\n",
    "from matplotlib import pyplot as plt\n",
    "dff = df[df.similarity == 'jaccard']\n",
    "sns.lineplot(data=dff, x='genecount', y='P@1', hue = 'preprocessing')\n",
    "plt.show()\n",
    "sns.lineplot(data=dff, x='genecount', y='P@2', hue = 'preprocessing')\n",
    "plt.show()\n",
    "sns.lineplot(data=dff, x='genecount', y='P@3', hue = 'preprocessing')\n",
    "plt.show()\n",
    "dff = df[df.similarity == 'cosine']\n",
    "sns.lineplot(data=dff, x='genecount', y='P@1', hue = 'preprocessing')\n",
    "plt.show()\n",
    "sns.lineplot(data=dff, x='genecount', y='P@2', hue = 'preprocessing')\n",
    "plt.show()\n",
    "sns.lineplot(data=dff, x='genecount', y='P@3', hue = 'preprocessing')\n",
    "plt.show()"
   ]
  },
  {
   "cell_type": "code",
   "execution_count": null,
   "id": "a10379bc-c4d0-4174-bb41-eff76718bf9c",
   "metadata": {},
   "outputs": [],
   "source": []
  }
 ],
 "metadata": {
  "kernelspec": {
   "display_name": "Python 3 (ipykernel)",
   "language": "python",
   "name": "python3"
  },
  "language_info": {
   "codemirror_mode": {
    "name": "ipython",
    "version": 3
   },
   "file_extension": ".py",
   "mimetype": "text/x-python",
   "name": "python",
   "nbconvert_exporter": "python",
   "pygments_lexer": "ipython3",
   "version": "3.8.5"
  }
 },
 "nbformat": 4,
 "nbformat_minor": 5
}
