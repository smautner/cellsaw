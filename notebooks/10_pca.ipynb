{
 "cells": [
  {
   "cell_type": "code",
   "execution_count": null,
   "id": "9abef5bc-a0f6-4e98-bce0-5f2985e9e226",
   "metadata": {},
   "outputs": [],
   "source": [
    "%load_ext autoreload\n",
    "%autoreload 2\n",
    "%config Completer.use_jedi = True"
   ]
  },
  {
   "cell_type": "code",
   "execution_count": null,
   "id": "a1819a3c-dca0-4975-97a3-7e6465b45ecc",
   "metadata": {},
   "outputs": [],
   "source": [
    "import matplotlib as mpl\n",
    "from matplotlib import pyplot as plt\n",
    "mpl.rc(\"figure\", dpi=100)\n",
    "import numpy as np\n",
    "import jack\n",
    "from lmz import *"
   ]
  },
  {
   "cell_type": "code",
   "execution_count": null,
   "id": "81b77873-9200-4d1b-9af1-1cbf06a618c9",
   "metadata": {},
   "outputs": [],
   "source": [
    "import scanpy as sc\n",
    "import cellsaw as cs"
   ]
  },
  {
   "cell_type": "code",
   "execution_count": null,
   "id": "627d072b-4439-4770-ae23-2488153278a1",
   "metadata": {},
   "outputs": [],
   "source": [
    "!echo $PYTHONPATH"
   ]
  },
  {
   "cell_type": "code",
   "execution_count": null,
   "id": "36926f83-845a-400f-91fd-fe40b31fd5d5",
   "metadata": {
    "jupyter": {
     "outputs_hidden": true
    },
    "tags": []
   },
   "outputs": [],
   "source": [
    "import lucy.io as io\n",
    "#io.load_timeseries()\n",
    "io.load_scib()"
   ]
  },
  {
   "cell_type": "markdown",
   "id": "dabf2874-3e8b-4119-8e54-cba37e997558",
   "metadata": {},
   "source": [
    "# LOAD DATA"
   ]
  },
  {
   "cell_type": "code",
   "execution_count": null,
   "id": "3efe55cd-5426-4431-b5a9-5b2705a21674",
   "metadata": {},
   "outputs": [],
   "source": [
    "# zedata = [sc.read('/home/ubuntu/benchdata/'+data) for data in \"Immune_ALL_hum_mou.h5ad  Immune_ALL_human.h5ad  Lung_atlas_public.h5ad  human_pancreas_norm_complexBatch.h5ad\".split()]\n",
    "# batch,typ = Transpose (Map(lambda x:x.split(), 'batch final_annotation#batch final_annotation#batch cell_type#tech celltype'.split(\"#\")))\n",
    "\n",
    "# zedata =  [[z[z.obs[b]==i] for i in z.obs[b].unique()] for z,b in zip(zedata, batch)]\n",
    "\n",
    "datasets = io.load_scib() + io.load_timeseries()\n",
    "\n",
    "\n",
    "def samplecopy(data,num, seed):\n",
    "    np.random.seed(seed) \n",
    "    obs_indices = np.random.choice(data.n_obs, size=num, replace=True) \n",
    "    r =  data[obs_indices].copy()\n",
    "    r.obs_names_make_unique()\n",
    "    return r\n",
    "\n",
    "ssdata = [[samplecopy(i,750,31442)  for i in series[:20]]  for series in datasets] \n",
    "\n",
    "[cs.preprocess.annotate_genescore2(data,selector = 'cell_ranger', normrow = True, log = True) \n",
    " for data in ssdata]\n",
    "[[ sc.pp.normalize_total(d,1e4) for d in data] for data in ssdata]\n",
    "[[sc.pp.log1p(d) for d in data] for data  in ssdata]\n",
    "pass"
   ]
  },
  {
   "cell_type": "markdown",
   "id": "92a96ac4-a83d-4361-be2d-6f8746035f29",
   "metadata": {},
   "source": [
    "# optimize integration"
   ]
  },
  {
   "cell_type": "code",
   "execution_count": null,
   "id": "bd5871b0-f012-4d2f-ba4a-835f20d4ba63",
   "metadata": {},
   "outputs": [],
   "source": [
    "from sklearn import neighbors as nbrs\n",
    "\n",
    "\n",
    "def neighborgraph(x, neighbors):\n",
    "    z= nbrs.kneighbors_graph(x,neighbors)\n",
    "    diff = z-z.T\n",
    "    diff[diff > 0 ] = 0\n",
    "    z-= diff\n",
    "    return z\n",
    "\n",
    "def nnn(x, neighbors,near = True):\n",
    "    z = np.zeros_like(x)\n",
    "    np.fill_diagonal(x,np.NINF)\n",
    "    for i,row in enumerate(x):\n",
    "        sr = np.argsort(row)\n",
    "        z[i][sr[-neighbors:]]  = 1\n",
    "    diff = z-z.T\n",
    "    diff[diff > 0 ] = 0\n",
    "    z-= diff\n",
    "    return z\n",
    "\n",
    "\n",
    "nnn(merge.similarity,1)"
   ]
  },
  {
   "cell_type": "code",
   "execution_count": null,
   "id": "0dbe03e3-b2d7-4a0e-8d35-72d6e9247dc9",
   "metadata": {},
   "outputs": [],
   "source": [
    "nnn(-merge.similarity,1)"
   ]
  },
  {
   "cell_type": "code",
   "execution_count": null,
   "id": "f6d6af76-c49a-4a5c-b5a4-62d6bb76479f",
   "metadata": {
    "tags": []
   },
   "outputs": [],
   "source": [
    "from sklearn.metrics import  silhouette_score\n",
    "import ubergauss.tools as ug\n",
    "from natto.out.quality import clust as nnpurity \n",
    "from cellsaw.merge.diffusion import kernel\n",
    "from cellsaw import merge as merg\n",
    "import cellsaw as cs\n",
    "import mnnpy\n",
    "import umap\n",
    "\n",
    "from hyperopt import fmin, tpe, hp, Trials\n",
    "from hyperopt.pyll import scope\n",
    "    \n",
    "def evalp(  x =None,neighs=5,conns=1, scal=1,comp=5,umaps = 0,outl = .75, \n",
    "          scalecon = .25, \n",
    "          pca = 40, connect = 100,nalg = 0):\n",
    "    \n",
    "    batch_,label = 'batch', 'label'\n",
    "    data = [z.copy() for z in ssdata[x]]\n",
    "    if umaps == 0:\n",
    "        merge = merg.Merge(data,umaps=[],oldcut=False, pca = pca)\n",
    "        data = merge.projections[1]\n",
    "    else:\n",
    "        merge = merg.Merge(data,umaps=[umaps],oldcut=False, pca  = pca)\n",
    "        data = merge.projections[2]\n",
    "    dist = kernel.linear_assignment_integrate(data,\n",
    "                                              intra_neigh = neighs, \n",
    "                                              inter_neigh = conns, \n",
    "                                              scaling_num_neighbors = scal,\n",
    "                                              outlier_threshold = outl,\n",
    "                                              scaling_threshold = scalecon,\n",
    "                                              dataset_similarity = (merge.similarity, connect, nalg))\n",
    "    sim = kernel.distmatrixumap(data,dist,components = comp)\n",
    "    y = [ x for a in merge.data for x in a.obs[label] ]\n",
    "    score = nnpurity(sim,y)+2*silhouette_score(sim,y)\n",
    "    return score\n",
    "\n",
    "\n",
    "space3 = { \n",
    "    'neighs' : scope.int(hp.quniform('neighs',3,25,1)),\n",
    "    'conns' : scope.int(hp.quniform('conns',1,5,1)),\n",
    "    'scal' : scope.int(hp.quniform('scal',1,5,1)),\n",
    "    'comp' : scope.int(hp.quniform('comp',4,30,1)),\n",
    "    'umaps' : scope.int(hp.quniform('umaps',0,20,5)),\n",
    "    'scalecon' : hp.uniform('scalecon',.05,.95),\n",
    "    'outl' : hp.uniform('outl',.5,.95),\n",
    "    'nalg' : hp.choice ('nalg',[True, False]),\n",
    "    'pca' : scope.int(hp.quniform('pca',30,50,1)),\n",
    "    'connect' : scope.int(hp.quniform('connect',10,100,1))\n",
    "}\n",
    "\n",
    "def eva(x):\n",
    "    space3['x'] =  hp.choice ('x',[x]),\n",
    "    trials3 = Trials()\n",
    "    best = fmin(fn=evalp, algo=tpe.suggest,\n",
    "                trials = trials3,\n",
    "                space = space3, \n",
    "                max_evals=40) \n",
    "    print(best)\n",
    "    return trials3, best\n",
    "\n",
    "re = ug.xmap(eva, Range(ssdata))\n"
   ]
  },
  {
   "cell_type": "code",
   "execution_count": null,
   "id": "a0bc2666-33a8-4f34-9286-697a19fd1271",
   "metadata": {
    "jupyter": {
     "outputs_hidden": true
    },
    "tags": []
   },
   "outputs": [],
   "source": []
  },
  {
   "cell_type": "code",
   "execution_count": null,
   "id": "8469cb20-2d6b-4822-9e3b-69086a133d05",
   "metadata": {},
   "outputs": [],
   "source": [
    "asd = Map(len, ssdata)\n",
    "for d in re:\n",
    "    d['connect2']= d['connect'] * asd[d['x']]"
   ]
  },
  {
   "cell_type": "code",
   "execution_count": null,
   "id": "3c0af907-520f-49a2-a042-7353e1fde96b",
   "metadata": {},
   "outputs": [],
   "source": [
    "import pandas as pd\n",
    "import seaborn as sns\n",
    "data = pd.DataFrame(re)\n",
    "interest = 'connect'\n",
    "sns.boxplot(data = data, x = interest, y= 'score', hue = 'nalg')\n",
    "plt.show()\n",
    "sns.scatterplot(data = data, x = interest, y= 'score', hue = 'x')\n",
    "plt.show() # was around .9 at best withthe other neighbor function.."
   ]
  },
  {
   "cell_type": "code",
   "execution_count": null,
   "id": "8ec1d80d-8312-471e-be86-4f67971793e7",
   "metadata": {},
   "outputs": [],
   "source": []
  },
  {
   "cell_type": "markdown",
   "id": "889f9556-cbb8-418e-b60a-88d522dc3d9d",
   "metadata": {},
   "source": []
  },
  {
   "cell_type": "code",
   "execution_count": null,
   "id": "e7d6ef1c-b7a2-4dc2-8851-08b167ce92d8",
   "metadata": {
    "tags": []
   },
   "outputs": [],
   "source": [
    "from sklearn.metrics import  silhouette_score\n",
    "import ubergauss.tools as ug\n",
    "from natto.out.quality import clust as nnpurity \n",
    "from cellsaw.merge.diffusion import kernel\n",
    "from cellsaw import merge as merg\n",
    "import cellsaw as cs\n",
    "import mnnpy\n",
    "import umap\n",
    "from sklearn import manifold as mf\n",
    "\n",
    "\n",
    "# first we get the integration data:\n",
    "def evalp(x,neighs=5,conns=1, scal=1,comp=5,umaps = 0,outl = .75, scalecon = .25):\n",
    "    batch_,label = batch[x], typ[x]\n",
    "    data = [z.copy() for z in ssdata[x]]\n",
    "    if umaps == 0:\n",
    "        merge = merg.Merge(data,umaps=[],oldcut=False, pca = 40)\n",
    "        data = merge.projections[1]\n",
    "    else:\n",
    "        merge = merg.Merge(data,umaps=[umaps],oldcut=False, pca  = 40)\n",
    "        data = merge.projections[2]\n",
    "    dist = kernel.linear_assignment_integrate(data,\n",
    "                                              intra_neigh = neighs, \n",
    "                                              inter_neigh = conns, \n",
    "                                              scaling_num_neighbors = scal,\n",
    "                                               outlier_threshold = outl,\n",
    "                                               scaling_threshold = scalecon)\n",
    "    y = [ x for a in merge.data for x in a.obs[label] ]\n",
    "    return y, dist, data\n",
    "\n",
    "params =  { 'conns': 1, 'neighs': 16, 'outl': 0.8079195869285946, 'scal': 2, \n",
    "           'scalecon': 0.9365341951145691, 'umaps': 0}\n",
    "data = ug.xmap(lambda x:evalp(x,**params),Range(ssdata))\n",
    "\n",
    "# then we set up the new optimization:\n"
   ]
  },
  {
   "cell_type": "code",
   "execution_count": null,
   "id": "8f5a4983-f778-4270-82f7-1beba9d231c5",
   "metadata": {
    "jupyter": {
     "outputs_hidden": true
    },
    "tags": []
   },
   "outputs": [],
   "source": [
    "\n",
    "import time\n",
    "methods = []\n",
    "\n",
    "def umap(dist, comp, data):\n",
    "    return kernel.distmatrixumap(data,dist,components = 5)\n",
    "methods.append(umap)\n",
    "\n",
    "'''\n",
    "manifold.Isomap(*[, n_neighbors, radius, ...])\n",
    "manifold.LocallyLinearEmbedding(*[, ...]) NO PRECOMP\n",
    "manifold.MDS([n_components, metric, n_init, ...])\n",
    "manifold.SpectralEmbedding([n_components, ...])\n",
    "manifold.TSNE([n_components, perplexity, ...])\n",
    "manifold.locally_linear_embedding(X, *, ...)\n",
    "manifold.spectral_embedding(adjacency, *[, ...])\n",
    "manifold.trustworthiness(\n",
    "'''\n",
    "\n",
    "def isomap(dist, comp, data):\n",
    "    iso = mf.Isomap(n_neighbors = comp,n_components=5, metric = 'precomputed' )\n",
    "    return iso.fit_transform(dist)#kernel.distmatrixumap(data,dist,components = comp)\n",
    "methods.append(isomap)\n",
    "\n",
    "def spectral(dist, comp, data):\n",
    "    return mf.SpectralEmbedding(n_components = 5,n_neighbors = comp,affinity = 'precomputed').fit_transform(dist)#data,dist,components = comp)\n",
    "methods.append(spectral)\n",
    "\n",
    "def MDS(dist, comp, data):\n",
    "    return mf.MDS(n_components = 5, metric =False, dissimilarity = \"precomputed\").fit_transform(dist.todense())# ,dist,components = comp)\n",
    "methods.append(MDS)\n",
    "\n",
    "def TSNE(dist, comp, data):\n",
    "    return mf.TSNE(n_components = 5,early_exaggeration = comp,method='exact', metric = \"precomputed\").fit_transform(dist.todense())\n",
    "methods.append(TSNE)\n",
    "\n",
    "def evalpp(arg):\n",
    "    x,method,val = arg\n",
    "    s = time.time()\n",
    "    y,dist, pca = data[x]\n",
    "    # sim = methods[method](dist, val, pca)\n",
    "    try:\n",
    "        sim = methods[method](dist, val, pca)\n",
    "    except:\n",
    "        return 0,0,0,0,0\n",
    "    \n",
    "    return nnpurity(sim,y)+2*silhouette_score(sim,y),time.time()-s, x, method, val\n",
    "\n",
    "'''\n",
    "def runall(params):\n",
    "    return -np.mean(ug.xmap(lambda x:evalpp(x,**params),Range(data)))\n",
    "    \n",
    "import ubergauss.hyperopt as uo\n",
    "space = [f'method 0 {len(methods)-1} 1','val 5 20 1']\n",
    "ship = uo.spaceship(space)\n",
    "trials = uo.Trials()\n",
    "print(\"start\")\n",
    "best = uo.fmin(fn=runall, algo=uo.tpe.suggest,\n",
    "            trials = trials,\n",
    "            space = ship.space, \n",
    "            max_evals=40) \n",
    "\n",
    "'''\n",
    "\n",
    "\n",
    "\n",
    "\n",
    "runs = [(ds,meth,val) for ds in Range(data) for meth in Range(methods) for val in range(5,20)]\n",
    "# evalpp(runs[0])\n",
    "r = ug.xmap(evalpp,runs )\n",
    "\n",
    "\n",
    "\n"
   ]
  },
  {
   "cell_type": "code",
   "execution_count": null,
   "id": "c9a73519-0169-4350-b0ad-db2bdbab1035",
   "metadata": {},
   "outputs": [],
   "source": []
  },
  {
   "cell_type": "code",
   "execution_count": null,
   "id": "43937be9-9f83-41ce-ad7d-06526de70970",
   "metadata": {},
   "outputs": [],
   "source": [
    "import pandas as pd\n",
    "z = pd.DataFrame(r, columns='score time ds method val'.split())"
   ]
  },
  {
   "cell_type": "code",
   "execution_count": null,
   "id": "c5712654-33a9-473f-a267-3ced6cc07a17",
   "metadata": {},
   "outputs": [],
   "source": [
    "import seaborn as sns\n",
    "sns.pairplot(z, hue = 'ds')"
   ]
  },
  {
   "cell_type": "code",
   "execution_count": null,
   "id": "4c6ac4d6-504c-4a54-85ba-2da4c5be49ea",
   "metadata": {},
   "outputs": [],
   "source": []
  }
 ],
 "metadata": {
  "kernelspec": {
   "display_name": "Python 3 (ipykernel)",
   "language": "python",
   "name": "python3"
  },
  "language_info": {
   "codemirror_mode": {
    "name": "ipython",
    "version": 3
   },
   "file_extension": ".py",
   "mimetype": "text/x-python",
   "name": "python",
   "nbconvert_exporter": "python",
   "pygments_lexer": "ipython3",
   "version": "3.8.5"
  }
 },
 "nbformat": 4,
 "nbformat_minor": 5
}
