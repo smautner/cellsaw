{
 "cells": [
  {
   "cell_type": "code",
   "execution_count": 1,
   "id": "fc7df24d-a644-4404-ae72-e34783430959",
   "metadata": {
    "editable": true,
    "slideshow": {
     "slide_type": ""
    },
    "tags": []
   },
   "outputs": [],
   "source": [
    "from warnings import simplefilter\n",
    "# ignore all future warnings\n",
    "simplefilter(action='ignore', category=FutureWarning)"
   ]
  },
  {
   "cell_type": "code",
   "execution_count": 2,
   "id": "dfac27a5-40db-4f13-a4af-67f31baf90b0",
   "metadata": {},
   "outputs": [],
   "source": [
    "%load_ext autoreload\n",
    "%matplotlib inline\n",
    "%autoreload 2\n",
    "%config Completer.use_jedi = True\n",
    "import matplotlib as mpl\n",
    "from matplotlib import pyplot as plt\n",
    "mpl.rc(\"figure\", dpi=300)\n",
    "\n"
   ]
  },
  {
   "cell_type": "code",
   "execution_count": null,
   "id": "0a6c0d02-6c44-4fc5-ab27-5e97efed67ec",
   "metadata": {},
   "outputs": [],
   "source": []
  },
  {
   "cell_type": "code",
   "execution_count": 3,
   "id": "b59682b7-f799-45e7-80f4-38a297e302ca",
   "metadata": {
    "editable": true,
    "slideshow": {
     "slide_type": ""
    },
    "tags": []
   },
   "outputs": [
    {
     "name": "stderr",
     "output_type": "stream",
     "text": [
      "/home/ikea/.myconda/miniconda3/envs/scalp2/lib/python3.11/site-packages/anndata/_io/specs/registry.py:249: OldFormatWarning: Element '/layers' was written without encoding metadata.\n",
      "  return self.callback(read_func, elem.name, elem, iospec=get_spec(elem))\n",
      "/home/ikea/.myconda/miniconda3/envs/scalp2/lib/python3.11/site-packages/anndata/_io/specs/registry.py:249: OldFormatWarning: Element '/layers/counts' was written without encoding metadata.\n",
      "  return self.callback(read_func, elem.name, elem, iospec=get_spec(elem))\n",
      "/home/ikea/.myconda/miniconda3/envs/scalp2/lib/python3.11/site-packages/anndata/_io/utils.py:205: OldFormatWarning: Element '/obs/__categories/batch' was written without encoding metadata.\n",
      "  return func(*args, **kwargs)\n",
      "/home/ikea/.myconda/miniconda3/envs/scalp2/lib/python3.11/site-packages/anndata/_io/utils.py:205: OldFormatWarning: Element '/obs/batch' was written without encoding metadata.\n",
      "  return func(*args, **kwargs)\n",
      "/home/ikea/.myconda/miniconda3/envs/scalp2/lib/python3.11/site-packages/anndata/_io/utils.py:205: OldFormatWarning: Element '/obs/__categories/chemistry' was written without encoding metadata.\n",
      "  return func(*args, **kwargs)\n",
      "/home/ikea/.myconda/miniconda3/envs/scalp2/lib/python3.11/site-packages/anndata/_io/utils.py:205: OldFormatWarning: Element '/obs/chemistry' was written without encoding metadata.\n",
      "  return func(*args, **kwargs)\n",
      "/home/ikea/.myconda/miniconda3/envs/scalp2/lib/python3.11/site-packages/anndata/_io/utils.py:205: OldFormatWarning: Element '/obs/__categories/data_type' was written without encoding metadata.\n",
      "  return func(*args, **kwargs)\n",
      "/home/ikea/.myconda/miniconda3/envs/scalp2/lib/python3.11/site-packages/anndata/_io/utils.py:205: OldFormatWarning: Element '/obs/data_type' was written without encoding metadata.\n",
      "  return func(*args, **kwargs)\n",
      "/home/ikea/.myconda/miniconda3/envs/scalp2/lib/python3.11/site-packages/anndata/_io/utils.py:205: OldFormatWarning: Element '/obs/dpt_pseudotime' was written without encoding metadata.\n",
      "  return func(*args, **kwargs)\n",
      "/home/ikea/.myconda/miniconda3/envs/scalp2/lib/python3.11/site-packages/anndata/_io/utils.py:205: OldFormatWarning: Element '/obs/__categories/final_annotation' was written without encoding metadata.\n",
      "  return func(*args, **kwargs)\n",
      "/home/ikea/.myconda/miniconda3/envs/scalp2/lib/python3.11/site-packages/anndata/_io/utils.py:205: OldFormatWarning: Element '/obs/final_annotation' was written without encoding metadata.\n",
      "  return func(*args, **kwargs)\n",
      "/home/ikea/.myconda/miniconda3/envs/scalp2/lib/python3.11/site-packages/anndata/_io/utils.py:205: OldFormatWarning: Element '/obs/mt_frac' was written without encoding metadata.\n",
      "  return func(*args, **kwargs)\n",
      "/home/ikea/.myconda/miniconda3/envs/scalp2/lib/python3.11/site-packages/anndata/_io/utils.py:205: OldFormatWarning: Element '/obs/n_counts' was written without encoding metadata.\n",
      "  return func(*args, **kwargs)\n",
      "/home/ikea/.myconda/miniconda3/envs/scalp2/lib/python3.11/site-packages/anndata/_io/utils.py:205: OldFormatWarning: Element '/obs/n_genes' was written without encoding metadata.\n",
      "  return func(*args, **kwargs)\n",
      "/home/ikea/.myconda/miniconda3/envs/scalp2/lib/python3.11/site-packages/anndata/_io/utils.py:205: OldFormatWarning: Element '/obs/size_factors' was written without encoding metadata.\n",
      "  return func(*args, **kwargs)\n",
      "/home/ikea/.myconda/miniconda3/envs/scalp2/lib/python3.11/site-packages/anndata/_io/utils.py:205: OldFormatWarning: Element '/obs/__categories/species' was written without encoding metadata.\n",
      "  return func(*args, **kwargs)\n",
      "/home/ikea/.myconda/miniconda3/envs/scalp2/lib/python3.11/site-packages/anndata/_io/utils.py:205: OldFormatWarning: Element '/obs/species' was written without encoding metadata.\n",
      "  return func(*args, **kwargs)\n",
      "/home/ikea/.myconda/miniconda3/envs/scalp2/lib/python3.11/site-packages/anndata/_io/utils.py:205: OldFormatWarning: Element '/obs/__categories/study' was written without encoding metadata.\n",
      "  return func(*args, **kwargs)\n",
      "/home/ikea/.myconda/miniconda3/envs/scalp2/lib/python3.11/site-packages/anndata/_io/utils.py:205: OldFormatWarning: Element '/obs/study' was written without encoding metadata.\n",
      "  return func(*args, **kwargs)\n",
      "/home/ikea/.myconda/miniconda3/envs/scalp2/lib/python3.11/site-packages/anndata/_io/utils.py:205: OldFormatWarning: Element '/obs/__categories/tissue' was written without encoding metadata.\n",
      "  return func(*args, **kwargs)\n",
      "/home/ikea/.myconda/miniconda3/envs/scalp2/lib/python3.11/site-packages/anndata/_io/utils.py:205: OldFormatWarning: Element '/obs/tissue' was written without encoding metadata.\n",
      "  return func(*args, **kwargs)\n",
      "/home/ikea/.myconda/miniconda3/envs/scalp2/lib/python3.11/site-packages/anndata/_io/utils.py:205: OldFormatWarning: Element '/obs/index' was written without encoding metadata.\n",
      "  return func(*args, **kwargs)\n",
      "/home/ikea/.myconda/miniconda3/envs/scalp2/lib/python3.11/site-packages/anndata/_io/utils.py:205: OldFormatWarning: Element '/var/index' was written without encoding metadata.\n",
      "  return func(*args, **kwargs)\n"
     ]
    }
   ],
   "source": [
    "from scalp import data,  test_config\n",
    "datasets = data.loaddata_scib(test_config.scib_datapath, \n",
    "                       datasets = [\"Immune_ALL_hum_mou\"],\n",
    "                       maxdatasets=5, \n",
    "                       maxcells = 600, \n",
    "                             )\n",
    "dataset = datasets[0]"
   ]
  },
  {
   "cell_type": "code",
   "execution_count": 6,
   "id": "396bb360-6495-4e00-8a17-69f2bd118a00",
   "metadata": {},
   "outputs": [
    {
     "data": {
      "text/plain": [
       "'/home/ubuntu/repos/cellsaw/notebooks/'"
      ]
     },
     "execution_count": 6,
     "metadata": {},
     "output_type": "execute_result"
    }
   ],
   "source": [
    "test_config.timeseries_datapath"
   ]
  },
  {
   "cell_type": "code",
   "execution_count": 4,
   "id": "f6171523-ffd8-4246-9ba6-0b0f78f0ca5d",
   "metadata": {},
   "outputs": [
    {
     "ename": "FileNotFoundError",
     "evalue": "[Errno 2] Unable to synchronously open file (unable to open file: name = '/home/ubuntu/repos/cellsaw/notebooks/509.h5ad', errno = 2, error message = 'No such file or directory', flags = 0, o_flags = 0)",
     "output_type": "error",
     "traceback": [
      "\u001b[0;31m---------------------------------------------------------------------------\u001b[0m",
      "\u001b[0;31mFileNotFoundError\u001b[0m                         Traceback (most recent call last)",
      "Cell \u001b[0;32mIn[4], line 1\u001b[0m\n\u001b[0;32m----> 1\u001b[0m datasets_ts \u001b[38;5;241m=\u001b[39m \u001b[43mdata\u001b[49m\u001b[38;5;241;43m.\u001b[39;49m\u001b[43mloaddata_timeseries\u001b[49m\u001b[43m(\u001b[49m\u001b[43mtest_config\u001b[49m\u001b[38;5;241;43m.\u001b[39;49m\u001b[43mtimeseries_datapath\u001b[49m\u001b[43m,\u001b[49m\u001b[43m \u001b[49m\n\u001b[1;32m      2\u001b[0m \u001b[43m                                       \u001b[49m\u001b[43mdatasets\u001b[49m\u001b[43m \u001b[49m\u001b[38;5;241;43m=\u001b[39;49m\u001b[43m \u001b[49m\u001b[43m[\u001b[49m\u001b[38;5;124;43m'\u001b[39;49m\u001b[38;5;124;43m509\u001b[39;49m\u001b[38;5;124;43m'\u001b[39;49m\u001b[43m]\u001b[49m\u001b[43m,\u001b[49m\n\u001b[1;32m      3\u001b[0m \u001b[43m                                       \u001b[49m\u001b[43mmaxdatasets\u001b[49m\u001b[38;5;241;43m=\u001b[39;49m\u001b[38;5;241;43m5\u001b[39;49m\u001b[43m,\u001b[49m\u001b[43m  \u001b[49m\n\u001b[1;32m      4\u001b[0m \u001b[43m                                       \u001b[49m\u001b[43mmaxcells\u001b[49m\u001b[43m \u001b[49m\u001b[38;5;241;43m=\u001b[39;49m\u001b[43m \u001b[49m\u001b[38;5;241;43m600\u001b[39;49m\u001b[43m,\u001b[49m\u001b[43m  \u001b[49m\n\u001b[1;32m      5\u001b[0m \u001b[43m                                      \u001b[49m\u001b[43m)\u001b[49m\n\u001b[1;32m      6\u001b[0m dataset_ts \u001b[38;5;241m=\u001b[39m datasets_ts[\u001b[38;5;241m0\u001b[39m]\n",
      "File \u001b[0;32m~/repos/repolinks/scalp/data/__init__.py:20\u001b[0m, in \u001b[0;36mloaddata_timeseries\u001b[0;34m(path, datasets, maxcells, maxdatasets, **ppargs)\u001b[0m\n\u001b[1;32m     19\u001b[0m \u001b[38;5;28;01mdef\u001b[39;00m \u001b[38;5;21mloaddata_timeseries\u001b[39m(path,datasets\u001b[38;5;241m=\u001b[39m\u001b[38;5;28;01mFalse\u001b[39;00m,maxcells\u001b[38;5;241m=\u001b[39m \u001b[38;5;241m1000\u001b[39m, maxdatasets \u001b[38;5;241m=\u001b[39m \u001b[38;5;241m-\u001b[39m\u001b[38;5;241m1\u001b[39m, \u001b[38;5;241m*\u001b[39m\u001b[38;5;241m*\u001b[39mppargs):\n\u001b[0;32m---> 20\u001b[0m     datasets \u001b[38;5;241m=\u001b[39m \u001b[43mload\u001b[49m\u001b[38;5;241;43m.\u001b[39;49m\u001b[43mload_timeseries\u001b[49m\u001b[43m(\u001b[49m\u001b[43mpath\u001b[49m\u001b[43m \u001b[49m\u001b[43m,\u001b[49m\u001b[43m \u001b[49m\u001b[43mdatasets\u001b[49m\u001b[38;5;241;43m=\u001b[39;49m\u001b[43m \u001b[49m\u001b[43mdatasets\u001b[49m\u001b[43m)\u001b[49m\n\u001b[1;32m     21\u001b[0m     ssdata \u001b[38;5;241m=\u001b[39m subsample_preprocess(datasets, maxcells\u001b[38;5;241m=\u001b[39m maxcells, maxdatasets \u001b[38;5;241m=\u001b[39m maxdatasets, \u001b[38;5;241m*\u001b[39m\u001b[38;5;241m*\u001b[39mppargs)\n\u001b[1;32m     22\u001b[0m     \u001b[38;5;28;01mreturn\u001b[39;00m ssdata\n",
      "File \u001b[0;32m~/repos/repolinks/scalp/data/load.py:35\u001b[0m, in \u001b[0;36mload_timeseries\u001b[0;34m(path, datasets, remove_unassigned)\u001b[0m\n\u001b[1;32m     33\u001b[0m \u001b[38;5;28;01mif\u001b[39;00m \u001b[38;5;129;01mnot\u001b[39;00m datasets:\n\u001b[1;32m     34\u001b[0m     datasets \u001b[38;5;241m=\u001b[39m \u001b[38;5;124m\"\u001b[39m\u001b[38;5;124ms5 509 1290 mousecortex water pancreatic cerebellum\u001b[39m\u001b[38;5;124m\"\u001b[39m\u001b[38;5;241m.\u001b[39msplit()\n\u001b[0;32m---> 35\u001b[0m datasets \u001b[38;5;241m=\u001b[39m \u001b[43m[\u001b[49m\u001b[43msc\u001b[49m\u001b[38;5;241;43m.\u001b[39;49m\u001b[43mread_h5ad\u001b[49m\u001b[43m(\u001b[49m\u001b[43mpath\u001b[49m\u001b[38;5;241;43m+\u001b[39;49m\u001b[43mdata\u001b[49m\u001b[38;5;241;43m+\u001b[39;49m\u001b[38;5;124;43m\"\u001b[39;49m\u001b[38;5;124;43m.h5ad\u001b[39;49m\u001b[38;5;124;43m\"\u001b[39;49m\u001b[43m)\u001b[49m\u001b[43m \u001b[49m\u001b[38;5;28;43;01mfor\u001b[39;49;00m\u001b[43m \u001b[49m\u001b[43mdata\u001b[49m\u001b[43m \u001b[49m\u001b[38;5;129;43;01min\u001b[39;49;00m\u001b[43m \u001b[49m\u001b[43mdatasets\u001b[49m\u001b[43m]\u001b[49m\n\u001b[1;32m     37\u001b[0m \u001b[38;5;66;03m# datasets = [sc.read(path+data+\".h5ad\") for data in \"s5 509 1290 mousecortex water pancreatic cerebellum\".split()]\u001b[39;00m\n\u001b[1;32m     39\u001b[0m \u001b[38;5;28;01mif\u001b[39;00m remove_unassigned:\n",
      "File \u001b[0;32m~/repos/repolinks/scalp/data/load.py:35\u001b[0m, in \u001b[0;36m<listcomp>\u001b[0;34m(.0)\u001b[0m\n\u001b[1;32m     33\u001b[0m \u001b[38;5;28;01mif\u001b[39;00m \u001b[38;5;129;01mnot\u001b[39;00m datasets:\n\u001b[1;32m     34\u001b[0m     datasets \u001b[38;5;241m=\u001b[39m \u001b[38;5;124m\"\u001b[39m\u001b[38;5;124ms5 509 1290 mousecortex water pancreatic cerebellum\u001b[39m\u001b[38;5;124m\"\u001b[39m\u001b[38;5;241m.\u001b[39msplit()\n\u001b[0;32m---> 35\u001b[0m datasets \u001b[38;5;241m=\u001b[39m [\u001b[43msc\u001b[49m\u001b[38;5;241;43m.\u001b[39;49m\u001b[43mread_h5ad\u001b[49m\u001b[43m(\u001b[49m\u001b[43mpath\u001b[49m\u001b[38;5;241;43m+\u001b[39;49m\u001b[43mdata\u001b[49m\u001b[38;5;241;43m+\u001b[39;49m\u001b[38;5;124;43m\"\u001b[39;49m\u001b[38;5;124;43m.h5ad\u001b[39;49m\u001b[38;5;124;43m\"\u001b[39;49m\u001b[43m)\u001b[49m \u001b[38;5;28;01mfor\u001b[39;00m data \u001b[38;5;129;01min\u001b[39;00m datasets]\n\u001b[1;32m     37\u001b[0m \u001b[38;5;66;03m# datasets = [sc.read(path+data+\".h5ad\") for data in \"s5 509 1290 mousecortex water pancreatic cerebellum\".split()]\u001b[39;00m\n\u001b[1;32m     39\u001b[0m \u001b[38;5;28;01mif\u001b[39;00m remove_unassigned:\n",
      "File \u001b[0;32m~/.myconda/miniconda3/envs/scalp2/lib/python3.11/site-packages/anndata/_io/h5ad.py:230\u001b[0m, in \u001b[0;36mread_h5ad\u001b[0;34m(filename, backed, as_sparse, as_sparse_fmt, chunk_size)\u001b[0m\n\u001b[1;32m    222\u001b[0m         \u001b[38;5;28;01mraise\u001b[39;00m \u001b[38;5;167;01mNotImplementedError\u001b[39;00m(\n\u001b[1;32m    223\u001b[0m             \u001b[38;5;124m\"\u001b[39m\u001b[38;5;124mCurrently only `X` and `raw/X` can be read as sparse.\u001b[39m\u001b[38;5;124m\"\u001b[39m\n\u001b[1;32m    224\u001b[0m         )\n\u001b[1;32m    226\u001b[0m rdasp \u001b[38;5;241m=\u001b[39m partial(\n\u001b[1;32m    227\u001b[0m     read_dense_as_sparse, sparse_format\u001b[38;5;241m=\u001b[39mas_sparse_fmt, axis_chunk\u001b[38;5;241m=\u001b[39mchunk_size\n\u001b[1;32m    228\u001b[0m )\n\u001b[0;32m--> 230\u001b[0m \u001b[38;5;28;01mwith\u001b[39;00m \u001b[43mh5py\u001b[49m\u001b[38;5;241;43m.\u001b[39;49m\u001b[43mFile\u001b[49m\u001b[43m(\u001b[49m\u001b[43mfilename\u001b[49m\u001b[43m,\u001b[49m\u001b[43m \u001b[49m\u001b[38;5;124;43m\"\u001b[39;49m\u001b[38;5;124;43mr\u001b[39;49m\u001b[38;5;124;43m\"\u001b[39;49m\u001b[43m)\u001b[49m \u001b[38;5;28;01mas\u001b[39;00m f:\n\u001b[1;32m    232\u001b[0m     \u001b[38;5;28;01mdef\u001b[39;00m \u001b[38;5;21mcallback\u001b[39m(func, elem_name: \u001b[38;5;28mstr\u001b[39m, elem, iospec):\n\u001b[1;32m    233\u001b[0m         \u001b[38;5;28;01mif\u001b[39;00m iospec\u001b[38;5;241m.\u001b[39mencoding_type \u001b[38;5;241m==\u001b[39m \u001b[38;5;124m\"\u001b[39m\u001b[38;5;124manndata\u001b[39m\u001b[38;5;124m\"\u001b[39m \u001b[38;5;129;01mor\u001b[39;00m elem_name\u001b[38;5;241m.\u001b[39mendswith(\u001b[38;5;124m\"\u001b[39m\u001b[38;5;124m/\u001b[39m\u001b[38;5;124m\"\u001b[39m):\n",
      "File \u001b[0;32m~/.myconda/miniconda3/envs/scalp2/lib/python3.11/site-packages/h5py/_hl/files.py:562\u001b[0m, in \u001b[0;36mFile.__init__\u001b[0;34m(self, name, mode, driver, libver, userblock_size, swmr, rdcc_nslots, rdcc_nbytes, rdcc_w0, track_order, fs_strategy, fs_persist, fs_threshold, fs_page_size, page_buf_size, min_meta_keep, min_raw_keep, locking, alignment_threshold, alignment_interval, meta_block_size, **kwds)\u001b[0m\n\u001b[1;32m    553\u001b[0m     fapl \u001b[38;5;241m=\u001b[39m make_fapl(driver, libver, rdcc_nslots, rdcc_nbytes, rdcc_w0,\n\u001b[1;32m    554\u001b[0m                      locking, page_buf_size, min_meta_keep, min_raw_keep,\n\u001b[1;32m    555\u001b[0m                      alignment_threshold\u001b[38;5;241m=\u001b[39malignment_threshold,\n\u001b[1;32m    556\u001b[0m                      alignment_interval\u001b[38;5;241m=\u001b[39malignment_interval,\n\u001b[1;32m    557\u001b[0m                      meta_block_size\u001b[38;5;241m=\u001b[39mmeta_block_size,\n\u001b[1;32m    558\u001b[0m                      \u001b[38;5;241m*\u001b[39m\u001b[38;5;241m*\u001b[39mkwds)\n\u001b[1;32m    559\u001b[0m     fcpl \u001b[38;5;241m=\u001b[39m make_fcpl(track_order\u001b[38;5;241m=\u001b[39mtrack_order, fs_strategy\u001b[38;5;241m=\u001b[39mfs_strategy,\n\u001b[1;32m    560\u001b[0m                      fs_persist\u001b[38;5;241m=\u001b[39mfs_persist, fs_threshold\u001b[38;5;241m=\u001b[39mfs_threshold,\n\u001b[1;32m    561\u001b[0m                      fs_page_size\u001b[38;5;241m=\u001b[39mfs_page_size)\n\u001b[0;32m--> 562\u001b[0m     fid \u001b[38;5;241m=\u001b[39m \u001b[43mmake_fid\u001b[49m\u001b[43m(\u001b[49m\u001b[43mname\u001b[49m\u001b[43m,\u001b[49m\u001b[43m \u001b[49m\u001b[43mmode\u001b[49m\u001b[43m,\u001b[49m\u001b[43m \u001b[49m\u001b[43muserblock_size\u001b[49m\u001b[43m,\u001b[49m\u001b[43m \u001b[49m\u001b[43mfapl\u001b[49m\u001b[43m,\u001b[49m\u001b[43m \u001b[49m\u001b[43mfcpl\u001b[49m\u001b[43m,\u001b[49m\u001b[43m \u001b[49m\u001b[43mswmr\u001b[49m\u001b[38;5;241;43m=\u001b[39;49m\u001b[43mswmr\u001b[49m\u001b[43m)\u001b[49m\n\u001b[1;32m    564\u001b[0m \u001b[38;5;28;01mif\u001b[39;00m \u001b[38;5;28misinstance\u001b[39m(libver, \u001b[38;5;28mtuple\u001b[39m):\n\u001b[1;32m    565\u001b[0m     \u001b[38;5;28mself\u001b[39m\u001b[38;5;241m.\u001b[39m_libver \u001b[38;5;241m=\u001b[39m libver\n",
      "File \u001b[0;32m~/.myconda/miniconda3/envs/scalp2/lib/python3.11/site-packages/h5py/_hl/files.py:235\u001b[0m, in \u001b[0;36mmake_fid\u001b[0;34m(name, mode, userblock_size, fapl, fcpl, swmr)\u001b[0m\n\u001b[1;32m    233\u001b[0m     \u001b[38;5;28;01mif\u001b[39;00m swmr \u001b[38;5;129;01mand\u001b[39;00m swmr_support:\n\u001b[1;32m    234\u001b[0m         flags \u001b[38;5;241m|\u001b[39m\u001b[38;5;241m=\u001b[39m h5f\u001b[38;5;241m.\u001b[39mACC_SWMR_READ\n\u001b[0;32m--> 235\u001b[0m     fid \u001b[38;5;241m=\u001b[39m \u001b[43mh5f\u001b[49m\u001b[38;5;241;43m.\u001b[39;49m\u001b[43mopen\u001b[49m\u001b[43m(\u001b[49m\u001b[43mname\u001b[49m\u001b[43m,\u001b[49m\u001b[43m \u001b[49m\u001b[43mflags\u001b[49m\u001b[43m,\u001b[49m\u001b[43m \u001b[49m\u001b[43mfapl\u001b[49m\u001b[38;5;241;43m=\u001b[39;49m\u001b[43mfapl\u001b[49m\u001b[43m)\u001b[49m\n\u001b[1;32m    236\u001b[0m \u001b[38;5;28;01melif\u001b[39;00m mode \u001b[38;5;241m==\u001b[39m \u001b[38;5;124m'\u001b[39m\u001b[38;5;124mr+\u001b[39m\u001b[38;5;124m'\u001b[39m:\n\u001b[1;32m    237\u001b[0m     fid \u001b[38;5;241m=\u001b[39m h5f\u001b[38;5;241m.\u001b[39mopen(name, h5f\u001b[38;5;241m.\u001b[39mACC_RDWR, fapl\u001b[38;5;241m=\u001b[39mfapl)\n",
      "File \u001b[0;32mh5py/_objects.pyx:54\u001b[0m, in \u001b[0;36mh5py._objects.with_phil.wrapper\u001b[0;34m()\u001b[0m\n",
      "File \u001b[0;32mh5py/_objects.pyx:55\u001b[0m, in \u001b[0;36mh5py._objects.with_phil.wrapper\u001b[0;34m()\u001b[0m\n",
      "File \u001b[0;32mh5py/h5f.pyx:102\u001b[0m, in \u001b[0;36mh5py.h5f.open\u001b[0;34m()\u001b[0m\n",
      "\u001b[0;31mFileNotFoundError\u001b[0m: [Errno 2] Unable to synchronously open file (unable to open file: name = '/home/ubuntu/repos/cellsaw/notebooks/509.h5ad', errno = 2, error message = 'No such file or directory', flags = 0, o_flags = 0)"
     ]
    }
   ],
   "source": [
    "datasets_ts = data.loaddata_timeseries(test_config.timeseries_datapath, \n",
    "                                       datasets = ['509'],\n",
    "                                       maxdatasets=5,  \n",
    "                                       maxcells = 600,  \n",
    "                                      )\n",
    "dataset_ts = datasets_ts[0]"
   ]
  },
  {
   "cell_type": "code",
   "execution_count": null,
   "id": "adfb4737-be7f-49a1-ab62-27757d30961d",
   "metadata": {},
   "outputs": [],
   "source": []
  },
  {
   "cell_type": "code",
   "execution_count": 7,
   "id": "ccbe4e4c-90eb-4773-ab49-e5948b79fe0d",
   "metadata": {
    "editable": true,
    "slideshow": {
     "slide_type": ""
    },
    "tags": []
   },
   "outputs": [
    {
     "ename": "TypeError",
     "evalue": "mkgraph() got an unexpected keyword argument 'intra_neigh'",
     "output_type": "error",
     "traceback": [
      "\u001b[0;31m---------------------------------------------------------------------------\u001b[0m",
      "\u001b[0;31mTypeError\u001b[0m                                 Traceback (most recent call last)",
      "Cell \u001b[0;32mIn[7], line 8\u001b[0m\n\u001b[1;32m      3\u001b[0m dataset \u001b[38;5;241m=\u001b[39m  diffuse\u001b[38;5;241m.\u001b[39mdiffuse_label_sklearn(dataset,  use_labels_from_dataset_ids\u001b[38;5;241m=\u001b[39m[\u001b[38;5;241m0\u001b[39m], new_label \u001b[38;5;241m=\u001b[39m\u001b[38;5;124m'\u001b[39m\u001b[38;5;124msklearn_diffuse\u001b[39m\u001b[38;5;124m'\u001b[39m)\n\u001b[1;32m      6\u001b[0m \u001b[38;5;66;03m# jkdataset = scalp.make_matrix_diffuse_label(dataset, use_labels_from_dataset_ids=[0,2,4], new_label ='scalp_diffuse')\u001b[39;00m\n\u001b[0;32m----> 8\u001b[0m data \u001b[38;5;241m=\u001b[39m \u001b[43mscalp\u001b[49m\u001b[38;5;241;43m.\u001b[39;49m\u001b[43mmkgraph\u001b[49m\u001b[43m(\u001b[49m\u001b[43mdataset\u001b[49m\u001b[43m,\u001b[49m\u001b[43mintra_neigh\u001b[49m\u001b[43m \u001b[49m\u001b[38;5;241;43m=\u001b[39;49m\u001b[43m \u001b[49m\u001b[38;5;241;43m4\u001b[39;49m\u001b[43m,\u001b[49m\u001b[43m \u001b[49m\u001b[43minter_neigh\u001b[49m\u001b[38;5;241;43m=\u001b[39;49m\u001b[38;5;241;43m2\u001b[39;49m\u001b[43m,\u001b[49m\u001b[43madd_tree\u001b[49m\u001b[38;5;241;43m=\u001b[39;49m\u001b[38;5;28;43;01mFalse\u001b[39;49;00m\u001b[43m)\u001b[49m\n\u001b[1;32m      9\u001b[0m dataset \u001b[38;5;241m=\u001b[39m scalp\u001b[38;5;241m.\u001b[39mdiffuse\u001b[38;5;241m.\u001b[39mdiffuse_label(\u001b[38;5;241m*\u001b[39mdata, use_labels_from_dataset_ids\u001b[38;5;241m=\u001b[39m[\u001b[38;5;241m0\u001b[39m,\u001b[38;5;241m2\u001b[39m,\u001b[38;5;241m4\u001b[39m],\n\u001b[1;32m     10\u001b[0m                                                   new_label \u001b[38;5;241m=\u001b[39m\u001b[38;5;124m'\u001b[39m\u001b[38;5;124mscalp_diffuse\u001b[39m\u001b[38;5;124m'\u001b[39m)\n",
      "\u001b[0;31mTypeError\u001b[0m: mkgraph() got an unexpected keyword argument 'intra_neigh'"
     ]
    }
   ],
   "source": [
    "import scalp\n",
    "from scalp import diffuse\n",
    "dataset =  diffuse.diffuse_label_sklearn(dataset,  use_labels_from_dataset_ids=[0], new_label ='sklearn_diffuse')\n",
    "\n",
    "\n",
    "# jkdataset = scalp.make_matrix_diffuse_label(dataset, use_labels_from_dataset_ids=[0,2,4], new_label ='scalp_diffuse')\n",
    "\n",
    "data = scalp.mkgraph(dataset, intra_neigh = 4, inter_neigh=2,add_tree=False)\n",
    "dataset = scalp.diffuse.diffuse_label(*data, use_labels_from_dataset_ids=[0,2,4],\n",
    "                                                  new_label ='scalp_diffuse')\n"
   ]
  },
  {
   "cell_type": "code",
   "execution_count": null,
   "id": "4b656320-70d3-44ed-86dd-afe72c7eba86",
   "metadata": {},
   "outputs": [],
   "source": [
    "\n",
    "from scalp.pca import pca\n",
    "dataset = pca(dataset, dim=2, label ='pca2')"
   ]
  },
  {
   "cell_type": "code",
   "execution_count": null,
   "id": "00b7f005-6ba2-41d8-8339-e463a53ef3cb",
   "metadata": {
    "editable": true,
    "slideshow": {
     "slide_type": ""
    },
    "tags": []
   },
   "outputs": [],
   "source": [
    "from scalp.output import draw \n",
    "draw.snsplot(dataset, label = 'scalp_diffuse', \n",
    "             compare_label_to = 'label')"
   ]
  },
  {
   "cell_type": "code",
   "execution_count": null,
   "id": "0cccd0ba-40e3-46ae-94ad-130e7252c177",
   "metadata": {},
   "outputs": [],
   "source": [
    "from scalp.output import draw\n",
    "draw.snsplot(dataset, label = 'label', \n",
    "             compare_label_to = 'scalp_diffuse')"
   ]
  },
  {
   "cell_type": "code",
   "execution_count": null,
   "id": "4a1a1d22-3273-438c-bcc9-85e7d1a55af6",
   "metadata": {},
   "outputs": [],
   "source": [
    "from scalp import score \n",
    "for i in [1,2,3,4]:\n",
    "    ari = score.anndata_ari(dataset[i], predicted_label = 'sklearn_diffuse')\n",
    "    print(ari)"
   ]
  },
  {
   "cell_type": "code",
   "execution_count": null,
   "id": "32cb3621-26af-46f4-b900-8eafe7c6dc05",
   "metadata": {},
   "outputs": [],
   "source": []
  }
 ],
 "metadata": {
  "kernelspec": {
   "display_name": "Python 3 (ipykernel)",
   "language": "python",
   "name": "python3"
  },
  "language_info": {
   "codemirror_mode": {
    "name": "ipython",
    "version": 3
   },
   "file_extension": ".py",
   "mimetype": "text/x-python",
   "name": "python",
   "nbconvert_exporter": "python",
   "pygments_lexer": "ipython3",
   "version": "3.11.0"
  }
 },
 "nbformat": 4,
 "nbformat_minor": 5
}
