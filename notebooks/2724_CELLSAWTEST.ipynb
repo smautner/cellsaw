{
 "cells": [
  {
   "cell_type": "code",
   "execution_count": null,
   "id": "3c56cbad-0760-4c3b-b3f4-8ee04903d520",
   "metadata": {},
   "outputs": [],
   "source": [
    "%load_ext autoreload\n",
    "%autoreload 2\n",
    "%config Completer.use_jedi = True\n",
    "\n",
    "import matplotlib as mpl\n",
    "mpl.rc(\"figure\", dpi=200)\n",
    "\n",
    "from ubergauss.tools import xmap\n",
    "import numpy as np"
   ]
  },
  {
   "cell_type": "markdown",
   "id": "c184971f-3257-4c74-a4a1-273f76dd7070",
   "metadata": {
    "tags": []
   },
   "source": [
    "# we have 3 modules:\n",
    "\n",
    "# load "
   ]
  },
  {
   "cell_type": "code",
   "execution_count": null,
   "id": "9b174479-cdc5-49c6-8e85-57e1d04c1dd2",
   "metadata": {
    "tags": []
   },
   "outputs": [],
   "source": [
    "from cellsaw import load as loader\n",
    "labels = loader.get41names()[7:16]\n",
    "shortlabels = [label[:label.index('_')] for label in labels]\n",
    "loadparams = {'path' : '/home/ubuntu/repos/natto/natto/data',\n",
    "              'remove_unlabeled':True, 'mingenes': 200, \n",
    "              'preprocessingmethod':'natto', \"subsample\":1000}\n",
    "\n",
    "def load(names):\n",
    "    # load 100 adata will have:\n",
    "    # \"true\" cluster annotation\n",
    "    # 'name' dataset name \n",
    "    adatas = [loader.easyLoad100(x,**loadparams) for x in names]\n",
    "    # this will add the true celltype labels for the pangalodb\n",
    "    # 'truecelltyp'\n",
    "    return loader.loadadata.annotatepangalo(loadparams['path'], adatas, names)\n",
    "\n",
    "\n",
    "#adatas = xmap(lambda x:load.easyLoad100(x,**loadparams), labels)"
   ]
  },
  {
   "cell_type": "markdown",
   "id": "c8eb14b1-3c33-4d51-b30e-1a852a7654d6",
   "metadata": {},
   "source": [
    "# similarity\n",
    "### dendro"
   ]
  },
  {
   "cell_type": "code",
   "execution_count": null,
   "id": "45f018f9-1f4d-4e71-bef9-a675c835e5a6",
   "metadata": {
    "tags": []
   },
   "outputs": [],
   "source": [
    "from cellsaw import similarity \n",
    "# test if mp is necessary, jaccard is missing, import others from nattp/optimize/util\n",
    "\n",
    "sim = lambda a,b,c: similarity.cosine(*load([a,b]))\n",
    "distances = similarity.matrixmap_mp(sim,labels,repeats = 2)\n",
    "distances = np.mean(distances, axis =2)\n",
    "\n",
    "similarity.draw.dendro(distances, shortlabels, distancecut =1)"
   ]
  },
  {
   "cell_type": "markdown",
   "id": "fbbd29fe-1acf-42ee-9b71-5051218b1f3a",
   "metadata": {},
   "source": [
    "### effective ranges"
   ]
  },
  {
   "cell_type": "code",
   "execution_count": null,
   "id": "a5df2784-2a22-4769-be3a-f5b44c1b8f19",
   "metadata": {},
   "outputs": [],
   "source": [
    "from cellsaw import similarity \n",
    "\n",
    "\n",
    "jug = list(range(100,2000,200))\n",
    "\n",
    "def calc(n_genes):\n",
    "    distances = similarity.matrixmap_mp(sim,labels,repeats = 2)    \n",
    "    valz = [[similarity.precision(distances[:,:,i], shortlabels,k), i,k,n_genes] \n",
    "                  for i in range(distances.shape[2]) \n",
    "                      for k in [1,2,3] ]\n",
    "    # [val,rep,p@k,n_genes]\n",
    "    return valz\n",
    "\n",
    "\n",
    "values = [ i  for x in jug for i in calc(x)]\n",
    "similarity.draw.plotPrecision(values)"
   ]
  },
  {
   "cell_type": "markdown",
   "id": "cd120baa-755a-4806-89a5-13c98aa52611",
   "metadata": {},
   "source": [
    "# merge"
   ]
  },
  {
   "cell_type": "code",
   "execution_count": null,
   "id": "d1324a18-76ff-4d28-886d-90e4b18b76d9",
   "metadata": {},
   "outputs": [],
   "source": [
    "m = similarity.matrixmap_mp(sim,labels,repeats = 2)\n",
    "m= np.mean(m, axis  =2)\n",
    "neighs = similarity.getNeighbors(m,labels,k=1)\n",
    "print(neighs)"
   ]
  },
  {
   "cell_type": "code",
   "execution_count": null,
   "id": "8f68a3ac-d4ea-41f3-9c42-251d5e9068c3",
   "metadata": {},
   "outputs": [],
   "source": [
    "from cellsaw import merge\n",
    "pairs =xmap(load,neighs)\n",
    "\n",
    "mergedPairs = xmap(lambda x:merge.merge(x,umaps=[10,2]), pairs) \n",
    "\n",
    "\n",
    "labels = xmap(lambda x: x.getlabels(masked=[1]), mergedPairs)\n",
    "\n",
    "labels = xmap(lambda x:merge.diffuse(*x), zip(mergedPairs,labels)) \n",
    "\n"
   ]
  },
  {
   "cell_type": "code",
   "execution_count": null,
   "id": "04cc89d5-5953-42bf-8839-dfaaf6ea7dab",
   "metadata": {
    "jupyter": {
     "outputs_hidden": true
    },
    "tags": []
   },
   "outputs": [],
   "source": [
    "import lmz\n",
    "from cellsaw.merge import hungarianEM\n",
    "for mpair in mergedPairs:\n",
    "    \n",
    "    # plot original labels\n",
    "    labels = mpair.getlabels(masked=[])\n",
    "    mpair.plot(labels)\n",
    "    \n",
    "    # plot distance hungarian\n",
    "    #mpair.plot([mpair.hungdist[0]]*2, grad=True)\n",
    "    \n",
    "    # plot diffused labels\n",
    "    labels = mpair.getlabels(masked=[1])\n",
    "    dlabels = merge.diffuse(mpair, labels, pid =2, neighbors = 7) \n",
    "    mpair.plot(dlabels)\n",
    "    \n",
    "    print(\"#\"*80)\n",
    "    # hung and diffuse\n",
    "    continue\n",
    "    l2,e2,_,_ = hungarianEM.HEM(mpair,pid = 3)\n",
    "    l2[e2] =-1\n",
    "    mpair.plot([l2,l2])\n",
    "    mpair.confuse2(l)"
   ]
  },
  {
   "cell_type": "code",
   "execution_count": null,
   "id": "72fd1d0a-932e-424a-8e65-02e72b682ccf",
   "metadata": {},
   "outputs": [],
   "source": []
  },
  {
   "cell_type": "code",
   "execution_count": null,
   "id": "cf01d3cf-0026-4c0e-9bcf-74262d9cd278",
   "metadata": {},
   "outputs": [],
   "source": [
    "import cellsaw.merge.eval as eva\n",
    "eva.evaluate(mergedPairs, labels, setid = 1)"
   ]
  },
  {
   "cell_type": "code",
   "execution_count": null,
   "id": "b7c97a8f-8c3a-42fa-a93c-9b7552da8ddf",
   "metadata": {},
   "outputs": [],
   "source": [
    "\n"
   ]
  },
  {
   "cell_type": "code",
   "execution_count": null,
   "id": "e4021f92-3424-4f68-862e-3017df0f2f37",
   "metadata": {},
   "outputs": [],
   "source": []
  }
 ],
 "metadata": {
  "kernelspec": {
   "display_name": "Python 3 (ipykernel)",
   "language": "python",
   "name": "python3"
  },
  "language_info": {
   "codemirror_mode": {
    "name": "ipython",
    "version": 3
   },
   "file_extension": ".py",
   "mimetype": "text/x-python",
   "name": "python",
   "nbconvert_exporter": "python",
   "pygments_lexer": "ipython3",
   "version": "3.8.5"
  }
 },
 "nbformat": 4,
 "nbformat_minor": 5
}
