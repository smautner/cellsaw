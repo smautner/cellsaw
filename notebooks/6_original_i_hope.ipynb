{
 "cells": [
  {
   "cell_type": "code",
   "execution_count": null,
   "id": "9abef5bc-a0f6-4e98-bce0-5f2985e9e226",
   "metadata": {},
   "outputs": [],
   "source": [
    "%load_ext autoreload\n",
    "%autoreload 2\n",
    "%config Completer.use_jedi = True"
   ]
  },
  {
   "cell_type": "code",
   "execution_count": null,
   "id": "a1819a3c-dca0-4975-97a3-7e6465b45ecc",
   "metadata": {},
   "outputs": [],
   "source": [
    "import matplotlib as mpl\n",
    "from matplotlib import pyplot as plt\n",
    "mpl.rc(\"figure\", dpi=100)\n",
    "import numpy as np\n",
    "import jack\n",
    "from lmz import *\n",
    "import scanpy as sc"
   ]
  },
  {
   "cell_type": "code",
   "execution_count": null,
   "id": "81b77873-9200-4d1b-9af1-1cbf06a618c9",
   "metadata": {},
   "outputs": [],
   "source": []
  },
  {
   "cell_type": "markdown",
   "id": "478c9684-2175-40d6-b367-38dfb5add3bd",
   "metadata": {},
   "source": [
    "# LOAD DATA "
   ]
  },
  {
   "cell_type": "code",
   "execution_count": null,
   "id": "3efe55cd-5426-4431-b5a9-5b2705a21674",
   "metadata": {},
   "outputs": [],
   "source": [
    "'''\n",
    "zedata = [sc.read('/home/ubuntu/benchdata/'+data) for data in \"Immune_ALL_hum_mou.h5ad  Immune_ALL_human.h5ad  Lung_atlas_public.h5ad  human_pancreas_norm_complexBatch.h5ad\".split()]\n",
    "batch,typ = Transpose (Map(lambda x:x.split(), 'batch final_annotation#batch final_annotation#batch cell_type#tech celltype'.split(\"#\")))\n",
    "zedata =  [[z[z.obs[b]==i] for i in z.obs[b].unique()] for z,b in zip(zedata, batch)]\n",
    "def samplecopy(data, num):\n",
    "    obs_indices = np.random.choice(data.n_obs, size=num, replace=True,) \n",
    "    r=  data[obs_indices].copy()\n",
    "    r.obs_names_make_unique()\n",
    "    return r\n",
    "data = [[samplecopy(d,500) for d in z] for z in zedata]\n",
    "'''\n",
    "\n",
    "\n",
    "# i think this was the way:\n",
    "zedata = [sc.read('/home/ubuntu/benchdata/'+data) for data in \"Immune_ALL_hum_mou.h5ad  Immune_ALL_human.h5ad  Lung_atlas_public.h5ad  human_pancreas_norm_complexBatch.h5ad\".split()]\n",
    "batch,typ = Transpose (Map(lambda x:x.split(), 'batch final_annotation#batch final_annotation#batch cell_type#tech celltype'.split(\"#\")))\n",
    "\n",
    "zedata =  [[z[z.obs[b]==i] for i in z.obs[b].unique()] for z,b in zip(zedata, batch)]\n",
    "def samplecopy(data,num, seed):\n",
    "    np.random.seed(seed) \n",
    "    obs_indices = np.random.choice(data.n_obs, size=num, replace=True,) \n",
    "    r=  data[obs_indices].copy()\n",
    "    r.obs_names_make_unique()\n",
    "    return r\n",
    "\n",
    "ssdata = [[samplecopy(i,750,1234)  for i in series]  for series in zedata]\n",
    "\n"
   ]
  },
  {
   "cell_type": "markdown",
   "id": "d94f99a6-4907-4a8d-8c8e-96228134fa57",
   "metadata": {},
   "source": [
    "# SINGLE RUNS "
   ]
  },
  {
   "cell_type": "code",
   "execution_count": null,
   "id": "89012039-6a4f-4563-a40f-7ba07b5d6525",
   "metadata": {},
   "outputs": [],
   "source": [
    "from cellsaw import merge as merg\n",
    "import cellsaw as cs\n",
    "from cellsaw.merge.diffusion import kernel\n",
    "\n",
    "# integrate \n",
    "data = ssdata[0]\n",
    "cs.preprocess.annotate_genescore2(data,selector = 'cell_ranger',  normrow = True, log = True)\n",
    "me = merg.Merge(data[0],umaps=[],oldcut=False, pca = 40)\n",
    "dist = kernel.linear_assignment_integrate(me.projections[1], showtime = True)"
   ]
  },
  {
   "cell_type": "code",
   "execution_count": null,
   "id": "3083e3a6-212f-4e18-9b2d-7cb1ad9242be",
   "metadata": {
    "tags": []
   },
   "outputs": [],
   "source": [
    "%%time\n",
    "import networkx as nx\n",
    "import ubergauss.tools as ug\n",
    "from sklearn.decomposition import PCA\n",
    "from sklearn.manifold import TSNE\n",
    "import sklearn\n",
    "\n",
    "def fold_draw(redmeth = 'nx'):\n",
    "    # labels \n",
    "    y = [ x   for a in me.data for x in a.obs['batch'] ]\n",
    "    y = [ x   for a in me.data for x in a.obs['final_annotation'] ]\n",
    "    y =  ug.labelsToIntList(y)[0]\n",
    "\n",
    "    if redmeth == 'nx':\n",
    "        # make TSNE \n",
    "        g = nx.from_scipy_sparse_array(dist)\n",
    "        pos = nx.spectral_layout(g,dim =2)\n",
    "        X  = np.vstack(pos.values())\n",
    "        #X = TSNE(n_components=2).fit_transform(X)\n",
    "        pos = {i:e for i,e in enumerate(X)}\n",
    "        # draw\n",
    "        nx.draw_networkx_nodes(g, pos=pos, node_color =  y, node_size = 4, cmap = 'tab20')\n",
    "    if redmeth == 'umap':\n",
    "        coo = kernel.distmatrixumap(me.projections[1],dist,components = 2)\n",
    "        plt.scatter(coo[:,0],coo[:,1], c = y)\n",
    "\n",
    "    if redmeth == 'spectral':\n",
    "        # sklearn.manifold.SpectralEmbedding\n",
    "        coo = kernel.distmatrixumap(me.projections[1],dist,components = 2)\n",
    "        plt.scatter(coo[:,0],coo[:,1], c = y)\n",
    "        \n",
    "    if redmeth == 'smacof':\n",
    "        coo = sklearn.manifold.smacof(dist.toarray(), n_jobs = 1,n_components = 2)\n",
    "        #coo = kernel.distmatrixumap(me.projections[1],dist,components = 2)\n",
    "        plt.scatter(coo[:,0],coo[:,1], c = y)\n",
    "fold_draw('umap')"
   ]
  },
  {
   "cell_type": "code",
   "execution_count": null,
   "id": "8d7e5182-ec51-456e-97ed-9ed0e595cdf3",
   "metadata": {},
   "outputs": [],
   "source": []
  },
  {
   "cell_type": "code",
   "execution_count": null,
   "id": "1c865ceb-7892-461c-b11b-a4794ca031eb",
   "metadata": {},
   "outputs": [],
   "source": []
  },
  {
   "cell_type": "code",
   "execution_count": null,
   "id": "6a19eeb6-1044-42c7-af13-5cd26a00485b",
   "metadata": {},
   "outputs": [],
   "source": []
  },
  {
   "cell_type": "markdown",
   "id": "b1e271d8-abdb-47d1-b473-f9681c692501",
   "metadata": {},
   "source": [
    "# LOOP OVER ALL THE INTERESTS "
   ]
  },
  {
   "cell_type": "code",
   "execution_count": null,
   "id": "f6d6af76-c49a-4a5c-b5a4-62d6bb76479f",
   "metadata": {
    "jupyter": {
     "outputs_hidden": true
    },
    "tags": []
   },
   "outputs": [],
   "source": [
    "from sklearn.metrics import  silhouette_score\n",
    "import ubergauss.tools as ug\n",
    "from natto.out.quality import clust as nnpurity \n",
    "from cellsaw.merge.diffusion import kernel\n",
    "from cellsaw import merge as merg\n",
    "import cellsaw as cs\n",
    "import mnnpy\n",
    "import umap\n",
    "import time\n",
    "mnnpy.settings.normalization = \"single\"\n",
    "# we need the methods to return a single numpy array... \n",
    "sc._settings.ScanpyConfig.n_jobs = 0\n",
    "sc._settings.ScanpyConfig.normalization = \"single\"\n",
    "\n",
    "def mnn(merge):\n",
    "    mnn = sc.external.pp.mnn_correct(*merge.data, n_jobs = None)\n",
    "    X = umap.UMAP(n_components = 10,n_jobs =1).fit_transform(mnn[0].X)\n",
    "    return X , \"MNN\", None\n",
    "\n",
    "def mymethod(merge):\n",
    "    data = merge.projections[1]\n",
    "    dist = kernel.linear_assignment_integrate(data )\n",
    "    sim = kernel.distmatrixumap(data,dist,components = 10)\n",
    "    return  sim, \"lsa_integration\",dist\n",
    "\n",
    "methods = [mnn,mymethod]\n",
    "\n",
    "def myscore(x):\n",
    "    start = time.time()\n",
    "    method, rownorm, item, pp, sgenes  = x\n",
    "    batch_,label = batch[item], typ[item]\n",
    "    data = [z.copy() for z in ssdata[item]]\n",
    "    \n",
    "    # HVG normalized/unnormalized ROWNORM?\n",
    "    if pp == 'seurat_v3':\n",
    "        # wants count data so we do this firstL\n",
    "        cs.preprocess.annotate_genescore2(data,selector = pp, \n",
    "                                          normrow = False, log = False)\n",
    "    else: \n",
    "        cs.preprocess.annotate_genescore2(data,selector = pp, normrow = True, log = True)\n",
    "    if rownorm:\n",
    "        [ sc.pp.normalize_total(d,1e4) for d in data]\n",
    "    \n",
    "    [sc.pp.log1p(d) for d in data]\n",
    "    me = merg.Merge(data,umaps=[],oldcut=False, pca = 40, selectgenes = sgenes)\n",
    "    X ,methname, di  = method(me)\n",
    "    y = [ x   for a in me.data for x in a.obs[label] ]\n",
    "    r =  {\"method\":methname,\"dataset\":item,\"normrow\":rownorm,'pp':pp,'time':time.time()-start} \n",
    "    \n",
    "    sh = silhouette_score(X,y)\n",
    "    pur = nnpurity(X,y)\n",
    "    def copyupdate(a,b):\n",
    "        a = dict(a)\n",
    "        a.update(b)\n",
    "        return a\n",
    "    \n",
    "    if False:\n",
    "        data = me.projections[2]\n",
    "        X2 = kernel.distmatrixumap(data,dist,components = 2)\n",
    "        plt.scatter(X2[:,0],X2[:,1], y)\n",
    "        plt.show()\n",
    "        \n",
    "    s= copyupdate(r,{'score':sh,'metric':'silhouette'})\n",
    "    p= copyupdate(r,{'score':pur,'metric':'purity'})\n",
    "    return s,p \n",
    "\n",
    "\n",
    "#myscore((mymethod,True,0,'cell_ranger'))\n",
    "\n",
    "res_newscoring = ug.xmap(myscore,\n",
    "                         [ (method,True,item,pp,2000) for method in methods\n",
    "                                                      for item in Range(zedata)\n",
    "                                                      for pp in ['cell_ranger']]+\n",
    "                         [ (mymethod,True,item,'cell_ranger',3000) \n",
    "                                                      for item in Range(zedata)])\n",
    "\n"
   ]
  },
  {
   "cell_type": "code",
   "execution_count": null,
   "id": "c5712654-33a9-473f-a267-3ced6cc07a17",
   "metadata": {},
   "outputs": [],
   "source": [
    "myscore((mymethod,True,1,'cell_ranger'))\n",
    "myscore((mymethod,True,2,'cell_ranger'))\n",
    "myscore((mymethod,True,3,'cell_ranger'))"
   ]
  },
  {
   "cell_type": "code",
   "execution_count": null,
   "id": "433d9249-a665-4701-83d2-fe25807e56d4",
   "metadata": {},
   "outputs": [],
   "source": []
  },
  {
   "cell_type": "code",
   "execution_count": null,
   "id": "297ce439-4eb4-4bc4-a84a-5352599cf767",
   "metadata": {},
   "outputs": [],
   "source": []
  },
  {
   "cell_type": "markdown",
   "id": "642e0dd6-f0bf-4cfe-a5c3-74262b3898d4",
   "metadata": {},
   "source": [
    "# MY BOXPLOTS "
   ]
  },
  {
   "cell_type": "code",
   "execution_count": null,
   "id": "868c5d8b-8098-48e7-9797-7ff6e36778cd",
   "metadata": {},
   "outputs": [],
   "source": [
    "for d in [a for aa in res_newscoring for a in aa][16:]:\n",
    "    d['method'] = \"lsa3000\""
   ]
  },
  {
   "cell_type": "code",
   "execution_count": null,
   "id": "16fb37b2-3190-420b-87cc-7255705856ff",
   "metadata": {},
   "outputs": [],
   "source": [
    "import pandas as pd\n",
    "import seaborn as sns\n",
    "from matplotlib import pyplot as plt\n",
    "df2 = pd.DataFrame([a for aa in res_newscoring for a in aa])\n",
    "\n",
    "p = df2[df2.metric == 'purity']\n",
    "s = df2[df2.metric == 'silhouette']\n",
    "\n",
    "sns.boxplot(data = p, y= 'score', x='method').set(title='acc')\n",
    "plt.show()\n",
    "sns.boxplot(data = s, y= 'score', x='method').set(title='silhou')\n",
    "plt.show()\n",
    "# so we do log1p and \n"
   ]
  },
  {
   "cell_type": "code",
   "execution_count": null,
   "id": "167268f8-451d-425b-94db-940a65ba193d",
   "metadata": {},
   "outputs": [],
   "source": [
    "from cellsaw import merge as merg\n",
    "from cellsaw import preprocess as pp \n",
    "pp.annotate_genescore(zz,selector = 'cell_ranger')\n",
    "me = merg.Merge(zz,umaps=[])\n",
    "zz=me.data "
   ]
  },
  {
   "cell_type": "code",
   "execution_count": null,
   "id": "97a40ca4-c181-4dbf-8ff1-f1f960659955",
   "metadata": {},
   "outputs": [],
   "source": [
    "mnn = sc.external.pp.mnn_correct(*zz, n_jobs = 30)"
   ]
  },
  {
   "cell_type": "markdown",
   "id": "b294a08b-61ba-448c-9a46-10cd0c2417b8",
   "metadata": {},
   "source": [
    "# comparison plots  (also f3 from mnn paper)"
   ]
  },
  {
   "cell_type": "code",
   "execution_count": null,
   "id": "4f994230-f39c-4c57-a0bc-35ca8f10f9ae",
   "metadata": {},
   "outputs": [],
   "source": [
    "from cellsaw import preprocess as pp \n",
    "from cellsaw import merge as merg\n",
    "from cellsaw import draw \n",
    "from cellsaw import util\n",
    "import umap\n",
    "from sklearn.decomposition import PCA\n",
    "\n",
    "def pcaplot(adata):\n",
    "    d2 = PCA().fit_transform(adata.X) \n",
    "    d2split =  [d2[adata.obs['batch']==i].copy() for i in adata.obs['batch'].unique()]\n",
    "    labels = [a.obs['celltype'] for a in me.data]\n",
    "    \n",
    "    def scatter(i,m):\n",
    "        x = d2split[i]\n",
    "        y = labels[i]\n",
    "        plt.scatter(x[:,0],x[:,1],c=y,marker = m)\n",
    "    scatter(0,\"o\")\n",
    "    scatter(1,\"x\")\n",
    "    plt.show()\n",
    "\n",
    "pcaplot(mnn[0])\n",
    "# combat, uncorrected, ours (mnn also)"
   ]
  },
  {
   "cell_type": "code",
   "execution_count": null,
   "id": "6b61f049-d072-4034-b9f7-2fa0a42d065c",
   "metadata": {},
   "outputs": [],
   "source": [
    "from cellsaw import preprocess as pp \n",
    "from cellsaw import merge as merg\n",
    "from cellsaw import draw \n",
    "from cellsaw import util\n",
    "import umap\n",
    "\n",
    "from natto.out.quality import clust as nnpurity \n",
    "def sad():\n",
    "    d2 = umap.UMAP().fit_transform(mnn[0].X) \n",
    "    d2split =  [d2[mnn[0].obs['batch']==i].copy() for i in mnn[0].obs['batch'].unique()]\n",
    "    me.d2 = d2split\n",
    "    labels = [a.obs['celltype'] for a in me.data]\n",
    "    #me.plot(labels)\n",
    "    mixlabels=[a for aa in labels for a in aa]\n",
    "    me.plot(labels, mkmix= True, mixlabels = mixlabels)\n",
    "    print(\"ACC\",nnpurity(mnn[0].X,mixlabels))\n",
    "sad()"
   ]
  },
  {
   "cell_type": "code",
   "execution_count": null,
   "id": "4e5b1756-4d2b-46d8-b0f3-14502b169139",
   "metadata": {},
   "outputs": [],
   "source": [
    "\n",
    "\n",
    "from cellsaw.merge.diffusion import kernel\n",
    "data = me.projections[1]\n",
    "dist = kernel.linear_assignment_integrate(data,intra_neigh = 10, inter_neigh = 20, scaling_num_neighbors = 3)\n"
   ]
  },
  {
   "cell_type": "code",
   "execution_count": null,
   "id": "20c2d298-fa5b-41f9-bad3-8543329c895e",
   "metadata": {},
   "outputs": [],
   "source": []
  },
  {
   "cell_type": "code",
   "execution_count": null,
   "id": "983e82bc-9f2b-4483-8f89-5eb6f3a4e57c",
   "metadata": {},
   "outputs": [],
   "source": [
    "def mds():\n",
    "    d2 = kernel.distmatrixumap(data,dist)\n",
    "    d2split = np.split(d2,np.add.accumulate(Map(len,data)))\n",
    "    me.d2 = d2split\n",
    "    labels = [a.obs['celltype'] for a in me.data]\n",
    "    mixlabels=[a for aa in labels for a in aa]\n",
    "    me.plot(labels, mkmix= True, mixlabels = mixlabels)\n",
    "    print(\"ACC\",nnpurity(d2,mixlabels))\n",
    "    \n",
    "mds()"
   ]
  },
  {
   "cell_type": "code",
   "execution_count": null,
   "id": "20d28ac2-da12-4656-8b53-97b8df854345",
   "metadata": {},
   "outputs": [],
   "source": []
  },
  {
   "cell_type": "markdown",
   "id": "64a8c5a1-c609-42d8-ab48-1dac09b8e202",
   "metadata": {},
   "source": [
    "# PLAY AROUND: MDS, UMAP CUSTOM GRAPHS, SILOUETTE SCORE"
   ]
  },
  {
   "cell_type": "code",
   "execution_count": null,
   "id": "f5bc03f1-841d-452c-b38b-124a93e63864",
   "metadata": {},
   "outputs": [],
   "source": [
    "from sklearn.datasets import make_blobs\n",
    "import seaborn as sns\n",
    "\n",
    "def plot(mydata):\n",
    "    for d in mydata:\n",
    "        plt.scatter(d[:,0],d[:,1])\n",
    "    plt.show()\n",
    "    \n",
    "mydata = [make_blobs(n_samples = 50)[0] for i in range(2)]\n",
    "plot(mydata)\n",
    "\n",
    "\n",
    "dist = kernel.linear_assignment_integrate(mydata, intraneigh=3)\n",
    "sns.heatmap(dist)\n",
    "plt.show()\n",
    "\n",
    "d2 = MDS(dissimilarity = 'precomputed',metric = False).fit_transform(dist)\n",
    "d2 = np.split(d2,np.add.accumulate(Map(len,mydata)))\n",
    "plot(d2)\n",
    "\n",
    "d2 = kernel.distmatrixumap(mydata,dist)\n",
    "d2 = np.split(d2,np.add.accumulate(Map(len,mydata)))\n",
    "plot(d2)\n",
    "\n",
    "\n",
    "# TODO\n",
    "# networkx from numpoy array\n",
    "# kamada_kawai_layout(G, dist=None, pos=None, weight='weight', scale=1, center=None, dim=2)\n",
    "# also try spectral layout "
   ]
  },
  {
   "cell_type": "code",
   "execution_count": null,
   "id": "07c50fc6-a76b-4344-9c1b-8cf6a6478dc4",
   "metadata": {},
   "outputs": [],
   "source": [
    "from pynndescent import NNDescent\n",
    "pyNNDobject = NNDescent(np.array([[1],[2],[3]]), metric='euclidean', random_state=1337)\n",
    "pyNNDobject._neighbor_graph"
   ]
  },
  {
   "cell_type": "code",
   "execution_count": null,
   "id": "f74e4322-2de7-453c-add4-d86097dc93df",
   "metadata": {},
   "outputs": [],
   "source": [
    "from sklearn.metrics import silhouette_samples, silhouette_score\n",
    "from sklearn.datasets import make_blobs\n",
    "from matplotlib import pyplot as plt\n",
    "import seaborn as sns\n",
    "\n",
    "def plot(X,y):\n",
    "    plt.scatter(X[:,0],X[:,1], c = y)\n",
    "    plt.show()\n",
    "    \n",
    "X,y  = make_blobs(n_samples = 100, shuffle=False,centers = [(1,x*10) for x in range(2)])\n",
    "\n",
    "print(silhouette_score(X,y))\n",
    "plot(X,y)\n",
    "X[:25,1]+=20\n",
    "print(silhouette_score(X,y))\n",
    "plot(X,y)"
   ]
  },
  {
   "cell_type": "code",
   "execution_count": null,
   "id": "a4db9e3a-1195-4915-aa2f-770a3fe16131",
   "metadata": {},
   "outputs": [],
   "source": []
  }
 ],
 "metadata": {
  "kernelspec": {
   "display_name": "Python 3 (ipykernel)",
   "language": "python",
   "name": "python3"
  },
  "language_info": {
   "codemirror_mode": {
    "name": "ipython",
    "version": 3
   },
   "file_extension": ".py",
   "mimetype": "text/x-python",
   "name": "python",
   "nbconvert_exporter": "python",
   "pygments_lexer": "ipython3",
   "version": "3.8.5"
  },
  "toc-autonumbering": false,
  "toc-showcode": false,
  "toc-showmarkdowntxt": false
 },
 "nbformat": 4,
 "nbformat_minor": 5
}
